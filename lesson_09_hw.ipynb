{
  "cells": [
    {
      "cell_type": "markdown",
      "metadata": {
        "id": "view-in-github",
        "colab_type": "text"
      },
      "source": [
        "<a href=\"https://colab.research.google.com/github/cpython-projects/da_2603/blob/main/lesson_09_hw.ipynb\" target=\"_parent\"><img src=\"https://colab.research.google.com/assets/colab-badge.svg\" alt=\"Open In Colab\"/></a>"
      ]
    },
    {
      "cell_type": "markdown",
      "id": "283d434d",
      "metadata": {
        "id": "283d434d"
      },
      "source": [
        "**Task 1. Среднее значение**  \n",
        "Напишите функцию `mean(numbers)`, которая возвращает среднее арифметическое чисел в списке. Если список пуст, функция должна возвращать `None`.\n",
        "\n",
        "*Пример:*\n",
        "```python\n",
        "mean([10, 20, 30])  # ➞ 20.0\n",
        "mean([])            # ➞ None\n",
        "```"
      ]
    },
    {
      "cell_type": "code",
      "execution_count": 5,
      "id": "f56b6f7e",
      "metadata": {
        "id": "f56b6f7e",
        "outputId": "231cbadf-4eb5-481f-9e51-bd872ed15a1e",
        "colab": {
          "base_uri": "https://localhost:8080/"
        }
      },
      "outputs": [
        {
          "output_type": "stream",
          "name": "stdout",
          "text": [
            "20.0\n",
            "None\n"
          ]
        }
      ],
      "source": [
        "def mean(numbers: list[int | float]) -> float | None:\n",
        "  \"\"\"\n",
        "  Calculate the mean of a list of numbers.\n",
        "\n",
        "  Args:\n",
        "    numbers: A list of numbers.\n",
        "\n",
        "  Returns:\n",
        "    The mean of the numbers.\n",
        "  \"\"\"\n",
        "  if numbers:\n",
        "    return sum(numbers) / len(numbers)\n",
        "\n",
        "  return None\n",
        "\n",
        "print(mean([10, 20, 30]))\n",
        "print(mean([]))"
      ]
    },
    {
      "cell_type": "markdown",
      "id": "8329761e",
      "metadata": {
        "id": "8329761e"
      },
      "source": [
        "**Task 2. Проверка на простое число**  \n",
        "Напишите функцию `is_prime(n)`, которая возвращает `True`, если число `n` — простое, иначе `False`.\n",
        "\n",
        "*Пример:*\n",
        "```python\n",
        "is_prime(7)   # ➞ True\n",
        "is_prime(10)  # ➞ False\n",
        "```"
      ]
    },
    {
      "cell_type": "code",
      "execution_count": 6,
      "id": "2e3ef4e5",
      "metadata": {
        "id": "2e3ef4e5",
        "outputId": "2a302f90-9132-47fd-ec16-1e87a0cb1991",
        "colab": {
          "base_uri": "https://localhost:8080/"
        }
      },
      "outputs": [
        {
          "output_type": "stream",
          "name": "stdout",
          "text": [
            "True\n",
            "False\n"
          ]
        }
      ],
      "source": [
        "def is_prime(n: int) -> bool:\n",
        "  \"\"\"\n",
        "  Check if a number is prime.\n",
        "\n",
        "  Args:\n",
        "    n: The number to check.\n",
        "\n",
        "  Returns:\n",
        "    True if the number is prime, False otherwise.\n",
        "  \"\"\"\n",
        "  if n <= 1:\n",
        "    return False\n",
        "\n",
        "  for i in range(2, n):\n",
        "    if n % i == 0:\n",
        "      return False\n",
        "\n",
        "  return True\n",
        "\n",
        "print(is_prime(7))\n",
        "print(is_prime(10))"
      ]
    },
    {
      "cell_type": "markdown",
      "id": "93c310cb",
      "metadata": {
        "id": "93c310cb"
      },
      "source": [
        "**Task 3. Подсчёт значений выше порога**  \n",
        "Напишите функцию `above_threshold(data, threshold)`, которая возвращает количество элементов в списке `data`, превышающих значение `threshold`.\n",
        "\n",
        "*Пример:*\n",
        "```python\n",
        "above_threshold([10.0, 15.5, 20.0, 8.0], 12.0)  # ➞ 2\n",
        "```"
      ]
    },
    {
      "cell_type": "code",
      "execution_count": 7,
      "id": "f4eafc6c",
      "metadata": {
        "id": "f4eafc6c",
        "outputId": "983792d0-51b6-4517-93a1-b59968a3f5e6",
        "colab": {
          "base_uri": "https://localhost:8080/"
        }
      },
      "outputs": [
        {
          "output_type": "stream",
          "name": "stdout",
          "text": [
            "2\n"
          ]
        }
      ],
      "source": [
        "def above_threshold(data: list[int | float], threshold: int | float) -> int:\n",
        "  \"\"\"\n",
        "  Count the number of elements in a list that are above a threshold.\n",
        "\n",
        "  Args:\n",
        "    data: A list of numbers.\n",
        "    threshold: The threshold value.\n",
        "\n",
        "  Returns:\n",
        "    The number of elements in the list that are above the threshold.\n",
        "  \"\"\"\n",
        "\n",
        "  count = 0\n",
        "  for item in data:\n",
        "    if item > threshold:\n",
        "      count += 1\n",
        "\n",
        "  return count\n",
        "\n",
        "print(above_threshold([10.0, 15.5, 20.0, 8.0], 12.0))"
      ]
    },
    {
      "cell_type": "markdown",
      "id": "d7237160",
      "metadata": {
        "id": "d7237160"
      },
      "source": [
        "**Task 4. Покупки по пользователям**  \n",
        "Напишите функцию `purchases_by_user(transactions)`, которая по списку транзакций (имя покупателя, товар) возвращает словарь, где ключ — имя покупателя, а значение — множество названий купленных товаров.\n",
        "\n",
        "*Пример:*\n",
        "```python\n",
        "purchases_by_user([\n",
        "    (\"Alice\", \"Book\"),\n",
        "    (\"Alice\", \"Pen\"),\n",
        "    (\"Bob\", \"Book\")\n",
        "])\n",
        "# ➞ {\"Alice\": {\"Book\", \"Pen\"}, \"Bob\": {\"Book\"}}\n",
        "```"
      ]
    },
    {
      "cell_type": "code",
      "execution_count": 8,
      "id": "c5fb79e9",
      "metadata": {
        "id": "c5fb79e9",
        "outputId": "29c66ccc-0461-454b-df0a-fdfb7e0238e9",
        "colab": {
          "base_uri": "https://localhost:8080/"
        }
      },
      "outputs": [
        {
          "output_type": "stream",
          "name": "stdout",
          "text": [
            "defaultdict(<class 'set'>, {'Alice': {'Pen', 'Book'}, 'Bob': {'Book'}})\n"
          ]
        }
      ],
      "source": [
        "from collections import defaultdict\n",
        "\n",
        "def purchases_by_user(transactions: list[tuple[str, str]]) -> dict[str, set[str]]:\n",
        "  \"\"\"\n",
        "  Return a dictionary of users and their purchased items.\n",
        "\n",
        "  Args:\n",
        "    transactions: A list of transactions.\n",
        "\n",
        "  Returns:\n",
        "    A dictionary of users and their purchased items.\n",
        "  \"\"\"\n",
        "\n",
        "  purchases = defaultdict(set)\n",
        "  for user, item in transactions:\n",
        "    purchases[user].add(item)\n",
        "\n",
        "  return purchases\n",
        "\n",
        "\n",
        "res = purchases_by_user([\n",
        "    (\"Alice\", \"Book\"),\n",
        "    (\"Alice\", \"Pen\"),\n",
        "    (\"Bob\", \"Book\")\n",
        "])\n",
        "\n",
        "print(res)"
      ]
    },
    {
      "cell_type": "markdown",
      "id": "6cd60ec6",
      "metadata": {
        "id": "6cd60ec6"
      },
      "source": [
        "**Task 5. Фильтрация заказов по цене**\n",
        "\n",
        "Напишите функцию `filter_orders_by_price(orders, min_price, max_price)`, которая возвращает список заказов, где цена попадает в указанный диапазон `[min_price, max_price]`.\n",
        "\n",
        "*Пример:*\n",
        "```python\n",
        "orders = [\n",
        "    {\"item\": \"Book\", \"price\": 12.5},\n",
        "    {\"item\": \"Pen\", \"price\": 2.0},\n",
        "    {\"item\": \"Bag\", \"price\": 25.0}\n",
        "]\n",
        "filter_orders_by_price(orders, 5.0, 20.0)\n",
        "# ➞ [{\"item\": \"Book\", \"price\": 12.5}]\n",
        "```"
      ]
    },
    {
      "cell_type": "code",
      "source": [
        "import random\n",
        "x = [random.randint(-4, 25) for _ in range(20)]\n",
        "print(x)"
      ],
      "metadata": {
        "id": "gtzApIeiRgKc",
        "outputId": "d68739ba-a9e4-476f-cbd2-886241a5f400",
        "colab": {
          "base_uri": "https://localhost:8080/"
        }
      },
      "id": "gtzApIeiRgKc",
      "execution_count": 9,
      "outputs": [
        {
          "output_type": "stream",
          "name": "stdout",
          "text": [
            "[23, 15, 23, 4, 24, 11, 5, -4, 25, 1, 0, 25, 8, 22, 4, -1, 15, 1, -4, 20]\n"
          ]
        }
      ]
    },
    {
      "cell_type": "code",
      "source": [
        "y = [item * 2 for item in x if item % 2]\n",
        "print(y)"
      ],
      "metadata": {
        "id": "uV5eobF6RqYr",
        "outputId": "5d9c3150-afa9-46ce-e313-01349838841a",
        "colab": {
          "base_uri": "https://localhost:8080/"
        }
      },
      "id": "uV5eobF6RqYr",
      "execution_count": 11,
      "outputs": [
        {
          "output_type": "stream",
          "name": "stdout",
          "text": [
            "[46, 30, 46, 22, 10, 50, 2, 50, -2, 30, 2]\n"
          ]
        }
      ]
    },
    {
      "cell_type": "code",
      "source": [
        "y = {item for item in x if item < 0}\n",
        "print(y)"
      ],
      "metadata": {
        "id": "mBJst6ykR2Sb",
        "outputId": "8ea46e24-2f4a-4852-cc07-8d4f48d26925",
        "colab": {
          "base_uri": "https://localhost:8080/"
        }
      },
      "id": "mBJst6ykR2Sb",
      "execution_count": 12,
      "outputs": [
        {
          "output_type": "stream",
          "name": "stdout",
          "text": [
            "{-4, -1}\n"
          ]
        }
      ]
    },
    {
      "cell_type": "code",
      "source": [
        "y = {item: x.count(item) for item in x}\n",
        "print(y)"
      ],
      "metadata": {
        "id": "J9l3IXJZSBjZ",
        "outputId": "2a296822-0aca-4115-e030-b80db961b89e",
        "colab": {
          "base_uri": "https://localhost:8080/"
        }
      },
      "id": "J9l3IXJZSBjZ",
      "execution_count": 13,
      "outputs": [
        {
          "output_type": "stream",
          "name": "stdout",
          "text": [
            "{23: 2, 15: 2, 4: 2, 24: 1, 11: 1, 5: 1, -4: 2, 25: 2, 1: 2, 0: 1, 8: 1, 22: 1, -1: 1, 20: 1}\n"
          ]
        }
      ]
    },
    {
      "cell_type": "code",
      "execution_count": 15,
      "id": "347ad08c",
      "metadata": {
        "id": "347ad08c",
        "outputId": "aa822fc1-61e5-413d-f16c-b95c93b79300",
        "colab": {
          "base_uri": "https://localhost:8080/"
        }
      },
      "outputs": [
        {
          "output_type": "stream",
          "name": "stdout",
          "text": [
            "[{'item': 'Book', 'price': 12.5}]\n"
          ]
        }
      ],
      "source": [
        "def filter_orders_by_price(orders, min_price, max_price):\n",
        "  return [order for order in orders if min_price <= order['price'] <= max_price]\n",
        "\n",
        "orders = [\n",
        "    {\"item\": \"Book\", \"price\": 12.5},\n",
        "    {\"item\": \"Pen\", \"price\": 2.0},\n",
        "    {\"item\": \"Bag\", \"price\": 25.0}\n",
        "]\n",
        "\n",
        "print(filter_orders_by_price(orders, 5.0, 20.0))\n"
      ]
    },
    {
      "cell_type": "code",
      "source": [
        "min_price = 5\n",
        "max_price = 20\n",
        "\n",
        "def is_in_range(number):\n",
        "  return min_price <= number['price'] <= max_price\n",
        "\n",
        "res = list(filter(is_in_range, orders))\n",
        "print(res)"
      ],
      "metadata": {
        "id": "0Z7NHP0qTq41",
        "outputId": "6d6cac51-7a86-4e14-932f-c695ae86c2ff",
        "colab": {
          "base_uri": "https://localhost:8080/"
        }
      },
      "id": "0Z7NHP0qTq41",
      "execution_count": 22,
      "outputs": [
        {
          "output_type": "stream",
          "name": "stdout",
          "text": [
            "[{'item': 'Book', 'price': 12.5}]\n"
          ]
        }
      ]
    },
    {
      "cell_type": "markdown",
      "id": "626cb2a1",
      "metadata": {
        "id": "626cb2a1"
      },
      "source": [
        "**Task 6. Группировка клиентов по странам**\n",
        "\n",
        "Напишите функцию `group_customers_by_country(customers)`, которая по списку клиентов вернёт словарь, где ключ — страна, а значение — список имён клиентов из этой страны.\n",
        "\n",
        "*Пример:*\n",
        "```python\n",
        "customers = [\n",
        "    {\"name\": \"Alice\", \"country\": \"USA\"},\n",
        "    {\"name\": \"Bob\", \"country\": \"Germany\"},\n",
        "    {\"name\": \"Charlie\", \"country\": \"USA\"}\n",
        "]\n",
        "group_customers_by_country(customers)\n",
        "# ➞ {'USA': ['Alice', 'Charlie'], 'Germany': ['Bob']}\n",
        "```"
      ]
    },
    {
      "cell_type": "code",
      "execution_count": 20,
      "id": "838e6205",
      "metadata": {
        "id": "838e6205",
        "outputId": "38defb31-44e3-4a18-fd2d-a5fea82415ed",
        "colab": {
          "base_uri": "https://localhost:8080/"
        }
      },
      "outputs": [
        {
          "output_type": "stream",
          "name": "stdout",
          "text": [
            "('USA', ['Alice', 'Charlie'])\n",
            "('Germany', ['Bob'])\n"
          ]
        }
      ],
      "source": [
        "from collections import defaultdict\n",
        "def group_customers_by_country(customers):\n",
        "  grouped_customers = defaultdict(list)\n",
        "  for customer in customers:\n",
        "    name, country = customer['name'], customer['country']\n",
        "    grouped_customers[country].append(name)\n",
        "\n",
        "  return grouped_customers\n",
        "\n",
        "customers = [\n",
        "    {\"name\": \"Alice\", \"country\": \"USA\"},\n",
        "    {\"name\": \"Bob\", \"country\": \"Germany\"},\n",
        "    {\"name\": \"Charlie\", \"country\": \"USA\"}\n",
        "]\n",
        "\n",
        "\n",
        "print(*group_customers_by_country(customers).items(), sep='\\n')"
      ]
    },
    {
      "cell_type": "markdown",
      "id": "43715441",
      "metadata": {
        "id": "43715441"
      },
      "source": [
        "**Task 7. Топ-N популярных товаров**  \n",
        "Напишите функцию `top_n_items(sales, n)`, которая возвращает список `n` товаров с наибольшим количеством продаж.\n",
        "\n",
        "*Пример:*\n",
        "```python\n",
        "sales = {\"Book\": 100, \"Pen\": 75, \"Bag\": 50}\n",
        "top_n_items(sales, 2)\n",
        "# ➞ ['Book', 'Pen']\n",
        "```"
      ]
    },
    {
      "cell_type": "code",
      "source": [
        "x = (1, 2, 3, 4, 5, 6, 7)\n",
        "y = sorted(x, reverse=True)\n",
        "print(y)"
      ],
      "metadata": {
        "id": "junxpYGrVGmZ",
        "outputId": "4ccd31e5-ffb4-423f-ad8b-1e6f2e9caa53",
        "colab": {
          "base_uri": "https://localhost:8080/"
        }
      },
      "id": "junxpYGrVGmZ",
      "execution_count": 23,
      "outputs": [
        {
          "output_type": "stream",
          "name": "stdout",
          "text": [
            "[7, 6, 5, 4, 3, 2, 1]\n"
          ]
        }
      ]
    },
    {
      "cell_type": "code",
      "source": [
        "x = [('a', 45), ('b', 23), ('x', 12), ('A', 65), ('Z', 123)]\n",
        "y = sorted(x)\n",
        "print(y)"
      ],
      "metadata": {
        "id": "Z1v5lsWFVOMV",
        "outputId": "d98450cf-3213-4c00-8cb0-943fd1fbf47f",
        "colab": {
          "base_uri": "https://localhost:8080/"
        }
      },
      "id": "Z1v5lsWFVOMV",
      "execution_count": 24,
      "outputs": [
        {
          "output_type": "stream",
          "name": "stdout",
          "text": [
            "[('A', 65), ('Z', 123), ('a', 45), ('b', 23), ('x', 12)]\n"
          ]
        }
      ]
    },
    {
      "cell_type": "code",
      "source": [
        "def second_item(item):\n",
        "  return item[1]\n",
        "\n",
        "x = [('a', 45), ('b', 23), ('x', 12), ('A', 65), ('Z', 123)]\n",
        "y = sorted(x, key=second_item)\n",
        "print(y)"
      ],
      "metadata": {
        "id": "eUpPXxP7WPiw",
        "outputId": "b82142d0-ad8c-47d5-ac48-357bdbf9378f",
        "colab": {
          "base_uri": "https://localhost:8080/"
        }
      },
      "id": "eUpPXxP7WPiw",
      "execution_count": 29,
      "outputs": [
        {
          "output_type": "stream",
          "name": "stdout",
          "text": [
            "[('x', 12), ('b', 23), ('a', 45), ('A', 65), ('Z', 123)]\n"
          ]
        }
      ]
    },
    {
      "cell_type": "code",
      "source": [
        "(1, 3, 2) > (1, 2, 3)"
      ],
      "metadata": {
        "id": "DPaVN8PuV7oQ",
        "outputId": "5d618583-465b-412a-8c26-9319eacb9f3b",
        "colab": {
          "base_uri": "https://localhost:8080/"
        }
      },
      "id": "DPaVN8PuV7oQ",
      "execution_count": 28,
      "outputs": [
        {
          "output_type": "execute_result",
          "data": {
            "text/plain": [
              "True"
            ]
          },
          "metadata": {},
          "execution_count": 28
        }
      ]
    },
    {
      "cell_type": "code",
      "execution_count": 30,
      "id": "d977c607",
      "metadata": {
        "id": "d977c607",
        "outputId": "05d5caac-7151-48b4-9508-950a2bfb0032",
        "colab": {
          "base_uri": "https://localhost:8080/"
        }
      },
      "outputs": [
        {
          "output_type": "stream",
          "name": "stdout",
          "text": [
            "['Book', 'Pen']\n"
          ]
        }
      ],
      "source": [
        "def top_n_items(sales, n):\n",
        "  return sorted(sales, key=sales.get, reverse=True)[:n]\n",
        "\n",
        "sales = {\"Book\": 100, \"Pen\": 75, \"Bag\": 50}\n",
        "print(top_n_items(sales, 2))"
      ]
    },
    {
      "cell_type": "markdown",
      "id": "ac1f3cc8",
      "metadata": {
        "id": "ac1f3cc8"
      },
      "source": [
        "**Task 8. Подсчёт ключевого слова в отзывах**\n",
        "\n",
        "Напишите функцию `count_keyword_occurrences(reviews: list[str], keyword: str)`, которая подсчитывает, сколько раз ключевое слово встречается в списке отзывов. Поиск — без учёта регистра.\n",
        "\n",
        "*Пример:*\n",
        "```python\n",
        "reviews = [\"Быстрая доставка\", \"Доставка была медленной\", \"Нет доставки\"]\n",
        "count_keyword_occurrences(reviews, \"доставка\")\n",
        "# ➞ 3\n",
        "```"
      ]
    },
    {
      "cell_type": "code",
      "execution_count": 31,
      "id": "47e0d640",
      "metadata": {
        "id": "47e0d640",
        "outputId": "0b88cd1a-b20d-4f54-e235-da93851b7f8b",
        "colab": {
          "base_uri": "https://localhost:8080/"
        }
      },
      "outputs": [
        {
          "output_type": "execute_result",
          "data": {
            "text/plain": [
              "2"
            ]
          },
          "metadata": {},
          "execution_count": 31
        }
      ],
      "source": [
        "def count_keyword_occurrences(reviews, keyword):\n",
        "  count = 0\n",
        "  for line in reviews:\n",
        "    if keyword.lower() in line.lower():\n",
        "      count += 1\n",
        "\n",
        "  return count\n",
        "\n",
        "\n",
        "reviews = [\"Быстрая доставка\", \"Доставка была медленной\", \"Нет доставки\"]\n",
        "count_keyword_occurrences(reviews, \"доставка\")"
      ]
    },
    {
      "cell_type": "code",
      "source": [
        "!pip install rapidfuzz\n",
        "\n"
      ],
      "metadata": {
        "id": "qlm0A7bXYYYZ",
        "outputId": "c353f81a-a877-4b9d-8437-cda67235a1fb",
        "colab": {
          "base_uri": "https://localhost:8080/"
        }
      },
      "id": "qlm0A7bXYYYZ",
      "execution_count": 32,
      "outputs": [
        {
          "output_type": "stream",
          "name": "stdout",
          "text": [
            "Collecting rapidfuzz\n",
            "  Downloading rapidfuzz-3.13.0-cp311-cp311-manylinux_2_17_x86_64.manylinux2014_x86_64.whl.metadata (12 kB)\n",
            "Downloading rapidfuzz-3.13.0-cp311-cp311-manylinux_2_17_x86_64.manylinux2014_x86_64.whl (3.1 MB)\n",
            "\u001b[?25l   \u001b[90m━━━━━━━━━━━━━━━━━━━━━━━━━━━━━━━━━━━━━━━━\u001b[0m \u001b[32m0.0/3.1 MB\u001b[0m \u001b[31m?\u001b[0m eta \u001b[36m-:--:--\u001b[0m\r\u001b[2K   \u001b[91m━━━━━━━━━━━━━━━━━━━━━\u001b[0m\u001b[90m╺\u001b[0m\u001b[90m━━━━━━━━━━━━━━━━━━\u001b[0m \u001b[32m1.6/3.1 MB\u001b[0m \u001b[31m49.3 MB/s\u001b[0m eta \u001b[36m0:00:01\u001b[0m\r\u001b[2K   \u001b[91m━━━━━━━━━━━━━━━━━━━━━━━━━━━━━━━━━━━━━━━\u001b[0m\u001b[91m╸\u001b[0m \u001b[32m3.1/3.1 MB\u001b[0m \u001b[31m58.7 MB/s\u001b[0m eta \u001b[36m0:00:01\u001b[0m\r\u001b[2K   \u001b[90m━━━━━━━━━━━━━━━━━━━━━━━━━━━━━━━━━━━━━━━━\u001b[0m \u001b[32m3.1/3.1 MB\u001b[0m \u001b[31m40.4 MB/s\u001b[0m eta \u001b[36m0:00:00\u001b[0m\n",
            "\u001b[?25hInstalling collected packages: rapidfuzz\n",
            "Successfully installed rapidfuzz-3.13.0\n"
          ]
        }
      ]
    },
    {
      "cell_type": "code",
      "source": [
        "# https://pypi.org/project/RapidFuzz/\n",
        "\n",
        "from rapidfuzz import fuzz\n",
        "fuzz.ratio(\"доставка\", \"доставки\")"
      ],
      "metadata": {
        "id": "gBPyzbOtYl92",
        "outputId": "53d56d72-7f97-4ee9-b458-2a3e33811e59",
        "colab": {
          "base_uri": "https://localhost:8080/"
        }
      },
      "id": "gBPyzbOtYl92",
      "execution_count": 33,
      "outputs": [
        {
          "output_type": "execute_result",
          "data": {
            "text/plain": [
              "87.5"
            ]
          },
          "metadata": {},
          "execution_count": 33
        }
      ]
    },
    {
      "cell_type": "code",
      "source": [
        "!pip install levenshtein\n",
        "\n",
        "from Levenshtein import distance\n",
        "distance(\"доставка\", \"доставки\")"
      ],
      "metadata": {
        "id": "QIj_rGGWYlz4",
        "outputId": "61b3cc38-31a5-4a62-8a36-7b6057307aec",
        "colab": {
          "base_uri": "https://localhost:8080/"
        }
      },
      "id": "QIj_rGGWYlz4",
      "execution_count": 34,
      "outputs": [
        {
          "output_type": "stream",
          "name": "stdout",
          "text": [
            "Collecting levenshtein\n",
            "  Downloading levenshtein-0.27.1-cp311-cp311-manylinux_2_17_x86_64.manylinux2014_x86_64.whl.metadata (3.6 kB)\n",
            "Requirement already satisfied: rapidfuzz<4.0.0,>=3.9.0 in /usr/local/lib/python3.11/dist-packages (from levenshtein) (3.13.0)\n",
            "Downloading levenshtein-0.27.1-cp311-cp311-manylinux_2_17_x86_64.manylinux2014_x86_64.whl (161 kB)\n",
            "\u001b[?25l   \u001b[90m━━━━━━━━━━━━━━━━━━━━━━━━━━━━━━━━━━━━━━━━\u001b[0m \u001b[32m0.0/161.7 kB\u001b[0m \u001b[31m?\u001b[0m eta \u001b[36m-:--:--\u001b[0m\r\u001b[2K   \u001b[90m━━━━━━━━━━━━━━━━━━━━━━━━━━━━━━━━━━━━━━━━\u001b[0m \u001b[32m161.7/161.7 kB\u001b[0m \u001b[31m9.2 MB/s\u001b[0m eta \u001b[36m0:00:00\u001b[0m\n",
            "\u001b[?25hInstalling collected packages: levenshtein\n",
            "Successfully installed levenshtein-0.27.1\n"
          ]
        },
        {
          "output_type": "execute_result",
          "data": {
            "text/plain": [
              "1"
            ]
          },
          "metadata": {},
          "execution_count": 34
        }
      ]
    },
    {
      "cell_type": "code",
      "source": [
        "!pip install nltk"
      ],
      "metadata": {
        "id": "E3qsEePvZjaE",
        "outputId": "490b3957-c864-472e-ecd1-5e4ff9b8975c",
        "colab": {
          "base_uri": "https://localhost:8080/"
        }
      },
      "id": "E3qsEePvZjaE",
      "execution_count": 36,
      "outputs": [
        {
          "output_type": "stream",
          "name": "stdout",
          "text": [
            "Requirement already satisfied: nltk in /usr/local/lib/python3.11/dist-packages (3.9.1)\n",
            "Requirement already satisfied: click in /usr/local/lib/python3.11/dist-packages (from nltk) (8.1.8)\n",
            "Requirement already satisfied: joblib in /usr/local/lib/python3.11/dist-packages (from nltk) (1.4.2)\n",
            "Requirement already satisfied: regex>=2021.8.3 in /usr/local/lib/python3.11/dist-packages (from nltk) (2024.11.6)\n",
            "Requirement already satisfied: tqdm in /usr/local/lib/python3.11/dist-packages (from nltk) (4.67.1)\n"
          ]
        }
      ]
    }
  ],
  "metadata": {
    "colab": {
      "provenance": [],
      "include_colab_link": true
    },
    "language_info": {
      "name": "python"
    },
    "kernelspec": {
      "name": "python3",
      "display_name": "Python 3"
    }
  },
  "nbformat": 4,
  "nbformat_minor": 5
}