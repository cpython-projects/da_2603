{
  "cells": [
    {
      "cell_type": "markdown",
      "metadata": {
        "id": "view-in-github",
        "colab_type": "text"
      },
      "source": [
        "<a href=\"https://colab.research.google.com/github/cpython-projects/da_2603/blob/main/lesson_09_hw.ipynb\" target=\"_parent\"><img src=\"https://colab.research.google.com/assets/colab-badge.svg\" alt=\"Open In Colab\"/></a>"
      ]
    },
    {
      "cell_type": "markdown",
      "id": "283d434d",
      "metadata": {
        "id": "283d434d"
      },
      "source": [
        "**Task 1. Среднее значение**  \n",
        "Напишите функцию `mean(numbers)`, которая возвращает среднее арифметическое чисел в списке. Если список пуст, функция должна возвращать `None`.\n",
        "\n",
        "*Пример:*\n",
        "```python\n",
        "mean([10, 20, 30])  # ➞ 20.0\n",
        "mean([])            # ➞ None\n",
        "```"
      ]
    },
    {
      "cell_type": "code",
      "execution_count": null,
      "id": "f56b6f7e",
      "metadata": {
        "id": "f56b6f7e"
      },
      "outputs": [],
      "source": []
    },
    {
      "cell_type": "markdown",
      "id": "8329761e",
      "metadata": {
        "id": "8329761e"
      },
      "source": [
        "**Task 2. Проверка на простое число**  \n",
        "Напишите функцию `is_prime(n)`, которая возвращает `True`, если число `n` — простое, иначе `False`.\n",
        "\n",
        "*Пример:*\n",
        "```python\n",
        "is_prime(7)   # ➞ True\n",
        "is_prime(10)  # ➞ False\n",
        "```"
      ]
    },
    {
      "cell_type": "code",
      "execution_count": null,
      "id": "2e3ef4e5",
      "metadata": {
        "id": "2e3ef4e5"
      },
      "outputs": [],
      "source": []
    },
    {
      "cell_type": "markdown",
      "id": "93c310cb",
      "metadata": {
        "id": "93c310cb"
      },
      "source": [
        "**Task 3. Подсчёт значений выше порога**  \n",
        "Напишите функцию `above_threshold(data, threshold)`, которая возвращает количество элементов в списке `data`, превышающих значение `threshold`.\n",
        "\n",
        "*Пример:*\n",
        "```python\n",
        "above_threshold([10.0, 15.5, 20.0, 8.0], 12.0)  # ➞ 2\n",
        "```"
      ]
    },
    {
      "cell_type": "code",
      "execution_count": null,
      "id": "f4eafc6c",
      "metadata": {
        "id": "f4eafc6c"
      },
      "outputs": [],
      "source": []
    },
    {
      "cell_type": "markdown",
      "id": "d7237160",
      "metadata": {
        "id": "d7237160"
      },
      "source": [
        "**Task 4. Покупки по пользователям**  \n",
        "Напишите функцию `purchases_by_user(transactions)`, которая по списку транзакций (имя покупателя, товар) возвращает словарь, где ключ — имя покупателя, а значение — множество названий купленных товаров.\n",
        "\n",
        "*Пример:*\n",
        "```python\n",
        "purchases_by_user([\n",
        "    (\"Alice\", \"Book\"),\n",
        "    (\"Alice\", \"Pen\"),\n",
        "    (\"Bob\", \"Book\")\n",
        "])\n",
        "# ➞ {\"Alice\": {\"Book\", \"Pen\"}, \"Bob\": {\"Book\"}}\n",
        "```"
      ]
    },
    {
      "cell_type": "code",
      "execution_count": null,
      "id": "c5fb79e9",
      "metadata": {
        "id": "c5fb79e9"
      },
      "outputs": [],
      "source": []
    },
    {
      "cell_type": "markdown",
      "id": "6cd60ec6",
      "metadata": {
        "id": "6cd60ec6"
      },
      "source": [
        "**Task 5. Фильтрация заказов по цене**\n",
        "\n",
        "Напишите функцию `filter_orders_by_price(orders, min_price, max_price)`, которая возвращает список заказов, где цена попадает в указанный диапазон `[min_price, max_price]`.\n",
        "\n",
        "*Пример:*\n",
        "```python\n",
        "orders = [\n",
        "    {\"item\": \"Book\", \"price\": 12.5},\n",
        "    {\"item\": \"Pen\", \"price\": 2.0},\n",
        "    {\"item\": \"Bag\", \"price\": 25.0}\n",
        "]\n",
        "filter_orders_by_price(orders, 5.0, 20.0)\n",
        "# ➞ [{\"item\": \"Book\", \"price\": 12.5}]\n",
        "```"
      ]
    },
    {
      "cell_type": "code",
      "execution_count": null,
      "id": "347ad08c",
      "metadata": {
        "id": "347ad08c"
      },
      "outputs": [],
      "source": []
    },
    {
      "cell_type": "markdown",
      "id": "626cb2a1",
      "metadata": {
        "id": "626cb2a1"
      },
      "source": [
        "**Task 6. Группировка клиентов по странам**\n",
        "\n",
        "Напишите функцию `group_customers_by_country(customers)`, которая по списку клиентов вернёт словарь, где ключ — страна, а значение — список имён клиентов из этой страны.\n",
        "\n",
        "*Пример:*\n",
        "```python\n",
        "customers = [\n",
        "    {\"name\": \"Alice\", \"country\": \"USA\"},\n",
        "    {\"name\": \"Bob\", \"country\": \"Germany\"},\n",
        "    {\"name\": \"Charlie\", \"country\": \"USA\"}\n",
        "]\n",
        "group_customers_by_country(customers)\n",
        "# ➞ {'USA': ['Alice', 'Charlie'], 'Germany': ['Bob']}\n",
        "```"
      ]
    },
    {
      "cell_type": "code",
      "execution_count": null,
      "id": "838e6205",
      "metadata": {
        "id": "838e6205"
      },
      "outputs": [],
      "source": []
    },
    {
      "cell_type": "markdown",
      "id": "43715441",
      "metadata": {
        "id": "43715441"
      },
      "source": [
        "**Task 7. Топ-N популярных товаров**  \n",
        "Напишите функцию `top_n_items(sales, n)`, которая возвращает список `n` товаров с наибольшим количеством продаж.\n",
        "\n",
        "*Пример:*\n",
        "```python\n",
        "sales = {\"Book\": 100, \"Pen\": 75, \"Bag\": 50}\n",
        "top_n_items(sales, 2)\n",
        "# ➞ ['Book', 'Pen']\n",
        "```"
      ]
    },
    {
      "cell_type": "code",
      "execution_count": null,
      "id": "d977c607",
      "metadata": {
        "id": "d977c607"
      },
      "outputs": [],
      "source": []
    },
    {
      "cell_type": "markdown",
      "id": "ac1f3cc8",
      "metadata": {
        "id": "ac1f3cc8"
      },
      "source": [
        "**Task 8. Подсчёт ключевого слова в отзывах**\n",
        "\n",
        "Напишите функцию `count_keyword_occurrences(reviews: list[str], keyword: str)`, которая подсчитывает, сколько раз ключевое слово встречается в списке отзывов. Поиск — без учёта регистра.\n",
        "\n",
        "*Пример:*\n",
        "```python\n",
        "reviews = [\"Быстрая доставка\", \"Доставка была медленной\", \"Нет доставки\"]\n",
        "count_keyword_occurrences(reviews, \"доставка\")\n",
        "# ➞ 3\n",
        "```"
      ]
    },
    {
      "cell_type": "code",
      "execution_count": null,
      "id": "47e0d640",
      "metadata": {
        "id": "47e0d640"
      },
      "outputs": [],
      "source": []
    }
  ],
  "metadata": {
    "colab": {
      "provenance": [],
      "include_colab_link": true
    }
  },
  "nbformat": 4,
  "nbformat_minor": 5
}