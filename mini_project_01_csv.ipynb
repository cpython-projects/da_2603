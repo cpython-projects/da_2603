{
  "nbformat": 4,
  "nbformat_minor": 0,
  "metadata": {
    "colab": {
      "provenance": [],
      "authorship_tag": "ABX9TyNmlMkXQQq0C3JhEqnfhKWl",
      "include_colab_link": true
    },
    "kernelspec": {
      "name": "python3",
      "display_name": "Python 3"
    },
    "language_info": {
      "name": "python"
    }
  },
  "cells": [
    {
      "cell_type": "markdown",
      "metadata": {
        "id": "view-in-github",
        "colab_type": "text"
      },
      "source": [
        "<a href=\"https://colab.research.google.com/github/cpython-projects/da_2603/blob/main/mini_project_01_csv.ipynb\" target=\"_parent\"><img src=\"https://colab.research.google.com/assets/colab-badge.svg\" alt=\"Open In Colab\"/></a>"
      ]
    },
    {
      "cell_type": "markdown",
      "source": [
        "## **Mini project 01:** Анализ заказов интернет-магазина  \n",
        "**Цель** — закрепить базовые конструкции Python, включая встроенные типы данных (числа, строки, списки, словари и др.) и работу с функциями, через практику чтения, очистки и анализа данных в формате CSV."
      ],
      "metadata": {
        "id": "UV4rymhWMQ9B"
      }
    },
    {
      "cell_type": "markdown",
      "source": [
        "### **Легенда**\n",
        "\n",
        "Файл: [`orders_extended.csv`](https://github.com/cpython-projects/da_2603/blob/main/orders_project_01.csv) содержит данные о заказах в Интернет-магазине\n",
        "\n",
        "\n",
        "---\n",
        "\n",
        "\n",
        "* `InvoiceNo` — номер заказа\n",
        "* `CustomerID` — ID клиента (может отсутствовать)\n",
        "* `Description` — название товара\n",
        "* `Quantity` — количество (иногда пропущено или некорректно)\n",
        "* `UnitPrice` — цена за единицу (может быть с ошибкой)\n",
        "* `Category` — категория товара\n",
        "* `Discount` — скидка от 0.0 до 0.3\n",
        "* `PaymentMethod` — способ оплаты (например, \"Credit Card\", \"PayPal\", иногда ошибка в регистре)\n"
      ],
      "metadata": {
        "id": "Ki2G3uIzMbd-"
      }
    },
    {
      "cell_type": "markdown",
      "source": [
        "### **Task 1. Прочитайте и очистите данные**\n",
        "\n",
        "*   Используйте `csv.DictReader`\n",
        "*   Скидка может быть пустой — в этом случае считать её равной `0.0`\n",
        "*   Количество может быть пустым — в этом случае считать равным `1`\n",
        "*   Пропускайте строки с пустыми или некорректными значениями в полях `Quantity`, `UnitPrice`"
      ],
      "metadata": {
        "id": "MARoGvA0OqJj"
      }
    },
    {
      "cell_type": "code",
      "execution_count": null,
      "metadata": {
        "id": "ws7DUigdMQLp"
      },
      "outputs": [],
      "source": []
    },
    {
      "cell_type": "markdown",
      "source": [
        "### **Task 2. Базовый анализ**"
      ],
      "metadata": {
        "id": "W0aRB1BlPvXl"
      }
    },
    {
      "cell_type": "markdown",
      "source": [
        "\n",
        "**Реализуйте и вызовите функцию `unique_orders(orders)` — количество уникальных заказов**"
      ],
      "metadata": {
        "id": "eYbqB8i6QBJ8"
      }
    },
    {
      "cell_type": "code",
      "source": [],
      "metadata": {
        "id": "QpJHs_25QQBh"
      },
      "execution_count": null,
      "outputs": []
    },
    {
      "cell_type": "markdown",
      "source": [
        "**Реализуйте и вызовите функцию `most_popular_item(orders)` — самый популярный товар (по количеству)**"
      ],
      "metadata": {
        "id": "W2chJ6QNQQoE"
      }
    },
    {
      "cell_type": "code",
      "source": [],
      "metadata": {
        "id": "365gpYf8QVSk"
      },
      "execution_count": null,
      "outputs": []
    },
    {
      "cell_type": "markdown",
      "source": [
        "**Реализуйте и вызовите функцию `total_quantity(orders)` — общее количество проданных товаров**"
      ],
      "metadata": {
        "id": "h7zvyZlQQWAC"
      }
    },
    {
      "cell_type": "code",
      "source": [],
      "metadata": {
        "id": "kLQKIzF5Qay_"
      },
      "execution_count": null,
      "outputs": []
    },
    {
      "cell_type": "markdown",
      "source": [
        "**Реализуйте и вызовите функцию `total_sales(orders)` — общая сумма продаж (с учётом скидки)**"
      ],
      "metadata": {
        "id": "bJ_DmBnNQiQS"
      }
    },
    {
      "cell_type": "code",
      "source": [],
      "metadata": {
        "id": "9iqsRmLRQird"
      },
      "execution_count": null,
      "outputs": []
    },
    {
      "cell_type": "markdown",
      "source": [
        "**Реализуйте и вызовите функцию `top_customer(orders)` — ID клиента с наибольшей суммой покупок (учитывайте скидку)**"
      ],
      "metadata": {
        "id": "Q3DBiPWUQbPk"
      }
    },
    {
      "cell_type": "code",
      "source": [],
      "metadata": {
        "id": "ju2_sBdoQcGX"
      },
      "execution_count": null,
      "outputs": []
    },
    {
      "cell_type": "markdown",
      "source": [
        "### **Task 3. Расширенный анализ**"
      ],
      "metadata": {
        "id": "Ydsg6M5uUBJG"
      }
    },
    {
      "cell_type": "markdown",
      "source": [
        "**Реализуйте и вызовите функцию `top_categories(orders, n=3)` — 3 категории с наибольшим количеством продаж**"
      ],
      "metadata": {
        "id": "_tLZm3JiUIjb"
      }
    },
    {
      "cell_type": "code",
      "source": [],
      "metadata": {
        "id": "ozjF3dWwUbGs"
      },
      "execution_count": null,
      "outputs": []
    },
    {
      "cell_type": "markdown",
      "source": [
        "**Реализуйте и вызовите функцию `payment_stats(orders)` — сколько покупок было через каждый способ оплаты**"
      ],
      "metadata": {
        "id": "s5Iz7N7pUbhH"
      }
    },
    {
      "cell_type": "code",
      "source": [],
      "metadata": {
        "id": "eRq8PgstUduh"
      },
      "execution_count": null,
      "outputs": []
    },
    {
      "cell_type": "markdown",
      "source": [
        "**Реализуйте и вызовите функцию `average_discount(orders)` — средняя скидка по всем заказам**"
      ],
      "metadata": {
        "id": "mdmk7WVvUeMD"
      }
    },
    {
      "cell_type": "code",
      "source": [],
      "metadata": {
        "id": "qloXI5qKUfEs"
      },
      "execution_count": null,
      "outputs": []
    },
    {
      "cell_type": "markdown",
      "source": [
        "###**Task 4. Insights (1-3 предложения)**"
      ],
      "metadata": {
        "id": "NS0e7kNiUlIZ"
      }
    },
    {
      "cell_type": "markdown",
      "source": [],
      "metadata": {
        "id": "eK_J2r7zUoU6"
      }
    }
  ]
}