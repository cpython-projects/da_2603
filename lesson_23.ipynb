{
  "nbformat": 4,
  "nbformat_minor": 0,
  "metadata": {
    "colab": {
      "provenance": [],
      "authorship_tag": "ABX9TyOFl6xbA1zpHhd2RJBuQULo",
      "include_colab_link": true
    },
    "kernelspec": {
      "name": "python3",
      "display_name": "Python 3"
    },
    "language_info": {
      "name": "python"
    }
  },
  "cells": [
    {
      "cell_type": "markdown",
      "metadata": {
        "id": "view-in-github",
        "colab_type": "text"
      },
      "source": [
        "<a href=\"https://colab.research.google.com/github/cpython-projects/da_2603/blob/main/lesson_23.ipynb\" target=\"_parent\"><img src=\"https://colab.research.google.com/assets/colab-badge.svg\" alt=\"Open In Colab\"/></a>"
      ]
    },
    {
      "cell_type": "markdown",
      "source": [
        "# Запросы из нескольких таблицами"
      ],
      "metadata": {
        "id": "-1hDrrTmcKBg"
      }
    },
    {
      "cell_type": "markdown",
      "source": [
        "## Легенда"
      ],
      "metadata": {
        "id": "VHbe6ErxeSfn"
      }
    },
    {
      "cell_type": "markdown",
      "source": [
        "### `clients` — список зарегистрированных клиентов:\n",
        "\n",
        "| client\\_id | name  |\n",
        "| ---------- | ----- |\n",
        "| 1          | Anna  |\n",
        "| 2          | Boris |\n",
        "| 3          | Clara |\n",
        "| 4          | David |\n",
        "\n",
        "---\n",
        "\n",
        "### `orders` — список покупок:\n",
        "\n",
        "| order\\_id | client\\_id | total\\_uah |\n",
        "| --------- | ---------- | ---------- |\n",
        "| 101       | 1          | 500        |\n",
        "| 102       | 3          | 800        |\n",
        "| 103       | 3          | 1200       |\n",
        "| 104       | 5          | 300        |\n",
        "\n",
        "---\n"
      ],
      "metadata": {
        "id": "_9fgU4uieV2R"
      }
    },
    {
      "cell_type": "markdown",
      "source": [
        "## JOIN\n",
        "\n",
        "JOIN — это способ **“сшить”** строки из разных таблиц по общему признаку (чаще всего — идентификатору)"
      ],
      "metadata": {
        "id": "3W93TZKfc81R"
      }
    },
    {
      "cell_type": "markdown",
      "source": [
        "### Структура JOIN\n",
        "\n",
        "```sql\n",
        "SELECT ...\n",
        "FROM таблица_1\n",
        "[INNER] JOIN таблица_2\n",
        "  ON таблица_1.ключ = таблица_2.ключ\n",
        "```\n",
        "\n",
        "* **JOIN** соединяет строки двух таблиц\n",
        "* **ON** указывает, по какому признаку\n",
        "* Выводятся **все строки**, где совпал ключ"
      ],
      "metadata": {
        "id": "BdTYFWUneeH5"
      }
    },
    {
      "cell_type": "markdown",
      "source": [
        "## Типы JOIN и как они работают"
      ],
      "metadata": {
        "id": "VN5-DYJ6eII1"
      }
    },
    {
      "cell_type": "markdown",
      "source": [
        "| JOIN         | Что возвращает                                     |\n",
        "| ------------ | -------------------------------------------------- |\n",
        "| `INNER JOIN` | Только совпадающие строки из обеих таблиц          |\n",
        "| `LEFT JOIN`  | Все строки из левой таблицы + совпадения из правой |\n",
        "| `RIGHT JOIN` | Все строки из правой таблицы + совпадения из левой |\n",
        "| `FULL JOIN`  | Все строки из обеих таблиц, даже без совпадений    |\n",
        "\n",
        "---"
      ],
      "metadata": {
        "id": "0KFagTUYeihk"
      }
    },
    {
      "cell_type": "markdown",
      "source": [
        "### `INNER JOIN`"
      ],
      "metadata": {
        "id": "bWyCoX5XeMa_"
      }
    },
    {
      "cell_type": "markdown",
      "source": [
        "```sql\n",
        "SELECT clients.client_id, clients.name, orders.total_uah\n",
        "FROM clients\n",
        "INNER JOIN orders\n",
        "   ON clients.client_id = orders.client_id;\n",
        "```\n",
        "\n",
        "Покажет только тех клиентов, у кого есть хотя бы один заказ:\n",
        "\n",
        "| client\\_id | name  | total\\_uah |\n",
        "| ---------- | ----- | ---------- |\n",
        "| 1          | Anna  | 500        |\n",
        "| 3          | Clara | 800        |\n",
        "| 3          | Clara | 1200       |\n",
        "\n",
        "---"
      ],
      "metadata": {
        "id": "yJsTglshfBxf"
      }
    },
    {
      "cell_type": "markdown",
      "source": [
        "### `LEFT JOIN`"
      ],
      "metadata": {
        "id": "wMir8ucCfH6F"
      }
    },
    {
      "cell_type": "markdown",
      "source": [
        "```sql\n",
        "SELECT clients.client_id, clients.name, orders.total_uah\n",
        "FROM clients\n",
        "LEFT JOIN orders\n",
        "   ON clients.client_id = orders.client_id;\n",
        "```\n",
        "\n",
        "Покажет всех клиентов, даже если у них **нет заказов** (в таком случае `total_uah` будет `NULL`):\n",
        "\n",
        "| client\\_id | name  | total\\_uah |\n",
        "| ---------- | ----- | ---------- |\n",
        "| 1          | Anna  | 500        |\n",
        "| 2          | Boris | NULL       |\n",
        "| 3          | Clara | 800        |\n",
        "| 3          | Clara | 1200       |\n",
        "| 4          | David | NULL       |\n",
        "\n",
        "---"
      ],
      "metadata": {
        "id": "N2PKHWnVfS8T"
      }
    },
    {
      "cell_type": "markdown",
      "source": [
        "### `RIGHT JOIN`"
      ],
      "metadata": {
        "id": "E8KlmvxOfXAa"
      }
    },
    {
      "cell_type": "markdown",
      "source": [
        "```sql\n",
        "SELECT clients.client_id, clients.name, orders.total_uah\n",
        "FROM clients\n",
        "RIGHT JOIN orders\n",
        "   ON clients.client_id = orders.client_id;\n",
        "```\n",
        "\n",
        "Покажет все заказы, даже если клиент **не зарегистрирован** (в таком случае `name` будет `NULL`):\n",
        "\n",
        "| client\\_id | name  | total\\_uah |\n",
        "| ---------- | ----- | ---------- |\n",
        "| 1          | Anna  | 500        |\n",
        "| 3          | Clara | 800        |\n",
        "| 3          | Clara | 1200       |\n",
        "| 5          | NULL  | 300        |\n"
      ],
      "metadata": {
        "id": "PuS4DtrAfhwP"
      }
    },
    {
      "cell_type": "markdown",
      "source": [
        "### `FULL JOIN`"
      ],
      "metadata": {
        "id": "1LSnWsZZfp1J"
      }
    },
    {
      "cell_type": "markdown",
      "source": [
        "```sql\n",
        "SELECT clients.client_id, clients.name, orders.total_uah\n",
        "FROM clients\n",
        "FULL JOIN orders\n",
        "   ON clients.client_id = orders.client_id;\n",
        "```\n",
        "\n",
        "Покажет всех клиентов и все заказы — даже если **нет соответствия** между таблицами:\n",
        "\n",
        "| client\\_id | name  | total\\_uah |\n",
        "| ---------- | ----- | ---------- |\n",
        "| 1          | Anna  | 500        |\n",
        "| 2          | Boris | NULL       |\n",
        "| 3          | Clara | 800        |\n",
        "| 3          | Clara | 1200       |\n",
        "| 4          | David | NULL       |\n",
        "| 5          | NULL  | 300        |"
      ],
      "metadata": {
        "id": "mLhEI5iFfvrf"
      }
    },
    {
      "cell_type": "markdown",
      "source": [
        "## JOIN на 3 таблицах: `clients`, `orders`, `order_items`"
      ],
      "metadata": {
        "id": "eqHLlMfGggHj"
      }
    },
    {
      "cell_type": "markdown",
      "source": [
        "**`clients`**\n",
        "\n",
        "| client\\_id | name  |\n",
        "| ---------- | ----- |\n",
        "| 1          | Anna  |\n",
        "| 2          | Boris |\n",
        "| 3          | Clara |\n",
        "| 4          | Dana  |\n",
        "\n",
        "**`orders`**\n",
        "\n",
        "| order\\_id | client\\_id | total\\_uah |\n",
        "| --------- | ---------- | ---------- |\n",
        "| 101       | 1          | 500        |\n",
        "| 102       | 3          | 800        |\n",
        "| 103       | 3          | 1200       |\n",
        "| 104       | NULL       | 250        |\n",
        "\n",
        "**`order_items`**\n",
        "\n",
        "| order\\_id | product\\_name | qty | price\\_uah |\n",
        "| --------- | ------------- | --- | ---------- |\n",
        "| 101       | Тетрадь       | 2   | 50         |\n",
        "| 101       | Ручка         | 1   | 30         |\n",
        "| 102       | Пенал         | 1   | 300        |\n",
        "| 999       | Ластик        | 1   | 15         |\n",
        "\n",
        "> Здесь есть:\n",
        ">\n",
        "> * клиент **без заказов** (`Dana`)\n",
        "> * заказ без клиента (`order_id = 104`)\n",
        "> * заказ, у которого **нет товаров**\n",
        "> * товар, не связанный с заказом (`order_id = 999`)"
      ],
      "metadata": {
        "id": "GE5O3k-RmoUD"
      }
    },
    {
      "cell_type": "markdown",
      "source": [
        "### INNER JOIN (только совпадения)\n",
        "\n",
        "```sql\n",
        "SELECT clients.name, orders.order_id, order_items.product_name\n",
        "FROM clients\n",
        "JOIN orders\n",
        "   ON clients.client_id = orders.client_id\n",
        "JOIN order_items\n",
        "   ON orders.order_id = order_items.order_id;\n",
        "```\n",
        "\n",
        "**Результат:**\n",
        "\n",
        "| name  | order\\_id | product\\_name |\n",
        "| ----- | --------- | ------------- |\n",
        "| Anna  | 101       | Тетрадь       |\n",
        "| Anna  | 101       | Ручка         |\n",
        "| Clara | 102       | Пенал         |\n",
        "\n",
        "Только те клиенты, у которых **есть заказы**, и только заказы, у которых **есть товары**\n",
        "\n",
        "---\n",
        "\n",
        "### LEFT JOIN (все клиенты, даже без заказов)\n",
        "\n",
        "```sql\n",
        "SELECT clients.name, orders.order_id, order_items.product_name\n",
        "FROM clients\n",
        "LEFT JOIN orders\n",
        "    ON clients.client_id = orders.client_id\n",
        "LEFT JOIN order_items\n",
        "    ON orders.order_id = order_items.order_id;\n",
        "```\n",
        "\n",
        "**Результат:**\n",
        "\n",
        "| name  | order\\_id | product\\_name |\n",
        "| ----- | --------- | ------------- |\n",
        "| Anna  | 101       | Тетрадь       |\n",
        "| Anna  | 101       | Ручка         |\n",
        "| Boris | NULL      | NULL          |\n",
        "| Clara | 102       | Пенал         |\n",
        "| Clara | 103       | NULL          |\n",
        "| Dana  | NULL      | NULL          |\n",
        "\n",
        "Все клиенты: у Boris и Dana нет заказов, Clara сделала заказ, но без товаров (`103`)\n",
        "\n",
        "---\n",
        "\n",
        "### RIGHT JOIN (все товары, даже без клиента)\n",
        "\n",
        "```sql\n",
        "SELECT clients.name, orders.order_id, order_items.product_name\n",
        "FROM clients\n",
        "RIGHT JOIN orders\n",
        "    ON clients.client_id = orders.client_id\n",
        "RIGHT JOIN order_items\n",
        "    ON orders.order_id = order_items.order_id;\n",
        "```\n",
        "\n",
        "**Результат:**\n",
        "\n",
        "| name  | order\\_id | product\\_name |\n",
        "| ----- | --------- | ------------- |\n",
        "| Anna  | 101       | Тетрадь       |\n",
        "| Anna  | 101       | Ручка         |\n",
        "| Clara | 102       | Пенал         |\n",
        "| NULL  | 999       | Ластик        |\n",
        "\n",
        "Включён даже товар, который не относится к ни одному клиенту (`Ластик`, заказ `999`)\n",
        "\n",
        "---\n",
        "\n",
        "### FULL JOIN (всё отовсюду)\n",
        "\n",
        "```sql\n",
        "SELECT clients.name, orders.order_id, order_items.product_name\n",
        "FROM clients\n",
        "FULL JOIN orders\n",
        "    ON clients.client_id = orders.client_id\n",
        "FULL JOIN order_items\n",
        "    ON orders.order_id = order_items.order_id;\n",
        "```\n",
        "\n",
        "**Результат:**\n",
        "\n",
        "| name  | order\\_id | product\\_name |\n",
        "| ----- | --------- | ------------- |\n",
        "| Anna  | 101       | Тетрадь       |\n",
        "| Anna  | 101       | Ручка         |\n",
        "| Clara | 102       | Пенал         |\n",
        "| Clara | 103       | NULL          |\n",
        "| NULL  | 104       | NULL          |\n",
        "| NULL  | 999       | Ластик        |\n",
        "| Boris | NULL      | NULL          |\n",
        "| Dana  | NULL      | NULL          |\n",
        "\n",
        "Включены:\n",
        "\n",
        "* товары без заказов\n",
        "* клиенты без заказов\n",
        "* заказы без клиентов\n",
        "* заказы без товаров"
      ],
      "metadata": {
        "id": "0d6y9tjemtqI"
      }
    },
    {
      "cell_type": "markdown",
      "source": [
        "## Комбинированный JOIN"
      ],
      "metadata": {
        "id": "7hQyOuwxoQfs"
      }
    },
    {
      "cell_type": "markdown",
      "source": [
        "Необходимо:\n",
        "\n",
        "* взять **всех клиентов** (даже без заказов) → `LEFT JOIN`\n",
        "* при этом к заказам подсоединить **только те товары, которые реально есть** → `INNER JOIN`\n",
        "\n",
        "```sql\n",
        "SELECT clients.name, orders.order_id, order_items.product_name\n",
        "FROM clients\n",
        "LEFT JOIN orders\n",
        "    ON clients.client_id = orders.client_id\n",
        "INNER JOIN order_items\n",
        "    ON orders.order_id = order_items.order_id;\n",
        "```\n",
        "\n",
        "Что произойдёт:\n",
        "\n",
        "* `clients LEFT JOIN orders` — ты получишь всех клиентов и их заказы (если есть)\n",
        "* затем `INNER JOIN order_items` — исключатся все строки, где нет товаров\n",
        "\n",
        "---\n",
        "\n",
        "⚠️ **Порядок JOIN-ов имеет значение!**"
      ],
      "metadata": {
        "id": "AIctErv_oUxH"
      }
    },
    {
      "cell_type": "markdown",
      "source": [
        "Необходимо:\n",
        "\n",
        "* взять **все заказы** (связанные и не связанные с клиентами) → `FULL JOIN`\n",
        "* но из заказов получить только товары, если они есть → `LEFT JOIN`\n",
        "\n",
        "```sql\n",
        "SELECT orders.order_id, clients.name, order_items.product_name\n",
        "FROM clients\n",
        "FULL JOIN orders\n",
        "    ON clients.client_id = orders.client_id\n",
        "LEFT JOIN order_items\n",
        "    ON orders.order_id = order_items.order_id;\n",
        "```"
      ],
      "metadata": {
        "id": "ctYwYxG1oYaj"
      }
    },
    {
      "cell_type": "markdown",
      "source": [
        "# Агрегации, фильтрация агрегатов и вложенные запросы"
      ],
      "metadata": {
        "id": "4IgrbIbyA_bG"
      }
    },
    {
      "cell_type": "markdown",
      "source": [
        "## `GROUP BY`: группировка данных\n",
        "\n",
        "`GROUP BY` используется, чтобы **сгруппировать строки по значению поля**, и применить агрегатные функции к каждой группе:\n",
        "\n",
        "| Функция           | Что делает         |\n",
        "| ----------------- | ------------------ |\n",
        "| `COUNT()`         | Считает количество |\n",
        "| `SUM()`           | Суммирует значения |\n",
        "| `AVG()`           | Среднее значение   |\n",
        "| `MIN()` / `MAX()` | Минимум и максимум |"
      ],
      "metadata": {
        "id": "gfYirId5BWZp"
      }
    },
    {
      "cell_type": "markdown",
      "source": [
        "**Сколько заказов сделал каждый клиент:**\n",
        "\n",
        "```sql\n",
        "SELECT client_id, COUNT(order_id) AS order_count\n",
        "FROM orders\n",
        "GROUP BY client_id;\n",
        "```\n",
        "\n",
        "**Общая сумма заказов по каждому клиенту:**\n",
        "\n",
        "```sql\n",
        "SELECT orders.client_id,\n",
        "       SUM(order_items.quantity * order_items.price_uah) AS total_sum\n",
        "FROM orders\n",
        "JOIN order_items ON orders.order_id = order_items.order_id\n",
        "GROUP BY orders.client_id;\n",
        "```"
      ],
      "metadata": {
        "id": "gs1KydL5BQpF"
      }
    },
    {
      "cell_type": "markdown",
      "source": [
        "## `HAVING`: фильтрация по агрегатам\n",
        "\n",
        "* `WHERE` используется до агрегации — для фильтрации строк\n",
        "* `HAVING` — после `GROUP BY`, чтобы фильтровать группы"
      ],
      "metadata": {
        "id": "EjtamWgoBlL1"
      }
    },
    {
      "cell_type": "markdown",
      "source": [
        "**Клиенты, у которых больше 3 заказов:**\n",
        "\n",
        "```sql\n",
        "SELECT client_id, COUNT(order_id) AS order_count\n",
        "FROM orders\n",
        "GROUP BY client_id\n",
        "HAVING COUNT(order_id) > 3;\n",
        "```\n",
        "\n",
        "**Клиенты, которые потратили более 5000 гривен:**\n",
        "\n",
        "```sql\n",
        "SELECT orders.client_id,\n",
        "       SUM(order_items.quantity * order_items.price_uah) AS total_spent\n",
        "FROM orders\n",
        "JOIN order_items ON orders.order_id = order_items.order_id\n",
        "GROUP BY orders.client_id\n",
        "HAVING SUM(order_items.quantity * order_items.price_uah) > 5000;\n",
        "```"
      ],
      "metadata": {
        "id": "2yDsb9WMBpWq"
      }
    },
    {
      "cell_type": "markdown",
      "source": [
        "## Вложенные запросы (Subqueries)\n",
        "\n",
        "Вложенный запрос — это `SELECT`, который находится внутри другого запроса.\n",
        "\n",
        "Типы:\n",
        "\n",
        "* В `WHERE` (фильтрация по подмножеству)\n",
        "* В `FROM` (как временная таблица)\n",
        "* В `SELECT` (расчёт значения)"
      ],
      "metadata": {
        "id": "IlVWUD_iBdtY"
      }
    },
    {
      "cell_type": "markdown",
      "source": [
        "**Найти клиентов, которые сделали больше заказов, чем среднее по всем:**\n",
        "\n",
        "```sql\n",
        "SELECT client_id, COUNT(order_id) AS order_count\n",
        "FROM orders\n",
        "GROUP BY client_id\n",
        "HAVING COUNT(order_id) > (\n",
        "    SELECT AVG(order_count) FROM (\n",
        "        SELECT client_id, COUNT(order_id) AS order_count\n",
        "        FROM orders\n",
        "        GROUP BY client_id\n",
        "    ) AS subquery\n",
        ");\n",
        "```\n",
        "\n",
        "**Найти заказы, где сумма превышает 1000 UAH:**\n",
        "\n",
        "```sql\n",
        "SELECT orders.order_id,\n",
        "       SUM(order_items.quantity * order_items.price_uah) AS order_total\n",
        "FROM orders\n",
        "JOIN order_items ON orders.order_id = order_items.order_id\n",
        "GROUP BY orders.order_id\n",
        "HAVING SUM(order_items.quantity * order_items.price_uah) > 1000;\n",
        "```"
      ],
      "metadata": {
        "id": "rmDapxavBxzB"
      }
    },
    {
      "cell_type": "markdown",
      "source": [
        "## Зачем это нужно в аналитике?\n",
        "\n",
        "| Вопрос продукта                              | Как решаем                                  |\n",
        "| -------------------------------------------- | ------------------------------------------- |\n",
        "| Какие клиенты приносят больше всего выручки? | `GROUP BY client_id + SUM(...) + HAVING`    |\n",
        "| Сколько заказов в среднем делает клиент?     | `GROUP BY client_id + COUNT(order_id)`      |\n",
        "| Есть ли клиенты с большим средним чеком?     | `AVG(...)`, подзапрос на сумму / количество |\n",
        "| Какие товары продаются чаще других?          | `GROUP BY product + SUM(quantity)`          |\n"
      ],
      "metadata": {
        "id": "-HeII-OYB5-0"
      }
    }
  ]
}