{
  "nbformat": 4,
  "nbformat_minor": 0,
  "metadata": {
    "colab": {
      "provenance": [],
      "authorship_tag": "ABX9TyPXFB5zxE6rLlcXCCQm7mpW",
      "include_colab_link": true
    },
    "kernelspec": {
      "name": "python3",
      "display_name": "Python 3"
    },
    "language_info": {
      "name": "python"
    }
  },
  "cells": [
    {
      "cell_type": "markdown",
      "metadata": {
        "id": "view-in-github",
        "colab_type": "text"
      },
      "source": [
        "<a href=\"https://colab.research.google.com/github/cpython-projects/da_2603/blob/main/lesson_08.ipynb\" target=\"_parent\"><img src=\"https://colab.research.google.com/assets/colab-badge.svg\" alt=\"Open In Colab\"/></a>"
      ]
    },
    {
      "cell_type": "code",
      "execution_count": 1,
      "metadata": {
        "colab": {
          "base_uri": "https://localhost:8080/"
        },
        "id": "33IpCjX7WdGa",
        "outputId": "e2930cac-cacb-4018-abc2-4984149ba74c"
      },
      "outputs": [
        {
          "output_type": "stream",
          "name": "stdout",
          "text": [
            "{56, 11, 12}\n"
          ]
        }
      ],
      "source": [
        "x = {12, 56, 11, 11, 12, 11, 11}\n",
        "print(x)"
      ]
    },
    {
      "cell_type": "code",
      "source": [
        "x = {1, 3, 5, 'Hello', 56.67, (9, 8, 7)}\n",
        "print(x)\n"
      ],
      "metadata": {
        "colab": {
          "base_uri": "https://localhost:8080/"
        },
        "id": "7U2w7N0gXSYh",
        "outputId": "8c6e8ad2-5106-4f22-94e1-b7ef680ad69c"
      },
      "execution_count": 2,
      "outputs": [
        {
          "output_type": "stream",
          "name": "stdout",
          "text": [
            "{1, 3, 5, (9, 8, 7), 'Hello', 56.67}\n"
          ]
        }
      ]
    },
    {
      "cell_type": "code",
      "source": [
        "for item in x:\n",
        "  print(item)"
      ],
      "metadata": {
        "colab": {
          "base_uri": "https://localhost:8080/"
        },
        "id": "9dpwZPrBXrlv",
        "outputId": "87a85cbf-7b17-4f7e-a6b1-58d08d591a6f"
      },
      "execution_count": 3,
      "outputs": [
        {
          "output_type": "stream",
          "name": "stdout",
          "text": [
            "1\n",
            "3\n",
            "5\n",
            "(9, 8, 7)\n",
            "Hello\n",
            "56.67\n"
          ]
        }
      ]
    },
    {
      "cell_type": "code",
      "source": [
        "1 in x"
      ],
      "metadata": {
        "colab": {
          "base_uri": "https://localhost:8080/"
        },
        "id": "_sJhBFCjXyRO",
        "outputId": "8b3e6768-5c8d-45b0-c5da-be2a191fecd4"
      },
      "execution_count": 4,
      "outputs": [
        {
          "output_type": "execute_result",
          "data": {
            "text/plain": [
              "True"
            ]
          },
          "metadata": {},
          "execution_count": 4
        }
      ]
    },
    {
      "cell_type": "code",
      "source": [
        "100 in x"
      ],
      "metadata": {
        "colab": {
          "base_uri": "https://localhost:8080/"
        },
        "id": "HQdb6HGrX1LN",
        "outputId": "bc00027e-ea55-4e76-e98d-29e5593c93b8"
      },
      "execution_count": 5,
      "outputs": [
        {
          "output_type": "execute_result",
          "data": {
            "text/plain": [
              "False"
            ]
          },
          "metadata": {},
          "execution_count": 5
        }
      ]
    },
    {
      "cell_type": "code",
      "source": [
        "20 not in x"
      ],
      "metadata": {
        "colab": {
          "base_uri": "https://localhost:8080/"
        },
        "id": "WvicW8wzX3Qi",
        "outputId": "44d9d1ff-8c76-47fe-ed5c-ec3fa4b17acb"
      },
      "execution_count": 6,
      "outputs": [
        {
          "output_type": "execute_result",
          "data": {
            "text/plain": [
              "True"
            ]
          },
          "metadata": {},
          "execution_count": 6
        }
      ]
    },
    {
      "cell_type": "code",
      "source": [
        "1 not in x"
      ],
      "metadata": {
        "colab": {
          "base_uri": "https://localhost:8080/"
        },
        "id": "m64M3_D7X5yc",
        "outputId": "48991421-7441-47e8-e177-ff4b914f07ae"
      },
      "execution_count": 7,
      "outputs": [
        {
          "output_type": "execute_result",
          "data": {
            "text/plain": [
              "False"
            ]
          },
          "metadata": {},
          "execution_count": 7
        }
      ]
    },
    {
      "cell_type": "code",
      "source": [
        "x = 'Hello world!'\n",
        "y = set(x)\n",
        "\n",
        "print(y)"
      ],
      "metadata": {
        "colab": {
          "base_uri": "https://localhost:8080/"
        },
        "id": "3R1AkG72YdhR",
        "outputId": "28ebdda1-a83b-4b59-9d51-faaa59c9a425"
      },
      "execution_count": 8,
      "outputs": [
        {
          "output_type": "stream",
          "name": "stdout",
          "text": [
            "{'o', 'r', 'd', 'H', ' ', 'w', '!', 'l', 'e'}\n"
          ]
        }
      ]
    },
    {
      "cell_type": "code",
      "source": [
        "import random\n",
        "\n",
        "\n",
        "names = [\n",
        "    \"Alice\", \"Bob\", \"Charlie\", \"Diana\", \"Edward\", \"Fiona\", \"George\", \"Hannah\", \"Ian\", \"Julia\",\n",
        "    \"Kevin\", \"Laura\", \"Michael\", \"Nina\", \"Oscar\", \"Paula\", \"Quentin\", \"Rachel\", \"Steve\", \"Tina\",\n",
        "    \"Ulysses\", \"Vera\", \"William\", \"Xenia\", \"Yvonne\", \"Zach\", \"Amy\", \"Brian\", \"Catherine\", \"Daniel\"\n",
        "]\n",
        "\n",
        "\n",
        "graph = {}\n",
        "\n",
        "for name in names:\n",
        "    friends = set(random.sample([n for n in names if n != name], random.randint(3, 7)))\n",
        "    graph[name] = friends\n",
        "\n",
        "for k, v in list(graph.items())[:5]:\n",
        "    print(f\"{k}: {v}\")\n"
      ],
      "metadata": {
        "colab": {
          "base_uri": "https://localhost:8080/"
        },
        "id": "X3jC0w-SaLRi",
        "outputId": "721085e4-2758-47bd-9068-eec43516ee39"
      },
      "execution_count": 10,
      "outputs": [
        {
          "output_type": "stream",
          "name": "stdout",
          "text": [
            "Alice: {'Yvonne', 'George', 'Diana', 'Brian'}\n",
            "Bob: {'Tina', 'Fiona', 'Paula', 'Alice'}\n",
            "Charlie: {'George', 'Yvonne', 'Nina', 'Kevin', 'Ian', 'Brian', 'Daniel'}\n",
            "Diana: {'Julia', 'William', 'Fiona', 'Nina', 'Oscar', 'Tina'}\n",
            "Edward: {'Laura', 'Ian', 'Hannah', 'Oscar'}\n"
          ]
        }
      ]
    },
    {
      "cell_type": "code",
      "source": [
        "friends = {\n",
        "    'Alice': {'Yvonne', 'George', 'Diana', 'Brian'},\n",
        "    'Bob': {'Tina', 'Fiona', 'Paula', 'Alice'},\n",
        "    'Charlie': {'George', 'Yvonne', 'Nina', 'Kevin', 'Ian', 'Brian', 'Daniel'},\n",
        "    'Diana': {'Julia', 'William', 'Fiona', 'Nina', 'Oscar', 'Tina'},\n",
        "    'Edward': {'Laura', 'Ian', 'Hannah', 'Oscar'},\n",
        "}"
      ],
      "metadata": {
        "id": "YPSeHBWaajAx"
      },
      "execution_count": 11,
      "outputs": []
    },
    {
      "cell_type": "code",
      "source": [
        "main_users = set(friends.keys())\n",
        "\n",
        "res = set.union(*friends.values())\n",
        "res |= main_users\n",
        "print(len(res))"
      ],
      "metadata": {
        "colab": {
          "base_uri": "https://localhost:8080/"
        },
        "id": "5wv1gG5_j0dP",
        "outputId": "6c2aebc5-4741-4354-e5ec-08d733f8bd66"
      },
      "execution_count": 15,
      "outputs": [
        {
          "output_type": "stream",
          "name": "stdout",
          "text": [
            "20\n"
          ]
        }
      ]
    },
    {
      "cell_type": "code",
      "source": [
        "oscar = {'Oscar'}\n",
        "\n",
        "for key, value in friends.items():\n",
        "  if 'Oscar' in value:\n",
        "    oscar.add(key)\n",
        "\n",
        "  if 'Diana' in value:\n",
        "    friends['Diana'].add(key)\n",
        "\n",
        "print(oscar)\n",
        "print(friends['Diana'] - oscar)"
      ],
      "metadata": {
        "colab": {
          "base_uri": "https://localhost:8080/"
        },
        "id": "E0myI6URegw6",
        "outputId": "ca8b168d-02f4-4eef-d9da-847c506a9e30"
      },
      "execution_count": 18,
      "outputs": [
        {
          "output_type": "stream",
          "name": "stdout",
          "text": [
            "{'Edward', 'Diana', 'Oscar'}\n",
            "{'Julia', 'William', 'Fiona', 'Nina', 'Tina', 'Alice'}\n"
          ]
        }
      ]
    }
  ]
}