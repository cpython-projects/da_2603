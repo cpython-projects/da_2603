{
  "nbformat": 4,
  "nbformat_minor": 0,
  "metadata": {
    "colab": {
      "provenance": [],
      "toc_visible": true,
      "authorship_tag": "ABX9TyOS05VHs7mZ7yWBqC0fDLvZ",
      "include_colab_link": true
    },
    "kernelspec": {
      "name": "python3",
      "display_name": "Python 3"
    },
    "language_info": {
      "name": "python"
    }
  },
  "cells": [
    {
      "cell_type": "markdown",
      "metadata": {
        "id": "view-in-github",
        "colab_type": "text"
      },
      "source": [
        "<a href=\"https://colab.research.google.com/github/cpython-projects/da_2603/blob/main/lesson_22.ipynb\" target=\"_parent\"><img src=\"https://colab.research.google.com/assets/colab-badge.svg\" alt=\"Open In Colab\"/></a>"
      ]
    },
    {
      "cell_type": "markdown",
      "source": [
        "## Легенда\n",
        "\n",
        "Вы — аналитик данных в розничной компании, развивающей мобильное приложение. Команда продукта хочет понять:\n",
        "\n",
        "* как пользователи взаимодействуют с приложением: сколько установок, сколько просматривают товары, сколько покупают;\n",
        "* где теряются пользователи (на каком этапе воронки);\n",
        "* какова эффективность разных каналов привлечения."
      ],
      "metadata": {
        "id": "niOpDaWxupl5"
      }
    },
    {
      "cell_type": "markdown",
      "source": [
        "### Таблицы БД\n",
        "\n",
        "**1. `app_sessions`** — установки приложения\n",
        "\n",
        "| Поле                  | Тип SQL        | Описание                                        |\n",
        "| --------------------- | -------------- | ----------------------------------------------- |\n",
        "| `session_id`          | `VARCHAR(20)`  | Уникальный идентификатор установки              |\n",
        "| `device_code`         | `VARCHAR(20)`  | Идентификатор устройства                        |\n",
        "| `first_seen`          | `DATE`         | Дата установки                                  |\n",
        "| `os_type`             | `VARCHAR(10)`  | Платформа (`iOS`, `Android`)                    |\n",
        "| `acquisition_channel` | `VARCHAR(50)`  | Канал установки (`Organic`, `Facebook`, и т.д.) |\n",
        "| `cpi_uah`             | `NUMERIC(6,2)` | Стоимость установки (Cost Per Install) в грн    |\n",
        "\n",
        "\n",
        "Вот обновлённый блок лекции с пояснением про стоимость установки (CPI):\n",
        "\n",
        "---\n",
        "\n",
        "### 1. `app_sessions` — установки приложения\n",
        "\n",
        "| Поле                  | Тип SQL        | Описание                                            |\n",
        "| --------------------- | -------------- | --------------------------------------------------- |\n",
        "| `session_id`          | `VARCHAR(20)`  | Уникальный идентификатор установки                  |\n",
        "| `device_code`         | `VARCHAR(20)`  | Идентификатор устройства                            |\n",
        "| `first_seen`          | `DATE`         | Дата установки                                      |\n",
        "| `os_type`             | `VARCHAR(10)`  | Платформа (`iOS`, `Android`)                        |\n",
        "| `acquisition_channel` | `VARCHAR(50)`  | Канал установки (`Organic`, `Facebook`, и т.д.)     |\n",
        "| `cpi_uah`             | `NUMERIC(6,2)` | Стоимость установки (Cost Per Install) в грн |\n",
        "\n",
        "> **`cpi_uah` (Cost Per Install)** - это сумма, которую компания платит рекламной платформе (например, Facebook, Google Ads) за то, что пользователь установил приложение по рекламе.\n",
        "> * Для `Organic` установок значение обычно `0`\n",
        "> * Используется для оценки эффективности каналов и расчёта окупаемости (ROI)\n",
        "\n",
        "---\n",
        "\n",
        "**2. `product_views_log`** — просмотры товаров\n",
        "\n",
        "| Поле          | Тип SQL       | Описание                         |\n",
        "| ------------- | ------------- | -------------------------------- |\n",
        "| `device_code` | `VARCHAR(20)` | Устройство                       |\n",
        "| `view_date`   | `DATE`        | Дата просмотра                   |\n",
        "| `platform`    | `VARCHAR(10)` | Платформа                        |\n",
        "| `view_count`  | `INTEGER`     | Количество просмотренных товаров |\n",
        "\n",
        "---\n",
        "\n",
        "**3. `devices_users_map`** — соответствие `device_code` и `user_uuid`\n",
        "\n",
        "| Поле          | Тип SQL       | Описание                                |\n",
        "| ------------- | ------------- | --------------------------------------- |\n",
        "| `device_code` | `VARCHAR(20)` | Устройство                              |\n",
        "| `user_uuid`   | `VARCHAR(20)` | Пользователь (присваивается при логине) |\n",
        "\n",
        "> 🔎 Пользователь может не авторизоваться — тогда `user_uuid` будет отсутствовать.\n",
        "\n",
        "---\n",
        "\n",
        "**4. `orders_log`** — покупки\n",
        "\n",
        "| Поле         | Тип SQL         | Описание                                   |\n",
        "| ------------ | --------------- | ------------------------------------------ |\n",
        "| `user_uuid`  | `VARCHAR(20)`   | Уникальный ID авторизованного пользователя |\n",
        "| `order_time` | `DATE`          | Дата заказа                                |\n",
        "| `total_uah`  | `NUMERIC(10,2)` | Сумма покупки в гривнах                    |\n",
        "\n",
        "---\n",
        "\n",
        "| Связь                                                      | Описание                          |\n",
        "| ---------------------------------------------------------- | --------------------------------- |\n",
        "| `app_sessions.device_code = devices_users_map.device_code` | Склейка установки с пользователем |\n",
        "| `devices_users_map.user_uuid = orders_log.user_uuid`       | Кто сделал заказ                  |\n",
        "| `product_views_log.device_code = app_sessions.device_code` | Кто смотрел товары                |\n",
        "\n",
        "---"
      ],
      "metadata": {
        "id": "tNlVQUn4utFd"
      }
    },
    {
      "cell_type": "markdown",
      "source": [
        "### Путь пользователя\n",
        "\n",
        "```text\n",
        "УСТАНОВИЛ → СМОТРЕЛ → АВТОРИЗОВАЛСЯ → КУПИЛ\n",
        "(app_sessions) → (product_views_log) → (devices_users_map) → (orders_log)\n",
        "```"
      ],
      "metadata": {
        "id": "uJgGHwPNvLgt"
      }
    },
    {
      "cell_type": "markdown",
      "source": [
        "## SQL - запросы на создание таблиц"
      ],
      "metadata": {
        "id": "e89ZR5BsxXqw"
      }
    },
    {
      "cell_type": "markdown",
      "source": [
        "```sql\n",
        "DROP TABLE IF EXISTS orders_log;\n",
        "DROP TABLE IF EXISTS devices_users_map;\n",
        "DROP TABLE IF EXISTS product_views_log;\n",
        "DROP TABLE IF EXISTS app_sessions;\n",
        "\n",
        "CREATE TABLE app_sessions (\n",
        "    session_id VARCHAR(10) PRIMARY KEY,\n",
        "    device_code VARCHAR(20) UNIQUE,\n",
        "    first_seen DATE,\n",
        "    os_type VARCHAR(10),\n",
        "    acquisition_channel VARCHAR(50),\n",
        "    cpi_uah NUMERIC(6, 2)\n",
        ");\n",
        "\n",
        "CREATE TABLE product_views_log (\n",
        "    device_code VARCHAR(20),\n",
        "    view_date DATE,\n",
        "    platform VARCHAR(10),\n",
        "    view_count INTEGER,\n",
        "    FOREIGN KEY (device_code) REFERENCES app_sessions(device_code)\n",
        ");\n",
        "\n",
        "CREATE TABLE devices_users_map (\n",
        "    device_code VARCHAR(20),\n",
        "    user_uuid VARCHAR(20) UNIQUE,\n",
        "    FOREIGN KEY (device_code) REFERENCES app_sessions(device_code)\n",
        ");\n",
        "\n",
        "CREATE TABLE orders_log (\n",
        "    user_uuid VARCHAR(20),\n",
        "    order_time DATE,\n",
        "    total_uah NUMERIC(10, 2),\n",
        "    FOREIGN KEY (user_uuid) REFERENCES devices_users_map(user_uuid)\n",
        ");\n",
        "```"
      ],
      "metadata": {
        "id": "gmPrzT_5y_KF"
      }
    },
    {
      "cell_type": "markdown",
      "source": [
        "## Подключение к БД"
      ],
      "metadata": {
        "id": "f0bm-pBPzJLQ"
      }
    },
    {
      "cell_type": "code",
      "source": [],
      "metadata": {
        "id": "WEaNvDNy0wRW"
      },
      "execution_count": 2,
      "outputs": []
    },
    {
      "cell_type": "markdown",
      "source": [
        "## SELECT, FROM, WHERE — основа SQL-запроса\n",
        "\n",
        "Каждый SQL-запрос начинается с **четкой структуры**:\n",
        "\n",
        "```sql\n",
        "SELECT [что выбрать]\n",
        "FROM [откуда взять]\n",
        "WHERE [какие строки отфильтровать]\n",
        "```\n",
        "\n",
        "### 🔹 SELECT\n",
        "\n",
        "* Указывает, **какие столбцы** мы хотим получить\n",
        "* Можно указать `*`, чтобы взять все столбцы (на практике — только для отладки)\n",
        "* Поддерживает **выражения** (арифметика, функции, переименование через `AS`)\n",
        "\n",
        "> ❗ **Порядок строк не гарантируется!**\n",
        "> Если вам важен порядок — используйте `ORDER BY`\n",
        "\n",
        "### 🔹 FROM\n",
        "\n",
        "* Обязательно указывает, **из какой таблицы** брать данные\n",
        "* Может быть не только одна таблица (будет позже, с `JOIN`)\n",
        "\n",
        "### 🔹 WHERE\n",
        "\n",
        "* Фильтрация строк до всех остальных операций (до `GROUP BY`, `HAVING`)\n",
        "* Работает только со строками, которые **есть** в таблице\n",
        "\n",
        "> ❗ **WHERE не может использовать агрегатные функции** (например, `AVG()`)\n",
        "\n",
        "---"
      ],
      "metadata": {
        "id": "dxDu7nlW0uN-"
      }
    },
    {
      "cell_type": "code",
      "source": [],
      "metadata": {
        "id": "yU-NFmYEb0Xs"
      },
      "execution_count": null,
      "outputs": []
    },
    {
      "cell_type": "markdown",
      "source": [
        "⚠️ **Пример небезопасного кода (SQL-инъекция):**\n",
        "\n",
        "Представим, что ты вставляешь значение напрямую в строку запроса (так делать нельзя!):\n",
        "\n",
        "```python\n",
        "user_input = \"2024-03-01' OR '1'='1\"\n",
        "query = f\"\"\"\n",
        "SELECT * FROM app_sessions\n",
        "WHERE first_seen >= '{user_input}'\n",
        "\"\"\"\n",
        "\n",
        "print(query)  # Вывод запроса\n",
        "\n",
        "df = pd.read_sql(query, con=engine)  # ⚠️ Опасно!\n",
        "```\n",
        "\n",
        "👉 Что получится:\n",
        "\n",
        "```sql\n",
        "SELECT * FROM app_sessions\n",
        "WHERE first_seen >= '2024-03-01' OR '1'='1'\n",
        "```\n",
        "\n",
        "🔴 **Что делает эта \"инъекция\"?**\n",
        "Условие `OR '1'='1'` всегда истинно → фильтр `first_seen >= ...` перестаёт работать.\n",
        "**Результат: возвращаются все строки** — потенциальная утечка данных."
      ],
      "metadata": {
        "id": "-QbLz4v_9CMB"
      }
    },
    {
      "cell_type": "markdown",
      "source": [
        "## Логические операторы AND, OR, IN, BETWEEN, LIKE"
      ],
      "metadata": {
        "id": "Auwv8WqT5sT4"
      }
    },
    {
      "cell_type": "markdown",
      "source": [
        "#### `AND`, `OR`\n",
        "\n",
        "* Позволяют соединять условия\n",
        "* `AND` — обе части должны быть True\n",
        "* `OR` — хотя бы одна часть True\n",
        "\n",
        "> 📌 **Используйте скобки!** Логика без скобок может вас подвести"
      ],
      "metadata": {
        "id": "2zwA-udBFE2T"
      }
    },
    {
      "cell_type": "code",
      "source": [],
      "metadata": {
        "id": "8nJPKHSTb4Dx"
      },
      "execution_count": null,
      "outputs": []
    },
    {
      "cell_type": "markdown",
      "source": [
        "#### `IN (...)`\n",
        "\n",
        "* Упрощает множественные сравнения\n",
        "* Альтернатива множеству `OR`"
      ],
      "metadata": {
        "id": "y7W02PX-FNQw"
      }
    },
    {
      "cell_type": "code",
      "source": [],
      "metadata": {
        "id": "K6Au_rqTb5y5"
      },
      "execution_count": null,
      "outputs": []
    },
    {
      "cell_type": "markdown",
      "source": [
        "#### `BETWEEN a AND b`\n",
        "\n",
        "* Диапазон значений (включительно)\n",
        "* Удобно для фильтрации по датам, числам"
      ],
      "metadata": {
        "id": "kKWp67jbFSjo"
      }
    },
    {
      "cell_type": "code",
      "source": [],
      "metadata": {
        "id": "rQt2XoOQb8XD"
      },
      "execution_count": null,
      "outputs": []
    },
    {
      "cell_type": "markdown",
      "source": [
        "#### `LIKE`\n",
        "\n",
        "* Шаблон поиска (например, `\"Goo%\"`)\n",
        "* `%` — любое количество любых символов\n",
        "* `_` — ровно один любой символ"
      ],
      "metadata": {
        "id": "AQUBLJHqFYs5"
      }
    },
    {
      "cell_type": "markdown",
      "source": [
        "##### `LIKE` — **чувствителен к регистру** в **PostgreSQL**. Относительно других СУБД - нужно проверять.\n",
        "\n",
        "```sql\n",
        "SELECT * FROM users WHERE name LIKE 'Alex';\n",
        "```\n",
        "\n",
        "**Найдет только 'Alex'**, но **не** 'alex', 'ALEX' и т.п.\n",
        "\n",
        "---\n",
        "\n",
        "Если хочешь **регистронезависимый поиск**, используй:\n",
        "\n",
        "1. `ILIKE` (PostgreSQL only)\n",
        "\n",
        "```sql\n",
        "SELECT * FROM users WHERE name ILIKE 'alex%';\n",
        "```\n",
        "\n",
        "Найдет `Alex`, `alex`, `ALEX`, `AlEx` и т.д.\n",
        "\n",
        "2. `LOWER()` или `UPPER()`:\n",
        "\n",
        "```sql\n",
        "SELECT * FROM users WHERE LOWER(name) LIKE LOWER('alex%');\n",
        "```"
      ],
      "metadata": {
        "id": "hpe5zTPBZq3O"
      }
    },
    {
      "cell_type": "markdown",
      "source": [
        "##### **%** = любой набор символов (в том числе пустой)\n",
        "\n",
        "| Условие        | Найдёт строки, в которых...                                              |\n",
        "| -------------- | ------------------------------------------------------------------------ |\n",
        "| `LIKE 'Alex%'` | ...начинается с `'Alex'` (например: `Alex`, `Alexander`, `Alex123`)      |\n",
        "| `LIKE '%son'`  | ...заканчивается на `'son'` (например: `Jackson`, `Emerson`)             |\n",
        "| `LIKE '%lex%'` | ...содержится `'lex'` в любом месте (например: `Alex`, `Flex`, `Reflex`) |\n",
        "| `LIKE '%'`     | ...все строки (потому что «любое количество любых символов»)             |\n",
        "\n",
        "```sql\n",
        "SELECT * FROM products\n",
        "WHERE name LIKE '%phone%';\n",
        "```\n",
        "\n",
        "Найдёт: `smartphone`, `Phone Case`, `Headphones`, `my_phone_123`.\n",
        "\n",
        "---\n",
        "\n",
        "### Замена на `ILIKE` (для нечувствительного к регистру поиска):\n",
        "\n",
        "```sql\n",
        "SELECT * FROM products\n",
        "WHERE name ILIKE '%phone%';\n",
        "```"
      ],
      "metadata": {
        "id": "As1HOWDHFjg4"
      }
    },
    {
      "cell_type": "markdown",
      "source": [
        "##### Символ `_` (один любой символ):\n",
        "\n",
        "| Условие       | Найдёт                             |\n",
        "| ------------- | ---------------------------------- |\n",
        "| `LIKE '_ex'`  | `Lex`, `Rex`, но **не** `Alex`     |\n",
        "| `LIKE 'A__x'` | `Alex`, `Abbx`, но не `Ax`, `Alxx` |\n",
        "\n",
        "---"
      ],
      "metadata": {
        "id": "QruqL1AIFnqo"
      }
    },
    {
      "cell_type": "code",
      "source": [],
      "metadata": {
        "id": "QzY1GJmhcAyj"
      },
      "execution_count": null,
      "outputs": []
    },
    {
      "cell_type": "markdown",
      "source": [
        "## ORDER BY, LIMIT"
      ],
      "metadata": {
        "id": "KkhsUqLsAy3R"
      }
    },
    {
      "cell_type": "markdown",
      "source": [
        "\n",
        "### `ORDER BY`\n",
        "\n",
        "* Сортирует результат по указанному столбцу\n",
        "* По умолчанию: **по возрастанию (`ASC`)**\n",
        "* Указать `DESC` — по убыванию\n",
        "\n",
        "> ❗ Без `ORDER BY` никакой порядок НЕ ГАРАНТИРУЕТСЯ, даже если таблица физически так хранится"
      ],
      "metadata": {
        "id": "b9cwNbGYHLZo"
      }
    },
    {
      "cell_type": "code",
      "source": [],
      "metadata": {
        "id": "7b7iKDS7cDFc"
      },
      "execution_count": null,
      "outputs": []
    },
    {
      "cell_type": "markdown",
      "source": [
        "### `LIMIT`\n",
        "\n",
        "* Ограничивает количество строк\n",
        "* Часто используется с `ORDER BY`, чтобы получить \"топ-N\""
      ],
      "metadata": {
        "id": "yRjhracdIBuM"
      }
    },
    {
      "cell_type": "code",
      "source": [],
      "metadata": {
        "id": "xM376HnecE92"
      },
      "execution_count": null,
      "outputs": []
    },
    {
      "cell_type": "markdown",
      "source": [
        "## IS NULL — работа с пропущенными значениями\n",
        "\n",
        "* В SQL значение `NULL` — это **\"ничего\"**, \"неизвестно\"\n",
        "* Сравнивать `= NULL` нельзя! Используется `IS NULL` и `IS NOT NULL`\n",
        "\n",
        "> ❗ `NULL` не участвует в арифметике и логике — результат всегда `NULL`\n",
        "\n",
        "| Операция        | `NULL` даёт...     | Вместо этого             |\n",
        "| --------------- | ------------------ | ------------------------ |\n",
        "| `= NULL`        | `NULL` (не `TRUE`) | `IS NULL`                |\n",
        "| `NULL + 1`      | `NULL`             | `COALESCE(col, 0) + 1`   |\n",
        "| `NULL AND TRUE` | `NULL`             | Будь осторожен в `WHERE` |\n",
        "\n",
        "---"
      ],
      "metadata": {
        "id": "DSOMAisvHfhi"
      }
    },
    {
      "cell_type": "code",
      "source": [],
      "metadata": {
        "id": "cdfXvR79cKUf"
      },
      "execution_count": null,
      "outputs": []
    },
    {
      "cell_type": "markdown",
      "source": [
        "## DISTINCT — убрать дубликаты\n",
        "\n",
        "* Убирает повторяющиеся строки по указанным столбцам\n",
        "* Можно использовать в подзапросах или для подсчета уникальных значений\n",
        "\n",
        "> ❗ `DISTINCT` всегда влияет на **всю комбинацию столбцов**, а не по отдельности\n",
        "\n",
        "Оператор `DISTINCT` в SQL **удаляет дубликаты** — но он работает на **всю строку результата**, а не на каждый столбец по отдельности.\n",
        "\n",
        "**Пример:**\n",
        "\n",
        "| order\\_id | user\\_id | order\\_time |\n",
        "| --------- | -------- | ----------- |\n",
        "| 1         | 101      | 2024-06-01  |\n",
        "| 2         | 102      | 2024-06-01  |\n",
        "| 3         | 101      | 2024-06-02  |\n",
        "| 4         | 101      | 2024-06-01  |\n",
        "\n",
        "---\n",
        "\n",
        "```sql\n",
        "SELECT DISTINCT user_id, order_time FROM orders_log;\n",
        "```\n",
        "\n",
        "Это вернёт **уникальные сочетания** `(user_id, order_time)`.\n",
        "\n",
        "---\n",
        "\n",
        "| user\\_id | order\\_time |\n",
        "| -------- | ----------- |\n",
        "| 101      | 2024-06-01  |\n",
        "| 102      | 2024-06-01  |\n",
        "| 101      | 2024-06-02  |\n",
        "\n"
      ],
      "metadata": {
        "id": "VLBleeiKHPhb"
      }
    },
    {
      "cell_type": "code",
      "source": [],
      "metadata": {
        "id": "t1ULFEPLcN2e"
      },
      "execution_count": null,
      "outputs": []
    }
  ]
}