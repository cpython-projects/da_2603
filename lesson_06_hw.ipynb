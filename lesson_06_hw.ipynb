{
  "nbformat": 4,
  "nbformat_minor": 0,
  "metadata": {
    "colab": {
      "provenance": [],
      "authorship_tag": "ABX9TyOILODdSpwtywsgN5WbDNdP",
      "include_colab_link": true
    },
    "kernelspec": {
      "name": "python3",
      "display_name": "Python 3"
    },
    "language_info": {
      "name": "python"
    }
  },
  "cells": [
    {
      "cell_type": "markdown",
      "metadata": {
        "id": "view-in-github",
        "colab_type": "text"
      },
      "source": [
        "<a href=\"https://colab.research.google.com/github/cpython-projects/da_2603/blob/main/lesson_06_hw.ipynb\" target=\"_parent\"><img src=\"https://colab.research.google.com/assets/colab-badge.svg\" alt=\"Open In Colab\"/></a>"
      ]
    },
    {
      "cell_type": "markdown",
      "source": [
        "**Task 1.** Дана строка с данными. Напишите скрипт, который посчитает, сколько букв \"b\" в ней содержится."
      ],
      "metadata": {
        "id": "O6teC2P07psv"
      }
    },
    {
      "cell_type": "code",
      "execution_count": 1,
      "metadata": {
        "id": "Ij9GCxM47byk",
        "outputId": "37631f87-c98e-4b24-8870-ae3873b20cfe",
        "colab": {
          "base_uri": "https://localhost:8080/"
        }
      },
      "outputs": [
        {
          "output_type": "stream",
          "name": "stdout",
          "text": [
            "text>>bbbbbdddlkjkl kljljl lkjl bb\n",
            "7\n"
          ]
        }
      ],
      "source": [
        "text = input('text>>')\n",
        "print(text.count('b'))"
      ]
    },
    {
      "cell_type": "markdown",
      "source": [
        "**Task 2.** Пользователь вводит с клавиатуры имя человека. Напишите скрипт для проверки введенного имени на валидность (имеется в виду, что, например, имя не может содержать цифр, оно должно начинаться со строчной буквы, за которой должны следовать прописные)."
      ],
      "metadata": {
        "id": "xB452BRU9VCN"
      }
    },
    {
      "cell_type": "code",
      "source": [
        "name = input('name>>')\n",
        "res = 'Valid' if name.istitle() and name.replace(' ', '').isalpha() else 'Not valid'\n",
        "print(res)"
      ],
      "metadata": {
        "id": "Dlutcghf9XUV",
        "outputId": "ae960f4c-a1f1-4200-8c11-560331e53cd7",
        "colab": {
          "base_uri": "https://localhost:8080/"
        }
      },
      "execution_count": 6,
      "outputs": [
        {
          "output_type": "stream",
          "name": "stdout",
          "text": [
            "name>>Oleh Tymchuk\n",
            "Valid\n"
          ]
        }
      ]
    },
    {
      "cell_type": "code",
      "source": [
        "'qwerty123'.isalpha()"
      ],
      "metadata": {
        "id": "gM7MGB8iKTHi",
        "outputId": "c7b38934-5abe-4620-bac3-079e186a3160",
        "colab": {
          "base_uri": "https://localhost:8080/"
        }
      },
      "execution_count": 3,
      "outputs": [
        {
          "output_type": "execute_result",
          "data": {
            "text/plain": [
              "False"
            ]
          },
          "metadata": {},
          "execution_count": 3
        }
      ]
    },
    {
      "cell_type": "code",
      "source": [
        "'Oleh Tymchuk'.isalpha()"
      ],
      "metadata": {
        "id": "pqPbInWuKZNc",
        "outputId": "3731ee34-08ff-4304-9551-a49fdf665c74",
        "colab": {
          "base_uri": "https://localhost:8080/"
        }
      },
      "execution_count": 4,
      "outputs": [
        {
          "output_type": "execute_result",
          "data": {
            "text/plain": [
              "False"
            ]
          },
          "metadata": {},
          "execution_count": 4
        }
      ]
    },
    {
      "cell_type": "markdown",
      "source": [
        "**Task 3.** Выведите на экран 10 строк с числом Pi. В первой строке должно быть 2 знака после запятой, во второй - 3 и так далее."
      ],
      "metadata": {
        "id": "QQLC70s59XpR"
      }
    },
    {
      "cell_type": "code",
      "source": [
        "from math import pi\n",
        "\n",
        "for i in range(2, 13):\n",
        "    print(f'{pi:.{i}f}')"
      ],
      "metadata": {
        "id": "QBy1C2UJ9aGc",
        "outputId": "4e78d628-c021-48ad-e598-7516f2b3e6e6",
        "colab": {
          "base_uri": "https://localhost:8080/"
        }
      },
      "execution_count": 7,
      "outputs": [
        {
          "output_type": "stream",
          "name": "stdout",
          "text": [
            "3.14\n",
            "3.142\n",
            "3.1416\n",
            "3.14159\n",
            "3.141593\n",
            "3.1415927\n",
            "3.14159265\n",
            "3.141592654\n",
            "3.1415926536\n",
            "3.14159265359\n",
            "3.141592653590\n"
          ]
        }
      ]
    },
    {
      "cell_type": "markdown",
      "source": [
        "**Task 4.** Пользователь вводит с клавиатуры текст. Найдите в нем самое длинное слово и выведите его на экран."
      ],
      "metadata": {
        "id": "FU0ULuP69acS"
      }
    },
    {
      "cell_type": "code",
      "source": [
        "import string\n",
        "\n",
        "text = input('text>>')\n",
        "for item in string.punctuation:\n",
        "    text = text.replace(item, ' ')\n",
        "words = text.split()\n",
        "print(max(words, key=len))"
      ],
      "metadata": {
        "id": "G3iY_A7S9dFQ",
        "outputId": "5595ebec-c54e-403b-c501-5c8af013ccb8",
        "colab": {
          "base_uri": "https://localhost:8080/"
        }
      },
      "execution_count": 8,
      "outputs": [
        {
          "output_type": "stream",
          "name": "stdout",
          "text": [
            "text>>aaa xx ff g\n",
            "aaa\n"
          ]
        }
      ]
    },
    {
      "cell_type": "markdown",
      "source": [
        "**Task 5.** Дана строка с данными, разделенными разными символами (запятыми, точками, точками с запятой). Разбейте строку на части."
      ],
      "metadata": {
        "id": "7LagAntY9dYV"
      }
    },
    {
      "cell_type": "code",
      "source": [
        "import string\n",
        "\n",
        "text = input('text>>')\n",
        "for item in string.punctuation:\n",
        "    text = text.replace(item, ' ')\n",
        "words = text.split()\n",
        "print(*words, sep='\\n')"
      ],
      "metadata": {
        "id": "HfwZG5uf9fv-",
        "outputId": "2be53cd0-7840-4d0a-c948-e91e23b59cd8",
        "colab": {
          "base_uri": "https://localhost:8080/"
        }
      },
      "execution_count": 9,
      "outputs": [
        {
          "output_type": "stream",
          "name": "stdout",
          "text": [
            "text>>efrf;err,erer   erer!\n",
            "efrf\n",
            "err\n",
            "erer\n",
            "erer\n"
          ]
        }
      ]
    },
    {
      "cell_type": "markdown",
      "source": [
        "**Task 6.** Дана строка с текстом, содержащая хэштеги (например, \"#data #Python\"). Извлеките их в список."
      ],
      "metadata": {
        "id": "IEv3-7fq9gu-"
      }
    },
    {
      "cell_type": "code",
      "source": [
        "text = '#data #Python #hello world #python is the best'\n",
        "\n",
        "text = text.replace(' ', '_')\n",
        "text = text.split('#')\n",
        "text.remove('')\n",
        "for i, item in enumerate(text):\n",
        "    text[i] = '#' + item.strip('_')\n",
        "\n",
        "print(*text, sep='\\n')"
      ],
      "metadata": {
        "id": "WkV59xLi9lXc",
        "outputId": "5df21d6f-7c95-47eb-ba2d-e48e95a503eb",
        "colab": {
          "base_uri": "https://localhost:8080/"
        }
      },
      "execution_count": 13,
      "outputs": [
        {
          "output_type": "stream",
          "name": "stdout",
          "text": [
            "#data\n",
            "#Python\n",
            "#hello_world\n",
            "#python_is_the_best\n"
          ]
        }
      ]
    },
    {
      "cell_type": "code",
      "source": [
        "text = '#data #Python #hello world #python is the best'\n",
        "\n",
        "text = [item for item in text.split() if item.startswith('#')]\n",
        "print(*text, sep='\\n')"
      ],
      "metadata": {
        "id": "rs5ef2siN2Ls",
        "outputId": "e945edf1-1d6a-440d-ca25-8d42a6ea34f2",
        "colab": {
          "base_uri": "https://localhost:8080/"
        }
      },
      "execution_count": 15,
      "outputs": [
        {
          "output_type": "stream",
          "name": "stdout",
          "text": [
            "#data\n",
            "#Python\n",
            "#hello\n",
            "#python\n"
          ]
        }
      ]
    },
    {
      "cell_type": "markdown",
      "source": [
        "**Task 7.** Дана строка с текстом. Оставьте только слова длиной больше 4 символов."
      ],
      "metadata": {
        "id": "NinuK-st9i7-"
      }
    },
    {
      "cell_type": "code",
      "source": [
        "import string\n",
        "\n",
        "text = 'Hello world! Python is programming language.Hey.'\n",
        "for item in string.punctuation:\n",
        "    text = text.replace(item, ' ')\n",
        "words = text.split()\n",
        "\n",
        "words = [item for item in words if len(item) > 4]\n",
        "print(*words, sep='\\n')"
      ],
      "metadata": {
        "id": "YT7tVOy49jVk",
        "outputId": "3219fbd7-7a72-4d7d-cace-278918c57574",
        "colab": {
          "base_uri": "https://localhost:8080/"
        }
      },
      "execution_count": 16,
      "outputs": [
        {
          "output_type": "stream",
          "name": "stdout",
          "text": [
            "Hello\n",
            "world\n",
            "Python\n",
            "programming\n",
            "language\n"
          ]
        }
      ]
    },
    {
      "cell_type": "markdown",
      "source": [
        "**Task 8.** В строке замените все цифры на символ *."
      ],
      "metadata": {
        "id": "SoBQ6eDa9n_z"
      }
    },
    {
      "cell_type": "code",
      "source": [
        "import string\n",
        "\n",
        "x = 'My bank account is 123456789'\n",
        "\n",
        "for item in string.digits:\n",
        "    x = x.replace(item, '*')\n",
        "print(x)"
      ],
      "metadata": {
        "id": "SPodgCwm9p4C",
        "outputId": "4aaa5126-e546-4acb-d620-640d55ed1410",
        "colab": {
          "base_uri": "https://localhost:8080/"
        }
      },
      "execution_count": 17,
      "outputs": [
        {
          "output_type": "stream",
          "name": "stdout",
          "text": [
            "My bank account is *********\n"
          ]
        }
      ]
    },
    {
      "cell_type": "markdown",
      "source": [
        "**Task 9.** Втексте найдите все слова, состоящие только из прописных букв."
      ],
      "metadata": {
        "id": "vYCZn8wr9qHN"
      }
    },
    {
      "cell_type": "code",
      "source": [
        "x = 'HELLO world! PYTHON is the best'\n",
        "\n",
        "for item in x.split():\n",
        "    if item.isupper():\n",
        "        print(item)"
      ],
      "metadata": {
        "id": "byBGtymj9rhs",
        "outputId": "2951264e-4cba-4d15-d7b3-51293eb1528b",
        "colab": {
          "base_uri": "https://localhost:8080/"
        }
      },
      "execution_count": 18,
      "outputs": [
        {
          "output_type": "stream",
          "name": "stdout",
          "text": [
            "HELLO\n",
            "PYTHON\n"
          ]
        }
      ]
    },
    {
      "cell_type": "markdown",
      "source": [
        "**Task 10.**  В строке удалите все повторяющиеся слова, сохранив их порядок."
      ],
      "metadata": {
        "id": "YxIQLC239rxp"
      }
    },
    {
      "cell_type": "code",
      "source": [
        "x = 'Hello hello world! World is Hello big'\n",
        "\n",
        "tmp = x.lower().split()\n",
        "res = []\n",
        "for i, item in enumerate(tmp):\n",
        "  if item not in res:\n",
        "    res.append(item)\n",
        "print(' '.join(res))\n"
      ],
      "metadata": {
        "id": "Rd9FzKsZ9sXK",
        "outputId": "068999b4-5aef-4bbf-9be6-b772b60cbe3b",
        "colab": {
          "base_uri": "https://localhost:8080/"
        }
      },
      "execution_count": 24,
      "outputs": [
        {
          "output_type": "stream",
          "name": "stdout",
          "text": [
            "hello world! world is big\n"
          ]
        }
      ]
    }
  ]
}