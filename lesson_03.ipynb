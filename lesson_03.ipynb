{
  "nbformat": 4,
  "nbformat_minor": 0,
  "metadata": {
    "colab": {
      "provenance": [],
      "authorship_tag": "ABX9TyPaKCjdIR+fevDDAszK0Xea",
      "include_colab_link": true
    },
    "kernelspec": {
      "name": "python3",
      "display_name": "Python 3"
    },
    "language_info": {
      "name": "python"
    }
  },
  "cells": [
    {
      "cell_type": "markdown",
      "metadata": {
        "id": "view-in-github",
        "colab_type": "text"
      },
      "source": [
        "<a href=\"https://colab.research.google.com/github/cpython-projects/da_2603/blob/main/lesson_03.ipynb\" target=\"_parent\"><img src=\"https://colab.research.google.com/assets/colab-badge.svg\" alt=\"Open In Colab\"/></a>"
      ]
    },
    {
      "cell_type": "code",
      "execution_count": 1,
      "metadata": {
        "id": "T1IgTooVPniI"
      },
      "outputs": [],
      "source": [
        "import random"
      ]
    },
    {
      "cell_type": "code",
      "source": [
        "random.randint(1, 10)"
      ],
      "metadata": {
        "colab": {
          "base_uri": "https://localhost:8080/"
        },
        "id": "mJqHnJvmQHq0",
        "outputId": "8e2ea720-67f4-4573-a3ff-f219a566fcc3"
      },
      "execution_count": 10,
      "outputs": [
        {
          "output_type": "execute_result",
          "data": {
            "text/plain": [
              "1"
            ]
          },
          "metadata": {},
          "execution_count": 10
        }
      ]
    },
    {
      "cell_type": "code",
      "source": [
        "random.randrange(1, 10)"
      ],
      "metadata": {
        "colab": {
          "base_uri": "https://localhost:8080/"
        },
        "id": "BhJneVbGQUTJ",
        "outputId": "070b5ed6-a060-4ded-a7a1-8d464aeb959f"
      },
      "execution_count": 12,
      "outputs": [
        {
          "output_type": "execute_result",
          "data": {
            "text/plain": [
              "4"
            ]
          },
          "metadata": {},
          "execution_count": 12
        }
      ]
    },
    {
      "cell_type": "code",
      "source": [
        "random.random()"
      ],
      "metadata": {
        "colab": {
          "base_uri": "https://localhost:8080/"
        },
        "id": "hUkpJ5Z8Q3Ga",
        "outputId": "0b31dce6-a306-4fa5-a5d4-598e59362613"
      },
      "execution_count": 15,
      "outputs": [
        {
          "output_type": "execute_result",
          "data": {
            "text/plain": [
              "0.2381865121524639"
            ]
          },
          "metadata": {},
          "execution_count": 15
        }
      ]
    },
    {
      "cell_type": "code",
      "source": [
        "price = float(input('price>>'))\n",
        "if price > 2000:\n",
        "  price *= 0.9\n",
        "  print('You get discount')\n",
        "\n",
        "print(f'Price: {price:.2f}')"
      ],
      "metadata": {
        "colab": {
          "base_uri": "https://localhost:8080/"
        },
        "id": "i1Z4WmHaSnt1",
        "outputId": "fc6882ab-b8e6-44c2-e4fa-eda95df5ef9b"
      },
      "execution_count": 18,
      "outputs": [
        {
          "output_type": "stream",
          "name": "stdout",
          "text": [
            "price>>1000\n",
            "Price: 1000.00\n"
          ]
        }
      ]
    },
    {
      "cell_type": "code",
      "source": [
        "price = float(input('price>>'))\n",
        "\n",
        "if price > 2000:\n",
        "  price *= 0.85\n",
        "else:\n",
        "  price *= 0.95\n",
        "\n",
        "print(f'Price: {price:.2f}')"
      ],
      "metadata": {
        "colab": {
          "base_uri": "https://localhost:8080/"
        },
        "id": "t4i6znIWT7u9",
        "outputId": "bfea5e5f-6801-4559-c5c4-d8eb8f294a51"
      },
      "execution_count": 23,
      "outputs": [
        {
          "output_type": "stream",
          "name": "stdout",
          "text": [
            "price>>1000\n",
            "Price: 950.00\n"
          ]
        }
      ]
    },
    {
      "cell_type": "code",
      "source": [
        "price = float(input('price>>'))\n",
        "\n",
        "if price > 2000:\n",
        "  price *= 0.85\n",
        "else:\n",
        "  if price > 1000:\n",
        "    price *= 0.9\n",
        "  else:\n",
        "    price *= 0.95\n",
        "\n",
        "print(f'Price: {price:.2f}')"
      ],
      "metadata": {
        "colab": {
          "base_uri": "https://localhost:8080/"
        },
        "id": "duAp98plVDVY",
        "outputId": "4f333288-9b24-42e5-c69c-97340b017b05"
      },
      "execution_count": 25,
      "outputs": [
        {
          "output_type": "stream",
          "name": "stdout",
          "text": [
            "price>>100\n",
            "Price: 95.00\n"
          ]
        }
      ]
    },
    {
      "cell_type": "code",
      "source": [
        "price = float(input('price>>'))\n",
        "\n",
        "if price > 2000:\n",
        "  price *= 0.85\n",
        "elif price > 1000:\n",
        "  price *= 0.9\n",
        "else:\n",
        "  price *= 0.95\n",
        "\n",
        "print(f'Price: {price:.2f}')"
      ],
      "metadata": {
        "colab": {
          "base_uri": "https://localhost:8080/"
        },
        "id": "JHUpW2Z3V9nT",
        "outputId": "35434e94-c487-4b85-a17e-bedf090488d4"
      },
      "execution_count": 26,
      "outputs": [
        {
          "output_type": "stream",
          "name": "stdout",
          "text": [
            "price>>2000\n",
            "Price: 1800.00\n"
          ]
        }
      ]
    },
    {
      "cell_type": "code",
      "source": [
        "price = float(input('price>>'))\n",
        "\n",
        "if price > 2000:\n",
        "  price *= 0.85\n",
        "elif price > 1000:\n",
        "  price *= 0.9\n",
        "\n",
        "print(f'Price: {price:.2f}')"
      ],
      "metadata": {
        "colab": {
          "base_uri": "https://localhost:8080/"
        },
        "id": "NaP4Ulz_WWGZ",
        "outputId": "480e67ae-cb1f-41f3-89f4-49ed3bf06858"
      },
      "execution_count": 27,
      "outputs": [
        {
          "output_type": "stream",
          "name": "stdout",
          "text": [
            "price>>1000\n",
            "Price: 1000.00\n"
          ]
        }
      ]
    },
    {
      "cell_type": "code",
      "source": [
        "a = int(input('a>>'))\n",
        "b = int(input('b>>'))\n",
        "\n",
        "print(a == b)\n",
        "print(a != b)\n",
        "\n",
        "print(a > b)\n",
        "print(a < b)\n",
        "\n",
        "print(a >= b)\n",
        "print(a <= b)"
      ],
      "metadata": {
        "colab": {
          "base_uri": "https://localhost:8080/"
        },
        "id": "rEdnhBObX_Ye",
        "outputId": "3d0e80e2-fce2-4ec4-c3c1-e89bd84be3e2"
      },
      "execution_count": 30,
      "outputs": [
        {
          "output_type": "stream",
          "name": "stdout",
          "text": [
            "a>>12\n",
            "b>>23\n",
            "False\n",
            "True\n",
            "False\n",
            "True\n",
            "False\n",
            "True\n"
          ]
        }
      ]
    },
    {
      "cell_type": "markdown",
      "source": [
        "Есть девятиэтажный дом, в котором 4 подъезда. Номер подъезда начинается с единицы. На одном этаже – 4 квартиры. Напишите программу, которая от пользователя получает номер квартиры и выводит номер подъезда, этажа и номер на этаже для заданной квартиры. Если такой квартиры нет в этом доме, то нужно известить юзера об этом."
      ],
      "metadata": {
        "id": "UHqSfWNhZAZQ"
      }
    },
    {
      "cell_type": "code",
      "source": [
        "n = int(input('n>>'))\n",
        "\n",
        "if n % 2:\n",
        "  res = 'Odd'\n",
        "else:\n",
        "  res = 'Even'\n",
        "\n",
        "print(res)\n",
        "\n",
        "res = 'Odd' if n % 2 else 'Even'\n",
        "print(res)"
      ],
      "metadata": {
        "colab": {
          "base_uri": "https://localhost:8080/"
        },
        "id": "k85M2fLijckz",
        "outputId": "16612f41-b389-4d12-d99d-b142a83c97d1"
      },
      "execution_count": 33,
      "outputs": [
        {
          "output_type": "stream",
          "name": "stdout",
          "text": [
            "n>>123\n",
            "Odd\n",
            "Odd\n"
          ]
        }
      ]
    },
    {
      "cell_type": "code",
      "source": [
        "import random\n",
        "\n",
        "\n",
        "salary = random.randint(1000, 5000)\n",
        "print(salary)\n",
        "salary_netto = salary * (0.5 if salary > 3000 else 0.65)\n",
        "\n",
        "print(salary_netto)"
      ],
      "metadata": {
        "colab": {
          "base_uri": "https://localhost:8080/"
        },
        "id": "kg8eHOYZZLVE",
        "outputId": "0cf8f5e0-7415-466a-bb1a-628849fc4c19"
      },
      "execution_count": 35,
      "outputs": [
        {
          "output_type": "stream",
          "name": "stdout",
          "text": [
            "3528\n",
            "1764.0\n"
          ]
        }
      ]
    },
    {
      "cell_type": "code",
      "source": [
        "text = input('text>>')\n",
        "\n",
        "if not text:\n",
        "  print('Empty string')"
      ],
      "metadata": {
        "colab": {
          "base_uri": "https://localhost:8080/"
        },
        "id": "QnC8yUCYlxGU",
        "outputId": "24d11302-56a3-468d-bf2d-7185437e888e"
      },
      "execution_count": 39,
      "outputs": [
        {
          "name": "stdout",
          "output_type": "stream",
          "text": [
            "text>>yuuiyuiyui\n"
          ]
        }
      ]
    },
    {
      "cell_type": "code",
      "source": [
        "# BAD STYLE\n",
        "if len(text) == 0:\n",
        "  print('Empty string')\n",
        "\n",
        "# BAD STYLE\n",
        "if text == '':\n",
        "  print('Empty string')"
      ],
      "metadata": {
        "id": "mqmt9xbtmpv0"
      },
      "execution_count": null,
      "outputs": []
    },
    {
      "cell_type": "code",
      "source": [
        "t = int(input('T>>'))\n",
        "money = int(input('money>>'))\n",
        "\n",
        "if t > 20 and money > 1000:\n",
        "  print('Cinema')"
      ],
      "metadata": {
        "colab": {
          "base_uri": "https://localhost:8080/"
        },
        "id": "hrSSiPcEnEeD",
        "outputId": "711929d6-d0bc-4c8f-a186-f035b48470aa"
      },
      "execution_count": 40,
      "outputs": [
        {
          "output_type": "stream",
          "name": "stdout",
          "text": [
            "T>>5000\n",
            "money>>6000\n",
            "Cinema\n"
          ]
        }
      ]
    },
    {
      "cell_type": "code",
      "source": [
        "year = int(input('year>>'))\n",
        "\n",
        "if year % 4 == 0:\n",
        "  if year % 100 == 0:\n",
        "    if year % 400 == 0:\n",
        "      print('Leap')\n",
        "    else:\n",
        "      print('Not leap')\n",
        "  else:\n",
        "    print('Leap')\n",
        "else:\n",
        "  print('Not leap')"
      ],
      "metadata": {
        "colab": {
          "base_uri": "https://localhost:8080/"
        },
        "id": "rRyBhNQXn6B7",
        "outputId": "0780e014-63c9-4353-fd10-728f6691c473"
      },
      "execution_count": 43,
      "outputs": [
        {
          "output_type": "stream",
          "name": "stdout",
          "text": [
            "year>>2024\n",
            "Leap\n"
          ]
        }
      ]
    },
    {
      "cell_type": "code",
      "source": [
        "res = 'Leap' if year % 4 == 0 and (year % 100 != 0 or year % 400 == 0) else 'Not leap'\n",
        "print(res)"
      ],
      "metadata": {
        "colab": {
          "base_uri": "https://localhost:8080/"
        },
        "id": "0QFrFN5wpdJo",
        "outputId": "187692df-fa53-47de-c26d-ef9b78391d27"
      },
      "execution_count": 44,
      "outputs": [
        {
          "output_type": "stream",
          "name": "stdout",
          "text": [
            "Leap\n"
          ]
        }
      ]
    }
  ]
}