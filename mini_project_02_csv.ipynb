{
  "nbformat": 4,
  "nbformat_minor": 0,
  "metadata": {
    "colab": {
      "provenance": [],
      "authorship_tag": "ABX9TyMU1YsP+VFmMErP3bZ4IL6I",
      "include_colab_link": true
    },
    "kernelspec": {
      "name": "python3",
      "display_name": "Python 3"
    },
    "language_info": {
      "name": "python"
    }
  },
  "cells": [
    {
      "cell_type": "markdown",
      "metadata": {
        "id": "view-in-github",
        "colab_type": "text"
      },
      "source": [
        "<a href=\"https://colab.research.google.com/github/cpython-projects/da_2603/blob/main/mini_project_02_csv.ipynb\" target=\"_parent\"><img src=\"https://colab.research.google.com/assets/colab-badge.svg\" alt=\"Open In Colab\"/></a>"
      ]
    },
    {
      "cell_type": "markdown",
      "source": [
        "## **Task:** Почему упали продажи образовательных курсов?"
      ],
      "metadata": {
        "id": "0y1y_ZSI6vZ_"
      }
    },
    {
      "cell_type": "markdown",
      "source": [
        "Ваша компания занимается продажей онлайн-курсов по программированию. Курсы продаются круглый год.\n",
        "У вас есть синтетические данные о продажах за 2 года — с января 2023 по май 2025.  \n",
        "\n",
        "С недавнего времени менеджмент обеспокоен: **в мае 2025 года продажи сильно упали**.  \n",
        "Вас как аналитика просят срочно разобраться:  \n",
        "* Почему упали продажи?  \n",
        "* Что делать: менять маркетинг? Перезапускать курсы? Вводить скидки?"
      ],
      "metadata": {
        "id": "4uAOswzK6z-3"
      }
    },
    {
      "cell_type": "markdown",
      "source": [
        "### Этап 1: Первичный анализ данных (EDA)"
      ],
      "metadata": {
        "id": "nBDsQM9h68Lw"
      }
    },
    {
      "cell_type": "code",
      "execution_count": null,
      "metadata": {
        "id": "mhoWDa-q6uwP"
      },
      "outputs": [],
      "source": []
    },
    {
      "cell_type": "markdown",
      "source": [
        "### Этап 2: Исследование"
      ],
      "metadata": {
        "id": "UQ4fGT5Z6-3g"
      }
    },
    {
      "cell_type": "code",
      "source": [],
      "metadata": {
        "id": "Xjn7lIoa7BoI"
      },
      "execution_count": null,
      "outputs": []
    },
    {
      "cell_type": "markdown",
      "source": [
        "### Этап 3: Выводы\n",
        "* Почему на самом деле упали продажи?\n",
        "* Нужно ли что-то предпринимать?\n",
        "* Какие рекомендации вы бы дали руководству?"
      ],
      "metadata": {
        "id": "DEJ5jDX77B-H"
      }
    },
    {
      "cell_type": "markdown",
      "source": [],
      "metadata": {
        "id": "F-5ZsUeg7FGj"
      }
    }
  ]
}