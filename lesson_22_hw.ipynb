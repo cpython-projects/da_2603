{
  "nbformat": 4,
  "nbformat_minor": 0,
  "metadata": {
    "colab": {
      "provenance": [],
      "authorship_tag": "ABX9TyNbyw/yh8cyByBKaBbCrn1h",
      "include_colab_link": true
    },
    "kernelspec": {
      "name": "python3",
      "display_name": "Python 3"
    },
    "language_info": {
      "name": "python"
    }
  },
  "cells": [
    {
      "cell_type": "markdown",
      "metadata": {
        "id": "view-in-github",
        "colab_type": "text"
      },
      "source": [
        "<a href=\"https://colab.research.google.com/github/cpython-projects/da_2603/blob/main/lesson_22_hw.ipynb\" target=\"_parent\"><img src=\"https://colab.research.google.com/assets/colab-badge.svg\" alt=\"Open In Colab\"/></a>"
      ]
    },
    {
      "cell_type": "markdown",
      "source": [
        "**Task 1.** Найти все установки с `cpi_uah > 30` и платформой `iOS`"
      ],
      "metadata": {
        "id": "BhpmokHvE2S8"
      }
    },
    {
      "cell_type": "code",
      "execution_count": null,
      "metadata": {
        "id": "0sC65a8-E0nB"
      },
      "outputs": [],
      "source": []
    },
    {
      "cell_type": "markdown",
      "source": [
        "**Task 2.** Найти 5 самых дорогих установок"
      ],
      "metadata": {
        "id": "2GSLPC4TFp6E"
      }
    },
    {
      "cell_type": "code",
      "source": [],
      "metadata": {
        "id": "NUtgiGFYFsxu"
      },
      "execution_count": null,
      "outputs": []
    },
    {
      "cell_type": "markdown",
      "source": [
        "**Task 3.** Посчитать количество уникальных устройств в `product_views_log`"
      ],
      "metadata": {
        "id": "OASc-sDfFtHZ"
      }
    },
    {
      "cell_type": "code",
      "source": [],
      "metadata": {
        "id": "myt0Prr6FvFc"
      },
      "execution_count": null,
      "outputs": []
    },
    {
      "cell_type": "markdown",
      "source": [
        "**Task 4.** Найти пользователей, у которых хотя бы одна покупка больше 2000 UAH"
      ],
      "metadata": {
        "id": "FbxadFAIFvW9"
      }
    },
    {
      "cell_type": "code",
      "source": [],
      "metadata": {
        "id": "QcQS9JR5FxM6"
      },
      "execution_count": null,
      "outputs": []
    },
    {
      "cell_type": "markdown",
      "source": [
        "**Task 5.** Найти все каналы установки, начинающиеся с `'Goo'`"
      ],
      "metadata": {
        "id": "hOcjDdwNFxgm"
      }
    },
    {
      "cell_type": "code",
      "source": [],
      "metadata": {
        "id": "PjjGUuu3FyDP"
      },
      "execution_count": null,
      "outputs": []
    }
  ]
}