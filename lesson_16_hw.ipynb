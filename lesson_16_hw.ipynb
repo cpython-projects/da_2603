{
  "nbformat": 4,
  "nbformat_minor": 0,
  "metadata": {
    "colab": {
      "provenance": [],
      "authorship_tag": "ABX9TyMDPS8NqOR1xcxmBEAioxpR",
      "include_colab_link": true
    },
    "kernelspec": {
      "name": "python3",
      "display_name": "Python 3"
    },
    "language_info": {
      "name": "python"
    }
  },
  "cells": [
    {
      "cell_type": "markdown",
      "metadata": {
        "id": "view-in-github",
        "colab_type": "text"
      },
      "source": [
        "<a href=\"https://colab.research.google.com/github/cpython-projects/da_2603/blob/main/lesson_16_hw.ipynb\" target=\"_parent\"><img src=\"https://colab.research.google.com/assets/colab-badge.svg\" alt=\"Open In Colab\"/></a>"
      ]
    },
    {
      "cell_type": "markdown",
      "source": [
        "### Описание набора данных\n",
        "\n",
        "Набор данных (ecommerce\\_data.csv) содержит **40 строк** и **19 столбцов**, представляющих транзакции в сфере электронной коммерции. Ниже приведено описание каждого столбца:\n",
        "\n",
        "| Название столбца   | Описание                                                              |\n",
        "| ------------------ | --------------------------------------------------------------------- |\n",
        "| `order_id`         | Уникальный идентификатор заказа.                                      |\n",
        "| `customer_id`      | Уникальный идентификатор клиента.                                     |\n",
        "| `order_date`       | Дата оформления заказа (в формате ГГГГ-ММ-ДД).                        |\n",
        "| `product_id`       | Уникальный идентификатор приобретённого товара.                       |\n",
        "| `product_name`     | Название товара.                                                      |\n",
        "| `category`         | Категория товара (например, Электроника, Одежда и т.д.).              |\n",
        "| `price`            | Цена за единицу товара.                                               |\n",
        "| `quantity`         | Количество приобретённых единиц.                                      |\n",
        "| `weight`           | Вес товара (в кг, хранится как строка).                               |\n",
        "| `discount`         | Применённая скидка (в виде десятичной дроби, например, 0.10 для 10%). |\n",
        "| `shipping_cost`    | Стоимость доставки товара (имеются пропущенные значения).             |\n",
        "| `payment_method`   | Метод оплаты (например, Кредитная карта, PayPal, Дебет).              |\n",
        "| `delivery_status`  | Статус доставки (Доставлено, Отправлено, В обработке и т.д.).         |\n",
        "| `customer_city`    | Город клиента.                                                        |\n",
        "| `customer_state`   | Штат клиента.                                                         |\n",
        "| `customer_country` | Страна клиента.                                                       |\n",
        "| `return_requested` | Был ли запрошен возврат (1 = Да, 0 = Нет).                            |\n",
        "| `review_score`     | Оценка клиента (по 5-балльной шкале, есть пропущенные значения).      |\n",
        "| `days_to_deliver`  | Количество дней на доставку (есть пропущенные значения).              |\n",
        "\n",
        "---"
      ],
      "metadata": {
        "id": "UvplYzZ_AN_p"
      }
    },
    {
      "cell_type": "markdown",
      "source": [
        "**Task 1.** Работа с дубликатами"
      ],
      "metadata": {
        "id": "kOxjGkfbAuEr"
      }
    },
    {
      "cell_type": "code",
      "source": [],
      "metadata": {
        "id": "GCnIV3eHBugW"
      },
      "execution_count": null,
      "outputs": []
    },
    {
      "cell_type": "markdown",
      "source": [
        "**Task 2.** Обработка некорректных форматов\n",
        "\n",
        "* Числовые данные представлены в виде строк\n",
        "* Даты представлены в виде строк\n",
        "* Категориальные данные представлены как строки/числа"
      ],
      "metadata": {
        "id": "XYY_rBxGA7n8"
      }
    },
    {
      "cell_type": "code",
      "source": [],
      "metadata": {
        "id": "_HGK6biPB-hf"
      },
      "execution_count": null,
      "outputs": []
    },
    {
      "cell_type": "markdown",
      "source": [
        "**Task 3.** Устранение типичных несоответствий\n",
        "\n",
        "* Текст: Смешанные регистры и лишние пробелы\n",
        "* Единицы измерения: Несогласованные обозначения\n",
        "* Категории: Различные написания"
      ],
      "metadata": {
        "id": "fBdsGg6GBArO"
      }
    },
    {
      "cell_type": "code",
      "source": [],
      "metadata": {
        "id": "ua0DXPg7CMQP"
      },
      "execution_count": null,
      "outputs": []
    },
    {
      "cell_type": "markdown",
      "source": [
        "**Task 4.** Работа с пропущенными значениями"
      ],
      "metadata": {
        "id": "XiDvdw9hBEtJ"
      }
    },
    {
      "cell_type": "code",
      "source": [],
      "metadata": {
        "id": "WU9KwQmQCQo9"
      },
      "execution_count": null,
      "outputs": []
    },
    {
      "cell_type": "markdown",
      "source": [
        "**Task 5.** Определение самых прибыльных товаров\n",
        "\n",
        "**Необходимые признаки:** `product_name`, `price`, `quantity`, `discount`"
      ],
      "metadata": {
        "id": "Gg_cvEE2BLQY"
      }
    },
    {
      "cell_type": "code",
      "source": [],
      "metadata": {
        "id": "o-qLLTr9CYy9"
      },
      "execution_count": null,
      "outputs": []
    },
    {
      "cell_type": "markdown",
      "source": [
        "**Task 6.** Анализ среднего времени доставки по странам\n",
        "\n",
        "**Необходимые признаки:** `customer_country`, `days_to_deliver`"
      ],
      "metadata": {
        "id": "bxXuzbFaBZF1"
      }
    },
    {
      "cell_type": "code",
      "source": [],
      "metadata": {
        "id": "PrD0wWUHCecK"
      },
      "execution_count": null,
      "outputs": []
    }
  ]
}