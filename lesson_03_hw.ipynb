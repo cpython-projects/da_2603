{
  "nbformat": 4,
  "nbformat_minor": 0,
  "metadata": {
    "colab": {
      "provenance": [],
      "authorship_tag": "ABX9TyPkY3dOG+PKJEHw5zNR2w6k",
      "include_colab_link": true
    },
    "kernelspec": {
      "name": "python3",
      "display_name": "Python 3"
    },
    "language_info": {
      "name": "python"
    }
  },
  "cells": [
    {
      "cell_type": "markdown",
      "metadata": {
        "id": "view-in-github",
        "colab_type": "text"
      },
      "source": [
        "<a href=\"https://colab.research.google.com/github/cpython-projects/da_2603/blob/main/lesson_03_hw.ipynb\" target=\"_parent\"><img src=\"https://colab.research.google.com/assets/colab-badge.svg\" alt=\"Open In Colab\"/></a>"
      ]
    },
    {
      "cell_type": "markdown",
      "source": [
        "**Task 1.** Напишите скрипт, который проверяет, делится ли целое число на 5 без остатка. Число вводит пользователь."
      ],
      "metadata": {
        "id": "vPynSX9t9orE"
      }
    },
    {
      "cell_type": "code",
      "execution_count": 2,
      "metadata": {
        "id": "QrELqZea9Mir",
        "outputId": "270722d1-3b50-47c2-a9eb-760d7df885bc",
        "colab": {
          "base_uri": "https://localhost:8080/"
        }
      },
      "outputs": [
        {
          "output_type": "stream",
          "name": "stdout",
          "text": [
            "n>>10\n",
            "Число делится на 5\n"
          ]
        }
      ],
      "source": [
        "n = int(input('n>>'))\n",
        "\n",
        "if n % 5:\n",
        "    print('Число не делится на 5')\n",
        "else:\n",
        "    print('Число делится на 5')"
      ]
    },
    {
      "cell_type": "markdown",
      "source": [
        "**Task 2.** Напишите программу, которая определяет, принадлежит ли число диапазону от 1 до 10."
      ],
      "metadata": {
        "id": "NyvJpfws-era"
      }
    },
    {
      "cell_type": "code",
      "source": [
        "n = int(input('n>>'))\n",
        "\n",
        "if 1 <= n <= 10:\n",
        "    print('Число принадлежит диапазону')\n",
        "else:\n",
        "    print('Число не принадлежит диапазону')\n",
        "\n",
        "\n",
        "result = 'Число принадлежит диапазону' if 1 <= n <= 10 else 'Число не принадлежит диапазону'\n",
        "print(result)"
      ],
      "metadata": {
        "id": "HrY6KUEV--kh"
      },
      "execution_count": null,
      "outputs": []
    },
    {
      "cell_type": "markdown",
      "source": [
        "**Task 3.** Напишите программу, которая проверяет, заканчивается ли число на цифру 9."
      ],
      "metadata": {
        "id": "0WK9OVgT-h0t"
      }
    },
    {
      "cell_type": "code",
      "source": [
        "n = int(input('n>>'))\n",
        "if n % 10 == 9:\n",
        "    print('Число заканчивается на 9')\n",
        "else:\n",
        "    print('Число не заканчивается на 9')\n",
        "\n",
        "\n",
        "result = 'Число заканчивается на 9' if n % 10 == 9 else 'Число не заканчивается на 9'\n",
        "print(result)"
      ],
      "metadata": {
        "id": "s9XfeWJd-_FP"
      },
      "execution_count": null,
      "outputs": []
    },
    {
      "cell_type": "markdown",
      "source": [
        "**Task 4.** Напишите программу, которая проверяет, является ли первое введенное число делителем второго."
      ],
      "metadata": {
        "id": "94xaIDec-j9T"
      }
    },
    {
      "cell_type": "code",
      "source": [
        "a, b = int(input('a>>')), int(input('b>>'))\n",
        "\n",
        "if b % a:\n",
        "    print('Первое число не делится на второе')\n",
        "else:\n",
        "    print('Первое число делится на второе')"
      ],
      "metadata": {
        "id": "Osze-BlE-_qw"
      },
      "execution_count": null,
      "outputs": []
    },
    {
      "cell_type": "markdown",
      "source": [
        "\n",
        "**Task 5.** Напишите программу, которая проверяет, является ли вводимое пользователем число трёхзначным."
      ],
      "metadata": {
        "id": "GDsmfnPx-mjb"
      }
    },
    {
      "cell_type": "code",
      "source": [
        "a = int(input('a>>'))\n",
        "\n",
        "if 100 <= a <= 999:\n",
        "    print('Число трёхзначное')\n",
        "else:\n",
        "    print('Число не трёхзначное')"
      ],
      "metadata": {
        "id": "M7WbGb5A_BHw"
      },
      "execution_count": null,
      "outputs": []
    },
    {
      "cell_type": "markdown",
      "source": [
        "**Task 6.** Напишите программу, которая принимает сумму покупки и применяет скидку: 10%, если сумма больше 1000, и 5%, если сумма больше 500. Выведите итоговую сумму."
      ],
      "metadata": {
        "id": "Izj1jz4J-oPN"
      }
    },
    {
      "cell_type": "code",
      "source": [
        "amount = float(input('amount>>'))\n",
        "if amount > 1000:\n",
        "    discount = 0.1\n",
        "elif amount > 500:\n",
        "    discount = 0.05\n",
        "else:\n",
        "    discount = 0\n",
        "\n",
        "total_amount = amount * (1 - discount)\n",
        "print(f'Итоговая сумма: {total_amount}')"
      ],
      "metadata": {
        "id": "ohGoY9-Q_Cmq"
      },
      "execution_count": null,
      "outputs": []
    },
    {
      "cell_type": "markdown",
      "source": [
        "**Task 7.** Напишите программу, которая принимает три числа и проверяет, могут ли они быть членами арифметической прогрессии. Выведите \"Да\" или \"Нет\"."
      ],
      "metadata": {
        "id": "kGBE425J-qVj"
      }
    },
    {
      "cell_type": "code",
      "source": [
        "a, b, c = int(input('a>>')), int(input('b>>')), int(input('c>>'))\n",
        "\n",
        "result = 'Yes' if b - a == c - b else 'No'\n",
        "print(result)\n",
        "\n",
        "import math\n",
        "result = 'Yes' if math.isclose((a + c) / 2, b) else 'No'\n",
        "print(result)"
      ],
      "metadata": {
        "id": "kJ8-o9WQ-7tu",
        "outputId": "4959f1ad-5eba-4c0c-ef68-dbca328b4a38",
        "colab": {
          "base_uri": "https://localhost:8080/"
        }
      },
      "execution_count": 4,
      "outputs": [
        {
          "output_type": "stream",
          "name": "stdout",
          "text": [
            "a>>2\n",
            "b>>4\n",
            "c>>6\n",
            "Yes\n",
            "Yes\n"
          ]
        }
      ]
    },
    {
      "cell_type": "code",
      "source": [
        "(2 + 4) / 2"
      ],
      "metadata": {
        "id": "jmublrDsEPRE",
        "outputId": "061eb535-7451-49d3-f16c-8ed6ba07b525",
        "colab": {
          "base_uri": "https://localhost:8080/"
        }
      },
      "execution_count": 3,
      "outputs": [
        {
          "output_type": "execute_result",
          "data": {
            "text/plain": [
              "3.0"
            ]
          },
          "metadata": {},
          "execution_count": 3
        }
      ]
    },
    {
      "cell_type": "markdown",
      "source": [
        "**Task 8.** Напишите программу, которая принимает час (от 0 до 23) и выводит, утро это (6-12), день (12-18), вечер (18-24) или ночь (0-6)."
      ],
      "metadata": {
        "id": "DPcaWHxJ-tso"
      }
    },
    {
      "cell_type": "code",
      "source": [
        "hour = int(input('hour>>'))\n",
        "if hour < 0 or hour > 23:\n",
        "    res = 'Неправильное время'\n",
        "elif hour < 6:\n",
        "    res = 'Утро'\n",
        "elif hour < 12:\n",
        "    res = 'День'\n",
        "elif hour < 18:\n",
        "    res = 'Вечер'\n",
        "else:\n",
        "    res = 'Ночь'\n",
        "\n",
        "print(f'Now is {res}')"
      ],
      "metadata": {
        "id": "ZLeLjgCf-7L1",
        "outputId": "efea65ec-e090-4bc4-eaf9-28c0163e0d3b",
        "colab": {
          "base_uri": "https://localhost:8080/"
        }
      },
      "execution_count": 5,
      "outputs": [
        {
          "output_type": "stream",
          "name": "stdout",
          "text": [
            "hour>>45\n",
            "Now is Неправильное время\n"
          ]
        }
      ]
    },
    {
      "cell_type": "markdown",
      "source": [
        "**Task 9.** Пользователь вводит три числа (доход, расходы, желаемая сумма кредита). Определите, сможет ли человек выплатить кредит за N месяцев."
      ],
      "metadata": {
        "id": "e6HJ-q7k-vsl"
      }
    },
    {
      "cell_type": "code",
      "source": [
        "import math\n",
        "x1, x2, x3 = int(input('x1>>')), int(input('x2>>')), int(input('x3>>'))\n",
        "months = x3 / (x1 - x2)\n",
        "months = math.ceil(months)\n",
        "print(f'Можно выплатить кредит за {months} месяцев')"
      ],
      "metadata": {
        "id": "Nd7zjgv4-6rN",
        "outputId": "c65ed6f1-9741-462f-9a7a-312f00477f22",
        "colab": {
          "base_uri": "https://localhost:8080/"
        }
      },
      "execution_count": 9,
      "outputs": [
        {
          "output_type": "stream",
          "name": "stdout",
          "text": [
            "x1>>40\n",
            "x2>>10\n",
            "x3>>100\n",
            "Можно выплатить кредит за 4 месяцев\n"
          ]
        }
      ]
    },
    {
      "cell_type": "markdown",
      "source": [
        "**Task 10.** Пользователь вводит два числа (цена товара и процент скидки). Вычислите сумму к оплате."
      ],
      "metadata": {
        "id": "hS0Cf-7J-yzG"
      }
    },
    {
      "cell_type": "code",
      "source": [
        "a, b = int(input('a>>')), int(input('b>>'))\n",
        "res = a * (1 - b / 100)\n",
        "print(f'Сумма к оплате: {res:.2f}')"
      ],
      "metadata": {
        "id": "DFR3jBx1-6Lw",
        "outputId": "7ed8ade0-049d-424d-a34c-e03c1383796d",
        "colab": {
          "base_uri": "https://localhost:8080/"
        }
      },
      "execution_count": 10,
      "outputs": [
        {
          "output_type": "stream",
          "name": "stdout",
          "text": [
            "a>>1000\n",
            "b>>10\n",
            "Сумма к оплате: 900.0\n"
          ]
        }
      ]
    },
    {
      "cell_type": "markdown",
      "source": [
        "**Task 11.** Пользователь вводит три числа (масса и рост). Рассчитайте индекс массы тела (ИМТ) и определите категорию (норма, избыточный вес и т. д.)."
      ],
      "metadata": {
        "id": "8I0OvdkB-1dP"
      }
    },
    {
      "cell_type": "code",
      "source": [
        "weight = float(input('weight>>'))\n",
        "height = float(input('height>>'))\n",
        "bmi = weight / (height ** 2)\n",
        "if bmi < 18.5:\n",
        "    category = 'Underweight'\n",
        "elif bmi < 25:\n",
        "    category = 'Normal'\n",
        "elif bmi < 30:\n",
        "    category = 'Overweight'\n",
        "else:\n",
        "    category = 'Obese'\n",
        "\n",
        "print(f'BMI: {bmi:.2f}')\n",
        "print(f'Category: {category}')"
      ],
      "metadata": {
        "id": "-8rbJRtZ-5lG"
      },
      "execution_count": null,
      "outputs": []
    },
    {
      "cell_type": "markdown",
      "source": [
        "**Task 12.** Пользователь вводит три числа (день, месяц, год). Определите, является ли введенная дата корректной."
      ],
      "metadata": {
        "id": "LkEPYVch-4Di"
      }
    },
    {
      "cell_type": "code",
      "source": [
        "day, month, year = int(input('day>>')), int(input('month>>')), int(input('year>>'))\n",
        "\n",
        "\n",
        "if 1 <= day <= 31 and 1 <= month <= 12 and year > 0:\n",
        "    is_leap = True if year % 4 == 0 and year % 100 != 0 or year % 400 == 0 else False\n",
        "    if (month == 4 or month == 6 or month == 9 or month == 11) and day > 30:\n",
        "        print('Дата некорректна')\n",
        "    elif month == 2 and (day > 29 if is_leap else day > 28):\n",
        "        print('Дата некорректна')\n",
        "    else:\n",
        "        print('Дата корректна')\n",
        "else:\n",
        "    print('Дата некорректна')"
      ],
      "metadata": {
        "id": "RtVUafWj-8x1",
        "outputId": "1f75f4aa-b0d8-4dbc-d20e-5de2219ff409",
        "colab": {
          "base_uri": "https://localhost:8080/"
        }
      },
      "execution_count": 15,
      "outputs": [
        {
          "output_type": "stream",
          "name": "stdout",
          "text": [
            "day>>-1\n",
            "month>>2\n",
            "year>>2020\n",
            "Дата некорректна\n"
          ]
        }
      ]
    }
  ]
}