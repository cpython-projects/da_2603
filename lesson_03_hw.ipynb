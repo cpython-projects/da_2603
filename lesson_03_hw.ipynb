{
  "nbformat": 4,
  "nbformat_minor": 0,
  "metadata": {
    "colab": {
      "provenance": [],
      "authorship_tag": "ABX9TyPx2RE1nafcUpX/MTGTA3+U",
      "include_colab_link": true
    },
    "kernelspec": {
      "name": "python3",
      "display_name": "Python 3"
    },
    "language_info": {
      "name": "python"
    }
  },
  "cells": [
    {
      "cell_type": "markdown",
      "metadata": {
        "id": "view-in-github",
        "colab_type": "text"
      },
      "source": [
        "<a href=\"https://colab.research.google.com/github/cpython-projects/da_2603/blob/main/lesson_03_hw.ipynb\" target=\"_parent\"><img src=\"https://colab.research.google.com/assets/colab-badge.svg\" alt=\"Open In Colab\"/></a>"
      ]
    },
    {
      "cell_type": "markdown",
      "source": [
        "**Task 1.** Напишите скрипт, который проверяет, делится ли целое число на 5 без остатка. Число вводит пользователь."
      ],
      "metadata": {
        "id": "vPynSX9t9orE"
      }
    },
    {
      "cell_type": "code",
      "execution_count": null,
      "metadata": {
        "id": "QrELqZea9Mir"
      },
      "outputs": [],
      "source": []
    },
    {
      "cell_type": "markdown",
      "source": [
        "**Task 2.** Напишите программу, которая определяет, принадлежит ли число диапазону от 1 до 10."
      ],
      "metadata": {
        "id": "NyvJpfws-era"
      }
    },
    {
      "cell_type": "code",
      "source": [],
      "metadata": {
        "id": "HrY6KUEV--kh"
      },
      "execution_count": null,
      "outputs": []
    },
    {
      "cell_type": "markdown",
      "source": [
        "**Task 3.** Напишите программу, которая проверяет, заканчивается ли число на цифру 9."
      ],
      "metadata": {
        "id": "0WK9OVgT-h0t"
      }
    },
    {
      "cell_type": "code",
      "source": [],
      "metadata": {
        "id": "s9XfeWJd-_FP"
      },
      "execution_count": null,
      "outputs": []
    },
    {
      "cell_type": "markdown",
      "source": [
        "**Task 4.** Напишите программу, которая проверяет, является ли первое введенное число делителем второго."
      ],
      "metadata": {
        "id": "94xaIDec-j9T"
      }
    },
    {
      "cell_type": "code",
      "source": [],
      "metadata": {
        "id": "Osze-BlE-_qw"
      },
      "execution_count": null,
      "outputs": []
    },
    {
      "cell_type": "markdown",
      "source": [
        "\n",
        "**Task 5.** Напишите программу, которая проверяет, является ли вводимое пользователем число трёхзначным."
      ],
      "metadata": {
        "id": "GDsmfnPx-mjb"
      }
    },
    {
      "cell_type": "code",
      "source": [],
      "metadata": {
        "id": "M7WbGb5A_BHw"
      },
      "execution_count": null,
      "outputs": []
    },
    {
      "cell_type": "markdown",
      "source": [
        "**Task 6.** Напишите программу, которая принимает сумму покупки и применяет скидку: 10%, если сумма больше 1000, и 5%, если сумма больше 500. Выведите итоговую сумму."
      ],
      "metadata": {
        "id": "Izj1jz4J-oPN"
      }
    },
    {
      "cell_type": "code",
      "source": [],
      "metadata": {
        "id": "ohGoY9-Q_Cmq"
      },
      "execution_count": null,
      "outputs": []
    },
    {
      "cell_type": "markdown",
      "source": [
        "**Task 7.** Напишите программу, которая принимает три числа и проверяет, могут ли они быть членами арифметической прогрессии. Выведите \"Да\" или \"Нет\"."
      ],
      "metadata": {
        "id": "kGBE425J-qVj"
      }
    },
    {
      "cell_type": "code",
      "source": [],
      "metadata": {
        "id": "kJ8-o9WQ-7tu"
      },
      "execution_count": null,
      "outputs": []
    },
    {
      "cell_type": "markdown",
      "source": [
        "**Task 8.** Напишите программу, которая принимает час (от 0 до 23) и выводит, утро это (6-12), день (12-18), вечер (18-24) или ночь (0-6)."
      ],
      "metadata": {
        "id": "DPcaWHxJ-tso"
      }
    },
    {
      "cell_type": "code",
      "source": [],
      "metadata": {
        "id": "ZLeLjgCf-7L1"
      },
      "execution_count": null,
      "outputs": []
    },
    {
      "cell_type": "markdown",
      "source": [
        "**Task 9.** Пользователь вводит три числа (доход, расходы, желаемая сумма кредита). Определите, сможет ли человек выплатить кредит за N месяцев."
      ],
      "metadata": {
        "id": "e6HJ-q7k-vsl"
      }
    },
    {
      "cell_type": "code",
      "source": [],
      "metadata": {
        "id": "Nd7zjgv4-6rN"
      },
      "execution_count": null,
      "outputs": []
    },
    {
      "cell_type": "markdown",
      "source": [
        "**Task 10.** Пользователь вводит два числа (цена товара и процент скидки). Вычислите сумму к оплате."
      ],
      "metadata": {
        "id": "hS0Cf-7J-yzG"
      }
    },
    {
      "cell_type": "code",
      "source": [],
      "metadata": {
        "id": "DFR3jBx1-6Lw"
      },
      "execution_count": null,
      "outputs": []
    },
    {
      "cell_type": "markdown",
      "source": [
        "**Task 11.** Пользователь вводит три числа (масса и рост). Рассчитайте индекс массы тела (ИМТ) и определите категорию (норма, избыточный вес и т. д.)."
      ],
      "metadata": {
        "id": "8I0OvdkB-1dP"
      }
    },
    {
      "cell_type": "code",
      "source": [],
      "metadata": {
        "id": "-8rbJRtZ-5lG"
      },
      "execution_count": null,
      "outputs": []
    },
    {
      "cell_type": "markdown",
      "source": [
        "**Task 12.** Пользователь вводит три числа (день, месяц, год). Определите, является ли введенная дата корректной."
      ],
      "metadata": {
        "id": "LkEPYVch-4Di"
      }
    },
    {
      "cell_type": "code",
      "source": [],
      "metadata": {
        "id": "RtVUafWj-8x1"
      },
      "execution_count": null,
      "outputs": []
    }
  ]
}