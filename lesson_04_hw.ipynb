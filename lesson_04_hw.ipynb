{
  "nbformat": 4,
  "nbformat_minor": 0,
  "metadata": {
    "colab": {
      "provenance": [],
      "authorship_tag": "ABX9TyO9UhTQD5KYypmT8wzPQT+3",
      "include_colab_link": true
    },
    "kernelspec": {
      "name": "python3",
      "display_name": "Python 3"
    },
    "language_info": {
      "name": "python"
    }
  },
  "cells": [
    {
      "cell_type": "markdown",
      "metadata": {
        "id": "view-in-github",
        "colab_type": "text"
      },
      "source": [
        "<a href=\"https://colab.research.google.com/github/cpython-projects/da_2603/blob/main/lesson_04_hw.ipynb\" target=\"_parent\"><img src=\"https://colab.research.google.com/assets/colab-badge.svg\" alt=\"Open In Colab\"/></a>"
      ]
    },
    {
      "cell_type": "markdown",
      "source": [
        "**Task 1.** Дано число (четырехзначное). Проверить, является ли оно «счастливым билетом». Примечание: счастливым билетом называется число, в котором при четном количестве цифр сумма цифр его левой половины равна сумме цифр его правой половины. Например, 1322 является счастливым билетом, потому что 1+3=2+2."
      ],
      "metadata": {
        "id": "qhM02m0JHW06"
      }
    },
    {
      "cell_type": "code",
      "execution_count": null,
      "metadata": {
        "id": "9qRLyp08G_uT"
      },
      "outputs": [],
      "source": []
    },
    {
      "cell_type": "markdown",
      "source": [
        "**Task 2.** С клавиатуры вводится число (шестизначное). Проверить, является ли оно палиндромом. Примечание: Палиндромом называется число, слово или текст, которые одинаково читаются слева направо и справа налево. Например, это числа 143341, 5555, 7117 и т.д."
      ],
      "metadata": {
        "id": "nYdKegkDKL4P"
      }
    },
    {
      "cell_type": "code",
      "source": [],
      "metadata": {
        "id": "LqG_Al7cLJYy"
      },
      "execution_count": null,
      "outputs": []
    },
    {
      "cell_type": "markdown",
      "source": [
        "**Task 3.** Подсчет суммарной выручки. У вас есть список дневной выручки магазина за неделю (7 дней). Найдите общую сумму выручки.\n",
        "Входные данные: список из 7 чисел."
      ],
      "metadata": {
        "id": "GDpklKWQKm8a"
      }
    },
    {
      "cell_type": "code",
      "source": [],
      "metadata": {
        "id": "4idnxK-RLKJ8"
      },
      "execution_count": null,
      "outputs": []
    },
    {
      "cell_type": "markdown",
      "source": [
        "**Task 4.** Определение количества положительных значений. Дан список чисел, который содержит прибыли и убытки компании за несколько месяцев. Посчитайте, сколько месяцев компания работала с прибылью (положительные числа).\n",
        "Входные данные: список целых чисел."
      ],
      "metadata": {
        "id": "JSwMJwdkK8Fo"
      }
    },
    {
      "cell_type": "code",
      "source": [],
      "metadata": {
        "id": "ZO_f3XAnLKpu"
      },
      "execution_count": null,
      "outputs": []
    },
    {
      "cell_type": "markdown",
      "source": [
        "**Task 5.** Поиск максимального значения. Дан список чисел, содержащий температуры за 10 дней. Найдите максимальную температуру.\n",
        "Входные данные: список из 10 чисел."
      ],
      "metadata": {
        "id": "tV1ArsHFK-aj"
      }
    },
    {
      "cell_type": "code",
      "source": [],
      "metadata": {
        "id": "aiVBYeLhLMa4"
      },
      "execution_count": null,
      "outputs": []
    },
    {
      "cell_type": "markdown",
      "source": [
        "**Task 6.** Среднее значение. Дан список чисел, содержащий дневную посещаемость сайта за месяц (30 дней). Найдите среднее значение посещаемости.\n",
        "Входные данные: список из 30 целых чисел."
      ],
      "metadata": {
        "id": "jfmPpUmkLAYG"
      }
    },
    {
      "cell_type": "code",
      "source": [],
      "metadata": {
        "id": "erl8aoj1LM4w"
      },
      "execution_count": null,
      "outputs": []
    },
    {
      "cell_type": "markdown",
      "source": [
        "**Task 7.** Подсчет количества четных чисел. Дан список чисел, содержащий ID клиентов. Определите, сколько ID являются четными.\n",
        "Входные данные: список целых чисел."
      ],
      "metadata": {
        "id": "sRAAO4TgLCBN"
      }
    },
    {
      "cell_type": "code",
      "source": [],
      "metadata": {
        "id": "0TLCc9fYLNYT"
      },
      "execution_count": null,
      "outputs": []
    },
    {
      "cell_type": "markdown",
      "source": [
        "**Task 8.** Фильтрация данных. Дан список чисел, представляющих цены товаров в интернет-магазине. Определите, сколько товаров дороже 1000.\n",
        "Входные данные: список положительных чисел."
      ],
      "metadata": {
        "id": "1Yy_exV5Kd1s"
      }
    },
    {
      "cell_type": "code",
      "source": [],
      "metadata": {
        "id": "RJNtWMJuLN3e"
      },
      "execution_count": null,
      "outputs": []
    },
    {
      "cell_type": "markdown",
      "source": [
        "**Task 9.** Подсчет суммарного количества товаров. В магазине продаются товары нескольких категорий. Дан список, где каждое число — это количество товаров в определенной категории. Найдите общее количество товаров.\n",
        "Входные данные: список целых чисел."
      ],
      "metadata": {
        "id": "GhoqNPDjKQi6"
      }
    },
    {
      "cell_type": "code",
      "source": [],
      "metadata": {
        "id": "h22gAApgLPHY"
      },
      "execution_count": null,
      "outputs": []
    },
    {
      "cell_type": "markdown",
      "source": [
        "**Task 10.** Поиск минимального значения. Дан список чисел, содержащий задержки доставки заказов (в днях) за месяц. Найдите минимальную задержку.\n",
        "Входные данные: список из 30 чисел.\n"
      ],
      "metadata": {
        "id": "CbavsxPRKNsN"
      }
    },
    {
      "cell_type": "code",
      "source": [],
      "metadata": {
        "id": "WG-zb6tlLPuR"
      },
      "execution_count": null,
      "outputs": []
    }
  ]
}