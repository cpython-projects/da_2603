{
  "nbformat": 4,
  "nbformat_minor": 0,
  "metadata": {
    "colab": {
      "provenance": [],
      "authorship_tag": "ABX9TyPTnwAtbmubSiinKvIFu90Y",
      "include_colab_link": true
    },
    "kernelspec": {
      "name": "python3",
      "display_name": "Python 3"
    },
    "language_info": {
      "name": "python"
    }
  },
  "cells": [
    {
      "cell_type": "markdown",
      "metadata": {
        "id": "view-in-github",
        "colab_type": "text"
      },
      "source": [
        "<a href=\"https://colab.research.google.com/github/cpython-projects/da_2603/blob/main/lesson_04_hw.ipynb\" target=\"_parent\"><img src=\"https://colab.research.google.com/assets/colab-badge.svg\" alt=\"Open In Colab\"/></a>"
      ]
    },
    {
      "cell_type": "markdown",
      "source": [
        "**Task 1.** Дано число (четырехзначное). Проверить, является ли оно «счастливым билетом». Примечание: счастливым билетом называется число, в котором при четном количестве цифр сумма цифр его левой половины равна сумме цифр его правой половины. Например, 1322 является счастливым билетом, потому что 1+3=2+2."
      ],
      "metadata": {
        "id": "qhM02m0JHW06"
      }
    },
    {
      "cell_type": "code",
      "execution_count": 4,
      "metadata": {
        "id": "9qRLyp08G_uT",
        "outputId": "e988c5d3-8108-4f2e-b77c-c63b38bb6dc4",
        "colab": {
          "base_uri": "https://localhost:8080/"
        }
      },
      "outputs": [
        {
          "output_type": "stream",
          "name": "stdout",
          "text": [
            "ticket number>>123321\n",
            "Lucky\n"
          ]
        }
      ],
      "source": [
        "ticket_number = input('ticket number>>')\n",
        "if len(ticket_number) % 2:\n",
        "  print('Error')\n",
        "else:\n",
        "  # ticket_number = [int(item) for item in ticket_number]\n",
        "  ticket_number = list(map(int, ticket_number))\n",
        "  mid = len(ticket_number) // 2\n",
        "  left = ticket_number[:mid]\n",
        "  right = ticket_number[mid:]\n",
        "\n",
        "  res = 'Lucky' if sum(left) == sum(right) else 'Unlucky'\n",
        "  print(res)"
      ]
    },
    {
      "cell_type": "markdown",
      "source": [
        "**Task 2.** С клавиатуры вводится число (шестизначное). Проверить, является ли оно палиндромом. Примечание: Палиндромом называется число, слово или текст, которые одинаково читаются слева направо и справа налево. Например, это числа 143341, 5555, 7117 и т.д."
      ],
      "metadata": {
        "id": "nYdKegkDKL4P"
      }
    },
    {
      "cell_type": "code",
      "source": [
        "text = input('text>>')\n",
        "\n",
        "res = 'Палиндром' if text == text[::-1] else 'Не палиндром'\n",
        "print(res)"
      ],
      "metadata": {
        "id": "LqG_Al7cLJYy",
        "outputId": "6bb9514f-5c4c-4dae-a10e-117a821b9f3f",
        "colab": {
          "base_uri": "https://localhost:8080/"
        }
      },
      "execution_count": 6,
      "outputs": [
        {
          "output_type": "stream",
          "name": "stdout",
          "text": [
            "text>>234567890\n",
            "Не палиндром\n"
          ]
        }
      ]
    },
    {
      "cell_type": "markdown",
      "source": [
        "**Task 3.** Подсчет суммарной выручки. У вас есть список дневной выручки магазина за неделю (7 дней). Найдите общую сумму выручки.\n",
        "Входные данные: список из 7 чисел."
      ],
      "metadata": {
        "id": "GDpklKWQKm8a"
      }
    },
    {
      "cell_type": "code",
      "source": [
        "import random\n",
        "x = [random.randint(1_000, 10_000) for _ in range(7)]\n",
        "print(x)\n",
        "\n",
        "print(f'Total: {sum(x)}')"
      ],
      "metadata": {
        "id": "4idnxK-RLKJ8",
        "outputId": "21eb112d-17e8-4dd4-e247-adf533f54c44",
        "colab": {
          "base_uri": "https://localhost:8080/"
        }
      },
      "execution_count": 7,
      "outputs": [
        {
          "output_type": "stream",
          "name": "stdout",
          "text": [
            "[4418, 4279, 3183, 7254, 7703, 3953, 5594]\n",
            "Total: 36384\n"
          ]
        }
      ]
    },
    {
      "cell_type": "markdown",
      "source": [
        "**Task 4.** Определение количества положительных значений. Дан список чисел, который содержит прибыли и убытки компании за несколько месяцев. Посчитайте, сколько месяцев компания работала с прибылью (положительные числа).\n",
        "Входные данные: список целых чисел."
      ],
      "metadata": {
        "id": "JSwMJwdkK8Fo"
      }
    },
    {
      "cell_type": "code",
      "source": [
        "x = [random.randint(-1_000, 1_000) for _ in range(24)]\n",
        "print(x)\n",
        "\n",
        "count = 0\n",
        "for item in x:\n",
        "  if item > 0:\n",
        "    count += 1\n",
        "print(f'Total: {count}')"
      ],
      "metadata": {
        "id": "ZO_f3XAnLKpu",
        "outputId": "26b65a37-b861-42bd-e4b2-be0ecbbcc76d",
        "colab": {
          "base_uri": "https://localhost:8080/"
        }
      },
      "execution_count": 10,
      "outputs": [
        {
          "output_type": "stream",
          "name": "stdout",
          "text": [
            "[-744, -152, -212, -443, 570, 903, 299, 333, 768, 544, 304, 92, -858, -106, -167, -114, 111, -552, -863, 997, -198, 332, -165, 970]\n",
            "Total: 12\n"
          ]
        }
      ]
    },
    {
      "cell_type": "markdown",
      "source": [
        "**Task 5.** Поиск максимального значения. Дан список чисел, содержащий температуры за 10 дней. Найдите максимальную температуру.\n",
        "Входные данные: список из 10 чисел."
      ],
      "metadata": {
        "id": "tV1ArsHFK-aj"
      }
    },
    {
      "cell_type": "code",
      "source": [
        "x = [random.randint(10, 15) for _ in range(10)]\n",
        "print(x)\n",
        "print(f'Max: {max(x)}')\n",
        "\n",
        "\n",
        "max_value = max(x)\n",
        "for index, item in enumerate(x, 1):\n",
        "  if item == max_value:\n",
        "    print(f'Index: {index}')"
      ],
      "metadata": {
        "id": "aiVBYeLhLMa4",
        "outputId": "3102bb74-03ef-4100-9eef-a170c446b512",
        "colab": {
          "base_uri": "https://localhost:8080/"
        }
      },
      "execution_count": 16,
      "outputs": [
        {
          "output_type": "stream",
          "name": "stdout",
          "text": [
            "[11, 15, 15, 11, 15, 11, 11, 14, 14, 13]\n",
            "Max: 15\n",
            "Index: 2\n",
            "Index: 3\n",
            "Index: 5\n"
          ]
        }
      ]
    },
    {
      "cell_type": "markdown",
      "source": [
        "**Task 6.** Среднее значение. Дан список чисел, содержащий дневную посещаемость сайта за месяц (30 дней). Найдите среднее значение посещаемости.\n",
        "Входные данные: список из 30 целых чисел."
      ],
      "metadata": {
        "id": "jfmPpUmkLAYG"
      }
    },
    {
      "cell_type": "code",
      "source": [
        "import math\n",
        "x = [random.randint(100, 1_000) for _ in range(30)]\n",
        "print(x)\n",
        "print(f'Average: {math.floor(sum(x) / len(x))}')"
      ],
      "metadata": {
        "id": "erl8aoj1LM4w",
        "outputId": "769fa49a-efba-45e8-d873-f272bbe95764",
        "colab": {
          "base_uri": "https://localhost:8080/"
        }
      },
      "execution_count": 18,
      "outputs": [
        {
          "output_type": "stream",
          "name": "stdout",
          "text": [
            "[998, 236, 976, 900, 731, 170, 216, 125, 326, 298, 847, 350, 683, 329, 791, 627, 631, 767, 527, 836, 272, 157, 266, 210, 137, 479, 504, 788, 918, 530]\n",
            "Average: 520\n"
          ]
        }
      ]
    },
    {
      "cell_type": "markdown",
      "source": [
        "**Task 7.** Подсчет количества четных чисел. Дан список чисел, содержащий ID клиентов. Определите, сколько ID являются четными.\n",
        "Входные данные: список целых чисел."
      ],
      "metadata": {
        "id": "sRAAO4TgLCBN"
      }
    },
    {
      "cell_type": "code",
      "source": [
        "x = [random.randint(100, 999) for _ in range(30)]\n",
        "\n",
        "print(x)\n",
        "id_even = 0\n",
        "for item in x:\n",
        "  if not item % 2:\n",
        "    id_even += 1\n",
        "print(f'Total: {id_even}')"
      ],
      "metadata": {
        "id": "0TLCc9fYLNYT",
        "outputId": "114d5f3f-b6b0-4578-e38d-4d238478b45d",
        "colab": {
          "base_uri": "https://localhost:8080/"
        }
      },
      "execution_count": 19,
      "outputs": [
        {
          "output_type": "stream",
          "name": "stdout",
          "text": [
            "[626, 192, 533, 854, 897, 845, 249, 493, 397, 529, 303, 577, 634, 553, 419, 641, 192, 147, 133, 898, 537, 173, 954, 556, 160, 589, 625, 807, 150, 897]\n",
            "Total: 10\n"
          ]
        }
      ]
    },
    {
      "cell_type": "markdown",
      "source": [
        "**Task 8.** Фильтрация данных. Дан список чисел, представляющих цены товаров в интернет-магазине. Определите, сколько товаров дороже 1000.\n",
        "Входные данные: список положительных чисел."
      ],
      "metadata": {
        "id": "1Yy_exV5Kd1s"
      }
    },
    {
      "cell_type": "code",
      "source": [
        "x = [random.randint(100, 1_0000) for _ in range(30)]\n",
        "\n",
        "print(x)\n",
        "\n",
        "count = 0\n",
        "max_value = 1000\n",
        "for item in x:\n",
        "  if item > max_value:\n",
        "    count += 1\n",
        "print(f'Total: {count}')"
      ],
      "metadata": {
        "id": "RJNtWMJuLN3e",
        "outputId": "9fc173b4-fce6-4aaf-f6fe-449003ce6119",
        "colab": {
          "base_uri": "https://localhost:8080/"
        }
      },
      "execution_count": 20,
      "outputs": [
        {
          "output_type": "stream",
          "name": "stdout",
          "text": [
            "[2099, 6786, 4803, 4013, 2442, 301, 8798, 7348, 7278, 1775, 440, 1200, 6264, 7302, 2333, 8937, 3197, 9021, 1366, 7864, 5153, 9726, 1071, 5526, 2458, 2433, 5706, 6177, 2852, 212]\n",
            "Total: 27\n"
          ]
        }
      ]
    },
    {
      "cell_type": "markdown",
      "source": [
        "**Task 9.** Подсчет суммарного количества товаров. В магазине продаются товары нескольких категорий. Дан список, где каждое число — это количество товаров в определенной категории. Найдите общее количество товаров.\n",
        "Входные данные: список целых чисел."
      ],
      "metadata": {
        "id": "GhoqNPDjKQi6"
      }
    },
    {
      "cell_type": "code",
      "source": [
        "x = [random.randint(100, 1_000) for _ in range(30)]\n",
        "print(sum(x))"
      ],
      "metadata": {
        "id": "h22gAApgLPHY",
        "outputId": "eafc52e7-daee-4735-91b6-b892aeac8ffc",
        "colab": {
          "base_uri": "https://localhost:8080/"
        }
      },
      "execution_count": 21,
      "outputs": [
        {
          "output_type": "stream",
          "name": "stdout",
          "text": [
            "13924\n"
          ]
        }
      ]
    },
    {
      "cell_type": "markdown",
      "source": [
        "**Task 10.** Поиск минимального значения. Дан список чисел, содержащий задержки доставки заказов (в днях) за месяц. Найдите минимальную задержку.\n",
        "Входные данные: список из 30 чисел.\n"
      ],
      "metadata": {
        "id": "CbavsxPRKNsN"
      }
    },
    {
      "cell_type": "code",
      "source": [
        "x = [random.randint(100, 1_000) for _ in range(30)]\n",
        "print(min(x))"
      ],
      "metadata": {
        "id": "WG-zb6tlLPuR",
        "outputId": "68b30046-6256-4e3a-845e-e4a992ad1e54",
        "colab": {
          "base_uri": "https://localhost:8080/"
        }
      },
      "execution_count": 22,
      "outputs": [
        {
          "output_type": "stream",
          "name": "stdout",
          "text": [
            "129\n"
          ]
        }
      ]
    }
  ]
}