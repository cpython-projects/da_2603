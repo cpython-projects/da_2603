{
  "nbformat": 4,
  "nbformat_minor": 0,
  "metadata": {
    "colab": {
      "provenance": [],
      "authorship_tag": "ABX9TyNFMdVlKTTMvndGW8/dusNc",
      "include_colab_link": true
    },
    "kernelspec": {
      "name": "python3",
      "display_name": "Python 3"
    },
    "language_info": {
      "name": "python"
    }
  },
  "cells": [
    {
      "cell_type": "markdown",
      "metadata": {
        "id": "view-in-github",
        "colab_type": "text"
      },
      "source": [
        "<a href=\"https://colab.research.google.com/github/cpython-projects/da_2603/blob/main/lesson_11_hw.ipynb\" target=\"_parent\"><img src=\"https://colab.research.google.com/assets/colab-badge.svg\" alt=\"Open In Colab\"/></a>"
      ]
    },
    {
      "cell_type": "markdown",
      "source": [
        "**Task 1.** Дан список транзакций, например:\n",
        "\n",
        "```python\n",
        "transactions = [1200, -500, 300, -50, 900, -2000]\n",
        "```\n",
        "\n",
        "Используя `lambda`, `filter`, `map`, разделите транзакции на \"доходы\" и \"расходы\", затем создайте список меток (`\"Income\"` или `\"Expense\"`), соответствующих каждой транзакции."
      ],
      "metadata": {
        "id": "UldiZJQ4UvxL"
      }
    },
    {
      "cell_type": "code",
      "source": [
        "transactions = [1200, -500, 300, -50, 900, -2000]\n",
        "income = list(filter(lambda x: x > 0, transactions))\n",
        "expense = list(filter(lambda x: x < 0, transactions))\n",
        "labels = list(map(lambda x: \"Income\" if x > 0 else \"Expense\", transactions))"
      ],
      "metadata": {
        "id": "xrwQK9YkU_Q5"
      },
      "execution_count": 6,
      "outputs": []
    },
    {
      "cell_type": "code",
      "source": [
        "print(income)\n",
        "print(expense)\n",
        "print(labels)"
      ],
      "metadata": {
        "id": "EBvlhsOfTOr3",
        "outputId": "8e1c542b-57d1-4bff-9d65-d0d9a9ef6ed9",
        "colab": {
          "base_uri": "https://localhost:8080/"
        }
      },
      "execution_count": 7,
      "outputs": [
        {
          "output_type": "stream",
          "name": "stdout",
          "text": [
            "[1200, 300, 900]\n",
            "[-500, -50, -2000]\n",
            "['Income', 'Expense', 'Income', 'Expense', 'Income', 'Expense']\n"
          ]
        }
      ]
    },
    {
      "cell_type": "markdown",
      "source": [
        "**Task 2.** Дан список записей (словарей) клиентов:\n",
        "\n",
        "```python\n",
        "clients = [{'name': 'Alice', 'email': 'alice@mail.com'},\n",
        "           {'name': 'Bob', 'email': ''},\n",
        "           {'name': '', 'email': 'carol@mail.com'}]\n",
        "```\n",
        "\n",
        "Проверьте, все ли клиенты заполнили свои данные (`all`), и есть ли среди них хотя бы один с полностью заполненной анкетой (`any`)."
      ],
      "metadata": {
        "id": "h6S7Kaz0U_nT"
      }
    },
    {
      "cell_type": "code",
      "source": [
        "clients = [{'name': 'Alice', 'email': 'alice@mail.com'},\n",
        "           {'name': 'Bob', 'email': ''},\n",
        "           {'name': '', 'email': 'carol@mail.com'}]\n",
        "\n",
        "\n",
        "all_fill = all([item.get('name') and item.get('email') for item in clients])\n",
        "any_fill = any([item.get('name') and item.get('email') for item in clients])\n",
        "\n",
        "print(all_fill)\n",
        "print(any_fill)"
      ],
      "metadata": {
        "id": "BmvUjiD-VIjY",
        "outputId": "9f5eda70-7b07-4481-d88f-f1ba5919c8a0",
        "colab": {
          "base_uri": "https://localhost:8080/"
        }
      },
      "execution_count": 8,
      "outputs": [
        {
          "output_type": "stream",
          "name": "stdout",
          "text": [
            "False\n",
            "True\n"
          ]
        }
      ]
    },
    {
      "cell_type": "code",
      "source": [
        "clients = [{'name': 'Alice', 'email': 'alice@mail.com'},\n",
        "           {'name': 'Bob', 'email': ''},\n",
        "           {'name': '', 'email': 'carol@mail.com'}]\n",
        "\n",
        "\n",
        "all_fill = all(map(lambda item: item.get('name') and item.get('email'), clients))\n",
        "any_fill = any(map(lambda item: item.get('name') and item.get('email'), clients))\n",
        "\n",
        "print(all_fill)\n",
        "print(any_fill)"
      ],
      "metadata": {
        "id": "9LeeNRhqUKwT",
        "outputId": "16331a44-f440-488d-d8f9-c97776e69695",
        "colab": {
          "base_uri": "https://localhost:8080/"
        }
      },
      "execution_count": 9,
      "outputs": [
        {
          "output_type": "stream",
          "name": "stdout",
          "text": [
            "False\n",
            "True\n"
          ]
        }
      ]
    },
    {
      "cell_type": "code",
      "source": [
        "import random\n",
        "import sys\n",
        "\n",
        "x = [random.randint(1, 1_000) for i in range(200)]\n",
        "print(sys.getsizeof(x))\n"
      ],
      "metadata": {
        "id": "Mvl0WC48UrIS",
        "outputId": "9f2a5841-6ff1-45b1-fdd9-d1ec927dfa8a",
        "colab": {
          "base_uri": "https://localhost:8080/"
        }
      },
      "execution_count": 10,
      "outputs": [
        {
          "output_type": "stream",
          "name": "stdout",
          "text": [
            "1656\n"
          ]
        }
      ]
    },
    {
      "cell_type": "code",
      "source": [
        "y = [item ** 3 for item in x]\n",
        "print(sys.getsizeof(y))"
      ],
      "metadata": {
        "id": "J-qj-8BIU7X7",
        "outputId": "8c372339-0ec4-41cd-98bb-213229cc401a",
        "colab": {
          "base_uri": "https://localhost:8080/"
        }
      },
      "execution_count": 11,
      "outputs": [
        {
          "output_type": "stream",
          "name": "stdout",
          "text": [
            "1656\n"
          ]
        }
      ]
    },
    {
      "cell_type": "code",
      "source": [
        "y = map(lambda item: item ** 3, x)\n",
        "print(sys.getsizeof(y))"
      ],
      "metadata": {
        "id": "5LOj-_IWVD2x",
        "outputId": "272bc748-db55-4535-ca59-6a5770209208",
        "colab": {
          "base_uri": "https://localhost:8080/"
        }
      },
      "execution_count": 12,
      "outputs": [
        {
          "output_type": "stream",
          "name": "stdout",
          "text": [
            "48\n"
          ]
        }
      ]
    },
    {
      "cell_type": "markdown",
      "source": [
        "**Task 3.** У вас есть два списка: даты и значения температуры.\n",
        "\n",
        "```python\n",
        "dates = ['2023-01-01', '2023-01-02', '2023-01-03']\n",
        "temps = [5.5, 3.2, 4.0]\n",
        "```\n",
        "\n",
        "С помощью `zip` объедините их в пары и найдите дату с самой низкой температурой."
      ],
      "metadata": {
        "id": "8pw5kqncVJAF"
      }
    },
    {
      "cell_type": "code",
      "source": [
        "dates = ['2023-01-01', '2023-01-02', '2023-01-03']\n",
        "temps = [5.5, 3.2, 4.0]\n",
        "\n",
        "temp_date = zip(temps, dates)\n",
        "# print(*temp_date)"
      ],
      "metadata": {
        "id": "6zmB7_OiVRH4"
      },
      "execution_count": 16,
      "outputs": []
    },
    {
      "cell_type": "code",
      "source": [
        "min(temp_date)"
      ],
      "metadata": {
        "id": "7wrnt-yKWPHw",
        "outputId": "05d8416b-4e57-494c-e4c1-f4619d2eae25",
        "colab": {
          "base_uri": "https://localhost:8080/"
        }
      },
      "execution_count": 17,
      "outputs": [
        {
          "output_type": "execute_result",
          "data": {
            "text/plain": [
              "(3.2, '2023-01-02')"
            ]
          },
          "metadata": {},
          "execution_count": 17
        }
      ]
    },
    {
      "cell_type": "code",
      "source": [
        "dates = ['2023-01-01', '2023-01-02', '2023-01-03']\n",
        "temps = [5.5, 3.2, 4.0]\n",
        "\n",
        "temp_date = zip(dates, temps)"
      ],
      "metadata": {
        "id": "2Db-Klk8WeZd"
      },
      "execution_count": 21,
      "outputs": []
    },
    {
      "cell_type": "code",
      "source": [
        "min(temp_date, key=lambda item: item[1])"
      ],
      "metadata": {
        "id": "MyuNho9MWkRX",
        "outputId": "b1c0ee62-6be7-40f7-9a5b-9e0482c53201",
        "colab": {
          "base_uri": "https://localhost:8080/"
        }
      },
      "execution_count": 22,
      "outputs": [
        {
          "output_type": "execute_result",
          "data": {
            "text/plain": [
              "('2023-01-02', 3.2)"
            ]
          },
          "metadata": {},
          "execution_count": 22
        }
      ]
    },
    {
      "cell_type": "markdown",
      "source": [
        "**Task 4.** Дан список ежедневных новых пользователей:\n",
        "\n",
        "```python\n",
        "new_users = [10, 15, 7, 20]\n",
        "```\n",
        "\n",
        "С помощью `reduce` рассчитайте общее количество пользователей по дням (кумулятивно) и найдите день, когда число пользователей впервые превысило 30."
      ],
      "metadata": {
        "id": "AYjvwO3hVRiB"
      }
    },
    {
      "cell_type": "code",
      "source": [
        "from functools import reduce\n",
        "from operator import add\n",
        "\n",
        "new_users = [10, 15, 7, 20]\n",
        "\n",
        "flag = True\n",
        "for i in range(1, len(new_users) + 1):\n",
        "    tmp = new_users[:i]\n",
        "    res = reduce(add, tmp)\n",
        "    if res > 30 and flag:\n",
        "        print(i)\n",
        "        flag = False\n",
        "    print(res)"
      ],
      "metadata": {
        "id": "UAiZjKN0VbIA",
        "outputId": "2fe4564e-e34b-49d2-d66d-d25032b30a25",
        "colab": {
          "base_uri": "https://localhost:8080/"
        }
      },
      "execution_count": 34,
      "outputs": [
        {
          "output_type": "stream",
          "name": "stdout",
          "text": [
            "10\n",
            "25\n",
            "3\n",
            "32\n",
            "52\n"
          ]
        }
      ]
    },
    {
      "cell_type": "markdown",
      "source": [
        "**Task 5.** Напишите функцию average_columns(*args), которая принимает произвольное количество списков одинаковой длины — это могут быть числовые значения по разным метрикам (например, продажи, расходы, клики). Функция должна возвращать список средних значений по позициям, то есть по столбцам.\n",
        "\n",
        "Пример вызова функции:\n",
        "```python\n",
        "average_columns([10, 20, 30], [20, 30, 40], [30, 40, 50])\n",
        "# → [20.0, 30.0, 40.0]\n",
        "```"
      ],
      "metadata": {
        "id": "DTPbjlGYVbaD"
      }
    },
    {
      "cell_type": "code",
      "source": [
        "import statistics\n",
        "\n",
        "def average_columns(*args):\n",
        "  res = []\n",
        "  for seq in args:\n",
        "    res.append(statistics.mean(seq))\n",
        "  return res\n",
        "\n",
        "average_columns([10, 20, 30], [20, 30, 40], [30, 40, 50])"
      ],
      "metadata": {
        "id": "h5XHQGdmV74m",
        "outputId": "3b00ce1d-dce8-4134-c449-b5fb090107c6",
        "colab": {
          "base_uri": "https://localhost:8080/"
        }
      },
      "execution_count": 35,
      "outputs": [
        {
          "output_type": "execute_result",
          "data": {
            "text/plain": [
              "[20, 30, 40]"
            ]
          },
          "metadata": {},
          "execution_count": 35
        }
      ]
    },
    {
      "cell_type": "markdown",
      "source": [
        "**Task 6.** Напишите функцию filter_clients(clients, **criteria), которая принимает список клиентов (словарей) и произвольное количество фильтров (например, min_age, country). Функция должна возвращать только тех клиентов, которые удовлетворяют всем заданным критериям.\n",
        "\n",
        "Поддерживаемые фильтры:\n",
        "-  min_age: минимальный возраст\n",
        "-  max_age: максимальный возраст\n",
        "-  country: страна\n",
        "\n",
        "Пример входных данных:\n",
        "```python\n",
        "clients = [\n",
        "    {'name': 'Alice', 'age': 28, 'country': 'USA'},\n",
        "    {'name': 'Bob', 'age': 35, 'country': 'Canada'},\n",
        "    {'name': 'Carol', 'age': 40, 'country': 'USA'},\n",
        "]\n",
        "\n",
        "filter_clients(clients, min_age=30, country='USA')\n",
        "# → [{'name': 'Carol', 'age': 40, 'country': 'USA'}]\n",
        "```"
      ],
      "metadata": {
        "id": "pKnu5_SwVppG"
      }
    },
    {
      "cell_type": "code",
      "source": [
        "def filter_clients(clients, **criteria):\n",
        "  res = clients\n",
        "  if criteria.get('min_age'):\n",
        "    res = filter(lambda item: item['age'] >= criteria['min_age'], res)\n",
        "  if criteria.get('max_age'):\n",
        "    res = filter(lambda item: item['age'] <= criteria['max_age'], res)\n",
        "  if criteria.get('country'):\n",
        "    res = filter(lambda item: item['country'] == criteria['country'], res)\n",
        "\n",
        "  return res"
      ],
      "metadata": {
        "id": "hBLND2y1VrSu"
      },
      "execution_count": 37,
      "outputs": []
    },
    {
      "cell_type": "code",
      "source": [
        "clients = [\n",
        "    {'name': 'Alice', 'age': 28, 'country': 'USA'},\n",
        "    {'name': 'Bob', 'age': 35, 'country': 'Canada'},\n",
        "    {'name': 'Carol', 'age': 40, 'country': 'USA'},\n",
        "]\n",
        "\n",
        "list(filter_clients(clients, min_age=30, country='USA'))\n",
        "# → [{'name': 'Carol', 'age': 40, 'country': 'USA'}]"
      ],
      "metadata": {
        "id": "xTDz0j_lcoXw",
        "outputId": "036b2b0e-4e0d-4594-bf26-eeeb91bff760",
        "colab": {
          "base_uri": "https://localhost:8080/"
        }
      },
      "execution_count": 39,
      "outputs": [
        {
          "output_type": "execute_result",
          "data": {
            "text/plain": [
              "[{'name': 'Carol', 'age': 40, 'country': 'USA'}]"
            ]
          },
          "metadata": {},
          "execution_count": 39
        }
      ]
    },
    {
      "cell_type": "code",
      "source": [
        "def filter_clients(clients, filters):\n",
        "  res = clients\n",
        "\n",
        "  for f in filters:\n",
        "    res = filter(f, res)\n",
        "\n",
        "  return res\n",
        "\n",
        "funcs = [\n",
        "    lambda item: item['age'] >= 30,\n",
        "    lambda item: item['country'] == 'USA'\n",
        "]\n",
        "\n",
        "list(filter_clients(clients, funcs))"
      ],
      "metadata": {
        "id": "9oci9qVcc4m_",
        "outputId": "b917808d-4a0f-42bc-f204-97c9f8998f12",
        "colab": {
          "base_uri": "https://localhost:8080/"
        }
      },
      "execution_count": 40,
      "outputs": [
        {
          "output_type": "execute_result",
          "data": {
            "text/plain": [
              "[{'name': 'Carol', 'age': 40, 'country': 'USA'}]"
            ]
          },
          "metadata": {},
          "execution_count": 40
        }
      ]
    }
  ]
}