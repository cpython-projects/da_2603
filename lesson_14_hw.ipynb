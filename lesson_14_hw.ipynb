{
  "nbformat": 4,
  "nbformat_minor": 0,
  "metadata": {
    "colab": {
      "provenance": [],
      "authorship_tag": "ABX9TyPYtCc0Mvsga0vIYXBL/Za7",
      "include_colab_link": true
    },
    "kernelspec": {
      "name": "python3",
      "display_name": "Python 3"
    },
    "language_info": {
      "name": "python"
    }
  },
  "cells": [
    {
      "cell_type": "markdown",
      "metadata": {
        "id": "view-in-github",
        "colab_type": "text"
      },
      "source": [
        "<a href=\"https://colab.research.google.com/github/cpython-projects/da_2603/blob/main/lesson_14_hw.ipynb\" target=\"_parent\"><img src=\"https://colab.research.google.com/assets/colab-badge.svg\" alt=\"Open In Colab\"/></a>"
      ]
    },
    {
      "cell_type": "markdown",
      "source": [
        "**Task 1.** Напишите функцию, которая принимает возраст пользователя и возвращает подтверждение, если возраст больше 18. Если возраст меньше, выбросьте исключение с сообщением, что возраст недостаточен.  \n",
        "Пример входных данных: возраст = 16"
      ],
      "metadata": {
        "id": "aOJfewGssL_d"
      }
    },
    {
      "cell_type": "code",
      "source": [
        "from datetime import datetime\n",
        "\n",
        "def is_adult(date_of_birth: str):\n",
        "  date_of_birth = datetime.strptime(date_of_birth, '%d.%m.%Y')\n",
        "  today = datetime.now()\n",
        "  age = today.year - date_of_birth.year - ((today.month, today.day) < (date_of_birth.month, date_of_birth.day))\n",
        "  if age < 16:\n",
        "    raise ValueError('Bозраст недостаточен')\n",
        "\n",
        "  return True"
      ],
      "metadata": {
        "id": "E4QE2QCZvAYE"
      },
      "execution_count": 1,
      "outputs": []
    },
    {
      "cell_type": "code",
      "source": [
        "is_adult('01.01.2005')"
      ],
      "metadata": {
        "id": "YLmRYFl3atoe",
        "outputId": "34781228-e277-42ae-a907-cf58ead57d44",
        "colab": {
          "base_uri": "https://localhost:8080/"
        }
      },
      "execution_count": 2,
      "outputs": [
        {
          "output_type": "execute_result",
          "data": {
            "text/plain": [
              "True"
            ]
          },
          "metadata": {},
          "execution_count": 2
        }
      ]
    },
    {
      "cell_type": "code",
      "source": [
        "is_adult('01.01.2020')"
      ],
      "metadata": {
        "id": "bebqhZ6Pawy2",
        "outputId": "c702ee3a-d587-4a59-a97a-f43727204406",
        "colab": {
          "base_uri": "https://localhost:8080/",
          "height": 263
        }
      },
      "execution_count": 3,
      "outputs": [
        {
          "output_type": "error",
          "ename": "ValueError",
          "evalue": "Bозраст недостаточен",
          "traceback": [
            "\u001b[0;31m---------------------------------------------------------------------------\u001b[0m",
            "\u001b[0;31mValueError\u001b[0m                                Traceback (most recent call last)",
            "\u001b[0;32m<ipython-input-3-235bbc71461f>\u001b[0m in \u001b[0;36m<cell line: 0>\u001b[0;34m()\u001b[0m\n\u001b[0;32m----> 1\u001b[0;31m \u001b[0mis_adult\u001b[0m\u001b[0;34m(\u001b[0m\u001b[0;34m'01.01.2020'\u001b[0m\u001b[0;34m)\u001b[0m\u001b[0;34m\u001b[0m\u001b[0;34m\u001b[0m\u001b[0m\n\u001b[0m",
            "\u001b[0;32m<ipython-input-1-553e75a3f86d>\u001b[0m in \u001b[0;36mis_adult\u001b[0;34m(date_of_birth)\u001b[0m\n\u001b[1;32m      6\u001b[0m   \u001b[0mage\u001b[0m \u001b[0;34m=\u001b[0m \u001b[0mtoday\u001b[0m\u001b[0;34m.\u001b[0m\u001b[0myear\u001b[0m \u001b[0;34m-\u001b[0m \u001b[0mdate_of_birth\u001b[0m\u001b[0;34m.\u001b[0m\u001b[0myear\u001b[0m \u001b[0;34m-\u001b[0m \u001b[0;34m(\u001b[0m\u001b[0;34m(\u001b[0m\u001b[0mtoday\u001b[0m\u001b[0;34m.\u001b[0m\u001b[0mmonth\u001b[0m\u001b[0;34m,\u001b[0m \u001b[0mtoday\u001b[0m\u001b[0;34m.\u001b[0m\u001b[0mday\u001b[0m\u001b[0;34m)\u001b[0m \u001b[0;34m<\u001b[0m \u001b[0;34m(\u001b[0m\u001b[0mdate_of_birth\u001b[0m\u001b[0;34m.\u001b[0m\u001b[0mmonth\u001b[0m\u001b[0;34m,\u001b[0m \u001b[0mdate_of_birth\u001b[0m\u001b[0;34m.\u001b[0m\u001b[0mday\u001b[0m\u001b[0;34m)\u001b[0m\u001b[0;34m)\u001b[0m\u001b[0;34m\u001b[0m\u001b[0;34m\u001b[0m\u001b[0m\n\u001b[1;32m      7\u001b[0m   \u001b[0;32mif\u001b[0m \u001b[0mage\u001b[0m \u001b[0;34m<\u001b[0m \u001b[0;36m16\u001b[0m\u001b[0;34m:\u001b[0m\u001b[0;34m\u001b[0m\u001b[0;34m\u001b[0m\u001b[0m\n\u001b[0;32m----> 8\u001b[0;31m     \u001b[0;32mraise\u001b[0m \u001b[0mValueError\u001b[0m\u001b[0;34m(\u001b[0m\u001b[0;34m'Bозраст недостаточен'\u001b[0m\u001b[0;34m)\u001b[0m\u001b[0;34m\u001b[0m\u001b[0;34m\u001b[0m\u001b[0m\n\u001b[0m\u001b[1;32m      9\u001b[0m \u001b[0;34m\u001b[0m\u001b[0m\n\u001b[1;32m     10\u001b[0m   \u001b[0;32mreturn\u001b[0m \u001b[0;32mTrue\u001b[0m\u001b[0;34m\u001b[0m\u001b[0;34m\u001b[0m\u001b[0m\n",
            "\u001b[0;31mValueError\u001b[0m: Bозраст недостаточен"
          ]
        }
      ]
    },
    {
      "cell_type": "markdown",
      "source": [
        "**Task 2.** Создайте программу, которая конвертирует валюты. При попытке конвертации валюты, которой нет в справочнике, выбросьте исключение с сообщением \"Валюта не найдена\".  \n",
        "Пример входных данных: amount = 100, from_currency = \"USD\", to_currency = \"XYZ\""
      ],
      "metadata": {
        "id": "rXYirtFmu02R"
      }
    },
    {
      "cell_type": "code",
      "source": [
        "currencies = {\n",
        "    'USD': {\n",
        "        'EUR': 0.8,\n",
        "        'UAH': 40\n",
        "    },\n",
        "    'EUR': {\n",
        "        'USD': 1.2,\n",
        "        'UAH': 45\n",
        "    },\n",
        "    'UAH': {\n",
        "        'USD': 0.25,\n",
        "        'EUR': 0.045\n",
        "    }\n",
        "}\n",
        "\n",
        "\n",
        "def convert(amount: float, from_currency: str, to_currency: str, currencies: dict):\n",
        "  if from_currency not in currencies:\n",
        "    raise ValueError('Валюта не найдена')\n",
        "  if to_currency not in currencies[from_currency]:\n",
        "    raise ValueError('Валюта не найдена')\n",
        "\n",
        "  result = amount * currencies[from_currency][to_currency]\n",
        "  return result"
      ],
      "metadata": {
        "id": "Ro3q-ixnvBuB"
      },
      "execution_count": 4,
      "outputs": []
    },
    {
      "cell_type": "markdown",
      "source": [
        "**Task 3.** Напишите программу, которая считывает данные из CSV-файла и проверяет, нет ли в колонках пропусков (NaN). Если пропуски есть, выбросьте исключение с указанием, в каких колонках они обнаружены.  \n",
        "\n",
        "*Пример содержимого `example_data.csv`*  \n",
        "```csv\n",
        "Name,Age,Salary\n",
        "Alice,25,50000\n",
        "Bob,,60000\n",
        "Charlie,30,\n",
        "```\n",
        "В этом примере:  \n",
        "* У Боба отсутствует значение в колонке `Age`.  \n",
        "* У Чарли отсутствует значение в колонке `Salary`."
      ],
      "metadata": {
        "id": "xtxVaGDQu-jt"
      }
    },
    {
      "cell_type": "code",
      "source": [
        "import csv\n",
        "\n",
        "data = [\n",
        "    'Name,Age,Salary',\n",
        "    'Alice,25,50000',\n",
        "    'Bob,,60000',\n",
        "    'Charlie,30,'\n",
        "]\n",
        "\n",
        "with open('example_data.csv', 'w') as f:\n",
        "  writer = csv.writer(f)\n",
        "  for row in data:\n",
        "    writer.writerow(row.split(','))"
      ],
      "metadata": {
        "id": "UKqLnEm3vC07"
      },
      "execution_count": 5,
      "outputs": []
    },
    {
      "cell_type": "code",
      "source": [
        "import os\n",
        "\n",
        "def check_csv(filename: str):\n",
        "  if not os.path.exists(filename):\n",
        "    raise FileNotFoundError('Файл не найден')\n",
        "\n",
        "  with open(filename, 'r') as f:\n",
        "    reader = csv.DictReader(f)\n",
        "    for row in reader:\n",
        "      for key, value in row.items():\n",
        "        if not value:\n",
        "          raise ValueError(f'В колонке {key} отсутствует значение')\n",
        "\n",
        "\n",
        "check_csv('example_data.csv')\n"
      ],
      "metadata": {
        "id": "yzz2Q2kVceSn",
        "outputId": "6ed02e42-4e00-44bd-dec2-8402777791ef",
        "colab": {
          "base_uri": "https://localhost:8080/",
          "height": 297
        }
      },
      "execution_count": 8,
      "outputs": [
        {
          "output_type": "error",
          "ename": "ValueError",
          "evalue": "В колонке Age отсутствует значение",
          "traceback": [
            "\u001b[0;31m---------------------------------------------------------------------------\u001b[0m",
            "\u001b[0;31mValueError\u001b[0m                                Traceback (most recent call last)",
            "\u001b[0;32m<ipython-input-8-0df2ef6fd752>\u001b[0m in \u001b[0;36m<cell line: 0>\u001b[0;34m()\u001b[0m\n\u001b[1;32m     13\u001b[0m \u001b[0;34m\u001b[0m\u001b[0m\n\u001b[1;32m     14\u001b[0m \u001b[0;34m\u001b[0m\u001b[0m\n\u001b[0;32m---> 15\u001b[0;31m \u001b[0mcheck_csv\u001b[0m\u001b[0;34m(\u001b[0m\u001b[0;34m'example_data.csv'\u001b[0m\u001b[0;34m)\u001b[0m\u001b[0;34m\u001b[0m\u001b[0;34m\u001b[0m\u001b[0m\n\u001b[0m",
            "\u001b[0;32m<ipython-input-8-0df2ef6fd752>\u001b[0m in \u001b[0;36mcheck_csv\u001b[0;34m(filename)\u001b[0m\n\u001b[1;32m     10\u001b[0m       \u001b[0;32mfor\u001b[0m \u001b[0mkey\u001b[0m\u001b[0;34m,\u001b[0m \u001b[0mvalue\u001b[0m \u001b[0;32min\u001b[0m \u001b[0mrow\u001b[0m\u001b[0;34m.\u001b[0m\u001b[0mitems\u001b[0m\u001b[0;34m(\u001b[0m\u001b[0;34m)\u001b[0m\u001b[0;34m:\u001b[0m\u001b[0;34m\u001b[0m\u001b[0;34m\u001b[0m\u001b[0m\n\u001b[1;32m     11\u001b[0m         \u001b[0;32mif\u001b[0m \u001b[0;32mnot\u001b[0m \u001b[0mvalue\u001b[0m\u001b[0;34m:\u001b[0m\u001b[0;34m\u001b[0m\u001b[0;34m\u001b[0m\u001b[0m\n\u001b[0;32m---> 12\u001b[0;31m           \u001b[0;32mraise\u001b[0m \u001b[0mValueError\u001b[0m\u001b[0;34m(\u001b[0m\u001b[0;34mf'В колонке {key} отсутствует значение'\u001b[0m\u001b[0;34m)\u001b[0m\u001b[0;34m\u001b[0m\u001b[0;34m\u001b[0m\u001b[0m\n\u001b[0m\u001b[1;32m     13\u001b[0m \u001b[0;34m\u001b[0m\u001b[0m\n\u001b[1;32m     14\u001b[0m \u001b[0;34m\u001b[0m\u001b[0m\n",
            "\u001b[0;31mValueError\u001b[0m: В колонке Age отсутствует значение"
          ]
        }
      ]
    },
    {
      "cell_type": "markdown",
      "source": [
        "**Task 4.** Напишите функцию, которая принимает список с датами и проверяет их формат. Если формат некорректен (например, не YYYY-MM-DD), выбросьте исключение.  \n",
        "Обработайте ошибку, чтобы записать некорректные значения в отдельный список.  \n",
        "Пример входных данных: [\"2023-01-01\", \"01-02-2023\", \"2023/03/05\"]"
      ],
      "metadata": {
        "id": "UH_NLZnuu7XJ"
      }
    },
    {
      "cell_type": "code",
      "source": [
        "from datetime import datetime\n",
        "\n",
        "def check_dates(dates: list, format: str):\n",
        "  incorrect_dates = []\n",
        "  for date in dates:\n",
        "    try:\n",
        "      datetime.strptime(date, format)\n",
        "    except ValueError:\n",
        "      incorrect_dates.append(date)\n",
        "  return incorrect_dates\n",
        "\n",
        "dates = [\"2023-01-01\", \"01-02-2023\", \"2023/03/05\"]\n",
        "res = check_dates(dates, '%Y-%m-%d')\n",
        "print(res)"
      ],
      "metadata": {
        "id": "uRF0KhYfvDYu",
        "outputId": "d425fcb6-4744-4b8c-9029-b1e471bc77ff",
        "colab": {
          "base_uri": "https://localhost:8080/"
        }
      },
      "execution_count": 10,
      "outputs": [
        {
          "output_type": "stream",
          "name": "stdout",
          "text": [
            "['01-02-2023', '2023/03/05']\n"
          ]
        }
      ]
    },
    {
      "cell_type": "markdown",
      "source": [
        "**Task 5.** Напишите функцию для анализа данных о продажах, которая принимает колонку с ценами и проверяет, находятся ли все значения в диапазоне от 0 до 1000. Если есть значения за пределами диапазона, выбросьте исключение с сообщением.  \n",
        "Пример входных данных: [150, 200, -20, 1050]"
      ],
      "metadata": {
        "id": "V4cxL7I8u3pP"
      }
    },
    {
      "cell_type": "code",
      "source": [
        "def check_prices(prices: list):\n",
        "  res = filter(lambda x: x < 0 or x > 1000, prices)\n",
        "  for item in res:\n",
        "    raise ValueError(f'Цена {item} за пределами диапазона')\n",
        "\n",
        "data = [150, 200, -20, 105]\n",
        "check_prices(data)"
      ],
      "metadata": {
        "id": "hAdK3FzqvD6o",
        "outputId": "12aafaa4-1180-48df-ea30-b290b37f9aed",
        "colab": {
          "base_uri": "https://localhost:8080/",
          "height": 297
        }
      },
      "execution_count": 14,
      "outputs": [
        {
          "output_type": "error",
          "ename": "ValueError",
          "evalue": "Цена -20 за пределами диапазона",
          "traceback": [
            "\u001b[0;31m---------------------------------------------------------------------------\u001b[0m",
            "\u001b[0;31mValueError\u001b[0m                                Traceback (most recent call last)",
            "\u001b[0;32m<ipython-input-14-052992b862a8>\u001b[0m in \u001b[0;36m<cell line: 0>\u001b[0;34m()\u001b[0m\n\u001b[1;32m      5\u001b[0m \u001b[0;34m\u001b[0m\u001b[0m\n\u001b[1;32m      6\u001b[0m \u001b[0mdata\u001b[0m \u001b[0;34m=\u001b[0m \u001b[0;34m[\u001b[0m\u001b[0;36m150\u001b[0m\u001b[0;34m,\u001b[0m \u001b[0;36m200\u001b[0m\u001b[0;34m,\u001b[0m \u001b[0;34m-\u001b[0m\u001b[0;36m20\u001b[0m\u001b[0;34m,\u001b[0m \u001b[0;36m105\u001b[0m\u001b[0;34m]\u001b[0m\u001b[0;34m\u001b[0m\u001b[0;34m\u001b[0m\u001b[0m\n\u001b[0;32m----> 7\u001b[0;31m \u001b[0mcheck_prices\u001b[0m\u001b[0;34m(\u001b[0m\u001b[0mdata\u001b[0m\u001b[0;34m)\u001b[0m\u001b[0;34m\u001b[0m\u001b[0;34m\u001b[0m\u001b[0m\n\u001b[0m",
            "\u001b[0;32m<ipython-input-14-052992b862a8>\u001b[0m in \u001b[0;36mcheck_prices\u001b[0;34m(prices)\u001b[0m\n\u001b[1;32m      2\u001b[0m   \u001b[0mres\u001b[0m \u001b[0;34m=\u001b[0m \u001b[0mfilter\u001b[0m\u001b[0;34m(\u001b[0m\u001b[0;32mlambda\u001b[0m \u001b[0mx\u001b[0m\u001b[0;34m:\u001b[0m \u001b[0mx\u001b[0m \u001b[0;34m<\u001b[0m \u001b[0;36m0\u001b[0m \u001b[0;32mor\u001b[0m \u001b[0mx\u001b[0m \u001b[0;34m>\u001b[0m \u001b[0;36m1000\u001b[0m\u001b[0;34m,\u001b[0m \u001b[0mprices\u001b[0m\u001b[0;34m)\u001b[0m\u001b[0;34m\u001b[0m\u001b[0;34m\u001b[0m\u001b[0m\n\u001b[1;32m      3\u001b[0m   \u001b[0;32mfor\u001b[0m \u001b[0mitem\u001b[0m \u001b[0;32min\u001b[0m \u001b[0mres\u001b[0m\u001b[0;34m:\u001b[0m\u001b[0;34m\u001b[0m\u001b[0;34m\u001b[0m\u001b[0m\n\u001b[0;32m----> 4\u001b[0;31m     \u001b[0;32mraise\u001b[0m \u001b[0mValueError\u001b[0m\u001b[0;34m(\u001b[0m\u001b[0;34mf'Цена {item} за пределами диапазона'\u001b[0m\u001b[0;34m)\u001b[0m\u001b[0;34m\u001b[0m\u001b[0;34m\u001b[0m\u001b[0m\n\u001b[0m\u001b[1;32m      5\u001b[0m \u001b[0;34m\u001b[0m\u001b[0m\n\u001b[1;32m      6\u001b[0m \u001b[0mdata\u001b[0m \u001b[0;34m=\u001b[0m \u001b[0;34m[\u001b[0m\u001b[0;36m150\u001b[0m\u001b[0;34m,\u001b[0m \u001b[0;36m200\u001b[0m\u001b[0;34m,\u001b[0m \u001b[0;34m-\u001b[0m\u001b[0;36m20\u001b[0m\u001b[0;34m,\u001b[0m \u001b[0;36m105\u001b[0m\u001b[0;34m]\u001b[0m\u001b[0;34m\u001b[0m\u001b[0;34m\u001b[0m\u001b[0m\n",
            "\u001b[0;31mValueError\u001b[0m: Цена -20 за пределами диапазона"
          ]
        }
      ]
    },
    {
      "cell_type": "markdown",
      "source": [
        "**Task 6.** Напишите функцию, которая агрегирует данные по месяцам и вычисляет средние значения. Если данные за месяц отсутствуют, выбросьте исключение и выведите месяц, для которого не хватает данных.  \n",
        "Пример входных данных:  \n",
        "дата: [\"2023-01-15\", \"2023-02-10\", \"2023-02-25\", \"2023-04-01\"]\n",
        "значения: [100, 200, 150, 300]"
      ],
      "metadata": {
        "id": "DpJ6xFhZuvuI"
      }
    },
    {
      "cell_type": "code",
      "source": [
        "from collections import defaultdict\n",
        "\n",
        "def agg(dates: list, values: list):\n",
        "  res = defaultdict(list)\n",
        "\n",
        "  for date, value in zip(dates, values):\n",
        "    _, month, _ = date.split('-')\n",
        "    res[int(month)].append(value)\n",
        "\n",
        "  monthes = range(1, 13)\n",
        "  tmp = set(monthes) - set(res.keys())\n",
        "  if tmp:\n",
        "    raise ValueError(f'Нет данных за {tmp} месяц(а)')\n",
        "\n",
        "  return {k: sum(v) / len(v) for k, v in res.items()}\n",
        "\n",
        "print(agg([\"2023-01-15\", \"2023-02-10\", \"2023-02-25\", \"2023-04-01\"], [100, 200, 150, 300]))"
      ],
      "metadata": {
        "id": "QpKEfdsrvFV0",
        "outputId": "e50526a6-34bb-4d86-d1be-7d2973ba165b",
        "colab": {
          "base_uri": "https://localhost:8080/",
          "height": 297
        }
      },
      "execution_count": 24,
      "outputs": [
        {
          "output_type": "error",
          "ename": "ValueError",
          "evalue": "Нет данных за {3, 5, 6, 7, 8, 9, 10, 11, 12} месяц(а)",
          "traceback": [
            "\u001b[0;31m---------------------------------------------------------------------------\u001b[0m",
            "\u001b[0;31mValueError\u001b[0m                                Traceback (most recent call last)",
            "\u001b[0;32m<ipython-input-24-2b6148b7a574>\u001b[0m in \u001b[0;36m<cell line: 0>\u001b[0;34m()\u001b[0m\n\u001b[1;32m     15\u001b[0m   \u001b[0;32mreturn\u001b[0m \u001b[0;34m{\u001b[0m\u001b[0mk\u001b[0m\u001b[0;34m:\u001b[0m \u001b[0msum\u001b[0m\u001b[0;34m(\u001b[0m\u001b[0mv\u001b[0m\u001b[0;34m)\u001b[0m \u001b[0;34m/\u001b[0m \u001b[0mlen\u001b[0m\u001b[0;34m(\u001b[0m\u001b[0mv\u001b[0m\u001b[0;34m)\u001b[0m \u001b[0;32mfor\u001b[0m \u001b[0mk\u001b[0m\u001b[0;34m,\u001b[0m \u001b[0mv\u001b[0m \u001b[0;32min\u001b[0m \u001b[0mres\u001b[0m\u001b[0;34m.\u001b[0m\u001b[0mitems\u001b[0m\u001b[0;34m(\u001b[0m\u001b[0;34m)\u001b[0m\u001b[0;34m}\u001b[0m\u001b[0;34m\u001b[0m\u001b[0;34m\u001b[0m\u001b[0m\n\u001b[1;32m     16\u001b[0m \u001b[0;34m\u001b[0m\u001b[0m\n\u001b[0;32m---> 17\u001b[0;31m \u001b[0mprint\u001b[0m\u001b[0;34m(\u001b[0m\u001b[0magg\u001b[0m\u001b[0;34m(\u001b[0m\u001b[0;34m[\u001b[0m\u001b[0;34m\"2023-01-15\"\u001b[0m\u001b[0;34m,\u001b[0m \u001b[0;34m\"2023-02-10\"\u001b[0m\u001b[0;34m,\u001b[0m \u001b[0;34m\"2023-02-25\"\u001b[0m\u001b[0;34m,\u001b[0m \u001b[0;34m\"2023-04-01\"\u001b[0m\u001b[0;34m]\u001b[0m\u001b[0;34m,\u001b[0m \u001b[0;34m[\u001b[0m\u001b[0;36m100\u001b[0m\u001b[0;34m,\u001b[0m \u001b[0;36m200\u001b[0m\u001b[0;34m,\u001b[0m \u001b[0;36m150\u001b[0m\u001b[0;34m,\u001b[0m \u001b[0;36m300\u001b[0m\u001b[0;34m]\u001b[0m\u001b[0;34m)\u001b[0m\u001b[0;34m)\u001b[0m\u001b[0;34m\u001b[0m\u001b[0;34m\u001b[0m\u001b[0m\n\u001b[0m",
            "\u001b[0;32m<ipython-input-24-2b6148b7a574>\u001b[0m in \u001b[0;36magg\u001b[0;34m(dates, values)\u001b[0m\n\u001b[1;32m     11\u001b[0m   \u001b[0mtmp\u001b[0m \u001b[0;34m=\u001b[0m \u001b[0mset\u001b[0m\u001b[0;34m(\u001b[0m\u001b[0mmonthes\u001b[0m\u001b[0;34m)\u001b[0m \u001b[0;34m-\u001b[0m \u001b[0mset\u001b[0m\u001b[0;34m(\u001b[0m\u001b[0mres\u001b[0m\u001b[0;34m.\u001b[0m\u001b[0mkeys\u001b[0m\u001b[0;34m(\u001b[0m\u001b[0;34m)\u001b[0m\u001b[0;34m)\u001b[0m\u001b[0;34m\u001b[0m\u001b[0;34m\u001b[0m\u001b[0m\n\u001b[1;32m     12\u001b[0m   \u001b[0;32mif\u001b[0m \u001b[0mtmp\u001b[0m\u001b[0;34m:\u001b[0m\u001b[0;34m\u001b[0m\u001b[0;34m\u001b[0m\u001b[0m\n\u001b[0;32m---> 13\u001b[0;31m     \u001b[0;32mraise\u001b[0m \u001b[0mValueError\u001b[0m\u001b[0;34m(\u001b[0m\u001b[0;34mf'Нет данных за {tmp} месяц(а)'\u001b[0m\u001b[0;34m)\u001b[0m\u001b[0;34m\u001b[0m\u001b[0;34m\u001b[0m\u001b[0m\n\u001b[0m\u001b[1;32m     14\u001b[0m \u001b[0;34m\u001b[0m\u001b[0m\n\u001b[1;32m     15\u001b[0m   \u001b[0;32mreturn\u001b[0m \u001b[0;34m{\u001b[0m\u001b[0mk\u001b[0m\u001b[0;34m:\u001b[0m \u001b[0msum\u001b[0m\u001b[0;34m(\u001b[0m\u001b[0mv\u001b[0m\u001b[0;34m)\u001b[0m \u001b[0;34m/\u001b[0m \u001b[0mlen\u001b[0m\u001b[0;34m(\u001b[0m\u001b[0mv\u001b[0m\u001b[0;34m)\u001b[0m \u001b[0;32mfor\u001b[0m \u001b[0mk\u001b[0m\u001b[0;34m,\u001b[0m \u001b[0mv\u001b[0m \u001b[0;32min\u001b[0m \u001b[0mres\u001b[0m\u001b[0;34m.\u001b[0m\u001b[0mitems\u001b[0m\u001b[0;34m(\u001b[0m\u001b[0;34m)\u001b[0m\u001b[0;34m}\u001b[0m\u001b[0;34m\u001b[0m\u001b[0;34m\u001b[0m\u001b[0m\n",
            "\u001b[0;31mValueError\u001b[0m: Нет данных за {3, 5, 6, 7, 8, 9, 10, 11, 12} месяц(а)"
          ]
        }
      ]
    }
  ]
}