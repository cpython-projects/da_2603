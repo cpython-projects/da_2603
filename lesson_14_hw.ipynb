{
  "nbformat": 4,
  "nbformat_minor": 0,
  "metadata": {
    "colab": {
      "provenance": [],
      "authorship_tag": "ABX9TyPbbD+PEAm8e8dpa956sVVE",
      "include_colab_link": true
    },
    "kernelspec": {
      "name": "python3",
      "display_name": "Python 3"
    },
    "language_info": {
      "name": "python"
    }
  },
  "cells": [
    {
      "cell_type": "markdown",
      "metadata": {
        "id": "view-in-github",
        "colab_type": "text"
      },
      "source": [
        "<a href=\"https://colab.research.google.com/github/cpython-projects/da_2603/blob/main/lesson_14_hw.ipynb\" target=\"_parent\"><img src=\"https://colab.research.google.com/assets/colab-badge.svg\" alt=\"Open In Colab\"/></a>"
      ]
    },
    {
      "cell_type": "markdown",
      "source": [
        "**Task 1.** Напишите функцию, которая принимает возраст пользователя и возвращает подтверждение, если возраст больше 18. Если возраст меньше, выбросьте исключение с сообщением, что возраст недостаточен.  \n",
        "Пример входных данных: возраст = 16"
      ],
      "metadata": {
        "id": "aOJfewGssL_d"
      }
    },
    {
      "cell_type": "code",
      "source": [],
      "metadata": {
        "id": "E4QE2QCZvAYE"
      },
      "execution_count": null,
      "outputs": []
    },
    {
      "cell_type": "markdown",
      "source": [
        "**Task 2.** Создайте программу, которая конвертирует валюты. При попытке конвертации валюты, которой нет в справочнике, выбросьте исключение с сообщением \"Валюта не найдена\".  \n",
        "Пример входных данных: amount = 100, from_currency = \"USD\", to_currency = \"XYZ\""
      ],
      "metadata": {
        "id": "rXYirtFmu02R"
      }
    },
    {
      "cell_type": "code",
      "source": [],
      "metadata": {
        "id": "Ro3q-ixnvBuB"
      },
      "execution_count": null,
      "outputs": []
    },
    {
      "cell_type": "markdown",
      "source": [
        "**Task 3.** Напишите программу, которая считывает данные из CSV-файла и проверяет, нет ли в колонках пропусков (NaN). Если пропуски есть, выбросьте исключение с указанием, в каких колонках они обнаружены.  \n",
        "\n",
        "*Пример содержимого `example_data.csv`*  \n",
        "```csv\n",
        "Name,Age,Salary\n",
        "Alice,25,50000\n",
        "Bob,,60000\n",
        "Charlie,30,\n",
        "```\n",
        "В этом примере:  \n",
        "* У Боба отсутствует значение в колонке `Age`.  \n",
        "* У Чарли отсутствует значение в колонке `Salary`."
      ],
      "metadata": {
        "id": "xtxVaGDQu-jt"
      }
    },
    {
      "cell_type": "code",
      "source": [],
      "metadata": {
        "id": "UKqLnEm3vC07"
      },
      "execution_count": null,
      "outputs": []
    },
    {
      "cell_type": "markdown",
      "source": [
        "**Task 4.** Напишите функцию, которая принимает список с датами и проверяет их формат. Если формат некорректен (например, не YYYY-MM-DD), выбросьте исключение.  \n",
        "Обработайте ошибку, чтобы записать некорректные значения в отдельный список.  \n",
        "Пример входных данных: [\"2023-01-01\", \"01-02-2023\", \"2023/03/05\"]"
      ],
      "metadata": {
        "id": "UH_NLZnuu7XJ"
      }
    },
    {
      "cell_type": "code",
      "source": [],
      "metadata": {
        "id": "uRF0KhYfvDYu"
      },
      "execution_count": null,
      "outputs": []
    },
    {
      "cell_type": "markdown",
      "source": [
        "**Task 5.** Напишите функцию для анализа данных о продажах, которая принимает колонку с ценами и проверяет, находятся ли все значения в диапазоне от 0 до 1000. Если есть значения за пределами диапазона, выбросьте исключение с сообщением.  \n",
        "Пример входных данных: [150, 200, -20, 1050]"
      ],
      "metadata": {
        "id": "V4cxL7I8u3pP"
      }
    },
    {
      "cell_type": "code",
      "source": [],
      "metadata": {
        "id": "hAdK3FzqvD6o"
      },
      "execution_count": null,
      "outputs": []
    },
    {
      "cell_type": "markdown",
      "source": [
        "**Task 6.** Напишите функцию, которая агрегирует данные по месяцам и вычисляет средние значения. Если данные за месяц отсутствуют, выбросьте исключение и выведите месяц, для которого не хватает данных.  \n",
        "Пример входных данных:  \n",
        "дата: [\"2023-01-15\", \"2023-02-10\", \"2023-02-25\", \"2023-04-01\"]\n",
        "значения: [100, 200, 150, 300]"
      ],
      "metadata": {
        "id": "DpJ6xFhZuvuI"
      }
    },
    {
      "cell_type": "code",
      "source": [],
      "metadata": {
        "id": "QpKEfdsrvFV0"
      },
      "execution_count": null,
      "outputs": []
    }
  ]
}