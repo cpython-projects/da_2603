{
  "nbformat": 4,
  "nbformat_minor": 0,
  "metadata": {
    "colab": {
      "provenance": [],
      "authorship_tag": "ABX9TyPnoewLdGYIuGWcYcnKXVNQ",
      "include_colab_link": true
    },
    "kernelspec": {
      "name": "python3",
      "display_name": "Python 3"
    },
    "language_info": {
      "name": "python"
    }
  },
  "cells": [
    {
      "cell_type": "markdown",
      "metadata": {
        "id": "view-in-github",
        "colab_type": "text"
      },
      "source": [
        "<a href=\"https://colab.research.google.com/github/cpython-projects/da_2603/blob/main/lesson_12_hw.ipynb\" target=\"_parent\"><img src=\"https://colab.research.google.com/assets/colab-badge.svg\" alt=\"Open In Colab\"/></a>"
      ]
    },
    {
      "cell_type": "markdown",
      "source": [
        "**Task 1.** Анализ логов  \n",
        "Файл logs.txt содержит строки в формате:  \n",
        "2024-11-20 12:45:23 INFO User logged in  \n",
        "2024-11-20 12:47:01 ERROR Failed to load resource  \n",
        "...  \n",
        "Напишите генератор, который будет читать файл построчно и возвращать только строки с уровнем ERROR."
      ],
      "metadata": {
        "id": "KtY1C3Z-CZQH"
      }
    },
    {
      "cell_type": "code",
      "source": [],
      "metadata": {
        "id": "rD2pvarpDBhn"
      },
      "execution_count": null,
      "outputs": []
    },
    {
      "cell_type": "markdown",
      "source": [
        "**Task 2.** Поиск уникальных слов  \n",
        "Дан текстовый файл text.txt. Создайте генератор, который будет читать строки из файла и возвращать уникальные слова из каждой строки (без учета регистра)."
      ],
      "metadata": {
        "id": "2cn07v0eDB9V"
      }
    },
    {
      "cell_type": "code",
      "source": [],
      "metadata": {
        "id": "au4QflTMDHZS"
      },
      "execution_count": null,
      "outputs": []
    },
    {
      "cell_type": "markdown",
      "source": [
        "**Task 3.** Объединение данных  \n",
        "Даны два файла file1.txt и file2.txt. Напишите генератор, который построчно объединяет строки из двух файлов, возвращая пары строк в формате (строка из file1, строка из file2)."
      ],
      "metadata": {
        "id": "Dv34aq6UDHsa"
      }
    },
    {
      "cell_type": "code",
      "source": [],
      "metadata": {
        "id": "5sr5zvJFDRLl"
      },
      "execution_count": null,
      "outputs": []
    },
    {
      "cell_type": "markdown",
      "source": [
        "**Task 4.** Сегментация клиентов  \n",
        "Дан список клиентов:  \n",
        "\n",
        "```python\n",
        "customers = [\n",
        "    {\"id\": 1, \"revenue\": 1000},\n",
        "    {\"id\": 2, \"revenue\": 500},\n",
        "    {\"id\": 3, \"revenue\": 7000},\n",
        "]\n",
        "```\n",
        "\n",
        "Создайте генератор, который возвращает клиентов, разделенных на сегменты: Low, Medium, High в зависимости от их дохода (revenue)."
      ],
      "metadata": {
        "id": "SEmDj8e6DRf4"
      }
    },
    {
      "cell_type": "code",
      "source": [],
      "metadata": {
        "id": "q2QNDRXPDY2p"
      },
      "execution_count": null,
      "outputs": []
    }
  ]
}