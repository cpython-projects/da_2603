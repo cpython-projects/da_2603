{
  "nbformat": 4,
  "nbformat_minor": 0,
  "metadata": {
    "colab": {
      "provenance": [],
      "authorship_tag": "ABX9TyMX05aCehOFZaINbQxTTswM",
      "include_colab_link": true
    },
    "kernelspec": {
      "name": "python3",
      "display_name": "Python 3"
    },
    "language_info": {
      "name": "python"
    }
  },
  "cells": [
    {
      "cell_type": "markdown",
      "metadata": {
        "id": "view-in-github",
        "colab_type": "text"
      },
      "source": [
        "<a href=\"https://colab.research.google.com/github/cpython-projects/da_2603/blob/main/lesson_25_hw.ipynb\" target=\"_parent\"><img src=\"https://colab.research.google.com/assets/colab-badge.svg\" alt=\"Open In Colab\"/></a>"
      ]
    },
    {
      "cell_type": "markdown",
      "source": [
        "1. Посчитать количество установок по месяцам."
      ],
      "metadata": {
        "id": "WbjEW6FKpZMg"
      }
    },
    {
      "cell_type": "code",
      "source": [],
      "metadata": {
        "id": "ozSIrNOapdNC"
      },
      "execution_count": null,
      "outputs": []
    },
    {
      "cell_type": "markdown",
      "source": [
        "2. Найти пользователей, установивших приложение в марте, и сделавших покупку в течение 30 дней."
      ],
      "metadata": {
        "id": "eHacqWeopdeP"
      }
    },
    {
      "cell_type": "code",
      "source": [],
      "metadata": {
        "id": "K8dnv_JXphIF"
      },
      "execution_count": null,
      "outputs": []
    },
    {
      "cell_type": "markdown",
      "source": [
        "3. Вычислить разницу между первой и последней покупкой по каждому пользователю."
      ],
      "metadata": {
        "id": "n7UitdxTphZ6"
      }
    },
    {
      "cell_type": "code",
      "source": [],
      "metadata": {
        "id": "i7y9bcoKpjbJ"
      },
      "execution_count": null,
      "outputs": []
    },
    {
      "cell_type": "markdown",
      "source": [
        "4. Построить когортную таблицу: месяц установки × количество покупателей через 0, 1, 2 месяца.\n"
      ],
      "metadata": {
        "id": "Euqh5MDSpjqA"
      }
    },
    {
      "cell_type": "code",
      "source": [],
      "metadata": {
        "id": "_Lirox7zppFr"
      },
      "execution_count": null,
      "outputs": []
    }
  ]
}