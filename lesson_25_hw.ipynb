{
  "nbformat": 4,
  "nbformat_minor": 0,
  "metadata": {
    "colab": {
      "provenance": [],
      "authorship_tag": "ABX9TyPBuuqR7xSV1zkw/prCBjRg",
      "include_colab_link": true
    },
    "kernelspec": {
      "name": "python3",
      "display_name": "Python 3"
    },
    "language_info": {
      "name": "python"
    }
  },
  "cells": [
    {
      "cell_type": "markdown",
      "metadata": {
        "id": "view-in-github",
        "colab_type": "text"
      },
      "source": [
        "<a href=\"https://colab.research.google.com/github/cpython-projects/da_2603/blob/main/lesson_25_hw.ipynb\" target=\"_parent\"><img src=\"https://colab.research.google.com/assets/colab-badge.svg\" alt=\"Open In Colab\"/></a>"
      ]
    },
    {
      "cell_type": "markdown",
      "source": [
        "1. Посчитать количество установок по месяцам."
      ],
      "metadata": {
        "id": "WbjEW6FKpZMg"
      }
    },
    {
      "cell_type": "code",
      "source": [
        "query = \"\"\"select\n",
        "\tDATE_TRUNC('month', first_seen) as install_month,\n",
        "\tCOUNT(distinct device_code) as installs_number\n",
        "from app_sessions\n",
        "group by DATE_TRUNC('month', first_seen)\n",
        "order by installs_number;\n",
        "\"\"\""
      ],
      "metadata": {
        "id": "ozSIrNOapdNC"
      },
      "execution_count": null,
      "outputs": []
    },
    {
      "cell_type": "markdown",
      "source": [
        "2. Найти пользователей, установивших приложение в марте, и сделавших покупку в течение 30 дней."
      ],
      "metadata": {
        "id": "eHacqWeopdeP"
      }
    },
    {
      "cell_type": "code",
      "source": [
        "query = \"\"\"\n",
        "select ol.user_uuid\n",
        "from orders_log ol\n",
        "join devices_users_map dum on ol.user_uuid = dum.user_uuid\n",
        "join (\n",
        "\tselect device_code, first_seen\n",
        "\tfrom app_sessions\n",
        "\twhere date_trunc('month', first_seen) = DATE '2024-03-01'\n",
        ") s_i on dum.device_code   = s_i.device_code\n",
        "where\n",
        "\tol.order_time::DATE <= s_i.first_seen + interval '30 days'\n",
        "\"\"\""
      ],
      "metadata": {
        "id": "K8dnv_JXphIF"
      },
      "execution_count": null,
      "outputs": []
    },
    {
      "cell_type": "markdown",
      "source": [
        "3. Вычислить разницу между первой и последней покупкой по каждому пользователю."
      ],
      "metadata": {
        "id": "n7UitdxTphZ6"
      }
    },
    {
      "cell_type": "code",
      "source": [
        "q1 = \"\"\"\n",
        "SELECT\n",
        "    user_uuid,\n",
        "    MIN(order_time) AS first_order,\n",
        "    MAX(order_time) AS last_order,\n",
        "    MAX(order_time) - MIN(order_time) AS diff_days\n",
        "FROM orders_log\n",
        "GROUP BY user_uuid;\n",
        "\"\"\"\n",
        "\n",
        "q2 = \"\"\"\n",
        "SELECT DISTINCT user_uuid,\n",
        "       MIN(order_time) OVER (PARTITION BY user_uuid)::DATE AS first_purchase,\n",
        "       MAX(order_time) OVER (PARTITION BY user_uuid)::DATE AS last_purchase,\n",
        "       (MAX(order_time) OVER (PARTITION BY user_uuid)::DATE -\n",
        "        MIN(order_time) OVER (PARTITION BY user_uuid)::DATE) AS days_between\n",
        "FROM orders_log;\n",
        "\"\"\""
      ],
      "metadata": {
        "id": "i7y9bcoKpjbJ"
      },
      "execution_count": null,
      "outputs": []
    },
    {
      "cell_type": "markdown",
      "source": [
        "4. Построить когортную таблицу: месяц установки × количество покупателей через 0, 1, 2 месяца.\n"
      ],
      "metadata": {
        "id": "Euqh5MDSpjqA"
      }
    },
    {
      "cell_type": "code",
      "source": [
        "query = \"\"\"\n",
        "select\n",
        "\tcohort_month,\n",
        "\tEXTRACT(MONTH FROM AGE(purchase_month, cohort_month))::INT AS month_offset,\n",
        "\tCOUNT(distinct user_uuid) as buyers\n",
        "from (\n",
        "\tselect\n",
        "\t\tdate_trunc('month', as2.first_seen) as cohort_month,\n",
        "\t\tdate_trunc('month', ol.order_time) as purchase_month,\n",
        "\t\tol.user_uuid\n",
        "\tfrom orders_log ol\n",
        "\tjoin devices_users_map dum on dum.user_uuid = ol.user_uuid\n",
        "\tjoin app_sessions as2 on as2.device_code = dum.device_code\n",
        ") s_i\n",
        "where purchase_month >= cohort_month and\n",
        "EXTRACT(MONTH FROM AGE(purchase_month, cohort_month))::INT in (0, 1, 2)\n",
        "group by cohort_month, month_offset\n",
        "order by cohort_month, month_offset;\n",
        "\"\"\""
      ],
      "metadata": {
        "id": "_Lirox7zppFr"
      },
      "execution_count": null,
      "outputs": []
    }
  ]
}