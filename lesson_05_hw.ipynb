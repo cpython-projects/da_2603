{
  "nbformat": 4,
  "nbformat_minor": 0,
  "metadata": {
    "colab": {
      "provenance": [],
      "authorship_tag": "ABX9TyPnkQJm5VmH6QD5nbAHsnHA",
      "include_colab_link": true
    },
    "kernelspec": {
      "name": "python3",
      "display_name": "Python 3"
    },
    "language_info": {
      "name": "python"
    }
  },
  "cells": [
    {
      "cell_type": "markdown",
      "metadata": {
        "id": "view-in-github",
        "colab_type": "text"
      },
      "source": [
        "<a href=\"https://colab.research.google.com/github/cpython-projects/da_2603/blob/main/lesson_05_hw.ipynb\" target=\"_parent\"><img src=\"https://colab.research.google.com/assets/colab-badge.svg\" alt=\"Open In Colab\"/></a>"
      ]
    },
    {
      "cell_type": "markdown",
      "source": [
        "**Task 1.** Напишите программу, которая выводит все четные числа от 1 до 20."
      ],
      "metadata": {
        "id": "eHQKjDtXMbjr"
      }
    },
    {
      "cell_type": "code",
      "source": [],
      "metadata": {
        "id": "xfs6aCc8ThEO"
      },
      "execution_count": null,
      "outputs": []
    },
    {
      "cell_type": "markdown",
      "source": [
        "**Task 2.** Напишите программу, которая суммирует все числа от 1 до 100."
      ],
      "metadata": {
        "id": "vYv72MieTQm6"
      }
    },
    {
      "cell_type": "code",
      "source": [],
      "metadata": {
        "id": "HYfWGDMqThiM"
      },
      "execution_count": null,
      "outputs": []
    },
    {
      "cell_type": "markdown",
      "source": [
        "**Task 3.** Напишите программу, которая просит пользователя ввести число и продолжает спрашивать, пока не будет введено число, кратное 3."
      ],
      "metadata": {
        "id": "nHc0w927TXuW"
      }
    },
    {
      "cell_type": "code",
      "source": [],
      "metadata": {
        "id": "DCqU7rF4TiCG"
      },
      "execution_count": null,
      "outputs": []
    },
    {
      "cell_type": "markdown",
      "source": [
        "**Task 4.** Напишите программу, которая запрашивает у пользователя числа и выводит их сумму, пока сумма не превысит 100."
      ],
      "metadata": {
        "id": "MUnOioXxTZy_"
      }
    },
    {
      "cell_type": "code",
      "source": [],
      "metadata": {
        "id": "DgG0PLjETiiK"
      },
      "execution_count": null,
      "outputs": []
    },
    {
      "cell_type": "markdown",
      "source": [
        "**Task 5.** Напишите программу, которая просит пользователя вводить числа до тех пор, пока он не введет два подряд одинаковых числа."
      ],
      "metadata": {
        "id": "HnkHH7GLTbxs"
      }
    },
    {
      "cell_type": "code",
      "source": [],
      "metadata": {
        "id": "u69N90cnTjK3"
      },
      "execution_count": null,
      "outputs": []
    },
    {
      "cell_type": "markdown",
      "source": [
        "**Task 6.** Напишите скрипт, который выводит целые числа от 1 до 200, используя цикл while. В одной строке необходимо вывести только пять целых чисел.\n",
        "Например:  \n",
        "1 2 3 4 5  \n",
        "6 7 8 9 10  \n",
        "11 12 13 14 15  \n",
        "...  "
      ],
      "metadata": {
        "id": "hcHiD5FdTd8Z"
      }
    },
    {
      "cell_type": "code",
      "source": [],
      "metadata": {
        "id": "82Ap3sHPTkcn"
      },
      "execution_count": null,
      "outputs": []
    },
    {
      "cell_type": "markdown",
      "source": [
        "**Task 7.** Напишите скрипт, который вычисляет с помощью цикла факториал числа n (n вводится с клавиатуры)."
      ],
      "metadata": {
        "id": "SX81WxUpTTxr"
      }
    },
    {
      "cell_type": "code",
      "source": [],
      "metadata": {
        "id": "CfCIUGxbTk6l"
      },
      "execution_count": null,
      "outputs": []
    },
    {
      "cell_type": "markdown",
      "source": [
        "**Task 8.**\n",
        "Создайте список случайных чисел (размером 4 элемента).\n",
        "Создайте второй список в два раза больше первого, где первые 4 элемента должны быть равны элементам первого списка, а остальные элементы - удвоенным значениям начальных. Например:  \n",
        "Было → [1,4,7,2]  \n",
        "Стало → [1,4,7,2,2,8,14,4]"
      ],
      "metadata": {
        "id": "AG-ORdCQTE00"
      }
    },
    {
      "cell_type": "code",
      "source": [],
      "metadata": {
        "id": "Cb7GB3wRTmb7"
      },
      "execution_count": null,
      "outputs": []
    },
    {
      "cell_type": "markdown",
      "source": [
        "**Task 9.** Создайте список из 12 элементов. Каждый элемент этого списка является зарплатой работника за месяц. Выведите этот список на экран и вычислите среднемесячную зарплату этого работника."
      ],
      "metadata": {
        "id": "ihxboDvpTIUC"
      }
    },
    {
      "cell_type": "code",
      "source": [],
      "metadata": {
        "id": "1xYnLckHTnHn"
      },
      "execution_count": null,
      "outputs": []
    },
    {
      "cell_type": "markdown",
      "source": [
        "**Task 10.** Есть матрица  \n",
        "[1, 2, 3, 4]  \n",
        "[5, 6, 7, 8]  \n",
        "[9, 10, 11, 12]  \n",
        "[13, 14, 15, 16]  \n",
        "Напишите скрипт, который выведет эту матрицу на экран, вычислит и выведет сумму элементов этой матрицы."
      ],
      "metadata": {
        "id": "lM9GISuPTKtf"
      }
    },
    {
      "cell_type": "code",
      "source": [],
      "metadata": {
        "id": "wGrpsV7BTof2"
      },
      "execution_count": null,
      "outputs": []
    },
    {
      "cell_type": "markdown",
      "source": [
        "**Task 11.** Напишите код для зеркального переворота списка [7,2,9,4] -> [4,9,2,7]. Список может быть произвольной длины."
      ],
      "metadata": {
        "id": "35nHwK0BS8wf"
      }
    },
    {
      "cell_type": "code",
      "source": [],
      "metadata": {
        "id": "GkCwDTKUTpKy"
      },
      "execution_count": null,
      "outputs": []
    },
    {
      "cell_type": "markdown",
      "source": [
        "**Task 12.** Проверка на монотонное возрастание. Дана последовательность чисел (ввод по одному числу, 0 — конец ввода). Определи, идет ли последовательность строго по возрастанию."
      ],
      "metadata": {
        "id": "CUWbR6aPS_JY"
      }
    },
    {
      "cell_type": "code",
      "source": [],
      "metadata": {
        "id": "PEWHvSY5Tpqq"
      },
      "execution_count": null,
      "outputs": []
    },
    {
      "cell_type": "markdown",
      "source": [
        "**Task 13.** Пользователь вводит последовательность чисел, каждое с новой строки. Ввод завершается числом 0. Необходимо найти все числа, которые отклоняются от среднего значения последовательности более чем на 10%"
      ],
      "metadata": {
        "id": "If1BlUwlTBM3"
      }
    },
    {
      "cell_type": "code",
      "source": [],
      "metadata": {
        "id": "ogXfOajTTqN1"
      },
      "execution_count": null,
      "outputs": []
    }
  ]
}