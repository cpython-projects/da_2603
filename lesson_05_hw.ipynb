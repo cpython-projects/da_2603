{
  "nbformat": 4,
  "nbformat_minor": 0,
  "metadata": {
    "colab": {
      "provenance": [],
      "authorship_tag": "ABX9TyMldAbfxtw1PqZzUApwc83F",
      "include_colab_link": true
    },
    "kernelspec": {
      "name": "python3",
      "display_name": "Python 3"
    },
    "language_info": {
      "name": "python"
    }
  },
  "cells": [
    {
      "cell_type": "markdown",
      "metadata": {
        "id": "view-in-github",
        "colab_type": "text"
      },
      "source": [
        "<a href=\"https://colab.research.google.com/github/cpython-projects/da_2603/blob/main/lesson_05_hw.ipynb\" target=\"_parent\"><img src=\"https://colab.research.google.com/assets/colab-badge.svg\" alt=\"Open In Colab\"/></a>"
      ]
    },
    {
      "cell_type": "markdown",
      "source": [
        "**Task 1.** Напишите программу, которая выводит все четные числа от 1 до 20."
      ],
      "metadata": {
        "id": "eHQKjDtXMbjr"
      }
    },
    {
      "cell_type": "code",
      "source": [
        "x = list(range(2, 21, 2))\n",
        "print(x)\n",
        "\n",
        "print(*range(2, 21, 2))"
      ],
      "metadata": {
        "id": "xfs6aCc8ThEO",
        "outputId": "3dd553d8-62e3-4e63-b69f-3f1998bf1bdc",
        "colab": {
          "base_uri": "https://localhost:8080/"
        }
      },
      "execution_count": 4,
      "outputs": [
        {
          "output_type": "stream",
          "name": "stdout",
          "text": [
            "[2, 4, 6, 8, 10, 12, 14, 16, 18, 20]\n",
            "2 4 6 8 10 12 14 16 18 20\n"
          ]
        }
      ]
    },
    {
      "cell_type": "markdown",
      "source": [
        "**Task 2.** Напишите программу, которая суммирует все числа от 1 до 100."
      ],
      "metadata": {
        "id": "vYv72MieTQm6"
      }
    },
    {
      "cell_type": "code",
      "source": [
        "res = sum(range(101))\n",
        "print(res)"
      ],
      "metadata": {
        "id": "HYfWGDMqThiM",
        "outputId": "e375ccd0-94f0-4421-9fd6-f6782596ff61",
        "colab": {
          "base_uri": "https://localhost:8080/"
        }
      },
      "execution_count": 6,
      "outputs": [
        {
          "output_type": "stream",
          "name": "stdout",
          "text": [
            "5050\n"
          ]
        }
      ]
    },
    {
      "cell_type": "markdown",
      "source": [
        "**Task 3.** Напишите программу, которая просит пользователя ввести число и продолжает спрашивать, пока не будет введено число, кратное 3."
      ],
      "metadata": {
        "id": "nHc0w927TXuW"
      }
    },
    {
      "cell_type": "code",
      "source": [
        "while True:\n",
        "  ans = int(input('number>>'))\n",
        "  if ans % 3 == 0:\n",
        "    break"
      ],
      "metadata": {
        "id": "DCqU7rF4TiCG",
        "outputId": "422760ea-19a3-448e-b16b-7455628553a3",
        "colab": {
          "base_uri": "https://localhost:8080/"
        }
      },
      "execution_count": 7,
      "outputs": [
        {
          "name": "stdout",
          "output_type": "stream",
          "text": [
            "number>>23\n",
            "number>>22\n",
            "number>>21\n"
          ]
        }
      ]
    },
    {
      "cell_type": "markdown",
      "source": [
        "**Task 4.** Напишите программу, которая запрашивает у пользователя числа и выводит их сумму, пока сумма не превысит 100."
      ],
      "metadata": {
        "id": "MUnOioXxTZy_"
      }
    },
    {
      "cell_type": "code",
      "source": [
        "s = 0\n",
        "while s <= 100:\n",
        "  s += int(input('number>>'))\n",
        "print(s)"
      ],
      "metadata": {
        "id": "DgG0PLjETiiK",
        "outputId": "cc683c00-857f-4359-823d-2948d6f14c74",
        "colab": {
          "base_uri": "https://localhost:8080/"
        }
      },
      "execution_count": 8,
      "outputs": [
        {
          "output_type": "stream",
          "name": "stdout",
          "text": [
            "number>>2\n",
            "number>>98\n",
            "number>>1\n",
            "101\n"
          ]
        }
      ]
    },
    {
      "cell_type": "markdown",
      "source": [
        "**Task 5.** Напишите программу, которая просит пользователя вводить числа до тех пор, пока он не введет два подряд одинаковых числа."
      ],
      "metadata": {
        "id": "HnkHH7GLTbxs"
      }
    },
    {
      "cell_type": "code",
      "source": [
        "current = int(input('number>>'))\n",
        "prev = None\n",
        "while True:\n",
        "  if prev == current:\n",
        "    break\n",
        "  prev, current = current, int(input('number>>'))"
      ],
      "metadata": {
        "id": "u69N90cnTjK3",
        "outputId": "cf45e746-057b-4a41-c809-bd82fe2d320c",
        "colab": {
          "base_uri": "https://localhost:8080/"
        }
      },
      "execution_count": 10,
      "outputs": [
        {
          "name": "stdout",
          "output_type": "stream",
          "text": [
            "number>>12\n",
            "number>>23\n",
            "number>>23\n"
          ]
        }
      ]
    },
    {
      "cell_type": "markdown",
      "source": [
        "**Task 6.** Напишите скрипт, который выводит целые числа от 1 до 200, используя цикл while. В одной строке необходимо вывести только пять целых чисел.\n",
        "Например:  \n",
        "1 2 3 4 5  \n",
        "6 7 8 9 10  \n",
        "11 12 13 14 15  \n",
        "...  "
      ],
      "metadata": {
        "id": "hcHiD5FdTd8Z"
      }
    },
    {
      "cell_type": "code",
      "source": [
        "# i = 1\n",
        "# while i <= 200:\n",
        "#   print(i, end=' ')\n",
        "#   if i % 5 == 0:\n",
        "#     print()\n",
        "#   i += 1\n",
        "\n",
        "\n",
        "for i in range(1, 201, 5):\n",
        "  print(*range(i, i + 5))"
      ],
      "metadata": {
        "id": "82Ap3sHPTkcn",
        "outputId": "98ce283a-e03a-41d8-dd75-1d5eed0f6b46",
        "colab": {
          "base_uri": "https://localhost:8080/"
        }
      },
      "execution_count": 12,
      "outputs": [
        {
          "output_type": "stream",
          "name": "stdout",
          "text": [
            "1 2 3 4 5\n",
            "6 7 8 9 10\n",
            "11 12 13 14 15\n",
            "16 17 18 19 20\n",
            "21 22 23 24 25\n",
            "26 27 28 29 30\n",
            "31 32 33 34 35\n",
            "36 37 38 39 40\n",
            "41 42 43 44 45\n",
            "46 47 48 49 50\n",
            "51 52 53 54 55\n",
            "56 57 58 59 60\n",
            "61 62 63 64 65\n",
            "66 67 68 69 70\n",
            "71 72 73 74 75\n",
            "76 77 78 79 80\n",
            "81 82 83 84 85\n",
            "86 87 88 89 90\n",
            "91 92 93 94 95\n",
            "96 97 98 99 100\n",
            "101 102 103 104 105\n",
            "106 107 108 109 110\n",
            "111 112 113 114 115\n",
            "116 117 118 119 120\n",
            "121 122 123 124 125\n",
            "126 127 128 129 130\n",
            "131 132 133 134 135\n",
            "136 137 138 139 140\n",
            "141 142 143 144 145\n",
            "146 147 148 149 150\n",
            "151 152 153 154 155\n",
            "156 157 158 159 160\n",
            "161 162 163 164 165\n",
            "166 167 168 169 170\n",
            "171 172 173 174 175\n",
            "176 177 178 179 180\n",
            "181 182 183 184 185\n",
            "186 187 188 189 190\n",
            "191 192 193 194 195\n",
            "196 197 198 199 200\n"
          ]
        }
      ]
    },
    {
      "cell_type": "markdown",
      "source": [
        "**Task 7.** Напишите скрипт, который вычисляет с помощью цикла факториал числа n (n вводится с клавиатуры)."
      ],
      "metadata": {
        "id": "SX81WxUpTTxr"
      }
    },
    {
      "cell_type": "code",
      "source": [
        "n = int(input('number>>'))\n",
        "res = 1\n",
        "for i in range(1, n + 1):\n",
        "  res *= i\n",
        "print(res)"
      ],
      "metadata": {
        "id": "CfCIUGxbTk6l",
        "outputId": "c41e38a5-5947-4975-e20f-ec0b62ba5c63",
        "colab": {
          "base_uri": "https://localhost:8080/"
        }
      },
      "execution_count": 13,
      "outputs": [
        {
          "output_type": "stream",
          "name": "stdout",
          "text": [
            "number>>5\n",
            "120\n"
          ]
        }
      ]
    },
    {
      "cell_type": "markdown",
      "source": [
        "**Task 8.**\n",
        "Создайте список случайных чисел (размером 4 элемента).\n",
        "Создайте второй список в два раза больше первого, где первые 4 элемента должны быть равны элементам первого списка, а остальные элементы - удвоенным значениям начальных. Например:  \n",
        "Было → [1,4,7,2]  \n",
        "Стало → [1,4,7,2,2,8,14,4]"
      ],
      "metadata": {
        "id": "AG-ORdCQTE00"
      }
    },
    {
      "cell_type": "code",
      "source": [
        "import random\n",
        "x = [random.randint(1, 10) for _ in range(4)]\n",
        "y = x + [i * 2 for i in x]\n",
        "print(x)\n",
        "print(y)"
      ],
      "metadata": {
        "id": "Cb7GB3wRTmb7",
        "outputId": "d55304a7-9aa1-4f62-cd51-0303e8ffa6a4",
        "colab": {
          "base_uri": "https://localhost:8080/"
        }
      },
      "execution_count": 15,
      "outputs": [
        {
          "output_type": "stream",
          "name": "stdout",
          "text": [
            "[4, 8, 4, 5]\n",
            "[4, 8, 4, 5, 8, 16, 8, 10]\n"
          ]
        }
      ]
    },
    {
      "cell_type": "markdown",
      "source": [
        "**Task 9.** Создайте список из 12 элементов. Каждый элемент этого списка является зарплатой работника за месяц. Выведите этот список на экран и вычислите среднемесячную зарплату этого работника."
      ],
      "metadata": {
        "id": "ihxboDvpTIUC"
      }
    },
    {
      "cell_type": "code",
      "source": [
        "salary = [random.randint(100, 1_000) for _ in range(12)]\n",
        "print(salary)\n",
        "print(f'Avg: {sum(salary) / len(salary):.2f}')"
      ],
      "metadata": {
        "id": "1xYnLckHTnHn",
        "outputId": "49067c3f-7e8a-4f36-f202-5959e2604cdb",
        "colab": {
          "base_uri": "https://localhost:8080/"
        }
      },
      "execution_count": 16,
      "outputs": [
        {
          "output_type": "stream",
          "name": "stdout",
          "text": [
            "[459, 651, 556, 506, 106, 809, 843, 739, 525, 380, 265, 872]\n",
            "Avg: 559.25\n"
          ]
        }
      ]
    },
    {
      "cell_type": "markdown",
      "source": [
        "**Task 10.** Есть матрица  \n",
        "[1, 2, 3, 4]  \n",
        "[5, 6, 7, 8]  \n",
        "[9, 10, 11, 12]  \n",
        "[13, 14, 15, 16]  \n",
        "Напишите скрипт, который выведет эту матрицу на экран, вычислит и выведет сумму элементов этой матрицы."
      ],
      "metadata": {
        "id": "lM9GISuPTKtf"
      }
    },
    {
      "cell_type": "code",
      "source": [
        "matrix = [\n",
        "    [1, 2, 3, 4],\n",
        "    [5, 6, 7, 8],\n",
        "    [9, 10, 11, 12],\n",
        "    [13, 14, 15, 16]\n",
        "]\n",
        "\n",
        "for row in matrix:\n",
        "  print(*row, sep='\\t')\n",
        "\n",
        "\n",
        "s = 0\n",
        "for row in matrix:\n",
        "  s += sum(row)\n",
        "print(s)"
      ],
      "metadata": {
        "id": "wGrpsV7BTof2",
        "outputId": "5d7212be-ef48-4182-f2d9-4be61ce1086b",
        "colab": {
          "base_uri": "https://localhost:8080/"
        }
      },
      "execution_count": 19,
      "outputs": [
        {
          "output_type": "stream",
          "name": "stdout",
          "text": [
            "1\t2\t3\t4\n",
            "5\t6\t7\t8\n",
            "9\t10\t11\t12\n",
            "13\t14\t15\t16\n",
            "136\n"
          ]
        }
      ]
    },
    {
      "cell_type": "markdown",
      "source": [
        "**Task 11.** Напишите код для зеркального переворота списка [7,2,9,4] -> [4,9,2,7]. Список может быть произвольной длины."
      ],
      "metadata": {
        "id": "35nHwK0BS8wf"
      }
    },
    {
      "cell_type": "code",
      "source": [
        "x = [1, 2, 3, 4]\n",
        "print(x[::-1])"
      ],
      "metadata": {
        "id": "GkCwDTKUTpKy",
        "outputId": "481c5f30-9765-48cb-db60-0ceb72b7162e",
        "colab": {
          "base_uri": "https://localhost:8080/"
        }
      },
      "execution_count": 20,
      "outputs": [
        {
          "output_type": "stream",
          "name": "stdout",
          "text": [
            "[4, 3, 2, 1]\n"
          ]
        }
      ]
    },
    {
      "cell_type": "code",
      "source": [
        "x = [1, 2, 3, 4]\n",
        "x.reverse()\n",
        "print(x)"
      ],
      "metadata": {
        "id": "ONPxsDt9PH-Y",
        "outputId": "e81e8927-7437-4020-c443-223f15750018",
        "colab": {
          "base_uri": "https://localhost:8080/"
        }
      },
      "execution_count": 21,
      "outputs": [
        {
          "output_type": "stream",
          "name": "stdout",
          "text": [
            "[4, 3, 2, 1]\n"
          ]
        }
      ]
    },
    {
      "cell_type": "code",
      "source": [
        "x = [1, 2, 3, 4]\n",
        "for i in reversed(x):\n",
        "  print(i, end=' ')"
      ],
      "metadata": {
        "id": "aJFTVW0JPLoZ",
        "outputId": "b2d54f09-bc81-436c-b4c1-4e7d576aa816",
        "colab": {
          "base_uri": "https://localhost:8080/"
        }
      },
      "execution_count": 22,
      "outputs": [
        {
          "output_type": "stream",
          "name": "stdout",
          "text": [
            "4 3 2 1 "
          ]
        }
      ]
    },
    {
      "cell_type": "markdown",
      "source": [
        "**Task 12.** Проверка на монотонное возрастание. Дана последовательность чисел (ввод по одному числу, 0 — конец ввода). Определи, идет ли последовательность строго по возрастанию."
      ],
      "metadata": {
        "id": "CUWbR6aPS_JY"
      }
    },
    {
      "cell_type": "code",
      "source": [
        "x = []\n",
        "while True:\n",
        "  ans = int(input('number>>'))\n",
        "  if ans == 0:\n",
        "    break\n",
        "  x.append(ans)\n",
        "\n",
        "# for i in range(1, len(x)):\n",
        "#   if x[i - 1] > x[i]:\n",
        "#     print('False')\n",
        "#     break\n",
        "# else:\n",
        "#   print('True')\n",
        "\n",
        "flag = True\n",
        "for i in range(1, len(x)):\n",
        "  if x[i - 1] > x[i]:\n",
        "    flag = False\n",
        "    break\n",
        "print(flag)"
      ],
      "metadata": {
        "id": "PEWHvSY5Tpqq"
      },
      "execution_count": null,
      "outputs": []
    },
    {
      "cell_type": "markdown",
      "source": [
        "**Task 13.** Пользователь вводит последовательность чисел, каждое с новой строки. Ввод завершается числом 0. Необходимо найти все числа, которые отклоняются от среднего значения последовательности более чем на 10%"
      ],
      "metadata": {
        "id": "If1BlUwlTBM3"
      }
    },
    {
      "cell_type": "code",
      "source": [
        "x = []\n",
        "while True:\n",
        "  ans = int(input('number>>'))\n",
        "  if ans == 0:\n",
        "    break\n",
        "  x.append(ans)\n",
        "\n",
        "\n",
        "avg_10 = sum(x) / len(x) * 0.1\n",
        "for item in x:\n",
        "  if item > avg_10:\n",
        "    print(item1)"
      ],
      "metadata": {
        "id": "ogXfOajTTqN1",
        "outputId": "3ea81cbd-db36-43e4-c855-3811c15dadee",
        "colab": {
          "base_uri": "https://localhost:8080/"
        }
      },
      "execution_count": 23,
      "outputs": [
        {
          "output_type": "stream",
          "name": "stdout",
          "text": [
            "number>>23\n",
            "number>>34\n",
            "number>>23\n",
            "number>>2\n",
            "number>>1\n",
            "number>>23\n",
            "number>>1\n",
            "number>>100\n",
            "number>>0\n",
            "23\n",
            "34\n",
            "23\n",
            "23\n",
            "100\n"
          ]
        }
      ]
    }
  ]
}