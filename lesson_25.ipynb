{
  "nbformat": 4,
  "nbformat_minor": 0,
  "metadata": {
    "colab": {
      "provenance": [],
      "collapsed_sections": [
        "fRY0NeYkgBSP",
        "L7SCPp8Qjp7F",
        "4KGZemCQyXgD",
        "v1ZNNcS2yq5-",
        "OzdYNCglgEiw"
      ],
      "authorship_tag": "ABX9TyObx2WlWJ+XhniZqme1bKyT",
      "include_colab_link": true
    },
    "kernelspec": {
      "name": "python3",
      "display_name": "Python 3"
    },
    "language_info": {
      "name": "python"
    }
  },
  "cells": [
    {
      "cell_type": "markdown",
      "metadata": {
        "id": "view-in-github",
        "colab_type": "text"
      },
      "source": [
        "<a href=\"https://colab.research.google.com/github/cpython-projects/da_2603/blob/main/lesson_25.ipynb\" target=\"_parent\"><img src=\"https://colab.research.google.com/assets/colab-badge.svg\" alt=\"Open In Colab\"/></a>"
      ]
    },
    {
      "cell_type": "markdown",
      "source": [
        "# Оконные функции\n",
        "**Оконные функции (window functions)** — функции, которые работают по группе строк, но при этом не сводят результат к одной строке (в отличие от `GROUP BY`)."
      ],
      "metadata": {
        "id": "fRY0NeYkgBSP"
      }
    },
    {
      "cell_type": "markdown",
      "source": [
        "## Основные оконные функции\n",
        "\n",
        "| Функция        | Назначение                       |\n",
        "| -------------- | -------------------------------- |\n",
        "| `ROW_NUMBER()` | Порядковый номер строки в группе |\n",
        "| `RANK()`       | Ранг с пропусками                |\n",
        "| `DENSE_RANK()` | Ранг без пропусков               |\n",
        "| `LAG()`        | Предыдущее значение              |\n",
        "| `LEAD()`       | Следующее значение               |\n",
        "| `SUM()`        | Накопительный итог               |\n",
        "| `AVG()`        | Среднее по окну                  |"
      ],
      "metadata": {
        "id": "gCH2eMncgjZU"
      }
    },
    {
      "cell_type": "markdown",
      "source": [
        "## ОКОННАЯ ФУНКЦИЯ SUM(...) OVER vs. GROUP BY\n",
        "\n",
        "Представим таблицу `orders_log`:\n",
        "\n",
        "| user\\_uuid | order\\_time | total\\_uah |\n",
        "| ---------- | ----------- | ---------- |\n",
        "| u1         | 2024-01-10  | 300        |\n",
        "| u1         | 2024-01-15  | 400        |\n",
        "| u2         | 2024-01-12  | 100        |\n",
        "| u2         | 2024-01-22  | 500        |\n",
        "\n",
        "\n",
        "Результат `SUM(...) OVER`  \n",
        "\n",
        "| user\\_uuid | order\\_time | total\\_uah | cumulative\\_total |\n",
        "| ---------- | ----------- | ---------- | ----------------- |\n",
        "| u1         | 2024-01-10  | 300        | 300               |\n",
        "| u1         | 2024-01-15  | 400        | 700               |\n",
        "| u2         | 2024-01-12  | 100        | 100               |\n",
        "| u2         | 2024-01-22  | 500        | 600               |\n",
        "\n",
        "Результат `GROUP BY`\n",
        "\n",
        "| user\\_uuid | total\\_by\\_user |\n",
        "| ---------- | --------------- |\n",
        "| u1         | 700             |\n",
        "| u2         | 600             |"
      ],
      "metadata": {
        "id": "o1oqgvAGhEMh"
      }
    },
    {
      "cell_type": "markdown",
      "source": [
        "## Принципы написания оконных функций"
      ],
      "metadata": {
        "id": "L7SCPp8Qjp7F"
      }
    },
    {
      "cell_type": "markdown",
      "source": [
        "### Синтаксис"
      ],
      "metadata": {
        "id": "4KGZemCQyXgD"
      }
    },
    {
      "cell_type": "markdown",
      "source": [
        "```sql\n",
        "SELECT column,\n",
        "       функция(...) OVER (\n",
        "        ...\n",
        "       )\n",
        "FROM таблица;\n",
        "```\n",
        "\n",
        "\n",
        "```sql\n",
        "ФУНКЦИЯ(...) OVER (\n",
        "    [PARTITION BY разделение_по_группам]\n",
        "    [ORDER BY порядок_внутри_группы]\n",
        "    [ROWS BETWEEN ... AND ...]\n",
        ")\n",
        "```\n",
        "\n",
        "| Элемент            | Обязательно? | Назначение                                                                |\n",
        "| ------------------ | ------------ | ------------------------------------------------------------------------- |\n",
        "| `ФУНКЦИЯ(...)`     | ✅ Да         | Оконная функция (`SUM`, `ROW_NUMBER`, `LAG`, и т.д.)                      |\n",
        "| `OVER (...)`       | ✅ Да         | Обязательный блок, который делает функцию оконной                         |\n",
        "| `PARTITION BY ...` | ❌ Нет        | Разделение на подгруппы (например, по `user_id`)                          |\n",
        "| `ORDER BY ...`     | ❌ Нет        | Определяет порядок строк в пределах каждой группы                         |\n",
        "| `ROWS BETWEEN ...` | ❌ Нет        | Уточняет окно: какие строки из отсортированной группы участвуют в расчёте |"
      ],
      "metadata": {
        "id": "20m9WZxhncP3"
      }
    },
    {
      "cell_type": "markdown",
      "source": [
        "### Компоненты оконной функции"
      ],
      "metadata": {
        "id": "6peLzFn0ygyL"
      }
    },
    {
      "cell_type": "markdown",
      "source": [
        "#### `ФУНКЦИЯ(...)`\n",
        "\n",
        "Это агрегатная или оконная функция, применяемая **к окну строк** (не ко всей таблице). Например:\n",
        "\n",
        "* `SUM()`, `AVG()`, `COUNT()`\n",
        "* `ROW_NUMBER()`, `RANK()`, `LAG()`, `LEAD()`"
      ],
      "metadata": {
        "id": "aCMgRagAoNRN"
      }
    },
    {
      "cell_type": "markdown",
      "source": [
        "#### `OVER (...)` — \"окно\", по которому будет работать функция\n",
        "\n",
        "Ключевое отличие от обычной агрегации: **результат остаётся в каждой строке**, а не сворачивается."
      ],
      "metadata": {
        "id": "v1ZNNcS2yq5-"
      }
    },
    {
      "cell_type": "markdown",
      "source": [
        "##### `PARTITION BY`\n",
        "\n",
        "* Делит данные на **группы** (разбиения).\n",
        "* Каждая группа обрабатывается отдельно.\n",
        "\n",
        "📌 Аналог `GROUP BY`, но результат **не сворачивается**, а остаётся построчно.\n",
        "\n",
        "**Пример:**\n",
        "\n",
        "```sql\n",
        "SUM(total_uah) OVER (PARTITION BY user_uuid)\n",
        "```\n",
        "\n",
        "Считает сумму для каждого пользователя по всем его строкам."
      ],
      "metadata": {
        "id": "2LpRpZNcy2pN"
      }
    },
    {
      "cell_type": "markdown",
      "source": [
        "##### `ORDER BY`\n",
        "\n",
        "* Упорядочивает строки **внутри каждой группы (partition)**.\n",
        "* Обязательно для функций, которым важен **порядок**: `ROW_NUMBER()`, `RANK()`, `LAG()`, `LEAD()`, `CUMULATIVE SUM`.\n",
        "\n",
        "📌 Если **не указать `ORDER BY`**, то:\n",
        "\n",
        "* Для `LAG`, `LEAD`, `ROW_NUMBER` и других **порядок будет неопределён** — результат будет некорректным.\n",
        "* Для `SUM(...) OVER (PARTITION BY ...)` без `ORDER BY` — будет сумма **по всей группе**, но без накопления."
      ],
      "metadata": {
        "id": "bwXKVUvPy5yf"
      }
    },
    {
      "cell_type": "markdown",
      "source": [
        "##### `ROWS BETWEEN ... AND ...` — диапазон строк\n",
        "\n",
        "Определяет, **какой диапазон строк** внутри \"окна\" включить для расчёта.\n",
        "\n",
        "**Общая форма:**\n",
        "\n",
        "```sql\n",
        "ROWS BETWEEN <начало_окна> AND <конец_окна>\n",
        "```\n",
        "---\n",
        "\n",
        "**Возможные значения**\n",
        "\n",
        "| Значение              | Что означает                             |\n",
        "| --------------------- | ---------------------------------------- |\n",
        "| `UNBOUNDED PRECEDING` | Самое начало окна (первая строка группы) |\n",
        "| `n PRECEDING`         | `n` строк до текущей                     |\n",
        "| `CURRENT ROW`         | Текущая строка                           |\n",
        "| `n FOLLOWING`         | `n` строк после текущей                  |\n",
        "| `UNBOUNDED FOLLOWING` | До самого конца окна                     |\n",
        "\n",
        "---\n",
        "\n",
        "**Примеры комбинаций**\n",
        "\n",
        "| Синтаксис                                                  | Что делает                                                      |\n",
        "| ---------------------------------------------------------- | --------------------------------------------------------------- |\n",
        "| `ROWS BETWEEN UNBOUNDED PRECEDING AND CURRENT ROW`         | Накопительная сумма от начала до текущей строки                 |\n",
        "| `ROWS BETWEEN 3 PRECEDING AND CURRENT ROW`                 | Скользящее окно из 4 строк: текущая и 3 перед ней               |\n",
        "| `ROWS BETWEEN 1 PRECEDING AND 1 FOLLOWING`                 | Соседи вокруг строки (3 строки: до, текущая, после)             |\n",
        "| `ROWS BETWEEN CURRENT ROW AND UNBOUNDED FOLLOWING`         | От текущей строки до конца группы                               |\n",
        "| `ROWS BETWEEN UNBOUNDED PRECEDING AND UNBOUNDED FOLLOWING` | Вся группа целиком (эквивалентна `PARTITION BY`, но с ORDER BY) |\n",
        "| `ROWS BETWEEN CURRENT ROW AND CURRENT ROW`                 | Только текущая строка (по умолчанию, если ничего не указано)    |\n",
        "\n",
        "📌 Если указано `ORDER BY`, но не указано `ROWS`, по умолчанию:\n",
        "\n",
        "  ```sql\n",
        "  ROWS BETWEEN UNBOUNDED PRECEDING AND CURRENT ROW\n",
        "  ```"
      ],
      "metadata": {
        "id": "nR2vlMRpzCx2"
      }
    },
    {
      "cell_type": "markdown",
      "source": [
        "##### Пример\n",
        "\n",
        "```sql\n",
        "SELECT user_uuid,\n",
        "       order_time,\n",
        "       total_uah,\n",
        "       SUM(total_uah) OVER (\n",
        "           PARTITION BY user_uuid\n",
        "           ORDER BY order_time\n",
        "           ROWS BETWEEN UNBOUNDED PRECEDING AND CURRENT ROW\n",
        "       ) AS cumulative_total\n",
        "FROM orders_log;\n",
        "```\n",
        "\n",
        "| Элемент                  | Пояснение                                       |\n",
        "| ------------------------ | ----------------------------------------------- |\n",
        "| `SUM(total_uah)`         | Функция: хотим посчитать накопительную сумму    |\n",
        "| `PARTITION BY user_uuid` | Для каждого пользователя отдельно               |\n",
        "| `ORDER BY order_time`    | Считаем **в хронологическом порядке** заказов   |\n",
        "| `ROWS BETWEEN ...`       | Накопление: с самого первого до текущего заказа |\n",
        "| `AS cumulative_total`    | Название нового столбца с результатом           |\n"
      ],
      "metadata": {
        "id": "DKMPEt2UzdY4"
      }
    },
    {
      "cell_type": "markdown",
      "source": [
        "#### Типичные ошибки\n",
        "\n",
        "| Ошибка                                                         | Что пойдет не так                                                        |\n",
        "| -------------------------------------------------------------- | ------------------------------------------------------------------------ |\n",
        "| **Не указали `ORDER BY` для `ROW_NUMBER()` или `LAG()`**       | Порядок будет случайным                                                  |\n",
        "| **Не указали `PARTITION BY`, а он был нужен**                  | Все пользователи будут в одной группе                                    |\n",
        "| **Не указали `ROWS` в агрегатных функциях (`SUM()`, `AVG()`)** | В PostgreSQL будет всё от начала до текущей строки, но лучше писать явно |"
      ],
      "metadata": {
        "id": "yh65sOYun-xS"
      }
    },
    {
      "cell_type": "markdown",
      "source": [
        "#### Как писать оконные функции правильно\n",
        "\n",
        "1. **Определи**, по каким группам работает логика (`PARTITION BY`)\n",
        "2. **Определи порядок** внутри группы (`ORDER BY`)\n",
        "3. Для агрегатов — **уточни окно строк** (`ROWS BETWEEN`)\n",
        "4. Убедись, что **функция применима к текущей задаче**"
      ],
      "metadata": {
        "id": "xU4uKd44ziCu"
      }
    },
    {
      "cell_type": "markdown",
      "source": [
        "## Оконные функции"
      ],
      "metadata": {
        "id": "E9jut0nYz9BS"
      }
    },
    {
      "cell_type": "markdown",
      "source": [
        "### Тестовая таблица `orders_log`\n",
        "\n",
        "| user\\_id | order\\_date | amount |\n",
        "| -------- | ----------- | ------ |\n",
        "| u1       | 2024-01-01  | 100    |\n",
        "| u1       | 2024-01-10  | 150    |\n",
        "| u1       | 2024-01-20  | 200    |\n",
        "| u2       | 2024-01-05  | 300    |\n",
        "| u2       | 2024-02-01  | 100    |"
      ],
      "metadata": {
        "id": "NQ5gOdZVp2gX"
      }
    },
    {
      "cell_type": "markdown",
      "source": [
        "### 1. `SUM(...) OVER (PARTITION BY ...)` — сумма по пользователю\n",
        "\n",
        "```sql\n",
        "SELECT user_uuid, order_time, total_uah,\n",
        "      SUM(total_uah) OVER (\n",
        "        PARTITION BY user_uuid\n",
        "      )\n",
        "FROM orders_log;\n",
        "```\n",
        "\n",
        "**Что происходит:**\n",
        "\n",
        "* Каждой строке присваивается сумма всех `total_uah` по этому `user_uuid`.\n",
        "* Порядок не важен — здесь просто агрегат без сортировки.\n",
        "\n",
        "**Результат:**\n",
        "\n",
        "| user\\_uuid | order\\_time | total_uah | sum |\n",
        "| -------- | ----------- | ------ | --- |\n",
        "| u1       | 2024-01-01  | 100    | 450 |\n",
        "| u1       | 2024-01-10  | 150    | 450 |\n",
        "| u1       | 2024-01-20  | 200    | 450 |\n",
        "| u2       | 2024-01-05  | 300    | 400 |\n",
        "| u2       | 2024-02-01  | 100    | 400 |\n"
      ],
      "metadata": {
        "id": "-M5Rum_30yUv"
      }
    },
    {
      "cell_type": "markdown",
      "source": [
        "### 2. 📈 `SUM(...) OVER (PARTITION BY ... ORDER BY ...)` — кумулятивная сумма\n",
        "\n",
        "```sql\n",
        "SELECT user_uuid, order_time, total_uah,\n",
        "      SUM(total_uah) OVER (\n",
        "        PARTITION BY user_uuid\n",
        "        ORDER BY order_time\n",
        "      )\n",
        "FROM orders_log;\n",
        "```\n",
        "\n",
        "**Что происходит:**\n",
        "\n",
        "* Сначала данные разбиваются по `user_uuid`\n",
        "* Затем в каждой группе сортируются по `order_time`\n",
        "* Считается нарастающая сумма\n",
        "\n",
        "**Результат:**\n",
        "\n",
        "| user\\_uuid | order\\_time | total_uah | sum |\n",
        "| -------- | ----------- | ------ | --- |\n",
        "| u1       | 2024-01-01  | 100    | 100 |\n",
        "| u1       | 2024-01-10  | 150    | 250 |\n",
        "| u1       | 2024-01-20  | 200    | 450 |\n",
        "| u2       | 2024-01-05  | 300    | 300 |\n",
        "| u2       | 2024-02-01  | 100    | 400 |\n"
      ],
      "metadata": {
        "id": "u4_5SJeL1zYp"
      }
    },
    {
      "cell_type": "markdown",
      "source": [
        "### 3. `LAG()` и `LEAD()` — предыдущее и следующее значение\n",
        "\n",
        "```sql\n",
        "SELECT user_uuid, order_time, total_uah,\n",
        "       LAG(total_uah) OVER (PARTITION BY user_uuid ORDER BY order_time),\n",
        "       LEAD(total_uah) OVER (PARTITION BY user_uuid ORDER BY order_time)\n",
        "FROM orders_log;\n",
        "```\n",
        "\n",
        "**Объяснение:**\n",
        "\n",
        "* `LAG(...)` — вернёт значение предыдущей строки внутри группы\n",
        "* `LEAD(...)` — вернёт значение следующей строки внутри группы\n",
        "\n",
        "**Результат:**\n",
        "\n",
        "| user\\_uuid | order\\_time | total\\_uah | lag  | lead |\n",
        "| -------- | ----------- | ------ | ---- | ---- |\n",
        "| u1       | 2024-01-01  | 100    | null | 150  |\n",
        "| u1       | 2024-01-10  | 150    | 100  | 200  |\n",
        "| u1       | 2024-01-20  | 200    | 150  | null |\n",
        "| u2       | 2024-01-05  | 300    | null | 100  |\n",
        "| u2       | 2024-02-01  | 100    | 300  | null |\n"
      ],
      "metadata": {
        "id": "Kq9ms-sZ2Kal"
      }
    },
    {
      "cell_type": "markdown",
      "source": [
        "### 4. `ROW_NUMBER()` — порядковый номер в группе\n",
        "\n",
        "```sql\n",
        "SELECT user_uuid, order_time, total_uah,\n",
        "      ROW_NUMBER() OVER (\n",
        "        PARTITION BY user_uuid ORDER BY order_time\n",
        "      )\n",
        "FROM orders_log;\n",
        "```\n",
        "\n",
        "**Что делает:**\n",
        "\n",
        "* Пронумерует строки **внутри каждой группы по `user_uuid`**\n",
        "* Порядок задаётся по дате\n",
        "\n",
        "**Результат:**\n",
        "\n",
        "| user\\_uuid | order\\_time | total\\_uah | row\\_number |\n",
        "| -------- | ----------- | ------ | ----------- |\n",
        "| u1       | 2024-01-01  | 100    | 1           |\n",
        "| u1       | 2024-01-10  | 150    | 2           |\n",
        "| u1       | 2024-01-20  | 200    | 3           |\n",
        "| u2       | 2024-01-05  | 300    | 1           |\n",
        "| u2       | 2024-02-01  | 100    | 2           |\n"
      ],
      "metadata": {
        "id": "hKZnpVpC2gGs"
      }
    },
    {
      "cell_type": "markdown",
      "source": [
        "### 5. `RANK()` и `DENSE_RANK()` — ранжирование\n",
        "\n",
        "```sql\n",
        "SELECT user_uuid, total_uah,\n",
        "      RANK() OVER (\n",
        "          ORDER BY total_uah DESC\n",
        "      ) AS rank,\n",
        "      DENSE_RANK() OVER (\n",
        "          ORDER BY total_uah DESC\n",
        "      ) AS dense_rank\n",
        "FROM orders_log;\n",
        "```\n",
        "\n",
        "**Разница:**\n",
        "\n",
        "* `RANK()` — пропускает ранги (1, 1, 3)\n",
        "* `DENSE_RANK()` — не пропускает (1, 1, 2)\n",
        "\n",
        "**Результат:**\n",
        "\n",
        "| user\\_uuid | total\\_uah | rank | dense\\_rank |\n",
        "| ---------- | ---------- | ---- | ----------- |\n",
        "| u2         | 300        | 1    | 1           |\n",
        "| u1         | 200        | 2    | 2           |\n",
        "| u1         | 200        | 2    | 2           |\n",
        "| u1         | 150        | 4    | 3           |\n",
        "| u2         | 100        | 5    | 4           |\n",
        "| u1         | 100        | 5    | 4           |"
      ],
      "metadata": {
        "id": "j6mqKX950HuF"
      }
    },
    {
      "cell_type": "markdown",
      "source": [
        "### 6. `FIRST_VALUE()` и `LAST_VALUE()`\n",
        "\n",
        "```sql\n",
        "SELECT user_uuid, order_time, total_uah,\n",
        "      FIRST_VALUE(total_uah) OVER (\n",
        "        PARTITION BY user_uuid\n",
        "        ORDER BY order_time\n",
        "      ),\n",
        "      LAST_VALUE(total_uah) OVER (\n",
        "         PARTITION BY user_uuid\n",
        "         ORDER BY order_time\n",
        "         ROWS BETWEEN UNBOUNDED PRECEDING AND UNBOUNDED FOLLOWING\n",
        "      )\n",
        "FROM orders_log;\n",
        "```\n",
        "\n",
        "**Что делает:**\n",
        "\n",
        "* `FIRST_VALUE(...)` — первое значение по заданному `ORDER BY`\n",
        "* `LAST_VALUE(...)` — последнее, но нужно указать границы окна\n",
        "\n",
        "**Результат:**\n",
        "\n",
        "| user\\_uuid | order\\_time | total\\_uah | first\\_value | last\\_value |\n",
        "| -------- | ----------- | ------ | ------------ | ----------- |\n",
        "| u1       | 2024-01-01  | 100    | 100          | 200         |\n",
        "| u1       | 2024-01-10  | 150    | 100          | 200         |\n",
        "| u1       | 2024-01-20  | 200    | 100          | 200         |\n",
        "| u2       | 2024-01-05  | 300    | 300          | 100         |\n",
        "| u2       | 2024-02-01  | 100    | 300          | 100         |"
      ],
      "metadata": {
        "id": "2Ti6FXs33jvW"
      }
    },
    {
      "cell_type": "markdown",
      "source": [
        "## Задачи"
      ],
      "metadata": {
        "id": "sWxWPnqB4RIu"
      }
    },
    {
      "cell_type": "code",
      "source": [
        "import pandas as pd\n",
        "from sqlalchemy import create_engine, text\n",
        "import plotly.express as px"
      ],
      "metadata": {
        "id": "ia4qTgV_9ALS"
      },
      "execution_count": 2,
      "outputs": []
    },
    {
      "cell_type": "code",
      "source": [
        "DB_USER = \"da_test_user\"\n",
        "DB_PASS = \"c89M2psBdXGtBXpY3BPrTRZ2bXl6yq2i\"\n",
        "DB_HOST = \"dpg-d1hvnobe5dus739ipbcg-a.frankfurt-postgres.render.com\"\n",
        "DB_PORT = \"5432\"\n",
        "DB_NAME = \"da_test\""
      ],
      "metadata": {
        "id": "Y984BsHq9Dvv"
      },
      "execution_count": 3,
      "outputs": []
    },
    {
      "cell_type": "code",
      "source": [
        "engine = create_engine(f\"postgresql+psycopg2://{DB_USER}:{DB_PASS}@{DB_HOST}:{DB_PORT}/{DB_NAME}\")"
      ],
      "metadata": {
        "id": "VxqoVwxb9Jxl"
      },
      "execution_count": 4,
      "outputs": []
    },
    {
      "cell_type": "markdown",
      "source": [
        "**Task 1. Кумулятивная выручка по каждому пользователю**  \n",
        "Как накапливалась сумма заказов у каждого пользователя по времени?"
      ],
      "metadata": {
        "id": "VjGsh_cR8Vlk"
      }
    },
    {
      "cell_type": "markdown",
      "source": [
        "**Task 2. Интервал между покупками**  \n",
        "Сколько дней прошло с предыдущего заказа?\n",
        "\n",
        "*Цель:* Выявить пользователей с длинными перерывами — возможно, они уходят."
      ],
      "metadata": {
        "id": "6Ha4FVnm8Rsp"
      }
    },
    {
      "cell_type": "markdown",
      "source": [
        "**Task 3. Порядковый номер заказа**  \n",
        "Какая по счёту это покупка для пользователя?"
      ],
      "metadata": {
        "id": "bU1U6WUN8Otw"
      }
    },
    {
      "cell_type": "markdown",
      "source": [
        "**Task 4. Последняя сумма покупки (для сравнения)**  \n",
        "Какая была последняя покупка пользователя? Как она отличается от текущей?"
      ],
      "metadata": {
        "id": "mP15f9H98L4O"
      }
    },
    {
      "cell_type": "markdown",
      "source": [
        "**Task 5. Самый крупный заказ — на каком месте он произошёл?**  \n",
        "Самый большой заказ был первым, вторым или позже?\n",
        "\n",
        "*Цель:* Понять, есть ли эффект \"затухания\" или наоборот — рост с доверием."
      ],
      "metadata": {
        "id": "oHxL6aj28IM5"
      }
    },
    {
      "cell_type": "markdown",
      "source": [
        "**Task 6. Первый заказ каждого пользователя**  \n",
        "Какова сумма первого заказа?"
      ],
      "metadata": {
        "id": "wYYm1N2G8END"
      }
    },
    {
      "cell_type": "markdown",
      "source": [
        "**Task 7. Признак повторной покупки**  \n",
        "Сделал ли пользователь хотя бы 2 заказа?"
      ],
      "metadata": {
        "id": "aSjOxhZo8AJt"
      }
    },
    {
      "cell_type": "markdown",
      "source": [
        "#  Когортный анализ  \n",
        "Когда мы анализируем поведение пользователей во времени, средние значения могут вводить в заблуждение:\n",
        "*  одни пользователи только что пришли, другие — давно ушли.\n",
        "*  нам нужен способ смотреть, как изменяется поведение пользователей от момента их первого действия."
      ],
      "metadata": {
        "id": "OzdYNCglgEiw"
      }
    },
    {
      "cell_type": "markdown",
      "source": [
        "## Что такое когорта?\n",
        "\n",
        "**Когорта** — это группа пользователей, которые объединились по дате первого действия:\n",
        "\n",
        "| Пользователь | first\\_seen (дата установки) | Когорта    |\n",
        "| ------------ | ---------------------------- | ---------- |\n",
        "| A            | 2024‑03‑01                   | 2024‑03‑01 |\n",
        "| B            | 2024‑03‑01                   | 2024‑03‑01 |\n",
        "| C            | 2024‑03‑02                   | 2024‑03‑02 |\n",
        "\n",
        "---\n",
        "\n",
        "## Для чего нужен когортный анализ?\n",
        "\n",
        "Когортный анализ отвечает на вопросы:\n",
        "\n",
        "*  Когда и где мы теряем пользователей?\n",
        "*  Как меняется поведение пользователей после установки?\n",
        "*  Когда пользователи начинают приносить выручку?\n",
        "\n",
        "---\n",
        "\n",
        "## Виды когорт\n",
        "\n",
        "| Тип когорты            | Пример                                |\n",
        "| ---------------------- | ------------------------------------- |\n",
        "| По дате установки      | Все, кто установил приложение в марте |\n",
        "| По дате авторизации    | Все, кто вошёл в аккаунт в апреле     |\n",
        "| По дате первой покупки | Все, кто впервые купил в мае          |"
      ],
      "metadata": {
        "id": "9FcXpfqigLw1"
      }
    },
    {
      "cell_type": "markdown",
      "source": [
        "## Retention\n",
        "**Retention Day N** — сколько пользователей из когорты вернулись на `N`-й день после установки."
      ],
      "metadata": {
        "id": "E7UQnQUGgoKO"
      }
    },
    {
      "cell_type": "markdown",
      "source": [
        "### Формула\n",
        "\n",
        "$$\n",
        "\\text{Retention}_{n} = \\frac{\\text{Число пользователей, активных на день }n}{\\text{Общее число в когорте}}\n",
        "$$\n",
        "\n",
        "---\n",
        "\n",
        "### Структура когортной таблицы\n",
        "\n",
        "| Когорта / День → | День 0 | День 1 | День 2 | День 3 |\n",
        "| ---------------- | ------ | ------ | ------ | ------ |\n",
        "| 2024‑03‑01       | 100    | 40     | 25     | 10     |\n",
        "| 2024‑03‑02       | 80     | 35     | 15     | 5      |\n",
        "\n",
        "* Строка = когорта (дата установки)\n",
        "* Столбец = день активности после установки\n",
        "\n",
        "---\n",
        "\n",
        "### Какие таблицы используются?\n",
        "\n",
        "| Таблица             | Для чего используется               |\n",
        "| ------------------- | ----------------------------------- |\n",
        "| `app_sessions`      | Дата установки (когорта)            |\n",
        "| `product_views_log` | Дата активности (просмотры товаров) |"
      ],
      "metadata": {
        "id": "tIdc4GEFgV3r"
      }
    },
    {
      "cell_type": "markdown",
      "source": [
        "### Когортный анализ выручки\n",
        "\n",
        "* Устанавливаем когорту по дате установки (`first_seen`)\n",
        "* Присоединяем покупки через `devices_users_map` и `orders_log`\n",
        "* Считаем, сколько дней прошло между установкой и покупкой\n",
        "* Группируем по `cohort_date` и `days_since_install`, суммируя выручку"
      ],
      "metadata": {
        "id": "1d5DfHK9hOWm"
      }
    },
    {
      "cell_type": "code",
      "source": [
        "query = \"\"\"\n",
        "SELECT\n",
        "  app_sessions.first_seen::date AS cohort_date,\n",
        "  (orders_log.order_time - app_sessions.first_seen)::int AS days_since_install,\n",
        "  SUM(orders_log.total_uah) AS revenue\n",
        "FROM app_sessions\n",
        "JOIN devices_users_map\n",
        "  ON app_sessions.device_code = devices_users_map.device_code\n",
        "JOIN orders_log\n",
        "  ON devices_users_map.user_uuid = orders_log.user_uuid\n",
        "WHERE app_sessions.first_seen BETWEEN '2024-03-01' AND '2024-03-31'\n",
        "GROUP BY cohort_date, days_since_install\n",
        "ORDER BY cohort_date, days_since_install;\n",
        "\"\"\"\n",
        "\n",
        "df = pd.read_sql(text(query), engine)\n",
        "df"
      ],
      "metadata": {
        "colab": {
          "base_uri": "https://localhost:8080/",
          "height": 423
        },
        "id": "S07haFYKkRrH",
        "outputId": "41b1dd6c-5897-4216-db36-b8fff9e346d3"
      },
      "execution_count": 13,
      "outputs": [
        {
          "output_type": "execute_result",
          "data": {
            "text/plain": [
              "    cohort_date  days_since_install  revenue\n",
              "0    2024-03-01                 -57  2537.92\n",
              "1    2024-03-01                 -48   502.71\n",
              "2    2024-03-01                 -35  2687.07\n",
              "3    2024-03-01                 -27  1279.29\n",
              "4    2024-03-01                 -20  2493.18\n",
              "..          ...                 ...      ...\n",
              "423  2024-03-31                  59   479.02\n",
              "424  2024-03-31                  64  1653.87\n",
              "425  2024-03-31                  75  1804.96\n",
              "426  2024-03-31                  80  1435.34\n",
              "427  2024-03-31                  82  2039.67\n",
              "\n",
              "[428 rows x 3 columns]"
            ],
            "text/html": [
              "\n",
              "  <div id=\"df-7a61c7b2-020c-4a32-9aae-8c5cf8b43080\" class=\"colab-df-container\">\n",
              "    <div>\n",
              "<style scoped>\n",
              "    .dataframe tbody tr th:only-of-type {\n",
              "        vertical-align: middle;\n",
              "    }\n",
              "\n",
              "    .dataframe tbody tr th {\n",
              "        vertical-align: top;\n",
              "    }\n",
              "\n",
              "    .dataframe thead th {\n",
              "        text-align: right;\n",
              "    }\n",
              "</style>\n",
              "<table border=\"1\" class=\"dataframe\">\n",
              "  <thead>\n",
              "    <tr style=\"text-align: right;\">\n",
              "      <th></th>\n",
              "      <th>cohort_date</th>\n",
              "      <th>days_since_install</th>\n",
              "      <th>revenue</th>\n",
              "    </tr>\n",
              "  </thead>\n",
              "  <tbody>\n",
              "    <tr>\n",
              "      <th>0</th>\n",
              "      <td>2024-03-01</td>\n",
              "      <td>-57</td>\n",
              "      <td>2537.92</td>\n",
              "    </tr>\n",
              "    <tr>\n",
              "      <th>1</th>\n",
              "      <td>2024-03-01</td>\n",
              "      <td>-48</td>\n",
              "      <td>502.71</td>\n",
              "    </tr>\n",
              "    <tr>\n",
              "      <th>2</th>\n",
              "      <td>2024-03-01</td>\n",
              "      <td>-35</td>\n",
              "      <td>2687.07</td>\n",
              "    </tr>\n",
              "    <tr>\n",
              "      <th>3</th>\n",
              "      <td>2024-03-01</td>\n",
              "      <td>-27</td>\n",
              "      <td>1279.29</td>\n",
              "    </tr>\n",
              "    <tr>\n",
              "      <th>4</th>\n",
              "      <td>2024-03-01</td>\n",
              "      <td>-20</td>\n",
              "      <td>2493.18</td>\n",
              "    </tr>\n",
              "    <tr>\n",
              "      <th>...</th>\n",
              "      <td>...</td>\n",
              "      <td>...</td>\n",
              "      <td>...</td>\n",
              "    </tr>\n",
              "    <tr>\n",
              "      <th>423</th>\n",
              "      <td>2024-03-31</td>\n",
              "      <td>59</td>\n",
              "      <td>479.02</td>\n",
              "    </tr>\n",
              "    <tr>\n",
              "      <th>424</th>\n",
              "      <td>2024-03-31</td>\n",
              "      <td>64</td>\n",
              "      <td>1653.87</td>\n",
              "    </tr>\n",
              "    <tr>\n",
              "      <th>425</th>\n",
              "      <td>2024-03-31</td>\n",
              "      <td>75</td>\n",
              "      <td>1804.96</td>\n",
              "    </tr>\n",
              "    <tr>\n",
              "      <th>426</th>\n",
              "      <td>2024-03-31</td>\n",
              "      <td>80</td>\n",
              "      <td>1435.34</td>\n",
              "    </tr>\n",
              "    <tr>\n",
              "      <th>427</th>\n",
              "      <td>2024-03-31</td>\n",
              "      <td>82</td>\n",
              "      <td>2039.67</td>\n",
              "    </tr>\n",
              "  </tbody>\n",
              "</table>\n",
              "<p>428 rows × 3 columns</p>\n",
              "</div>\n",
              "    <div class=\"colab-df-buttons\">\n",
              "\n",
              "  <div class=\"colab-df-container\">\n",
              "    <button class=\"colab-df-convert\" onclick=\"convertToInteractive('df-7a61c7b2-020c-4a32-9aae-8c5cf8b43080')\"\n",
              "            title=\"Convert this dataframe to an interactive table.\"\n",
              "            style=\"display:none;\">\n",
              "\n",
              "  <svg xmlns=\"http://www.w3.org/2000/svg\" height=\"24px\" viewBox=\"0 -960 960 960\">\n",
              "    <path d=\"M120-120v-720h720v720H120Zm60-500h600v-160H180v160Zm220 220h160v-160H400v160Zm0 220h160v-160H400v160ZM180-400h160v-160H180v160Zm440 0h160v-160H620v160ZM180-180h160v-160H180v160Zm440 0h160v-160H620v160Z\"/>\n",
              "  </svg>\n",
              "    </button>\n",
              "\n",
              "  <style>\n",
              "    .colab-df-container {\n",
              "      display:flex;\n",
              "      gap: 12px;\n",
              "    }\n",
              "\n",
              "    .colab-df-convert {\n",
              "      background-color: #E8F0FE;\n",
              "      border: none;\n",
              "      border-radius: 50%;\n",
              "      cursor: pointer;\n",
              "      display: none;\n",
              "      fill: #1967D2;\n",
              "      height: 32px;\n",
              "      padding: 0 0 0 0;\n",
              "      width: 32px;\n",
              "    }\n",
              "\n",
              "    .colab-df-convert:hover {\n",
              "      background-color: #E2EBFA;\n",
              "      box-shadow: 0px 1px 2px rgba(60, 64, 67, 0.3), 0px 1px 3px 1px rgba(60, 64, 67, 0.15);\n",
              "      fill: #174EA6;\n",
              "    }\n",
              "\n",
              "    .colab-df-buttons div {\n",
              "      margin-bottom: 4px;\n",
              "    }\n",
              "\n",
              "    [theme=dark] .colab-df-convert {\n",
              "      background-color: #3B4455;\n",
              "      fill: #D2E3FC;\n",
              "    }\n",
              "\n",
              "    [theme=dark] .colab-df-convert:hover {\n",
              "      background-color: #434B5C;\n",
              "      box-shadow: 0px 1px 3px 1px rgba(0, 0, 0, 0.15);\n",
              "      filter: drop-shadow(0px 1px 2px rgba(0, 0, 0, 0.3));\n",
              "      fill: #FFFFFF;\n",
              "    }\n",
              "  </style>\n",
              "\n",
              "    <script>\n",
              "      const buttonEl =\n",
              "        document.querySelector('#df-7a61c7b2-020c-4a32-9aae-8c5cf8b43080 button.colab-df-convert');\n",
              "      buttonEl.style.display =\n",
              "        google.colab.kernel.accessAllowed ? 'block' : 'none';\n",
              "\n",
              "      async function convertToInteractive(key) {\n",
              "        const element = document.querySelector('#df-7a61c7b2-020c-4a32-9aae-8c5cf8b43080');\n",
              "        const dataTable =\n",
              "          await google.colab.kernel.invokeFunction('convertToInteractive',\n",
              "                                                    [key], {});\n",
              "        if (!dataTable) return;\n",
              "\n",
              "        const docLinkHtml = 'Like what you see? Visit the ' +\n",
              "          '<a target=\"_blank\" href=https://colab.research.google.com/notebooks/data_table.ipynb>data table notebook</a>'\n",
              "          + ' to learn more about interactive tables.';\n",
              "        element.innerHTML = '';\n",
              "        dataTable['output_type'] = 'display_data';\n",
              "        await google.colab.output.renderOutput(dataTable, element);\n",
              "        const docLink = document.createElement('div');\n",
              "        docLink.innerHTML = docLinkHtml;\n",
              "        element.appendChild(docLink);\n",
              "      }\n",
              "    </script>\n",
              "  </div>\n",
              "\n",
              "\n",
              "    <div id=\"df-efd67262-5d52-4537-82f4-6d59e08562f1\">\n",
              "      <button class=\"colab-df-quickchart\" onclick=\"quickchart('df-efd67262-5d52-4537-82f4-6d59e08562f1')\"\n",
              "                title=\"Suggest charts\"\n",
              "                style=\"display:none;\">\n",
              "\n",
              "<svg xmlns=\"http://www.w3.org/2000/svg\" height=\"24px\"viewBox=\"0 0 24 24\"\n",
              "     width=\"24px\">\n",
              "    <g>\n",
              "        <path d=\"M19 3H5c-1.1 0-2 .9-2 2v14c0 1.1.9 2 2 2h14c1.1 0 2-.9 2-2V5c0-1.1-.9-2-2-2zM9 17H7v-7h2v7zm4 0h-2V7h2v10zm4 0h-2v-4h2v4z\"/>\n",
              "    </g>\n",
              "</svg>\n",
              "      </button>\n",
              "\n",
              "<style>\n",
              "  .colab-df-quickchart {\n",
              "      --bg-color: #E8F0FE;\n",
              "      --fill-color: #1967D2;\n",
              "      --hover-bg-color: #E2EBFA;\n",
              "      --hover-fill-color: #174EA6;\n",
              "      --disabled-fill-color: #AAA;\n",
              "      --disabled-bg-color: #DDD;\n",
              "  }\n",
              "\n",
              "  [theme=dark] .colab-df-quickchart {\n",
              "      --bg-color: #3B4455;\n",
              "      --fill-color: #D2E3FC;\n",
              "      --hover-bg-color: #434B5C;\n",
              "      --hover-fill-color: #FFFFFF;\n",
              "      --disabled-bg-color: #3B4455;\n",
              "      --disabled-fill-color: #666;\n",
              "  }\n",
              "\n",
              "  .colab-df-quickchart {\n",
              "    background-color: var(--bg-color);\n",
              "    border: none;\n",
              "    border-radius: 50%;\n",
              "    cursor: pointer;\n",
              "    display: none;\n",
              "    fill: var(--fill-color);\n",
              "    height: 32px;\n",
              "    padding: 0;\n",
              "    width: 32px;\n",
              "  }\n",
              "\n",
              "  .colab-df-quickchart:hover {\n",
              "    background-color: var(--hover-bg-color);\n",
              "    box-shadow: 0 1px 2px rgba(60, 64, 67, 0.3), 0 1px 3px 1px rgba(60, 64, 67, 0.15);\n",
              "    fill: var(--button-hover-fill-color);\n",
              "  }\n",
              "\n",
              "  .colab-df-quickchart-complete:disabled,\n",
              "  .colab-df-quickchart-complete:disabled:hover {\n",
              "    background-color: var(--disabled-bg-color);\n",
              "    fill: var(--disabled-fill-color);\n",
              "    box-shadow: none;\n",
              "  }\n",
              "\n",
              "  .colab-df-spinner {\n",
              "    border: 2px solid var(--fill-color);\n",
              "    border-color: transparent;\n",
              "    border-bottom-color: var(--fill-color);\n",
              "    animation:\n",
              "      spin 1s steps(1) infinite;\n",
              "  }\n",
              "\n",
              "  @keyframes spin {\n",
              "    0% {\n",
              "      border-color: transparent;\n",
              "      border-bottom-color: var(--fill-color);\n",
              "      border-left-color: var(--fill-color);\n",
              "    }\n",
              "    20% {\n",
              "      border-color: transparent;\n",
              "      border-left-color: var(--fill-color);\n",
              "      border-top-color: var(--fill-color);\n",
              "    }\n",
              "    30% {\n",
              "      border-color: transparent;\n",
              "      border-left-color: var(--fill-color);\n",
              "      border-top-color: var(--fill-color);\n",
              "      border-right-color: var(--fill-color);\n",
              "    }\n",
              "    40% {\n",
              "      border-color: transparent;\n",
              "      border-right-color: var(--fill-color);\n",
              "      border-top-color: var(--fill-color);\n",
              "    }\n",
              "    60% {\n",
              "      border-color: transparent;\n",
              "      border-right-color: var(--fill-color);\n",
              "    }\n",
              "    80% {\n",
              "      border-color: transparent;\n",
              "      border-right-color: var(--fill-color);\n",
              "      border-bottom-color: var(--fill-color);\n",
              "    }\n",
              "    90% {\n",
              "      border-color: transparent;\n",
              "      border-bottom-color: var(--fill-color);\n",
              "    }\n",
              "  }\n",
              "</style>\n",
              "\n",
              "      <script>\n",
              "        async function quickchart(key) {\n",
              "          const quickchartButtonEl =\n",
              "            document.querySelector('#' + key + ' button');\n",
              "          quickchartButtonEl.disabled = true;  // To prevent multiple clicks.\n",
              "          quickchartButtonEl.classList.add('colab-df-spinner');\n",
              "          try {\n",
              "            const charts = await google.colab.kernel.invokeFunction(\n",
              "                'suggestCharts', [key], {});\n",
              "          } catch (error) {\n",
              "            console.error('Error during call to suggestCharts:', error);\n",
              "          }\n",
              "          quickchartButtonEl.classList.remove('colab-df-spinner');\n",
              "          quickchartButtonEl.classList.add('colab-df-quickchart-complete');\n",
              "        }\n",
              "        (() => {\n",
              "          let quickchartButtonEl =\n",
              "            document.querySelector('#df-efd67262-5d52-4537-82f4-6d59e08562f1 button');\n",
              "          quickchartButtonEl.style.display =\n",
              "            google.colab.kernel.accessAllowed ? 'block' : 'none';\n",
              "        })();\n",
              "      </script>\n",
              "    </div>\n",
              "\n",
              "  <div id=\"id_69a15ef3-a4e6-41f0-963a-d1003bcc5876\">\n",
              "    <style>\n",
              "      .colab-df-generate {\n",
              "        background-color: #E8F0FE;\n",
              "        border: none;\n",
              "        border-radius: 50%;\n",
              "        cursor: pointer;\n",
              "        display: none;\n",
              "        fill: #1967D2;\n",
              "        height: 32px;\n",
              "        padding: 0 0 0 0;\n",
              "        width: 32px;\n",
              "      }\n",
              "\n",
              "      .colab-df-generate:hover {\n",
              "        background-color: #E2EBFA;\n",
              "        box-shadow: 0px 1px 2px rgba(60, 64, 67, 0.3), 0px 1px 3px 1px rgba(60, 64, 67, 0.15);\n",
              "        fill: #174EA6;\n",
              "      }\n",
              "\n",
              "      [theme=dark] .colab-df-generate {\n",
              "        background-color: #3B4455;\n",
              "        fill: #D2E3FC;\n",
              "      }\n",
              "\n",
              "      [theme=dark] .colab-df-generate:hover {\n",
              "        background-color: #434B5C;\n",
              "        box-shadow: 0px 1px 3px 1px rgba(0, 0, 0, 0.15);\n",
              "        filter: drop-shadow(0px 1px 2px rgba(0, 0, 0, 0.3));\n",
              "        fill: #FFFFFF;\n",
              "      }\n",
              "    </style>\n",
              "    <button class=\"colab-df-generate\" onclick=\"generateWithVariable('df')\"\n",
              "            title=\"Generate code using this dataframe.\"\n",
              "            style=\"display:none;\">\n",
              "\n",
              "  <svg xmlns=\"http://www.w3.org/2000/svg\" height=\"24px\"viewBox=\"0 0 24 24\"\n",
              "       width=\"24px\">\n",
              "    <path d=\"M7,19H8.4L18.45,9,17,7.55,7,17.6ZM5,21V16.75L18.45,3.32a2,2,0,0,1,2.83,0l1.4,1.43a1.91,1.91,0,0,1,.58,1.4,1.91,1.91,0,0,1-.58,1.4L9.25,21ZM18.45,9,17,7.55Zm-12,3A5.31,5.31,0,0,0,4.9,8.1,5.31,5.31,0,0,0,1,6.5,5.31,5.31,0,0,0,4.9,4.9,5.31,5.31,0,0,0,6.5,1,5.31,5.31,0,0,0,8.1,4.9,5.31,5.31,0,0,0,12,6.5,5.46,5.46,0,0,0,6.5,12Z\"/>\n",
              "  </svg>\n",
              "    </button>\n",
              "    <script>\n",
              "      (() => {\n",
              "      const buttonEl =\n",
              "        document.querySelector('#id_69a15ef3-a4e6-41f0-963a-d1003bcc5876 button.colab-df-generate');\n",
              "      buttonEl.style.display =\n",
              "        google.colab.kernel.accessAllowed ? 'block' : 'none';\n",
              "\n",
              "      buttonEl.onclick = () => {\n",
              "        google.colab.notebook.generateWithVariable('df');\n",
              "      }\n",
              "      })();\n",
              "    </script>\n",
              "  </div>\n",
              "\n",
              "    </div>\n",
              "  </div>\n"
            ],
            "application/vnd.google.colaboratory.intrinsic+json": {
              "type": "dataframe",
              "variable_name": "df",
              "summary": "{\n  \"name\": \"df\",\n  \"rows\": 428,\n  \"fields\": [\n    {\n      \"column\": \"cohort_date\",\n      \"properties\": {\n        \"dtype\": \"date\",\n        \"min\": \"2024-03-01\",\n        \"max\": \"2024-03-31\",\n        \"num_unique_values\": 26,\n        \"samples\": [\n          \"2024-03-11\",\n          \"2024-03-21\",\n          \"2024-03-01\"\n        ],\n        \"semantic_type\": \"\",\n        \"description\": \"\"\n      }\n    },\n    {\n      \"column\": \"days_since_install\",\n      \"properties\": {\n        \"dtype\": \"number\",\n        \"std\": 51,\n        \"min\": -88,\n        \"max\": 114,\n        \"num_unique_values\": 177,\n        \"samples\": [\n          -26,\n          -29,\n          -75\n        ],\n        \"semantic_type\": \"\",\n        \"description\": \"\"\n      }\n    },\n    {\n      \"column\": \"revenue\",\n      \"properties\": {\n        \"dtype\": \"number\",\n        \"std\": 936.403281170977,\n        \"min\": 108.79,\n        \"max\": 5602.74,\n        \"num_unique_values\": 428,\n        \"samples\": [\n          2120.13,\n          1663.85,\n          548.49\n        ],\n        \"semantic_type\": \"\",\n        \"description\": \"\"\n      }\n    }\n  ]\n}"
            }
          },
          "metadata": {},
          "execution_count": 13
        }
      ]
    },
    {
      "cell_type": "code",
      "source": [
        "# Преобразуем в когортную матрицу\n",
        "cohort_matrix = df.pivot_table(\n",
        "    index=\"cohort_date\",\n",
        "    columns=\"days_since_install\",\n",
        "    values=\"revenue\",\n",
        "    fill_value=0\n",
        ")\n",
        "\n",
        "# Нормализуем по дню 0 — считаем Retention %\n",
        "retention_matrix = cohort_matrix.divide(cohort_matrix[0], axis=0).round(3)\n",
        "\n",
        "# Сбросим индекс для визуализации\n",
        "retention_long = retention_matrix.reset_index().melt(\n",
        "    id_vars=\"cohort_date\",\n",
        "    var_name=\"days_since_install\",\n",
        "    value_name=\"retention_rate\"\n",
        ")\n",
        "\n",
        "fig = px.imshow(\n",
        "    retention_matrix,\n",
        "    labels=dict(x=\"День с установки\", y=\"Дата установки\", color=\"Retention\"),\n",
        "    x=retention_matrix.columns,\n",
        "    y=retention_matrix.index,\n",
        "    color_continuous_scale=\"Blues\",\n",
        "    text_auto=True\n",
        ")\n",
        "\n",
        "fig.update_layout(\n",
        "    title=\"📊 Retention по когортам (по просмотрам товаров)\",\n",
        "    xaxis_title=\"День с момента установки\",\n",
        "    yaxis_title=\"Дата установки (когорта)\",\n",
        "    yaxis=dict(autorange=\"reversed\")\n",
        ")\n",
        "\n",
        "fig.show()\n"
      ],
      "metadata": {
        "colab": {
          "base_uri": "https://localhost:8080/",
          "height": 542
        },
        "id": "V98UBcfTlIel",
        "outputId": "eba6eb5b-5883-4cfa-96d7-8906e3986254"
      },
      "execution_count": 14,
      "outputs": [
        {
          "output_type": "display_data",
          "data": {
            "text/html": [
              "<html>\n",
              "<head><meta charset=\"utf-8\" /></head>\n",
              "<body>\n",
              "    <div>            <script src=\"https://cdnjs.cloudflare.com/ajax/libs/mathjax/2.7.5/MathJax.js?config=TeX-AMS-MML_SVG\"></script><script type=\"text/javascript\">if (window.MathJax && window.MathJax.Hub && window.MathJax.Hub.Config) {window.MathJax.Hub.Config({SVG: {font: \"STIX-Web\"}});}</script>                <script type=\"text/javascript\">window.PlotlyConfig = {MathJaxConfig: 'local'};</script>\n",
              "        <script charset=\"utf-8\" src=\"https://cdn.plot.ly/plotly-2.35.2.min.js\"></script>                <div id=\"87eba55e-7b0b-4260-854e-8af51bd76c0f\" class=\"plotly-graph-div\" style=\"height:525px; width:100%;\"></div>            <script type=\"text/javascript\">                                    window.PLOTLYENV=window.PLOTLYENV || {};                                    if (document.getElementById(\"87eba55e-7b0b-4260-854e-8af51bd76c0f\")) {                    Plotly.newPlot(                        \"87eba55e-7b0b-4260-854e-8af51bd76c0f\",                        [{\"coloraxis\":\"coloraxis\",\"name\":\"0\",\"texttemplate\":\"%{z}\",\"x\":[-88,-84,-83,-82,-81,-80,-79,-78,-76,-75,-74,-73,-71,-70,-69,-68,-67,-66,-65,-63,-62,-61,-60,-59,-58,-57,-55,-54,-53,-51,-50,-48,-47,-46,-45,-44,-43,-41,-40,-39,-38,-37,-36,-35,-33,-32,-31,-30,-29,-28,-27,-26,-25,-23,-22,-21,-20,-19,-18,-17,-16,-15,-14,-13,-12,-11,-9,-8,-7,-5,-4,-3,-2,-1,0,1,2,3,4,5,6,7,8,10,11,12,13,14,15,16,17,18,19,21,22,23,24,25,26,28,29,30,31,32,33,34,35,36,37,38,39,40,41,42,43,44,45,46,47,48,49,50,51,52,53,54,56,57,58,59,60,61,62,63,64,65,66,67,68,69,70,71,72,73,74,75,76,77,78,80,81,82,83,84,85,86,87,89,91,93,94,95,96,97,98,100,101,102,103,104,105,106,108,111,112,113,114],\"y\":[\"2024-03-01\",\"2024-03-02\",\"2024-03-03\",\"2024-03-04\",\"2024-03-05\",\"2024-03-06\",\"2024-03-07\",\"2024-03-10\",\"2024-03-11\",\"2024-03-13\",\"2024-03-14\",\"2024-03-15\",\"2024-03-16\",\"2024-03-17\",\"2024-03-18\",\"2024-03-20\",\"2024-03-21\",\"2024-03-23\",\"2024-03-24\",\"2024-03-25\",\"2024-03-26\",\"2024-03-27\",\"2024-03-28\",\"2024-03-29\",\"2024-03-30\",\"2024-03-31\"],\"z\":[[null,null,null,null,null,null,null,null,null,null,null,null,null,null,null,null,null,null,null,null,null,null,null,null,null,null,null,null,null,null,null,null,null,null,null,null,null,null,null,null,null,null,null,null,null,null,null,null,null,null,null,null,null,null,null,null,null,null,null,null,null,null,null,null,null,null,null,null,null,null,null,null,null,null,null,null,null,null,null,null,null,null,null,null,null,null,null,null,null,null,null,null,null,null,null,null,null,null,null,null,null,null,null,null,null,null,null,null,null,null,null,null,null,null,null,null,null,null,null,null,null,null,null,null,null,null,null,null,null,null,null,null,null,null,null,null,null,null,null,null,null,null,null,null,null,null,null,null,null,null,null,null,null,null,null,null,null,null,null,null,null,null,null,null,null,null,null,null,null,null,null,null,null,null,null,null,null],[0.0,0.0,0.0,0.0,0.0,0.0,0.0,0.0,0.0,0.0,0.0,0.0,0.0,0.0,0.0,0.0,0.0,0.0,0.0,0.0,0.0,0.0,0.674,0.0,0.0,0.0,0.0,0.0,0.0,1.132,0.0,0.083,0.6,0.0,0.0,0.0,0.422,0.0,0.0,0.0,0.0,0.0,0.0,0.0,1.174,0.0,0.0,0.0,0.0,0.341,0.0,0.937,0.0,0.0,0.0,0.0,0.0,0.0,0.0,0.0,0.0,0.0,0.847,0.0,0.0,0.0,0.0,0.0,0.0,0.0,0.0,0.109,0.0,1.067,1.0,0.0,0.0,0.0,0.0,0.0,0.0,0.0,0.0,0.0,0.0,0.0,0.0,0.0,0.0,0.0,0.0,0.225,0.108,0.0,0.0,0.0,0.966,0.0,0.997,0.0,0.0,0.0,0.0,0.0,0.648,0.0,0.0,0.0,0.0,0.0,0.0,0.793,0.0,0.0,0.0,0.0,0.0,0.0,0.0,0.0,0.0,0.0,0.0,0.0,0.0,0.0,0.0,0.95,0.938,0.0,0.0,1.027,0.0,0.0,0.0,0.0,0.0,0.29,0.0,0.0,0.0,0.0,0.0,0.0,0.0,0.0,0.0,0.0,0.0,0.0,0.0,0.0,0.0,0.0,0.0,0.0,0.0,0.0,0.0,0.0,0.268,0.0,0.0,0.0,0.0,0.0,0.0,0.0,0.0,0.0,0.565,0.0,0.0,0.0,0.0,0.0,0.835],[null,null,null,null,null,null,null,null,null,null,null,null,null,null,null,null,null,null,null,null,null,null,null,null,null,null,null,null,null,null,null,null,null,null,null,null,null,null,null,null,null,null,null,null,null,null,null,null,null,null,null,null,null,null,null,null,null,null,null,null,null,null,null,null,null,null,null,null,null,null,null,null,null,null,null,null,null,null,null,null,null,null,null,null,null,null,null,null,null,null,null,null,null,null,null,null,null,null,null,null,null,null,null,null,null,null,null,null,null,null,null,null,null,null,null,null,null,null,null,null,null,null,null,null,null,null,null,null,null,null,null,null,null,null,null,null,null,null,null,null,null,null,null,null,null,null,null,null,null,null,null,null,null,null,null,null,null,null,null,null,null,null,null,null,null,null,null,null,null,null,null,null,null,null,null,null,null],[null,null,null,null,null,null,null,null,null,null,null,null,null,null,null,null,null,null,null,null,null,null,null,null,null,null,null,null,null,null,null,null,null,null,null,null,null,null,null,null,null,null,null,null,null,null,null,null,null,null,null,null,null,null,null,null,null,null,null,null,null,null,null,null,null,null,null,null,null,null,null,null,null,null,null,null,null,null,null,null,null,null,null,null,null,null,null,null,null,null,null,null,null,null,null,null,null,null,null,null,null,null,null,null,null,null,null,null,null,null,null,null,null,null,null,null,null,null,null,null,null,null,null,null,null,null,null,null,null,null,null,null,null,null,null,null,null,null,null,null,null,null,null,null,null,null,null,null,null,null,null,null,null,null,null,null,null,null,null,null,null,null,null,null,null,null,null,null,null,null,null,null,null,null,null,null,null],[null,null,null,null,null,null,null,null,null,null,null,null,null,null,null,null,null,null,null,null,null,null,null,null,null,null,null,null,null,null,null,null,null,null,null,null,null,null,null,null,null,null,null,null,null,null,null,null,null,null,null,null,null,null,null,null,null,null,null,null,null,null,null,null,null,null,null,null,null,null,null,null,null,null,null,null,null,null,null,null,null,null,null,null,null,null,null,null,null,null,null,null,null,null,null,null,null,null,null,null,null,null,null,null,null,null,null,null,null,null,null,null,null,null,null,null,null,null,null,null,null,null,null,null,null,null,null,null,null,null,null,null,null,null,null,null,null,null,null,null,null,null,null,null,null,null,null,null,null,null,null,null,null,null,null,null,null,null,null,null,null,null,null,null,null,null,null,null,null,null,null,null,null,null,null,null,null],[null,null,null,null,null,null,null,null,null,null,null,null,null,null,null,null,null,null,null,null,null,null,null,null,null,null,null,null,null,null,null,null,null,null,null,null,null,null,null,null,null,null,null,null,null,null,null,null,null,null,null,null,null,null,null,null,null,null,null,null,null,null,null,null,null,null,null,null,null,null,null,null,null,null,null,null,null,null,null,null,null,null,null,null,null,null,null,null,null,null,null,null,null,null,null,null,null,null,null,null,null,null,null,null,null,null,null,null,null,null,null,null,null,null,null,null,null,null,null,null,null,null,null,null,null,null,null,null,null,null,null,null,null,null,null,null,null,null,null,null,null,null,null,null,null,null,null,null,null,null,null,null,null,null,null,null,null,null,null,null,null,null,null,null,null,null,null,null,null,null,null,null,null,null,null,null,null],[null,null,null,null,null,null,null,null,null,null,null,null,null,null,null,null,null,null,null,null,null,null,null,null,null,null,null,null,null,null,null,null,null,null,null,null,null,null,null,null,null,null,null,null,null,null,null,null,null,null,null,null,null,null,null,null,null,null,null,null,null,null,null,null,null,null,null,null,null,null,null,null,null,null,null,null,null,null,null,null,null,null,null,null,null,null,null,null,null,null,null,null,null,null,null,null,null,null,null,null,null,null,null,null,null,null,null,null,null,null,null,null,null,null,null,null,null,null,null,null,null,null,null,null,null,null,null,null,null,null,null,null,null,null,null,null,null,null,null,null,null,null,null,null,null,null,null,null,null,null,null,null,null,null,null,null,null,null,null,null,null,null,null,null,null,null,null,null,null,null,null,null,null,null,null,null,null],[null,null,null,null,null,null,null,null,null,null,null,null,null,null,null,null,null,null,null,null,null,null,null,null,null,null,null,null,null,null,null,null,null,null,null,null,null,null,null,null,null,null,null,null,null,null,null,null,null,null,null,null,null,null,null,null,null,null,null,null,null,null,null,null,null,null,null,null,null,null,null,null,null,null,null,null,null,null,null,null,null,null,null,null,null,null,null,null,null,null,null,null,null,null,null,null,null,null,null,null,null,null,null,null,null,null,null,null,null,null,null,null,null,null,null,null,null,null,null,null,null,null,null,null,null,null,null,null,null,null,null,null,null,null,null,null,null,null,null,null,null,null,null,null,null,null,null,null,null,null,null,null,null,null,null,null,null,null,null,null,null,null,null,null,null,null,null,null,null,null,null,null,null,null,null,null,null],[null,null,null,null,null,null,null,null,null,null,null,null,null,null,null,null,null,null,null,null,null,null,null,null,null,null,null,null,null,null,null,null,null,null,null,null,null,null,null,null,null,null,null,null,null,null,null,null,null,null,null,null,null,null,null,null,null,null,null,null,null,null,null,null,null,null,null,null,null,null,null,null,null,null,null,null,null,null,null,null,null,null,null,null,null,null,null,null,null,null,null,null,null,null,null,null,null,null,null,null,null,null,null,null,null,null,null,null,null,null,null,null,null,null,null,null,null,null,null,null,null,null,null,null,null,null,null,null,null,null,null,null,null,null,null,null,null,null,null,null,null,null,null,null,null,null,null,null,null,null,null,null,null,null,null,null,null,null,null,null,null,null,null,null,null,null,null,null,null,null,null,null,null,null,null,null,null],[null,null,null,null,null,null,null,null,null,null,null,null,null,null,null,null,null,null,null,null,null,null,null,null,null,null,null,null,null,null,null,null,null,null,null,null,null,null,null,null,null,null,null,null,null,null,null,null,null,null,null,null,null,null,null,null,null,null,null,null,null,null,null,null,null,null,null,null,null,null,null,null,null,null,null,null,null,null,null,null,null,null,null,null,null,null,null,null,null,null,null,null,null,null,null,null,null,null,null,null,null,null,null,null,null,null,null,null,null,null,null,null,null,null,null,null,null,null,null,null,null,null,null,null,null,null,null,null,null,null,null,null,null,null,null,null,null,null,null,null,null,null,null,null,null,null,null,null,null,null,null,null,null,null,null,null,null,null,null,null,null,null,null,null,null,null,null,null,null,null,null,null,null,null,null,null,null],[null,null,null,null,null,null,null,null,null,null,null,null,null,null,null,null,null,null,null,null,null,null,null,null,null,null,null,null,null,null,null,null,null,null,null,null,null,null,null,null,null,null,null,null,null,null,null,null,null,null,null,null,null,null,null,null,null,null,null,null,null,null,null,null,null,null,null,null,null,null,null,null,null,null,null,null,null,null,null,null,null,null,null,null,null,null,null,null,null,null,null,null,null,null,null,null,null,null,null,null,null,null,null,null,null,null,null,null,null,null,null,null,null,null,null,null,null,null,null,null,null,null,null,null,null,null,null,null,null,null,null,null,null,null,null,null,null,null,null,null,null,null,null,null,null,null,null,null,null,null,null,null,null,null,null,null,null,null,null,null,null,null,null,null,null,null,null,null,null,null,null,null,null,null,null,null,null],[null,null,null,null,null,null,null,null,null,null,null,null,null,null,null,null,null,null,null,null,null,null,null,null,null,null,null,null,null,null,null,null,null,null,null,null,null,null,null,null,null,null,null,null,null,null,null,null,null,null,null,null,null,null,null,null,null,null,null,null,null,null,null,null,null,null,null,null,null,null,null,null,null,null,null,null,null,null,null,null,null,null,null,null,null,null,null,null,null,null,null,null,null,null,null,null,null,null,null,null,null,null,null,null,null,null,null,null,null,null,null,null,null,null,null,null,null,null,null,null,null,null,null,null,null,null,null,null,null,null,null,null,null,null,null,null,null,null,null,null,null,null,null,null,null,null,null,null,null,null,null,null,null,null,null,null,null,null,null,null,null,null,null,null,null,null,null,null,null,null,null,null,null,null,null,null,null],[0.0,0.0,0.0,0.0,0.0,0.0,0.0,0.0,0.0,0.0,0.311,0.0,0.0,0.0,0.0,0.0,0.0,0.0,0.0,0.0,0.0,0.0,0.0,0.0,0.0,1.088,0.0,0.0,0.0,0.0,0.0,0.0,0.0,0.951,0.0,0.0,0.0,0.0,0.0,0.0,0.0,0.0,0.0,0.0,1.132,0.0,0.0,0.0,0.0,0.945,0.0,0.0,0.0,0.0,0.0,0.0,0.0,0.0,0.0,0.0,0.0,0.0,0.0,0.0,0.0,0.0,0.0,0.0,0.0,0.0,0.0,0.0,0.0,0.0,1.0,0.0,0.0,0.0,0.0,0.0,0.0,0.0,0.0,0.0,0.0,0.078,0.0,0.0,0.0,0.0,0.0,0.0,0.0,0.0,0.0,0.0,0.0,0.0,0.0,0.0,0.0,0.0,1.076,0.0,0.0,0.0,0.0,0.0,0.0,0.0,0.0,0.0,0.0,0.0,0.0,0.0,0.0,0.0,0.0,0.0,0.0,0.0,0.0,0.0,0.0,0.0,0.0,0.0,0.0,0.0,0.0,0.0,0.0,0.0,0.0,0.0,0.959,0.0,0.0,0.0,0.0,0.0,0.0,0.0,0.0,0.0,0.0,0.0,0.0,0.0,0.0,0.0,0.0,0.0,0.0,0.0,0.0,0.0,0.0,0.0,0.0,0.0,0.0,0.0,0.0,0.0,0.0,0.0,0.0,0.0,0.0,0.0,0.0,0.0,0.0,0.0,0.0],[null,null,null,null,null,null,null,null,null,null,null,null,null,null,null,null,null,null,null,null,null,null,null,null,null,null,null,null,null,null,null,null,null,null,null,null,null,null,null,null,null,null,null,null,null,null,null,null,null,null,null,null,null,null,null,null,null,null,null,null,null,null,null,null,null,null,null,null,null,null,null,null,null,null,null,null,null,null,null,null,null,null,null,null,null,null,null,null,null,null,null,null,null,null,null,null,null,null,null,null,null,null,null,null,null,null,null,null,null,null,null,null,null,null,null,null,null,null,null,null,null,null,null,null,null,null,null,null,null,null,null,null,null,null,null,null,null,null,null,null,null,null,null,null,null,null,null,null,null,null,null,null,null,null,null,null,null,null,null,null,null,null,null,null,null,null,null,null,null,null,null,null,null,null,null,null,null],[0.0,0.0,0.0,0.0,0.0,0.0,0.0,0.0,0.0,0.0,0.0,0.0,0.0,0.0,0.0,0.0,0.0,0.0,0.572,0.0,0.0,0.0,0.0,0.0,0.0,0.0,0.946,0.0,0.0,0.0,0.0,0.464,0.0,0.0,1.17,0.0,0.0,0.0,0.0,0.0,0.0,0.0,0.0,0.0,0.0,0.0,0.0,0.0,0.0,0.0,0.0,0.0,0.0,0.0,0.0,0.0,0.0,0.0,0.0,0.0,0.0,0.0,0.0,0.0,0.0,0.0,0.0,0.0,0.0,0.0,0.114,1.505,0.0,1.234,1.0,0.0,0.185,0.0,0.0,0.0,0.0,0.0,0.0,0.0,0.0,0.0,0.0,0.0,0.0,0.0,0.942,0.0,0.0,0.407,1.247,0.0,0.0,0.0,0.0,0.0,0.0,0.868,0.0,0.0,0.0,0.0,0.0,0.0,0.0,0.0,0.0,0.0,0.0,0.0,0.0,0.0,0.0,0.716,0.0,0.388,0.0,0.71,0.0,0.306,0.0,0.0,0.0,0.0,0.0,0.0,0.0,0.0,0.0,0.0,0.0,0.0,0.0,0.0,0.0,0.0,0.0,0.0,0.0,0.0,0.0,0.0,0.0,0.0,0.0,0.0,0.0,0.0,0.0,1.217,0.0,0.0,0.0,0.0,0.0,0.0,0.0,0.0,0.0,0.0,0.0,0.0,0.0,0.0,0.0,0.0,0.0,0.0,0.0,0.0,0.0,0.0,0.0],[null,null,null,null,null,null,null,null,null,null,null,null,null,null,null,null,null,null,null,null,null,null,null,null,null,null,null,null,null,null,null,null,null,null,null,null,null,null,null,null,null,null,null,null,null,null,null,null,null,null,null,null,null,null,null,null,null,null,null,null,null,null,null,null,null,null,null,null,null,null,null,null,null,null,null,null,null,null,null,null,null,null,null,null,null,null,null,null,null,null,null,null,null,null,null,null,null,null,null,null,null,null,null,null,null,null,null,null,null,null,null,null,null,null,null,null,null,null,null,null,null,null,null,null,null,null,null,null,null,null,null,null,null,null,null,null,null,null,null,null,null,null,null,null,null,null,null,null,null,null,null,null,null,null,null,null,null,null,null,null,null,null,null,null,null,null,null,null,null,null,null,null,null,null,null,null,null],[null,null,null,null,null,null,null,null,null,null,null,null,null,null,null,null,null,null,null,null,null,null,null,null,null,null,null,null,null,null,null,null,null,null,null,null,null,null,null,null,null,null,null,null,null,null,null,null,null,null,null,null,null,null,null,null,null,null,null,null,null,null,null,null,null,null,null,null,null,null,null,null,null,null,null,null,null,null,null,null,null,null,null,null,null,null,null,null,null,null,null,null,null,null,null,null,null,null,null,null,null,null,null,null,null,null,null,null,null,null,null,null,null,null,null,null,null,null,null,null,null,null,null,null,null,null,null,null,null,null,null,null,null,null,null,null,null,null,null,null,null,null,null,null,null,null,null,null,null,null,null,null,null,null,null,null,null,null,null,null,null,null,null,null,null,null,null,null,null,null,null,null,null,null,null,null,null],[null,null,null,null,null,null,null,null,null,null,null,null,null,null,null,null,null,null,null,null,null,null,null,null,null,null,null,null,null,null,null,null,null,null,null,null,null,null,null,null,null,null,null,null,null,null,null,null,null,null,null,null,null,null,null,null,null,null,null,null,null,null,null,null,null,null,null,null,null,null,null,null,null,null,null,null,null,null,null,null,null,null,null,null,null,null,null,null,null,null,null,null,null,null,null,null,null,null,null,null,null,null,null,null,null,null,null,null,null,null,null,null,null,null,null,null,null,null,null,null,null,null,null,null,null,null,null,null,null,null,null,null,null,null,null,null,null,null,null,null,null,null,null,null,null,null,null,null,null,null,null,null,null,null,null,null,null,null,null,null,null,null,null,null,null,null,null,null,null,null,null,null,null,null,null,null,null],[null,null,null,null,null,null,null,null,null,null,null,null,null,null,null,null,null,null,null,null,null,null,null,null,null,null,null,null,null,null,null,null,null,null,null,null,null,null,null,null,null,null,null,null,null,null,null,null,null,null,null,null,null,null,null,null,null,null,null,null,null,null,null,null,null,null,null,null,null,null,null,null,null,null,null,null,null,null,null,null,null,null,null,null,null,null,null,null,null,null,null,null,null,null,null,null,null,null,null,null,null,null,null,null,null,null,null,null,null,null,null,null,null,null,null,null,null,null,null,null,null,null,null,null,null,null,null,null,null,null,null,null,null,null,null,null,null,null,null,null,null,null,null,null,null,null,null,null,null,null,null,null,null,null,null,null,null,null,null,null,null,null,null,null,null,null,null,null,null,null,null,null,null,null,null,null,null],[null,null,null,null,null,null,null,null,null,null,null,null,null,null,null,null,null,null,null,null,null,null,null,null,null,null,null,null,null,null,null,null,null,null,null,null,null,null,null,null,null,null,null,null,null,null,null,null,null,null,null,null,null,null,null,null,null,null,null,null,null,null,null,null,null,null,null,null,null,null,null,null,null,null,null,null,null,null,null,null,null,null,null,null,null,null,null,null,null,null,null,null,null,null,null,null,null,null,null,null,null,null,null,null,null,null,null,null,null,null,null,null,null,null,null,null,null,null,null,null,null,null,null,null,null,null,null,null,null,null,null,null,null,null,null,null,null,null,null,null,null,null,null,null,null,null,null,null,null,null,null,null,null,null,null,null,null,null,null,null,null,null,null,null,null,null,null,null,null,null,null,null,null,null,null,null,null],[null,null,null,null,null,null,null,null,null,null,null,null,null,null,null,null,null,null,null,null,null,null,null,null,null,null,null,null,null,null,null,null,null,null,null,null,null,null,null,null,null,null,null,null,null,null,null,null,null,null,null,null,null,null,null,null,null,null,null,null,null,null,null,null,null,null,null,null,null,null,null,null,null,null,null,null,null,null,null,null,null,null,null,null,null,null,null,null,null,null,null,null,null,null,null,null,null,null,null,null,null,null,null,null,null,null,null,null,null,null,null,null,null,null,null,null,null,null,null,null,null,null,null,null,null,null,null,null,null,null,null,null,null,null,null,null,null,null,null,null,null,null,null,null,null,null,null,null,null,null,null,null,null,null,null,null,null,null,null,null,null,null,null,null,null,null,null,null,null,null,null,null,null,null,null,null,null],[null,null,null,null,null,null,null,null,null,null,null,null,null,null,null,null,null,null,null,null,null,null,null,null,null,null,null,null,null,null,null,null,null,null,null,null,null,null,null,null,null,null,null,null,null,null,null,null,null,null,null,null,null,null,null,null,null,null,null,null,null,null,null,null,null,null,null,null,null,null,null,null,null,null,null,null,null,null,null,null,null,null,null,null,null,null,null,null,null,null,null,null,null,null,null,null,null,null,null,null,null,null,null,null,null,null,null,null,null,null,null,null,null,null,null,null,null,null,null,null,null,null,null,null,null,null,null,null,null,null,null,null,null,null,null,null,null,null,null,null,null,null,null,null,null,null,null,null,null,null,null,null,null,null,null,null,null,null,null,null,null,null,null,null,null,null,null,null,null,null,null,null,null,null,null,null,null],[null,null,null,null,null,null,null,null,null,null,null,null,null,null,null,null,null,null,null,null,null,null,null,null,null,null,null,null,null,null,null,null,null,null,null,null,null,null,null,null,null,null,null,null,null,null,null,null,null,null,null,null,null,null,null,null,null,null,null,null,null,null,null,null,null,null,null,null,null,null,null,null,null,null,null,null,null,null,null,null,null,null,null,null,null,null,null,null,null,null,null,null,null,null,null,null,null,null,null,null,null,null,null,null,null,null,null,null,null,null,null,null,null,null,null,null,null,null,null,null,null,null,null,null,null,null,null,null,null,null,null,null,null,null,null,null,null,null,null,null,null,null,null,null,null,null,null,null,null,null,null,null,null,null,null,null,null,null,null,null,null,null,null,null,null,null,null,null,null,null,null,null,null,null,null,null,null],[2.485,0.0,0.365,0.0,0.717,3.031,0.0,0.0,1.943,0.0,0.0,0.0,0.0,0.0,0.0,0.0,0.0,0.0,0.0,0.0,0.0,0.0,0.0,0.0,0.0,0.0,0.0,2.202,1.055,0.0,3.298,0.0,0.0,0.743,0.0,2.868,0.0,0.0,0.0,0.0,0.0,0.0,2.816,0.0,0.0,0.0,0.0,0.0,0.0,0.814,0.0,0.0,0.0,0.0,0.0,0.0,0.0,0.0,0.0,0.0,0.0,0.0,0.0,0.0,0.0,0.0,0.0,0.0,2.687,0.752,0.0,0.0,0.0,0.0,1.0,0.0,2.369,0.0,0.0,0.0,3.162,0.136,0.0,0.0,0.0,0.0,0.0,2.015,3.048,0.0,0.0,0.0,0.0,0.0,0.0,0.0,3.001,0.0,0.0,0.0,0.0,0.0,0.0,0.0,0.0,0.0,0.0,0.0,0.0,2.273,0.0,0.0,0.379,0.0,0.0,0.0,0.0,0.0,0.0,0.0,0.0,2.319,0.0,0.0,0.0,0.0,0.0,0.0,0.0,0.0,0.584,0.0,0.0,0.0,0.0,0.0,2.502,0.0,0.0,0.0,0.0,0.0,1.436,0.0,2.67,0.0,0.0,0.0,0.0,0.0,1.995,0.0,0.0,0.0,0.0,0.0,0.0,0.0,0.0,0.0,0.0,0.0,0.0,0.0,0.0,0.0,0.0,0.0,0.0,0.0,0.0,0.0,0.0,0.0,0.0,0.0,0.0],[null,null,null,null,null,null,null,null,null,null,null,null,null,null,null,null,null,null,null,null,null,null,null,null,null,null,null,null,null,null,null,null,null,null,null,null,null,null,null,null,null,null,null,null,null,null,null,null,null,null,null,null,null,null,null,null,null,null,null,null,null,null,null,null,null,null,null,null,null,null,null,null,null,null,null,null,null,null,null,null,null,null,null,null,null,null,null,null,null,null,null,null,null,null,null,null,null,null,null,null,null,null,null,null,null,null,null,null,null,null,null,null,null,null,null,null,null,null,null,null,null,null,null,null,null,null,null,null,null,null,null,null,null,null,null,null,null,null,null,null,null,null,null,null,null,null,null,null,null,null,null,null,null,null,null,null,null,null,null,null,null,null,null,null,null,null,null,null,null,null,null,null,null,null,null,null,null],[null,null,null,null,null,null,null,null,null,null,null,null,null,null,null,null,null,null,null,null,null,null,null,null,null,null,null,null,null,null,null,null,null,null,null,null,null,null,null,null,null,null,null,null,null,null,null,null,null,null,null,null,null,null,null,null,null,null,null,null,null,null,null,null,null,null,null,null,null,null,null,null,null,null,null,null,null,null,null,null,null,null,null,null,null,null,null,null,null,null,null,null,null,null,null,null,null,null,null,null,null,null,null,null,null,null,null,null,null,null,null,null,null,null,null,null,null,null,null,null,null,null,null,null,null,null,null,null,null,null,null,null,null,null,null,null,null,null,null,null,null,null,null,null,null,null,null,null,null,null,null,null,null,null,null,null,null,null,null,null,null,null,null,null,null,null,null,null,null,null,null,null,null,null,null,null,null]],\"type\":\"heatmap\",\"xaxis\":\"x\",\"yaxis\":\"y\",\"hovertemplate\":\"День с установки: %{x}\\u003cbr\\u003eДата установки: %{y}\\u003cbr\\u003eRetention: %{z}\\u003cextra\\u003e\\u003c\\u002fextra\\u003e\"}],                        {\"template\":{\"data\":{\"histogram2dcontour\":[{\"type\":\"histogram2dcontour\",\"colorbar\":{\"outlinewidth\":0,\"ticks\":\"\"},\"colorscale\":[[0.0,\"#0d0887\"],[0.1111111111111111,\"#46039f\"],[0.2222222222222222,\"#7201a8\"],[0.3333333333333333,\"#9c179e\"],[0.4444444444444444,\"#bd3786\"],[0.5555555555555556,\"#d8576b\"],[0.6666666666666666,\"#ed7953\"],[0.7777777777777778,\"#fb9f3a\"],[0.8888888888888888,\"#fdca26\"],[1.0,\"#f0f921\"]]}],\"choropleth\":[{\"type\":\"choropleth\",\"colorbar\":{\"outlinewidth\":0,\"ticks\":\"\"}}],\"histogram2d\":[{\"type\":\"histogram2d\",\"colorbar\":{\"outlinewidth\":0,\"ticks\":\"\"},\"colorscale\":[[0.0,\"#0d0887\"],[0.1111111111111111,\"#46039f\"],[0.2222222222222222,\"#7201a8\"],[0.3333333333333333,\"#9c179e\"],[0.4444444444444444,\"#bd3786\"],[0.5555555555555556,\"#d8576b\"],[0.6666666666666666,\"#ed7953\"],[0.7777777777777778,\"#fb9f3a\"],[0.8888888888888888,\"#fdca26\"],[1.0,\"#f0f921\"]]}],\"heatmap\":[{\"type\":\"heatmap\",\"colorbar\":{\"outlinewidth\":0,\"ticks\":\"\"},\"colorscale\":[[0.0,\"#0d0887\"],[0.1111111111111111,\"#46039f\"],[0.2222222222222222,\"#7201a8\"],[0.3333333333333333,\"#9c179e\"],[0.4444444444444444,\"#bd3786\"],[0.5555555555555556,\"#d8576b\"],[0.6666666666666666,\"#ed7953\"],[0.7777777777777778,\"#fb9f3a\"],[0.8888888888888888,\"#fdca26\"],[1.0,\"#f0f921\"]]}],\"heatmapgl\":[{\"type\":\"heatmapgl\",\"colorbar\":{\"outlinewidth\":0,\"ticks\":\"\"},\"colorscale\":[[0.0,\"#0d0887\"],[0.1111111111111111,\"#46039f\"],[0.2222222222222222,\"#7201a8\"],[0.3333333333333333,\"#9c179e\"],[0.4444444444444444,\"#bd3786\"],[0.5555555555555556,\"#d8576b\"],[0.6666666666666666,\"#ed7953\"],[0.7777777777777778,\"#fb9f3a\"],[0.8888888888888888,\"#fdca26\"],[1.0,\"#f0f921\"]]}],\"contourcarpet\":[{\"type\":\"contourcarpet\",\"colorbar\":{\"outlinewidth\":0,\"ticks\":\"\"}}],\"contour\":[{\"type\":\"contour\",\"colorbar\":{\"outlinewidth\":0,\"ticks\":\"\"},\"colorscale\":[[0.0,\"#0d0887\"],[0.1111111111111111,\"#46039f\"],[0.2222222222222222,\"#7201a8\"],[0.3333333333333333,\"#9c179e\"],[0.4444444444444444,\"#bd3786\"],[0.5555555555555556,\"#d8576b\"],[0.6666666666666666,\"#ed7953\"],[0.7777777777777778,\"#fb9f3a\"],[0.8888888888888888,\"#fdca26\"],[1.0,\"#f0f921\"]]}],\"surface\":[{\"type\":\"surface\",\"colorbar\":{\"outlinewidth\":0,\"ticks\":\"\"},\"colorscale\":[[0.0,\"#0d0887\"],[0.1111111111111111,\"#46039f\"],[0.2222222222222222,\"#7201a8\"],[0.3333333333333333,\"#9c179e\"],[0.4444444444444444,\"#bd3786\"],[0.5555555555555556,\"#d8576b\"],[0.6666666666666666,\"#ed7953\"],[0.7777777777777778,\"#fb9f3a\"],[0.8888888888888888,\"#fdca26\"],[1.0,\"#f0f921\"]]}],\"mesh3d\":[{\"type\":\"mesh3d\",\"colorbar\":{\"outlinewidth\":0,\"ticks\":\"\"}}],\"scatter\":[{\"fillpattern\":{\"fillmode\":\"overlay\",\"size\":10,\"solidity\":0.2},\"type\":\"scatter\"}],\"parcoords\":[{\"type\":\"parcoords\",\"line\":{\"colorbar\":{\"outlinewidth\":0,\"ticks\":\"\"}}}],\"scatterpolargl\":[{\"type\":\"scatterpolargl\",\"marker\":{\"colorbar\":{\"outlinewidth\":0,\"ticks\":\"\"}}}],\"bar\":[{\"error_x\":{\"color\":\"#2a3f5f\"},\"error_y\":{\"color\":\"#2a3f5f\"},\"marker\":{\"line\":{\"color\":\"#E5ECF6\",\"width\":0.5},\"pattern\":{\"fillmode\":\"overlay\",\"size\":10,\"solidity\":0.2}},\"type\":\"bar\"}],\"scattergeo\":[{\"type\":\"scattergeo\",\"marker\":{\"colorbar\":{\"outlinewidth\":0,\"ticks\":\"\"}}}],\"scatterpolar\":[{\"type\":\"scatterpolar\",\"marker\":{\"colorbar\":{\"outlinewidth\":0,\"ticks\":\"\"}}}],\"histogram\":[{\"marker\":{\"pattern\":{\"fillmode\":\"overlay\",\"size\":10,\"solidity\":0.2}},\"type\":\"histogram\"}],\"scattergl\":[{\"type\":\"scattergl\",\"marker\":{\"colorbar\":{\"outlinewidth\":0,\"ticks\":\"\"}}}],\"scatter3d\":[{\"type\":\"scatter3d\",\"line\":{\"colorbar\":{\"outlinewidth\":0,\"ticks\":\"\"}},\"marker\":{\"colorbar\":{\"outlinewidth\":0,\"ticks\":\"\"}}}],\"scattermapbox\":[{\"type\":\"scattermapbox\",\"marker\":{\"colorbar\":{\"outlinewidth\":0,\"ticks\":\"\"}}}],\"scatterternary\":[{\"type\":\"scatterternary\",\"marker\":{\"colorbar\":{\"outlinewidth\":0,\"ticks\":\"\"}}}],\"scattercarpet\":[{\"type\":\"scattercarpet\",\"marker\":{\"colorbar\":{\"outlinewidth\":0,\"ticks\":\"\"}}}],\"carpet\":[{\"aaxis\":{\"endlinecolor\":\"#2a3f5f\",\"gridcolor\":\"white\",\"linecolor\":\"white\",\"minorgridcolor\":\"white\",\"startlinecolor\":\"#2a3f5f\"},\"baxis\":{\"endlinecolor\":\"#2a3f5f\",\"gridcolor\":\"white\",\"linecolor\":\"white\",\"minorgridcolor\":\"white\",\"startlinecolor\":\"#2a3f5f\"},\"type\":\"carpet\"}],\"table\":[{\"cells\":{\"fill\":{\"color\":\"#EBF0F8\"},\"line\":{\"color\":\"white\"}},\"header\":{\"fill\":{\"color\":\"#C8D4E3\"},\"line\":{\"color\":\"white\"}},\"type\":\"table\"}],\"barpolar\":[{\"marker\":{\"line\":{\"color\":\"#E5ECF6\",\"width\":0.5},\"pattern\":{\"fillmode\":\"overlay\",\"size\":10,\"solidity\":0.2}},\"type\":\"barpolar\"}],\"pie\":[{\"automargin\":true,\"type\":\"pie\"}]},\"layout\":{\"autotypenumbers\":\"strict\",\"colorway\":[\"#636efa\",\"#EF553B\",\"#00cc96\",\"#ab63fa\",\"#FFA15A\",\"#19d3f3\",\"#FF6692\",\"#B6E880\",\"#FF97FF\",\"#FECB52\"],\"font\":{\"color\":\"#2a3f5f\"},\"hovermode\":\"closest\",\"hoverlabel\":{\"align\":\"left\"},\"paper_bgcolor\":\"white\",\"plot_bgcolor\":\"#E5ECF6\",\"polar\":{\"bgcolor\":\"#E5ECF6\",\"angularaxis\":{\"gridcolor\":\"white\",\"linecolor\":\"white\",\"ticks\":\"\"},\"radialaxis\":{\"gridcolor\":\"white\",\"linecolor\":\"white\",\"ticks\":\"\"}},\"ternary\":{\"bgcolor\":\"#E5ECF6\",\"aaxis\":{\"gridcolor\":\"white\",\"linecolor\":\"white\",\"ticks\":\"\"},\"baxis\":{\"gridcolor\":\"white\",\"linecolor\":\"white\",\"ticks\":\"\"},\"caxis\":{\"gridcolor\":\"white\",\"linecolor\":\"white\",\"ticks\":\"\"}},\"coloraxis\":{\"colorbar\":{\"outlinewidth\":0,\"ticks\":\"\"}},\"colorscale\":{\"sequential\":[[0.0,\"#0d0887\"],[0.1111111111111111,\"#46039f\"],[0.2222222222222222,\"#7201a8\"],[0.3333333333333333,\"#9c179e\"],[0.4444444444444444,\"#bd3786\"],[0.5555555555555556,\"#d8576b\"],[0.6666666666666666,\"#ed7953\"],[0.7777777777777778,\"#fb9f3a\"],[0.8888888888888888,\"#fdca26\"],[1.0,\"#f0f921\"]],\"sequentialminus\":[[0.0,\"#0d0887\"],[0.1111111111111111,\"#46039f\"],[0.2222222222222222,\"#7201a8\"],[0.3333333333333333,\"#9c179e\"],[0.4444444444444444,\"#bd3786\"],[0.5555555555555556,\"#d8576b\"],[0.6666666666666666,\"#ed7953\"],[0.7777777777777778,\"#fb9f3a\"],[0.8888888888888888,\"#fdca26\"],[1.0,\"#f0f921\"]],\"diverging\":[[0,\"#8e0152\"],[0.1,\"#c51b7d\"],[0.2,\"#de77ae\"],[0.3,\"#f1b6da\"],[0.4,\"#fde0ef\"],[0.5,\"#f7f7f7\"],[0.6,\"#e6f5d0\"],[0.7,\"#b8e186\"],[0.8,\"#7fbc41\"],[0.9,\"#4d9221\"],[1,\"#276419\"]]},\"xaxis\":{\"gridcolor\":\"white\",\"linecolor\":\"white\",\"ticks\":\"\",\"title\":{\"standoff\":15},\"zerolinecolor\":\"white\",\"automargin\":true,\"zerolinewidth\":2},\"yaxis\":{\"gridcolor\":\"white\",\"linecolor\":\"white\",\"ticks\":\"\",\"title\":{\"standoff\":15},\"zerolinecolor\":\"white\",\"automargin\":true,\"zerolinewidth\":2},\"scene\":{\"xaxis\":{\"backgroundcolor\":\"#E5ECF6\",\"gridcolor\":\"white\",\"linecolor\":\"white\",\"showbackground\":true,\"ticks\":\"\",\"zerolinecolor\":\"white\",\"gridwidth\":2},\"yaxis\":{\"backgroundcolor\":\"#E5ECF6\",\"gridcolor\":\"white\",\"linecolor\":\"white\",\"showbackground\":true,\"ticks\":\"\",\"zerolinecolor\":\"white\",\"gridwidth\":2},\"zaxis\":{\"backgroundcolor\":\"#E5ECF6\",\"gridcolor\":\"white\",\"linecolor\":\"white\",\"showbackground\":true,\"ticks\":\"\",\"zerolinecolor\":\"white\",\"gridwidth\":2}},\"shapedefaults\":{\"line\":{\"color\":\"#2a3f5f\"}},\"annotationdefaults\":{\"arrowcolor\":\"#2a3f5f\",\"arrowhead\":0,\"arrowwidth\":1},\"geo\":{\"bgcolor\":\"white\",\"landcolor\":\"#E5ECF6\",\"subunitcolor\":\"white\",\"showland\":true,\"showlakes\":true,\"lakecolor\":\"white\"},\"title\":{\"x\":0.05},\"mapbox\":{\"style\":\"light\"}}},\"xaxis\":{\"anchor\":\"y\",\"domain\":[0.0,1.0],\"scaleanchor\":\"y\",\"constrain\":\"domain\",\"title\":{\"text\":\"День с момента установки\"}},\"yaxis\":{\"anchor\":\"x\",\"domain\":[0.0,1.0],\"autorange\":\"reversed\",\"constrain\":\"domain\",\"title\":{\"text\":\"Дата установки (когорта)\"}},\"coloraxis\":{\"colorbar\":{\"title\":{\"text\":\"Retention\"}},\"colorscale\":[[0.0,\"rgb(247,251,255)\"],[0.125,\"rgb(222,235,247)\"],[0.25,\"rgb(198,219,239)\"],[0.375,\"rgb(158,202,225)\"],[0.5,\"rgb(107,174,214)\"],[0.625,\"rgb(66,146,198)\"],[0.75,\"rgb(33,113,181)\"],[0.875,\"rgb(8,81,156)\"],[1.0,\"rgb(8,48,107)\"]]},\"margin\":{\"t\":60},\"title\":{\"text\":\"📊 Retention по когортам (по просмотрам товаров)\"}},                        {\"responsive\": true}                    ).then(function(){\n",
              "                            \n",
              "var gd = document.getElementById('87eba55e-7b0b-4260-854e-8af51bd76c0f');\n",
              "var x = new MutationObserver(function (mutations, observer) {{\n",
              "        var display = window.getComputedStyle(gd).display;\n",
              "        if (!display || display === 'none') {{\n",
              "            console.log([gd, 'removed!']);\n",
              "            Plotly.purge(gd);\n",
              "            observer.disconnect();\n",
              "        }}\n",
              "}});\n",
              "\n",
              "// Listen for the removal of the full notebook cells\n",
              "var notebookContainer = gd.closest('#notebook-container');\n",
              "if (notebookContainer) {{\n",
              "    x.observe(notebookContainer, {childList: true});\n",
              "}}\n",
              "\n",
              "// Listen for the clearing of the current output cell\n",
              "var outputEl = gd.closest('.output');\n",
              "if (outputEl) {{\n",
              "    x.observe(outputEl, {childList: true});\n",
              "}}\n",
              "\n",
              "                        })                };                            </script>        </div>\n",
              "</body>\n",
              "</html>"
            ]
          },
          "metadata": {}
        }
      ]
    },
    {
      "cell_type": "markdown",
      "source": [
        "#### **Каждая строка (Y)** — когорта пользователей, установивших приложение в один день  \n",
        "Например, строка `2024‑03‑10` — это все пользователи, установившие приложение 10 марта.  \n",
        "\n",
        "#### **Каждый столбец (X)** — день после установки\n",
        "\n",
        "Например, `0` — день установки, `1` — следующий день, `7` — неделя спустя и т.д.\n",
        "\n",
        "#### **Цвет ячейки** — выручка от пользователей этой когорты в конкретный день\n",
        "\n",
        "Чем темнее цвет → тем больше выручка.\n",
        "\n",
        "---\n",
        "\n",
        "#### Что ты можешь узнать с такого графика:\n",
        "\n",
        "##### ✅ **Когда когорты приносят деньги**\n",
        "\n",
        "* Если тёмные ячейки находятся ближе к дню `0` или `1`, значит **пользователи покупают сразу** после установки.\n",
        "* Если они распределены позже — значит **покупки происходят спустя некоторое время** (это может быть важно для оценки LTV).\n",
        "\n",
        "##### ✅ **Как отличаются когорты**\n",
        "\n",
        "* Например, когорта 31 марта явно принесла больше выручки, чем 17 марта → стоит понять, **какой канал привлечения** использовался тогда.\n",
        "\n",
        "##### ✅ **Повторные покупки**\n",
        "\n",
        "* Если выручка тянется в дальние дни (день 20, 30, 50…), значит пользователи **возвращаются и совершают новые заказы**.\n",
        "* Если всё сосредоточено в `day 0–1`, значит продукт — **одноразовый**, и стоит задуматься об удержании.\n",
        "\n",
        "##### ✅ **Сезонность и изменения в продукте**\n",
        "\n",
        "* Вдруг с какой-то даты когорты стали резко приносить меньше — это может быть связано с **изменениями в UX**, **багами** или **новым каналом привлечения**.\n",
        "\n",
        "---\n",
        "\n",
        "#### Возможные выводы:\n",
        "\n",
        "1. **Быстрые покупки?** — Да/Нет (по активности в первые дни).\n",
        "2. **Есть ли \"длинные хвосты\"?** — Дни спустя 10+ → признак долгосрочной ценности.\n",
        "3. **Какая когорта самая прибыльная?** — По насыщенности цвета.\n",
        "4. **Нужно ли работать над удержанием?** — Если выручка резко обрывается → да."
      ],
      "metadata": {
        "id": "boFtJe1SmJmJ"
      }
    }
  ]
}