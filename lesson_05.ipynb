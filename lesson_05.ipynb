{
  "nbformat": 4,
  "nbformat_minor": 0,
  "metadata": {
    "colab": {
      "provenance": [],
      "authorship_tag": "ABX9TyM2WdxlBtHi+JlmlkR/J9Rt",
      "include_colab_link": true
    },
    "kernelspec": {
      "name": "python3",
      "display_name": "Python 3"
    },
    "language_info": {
      "name": "python"
    }
  },
  "cells": [
    {
      "cell_type": "markdown",
      "metadata": {
        "id": "view-in-github",
        "colab_type": "text"
      },
      "source": [
        "<a href=\"https://colab.research.google.com/github/cpython-projects/da_2603/blob/main/lesson_05.ipynb\" target=\"_parent\"><img src=\"https://colab.research.google.com/assets/colab-badge.svg\" alt=\"Open In Colab\"/></a>"
      ]
    },
    {
      "cell_type": "code",
      "execution_count": 3,
      "metadata": {
        "id": "S5uHSRLQTEJM"
      },
      "outputs": [],
      "source": [
        "x = [1, 2, 2, 3, 4, 4, 4, 5]"
      ]
    },
    {
      "cell_type": "code",
      "source": [
        "x.count(20)"
      ],
      "metadata": {
        "colab": {
          "base_uri": "https://localhost:8080/"
        },
        "id": "n54snIcuWtLb",
        "outputId": "e2c700ee-5eb8-410f-ae68-bbca6c94deaa"
      },
      "execution_count": 6,
      "outputs": [
        {
          "output_type": "execute_result",
          "data": {
            "text/plain": [
              "0"
            ]
          },
          "metadata": {},
          "execution_count": 6
        }
      ]
    },
    {
      "cell_type": "code",
      "source": [
        "x.append(50)\n",
        "print(x)"
      ],
      "metadata": {
        "colab": {
          "base_uri": "https://localhost:8080/"
        },
        "id": "cfKVpoGoW89O",
        "outputId": "f2ecf25c-6bb9-4281-c806-4fdb7e2bf9a0"
      },
      "execution_count": 7,
      "outputs": [
        {
          "output_type": "stream",
          "name": "stdout",
          "text": [
            "[1, 2, 2, 3, 4, 4, 4, 5, 50]\n"
          ]
        }
      ]
    },
    {
      "cell_type": "code",
      "source": [
        "y = ['Hello', 'world', 'Python']\n",
        "x.extend(y)\n",
        "\n",
        "print(x)"
      ],
      "metadata": {
        "colab": {
          "base_uri": "https://localhost:8080/"
        },
        "id": "EtknGTTtXI5e",
        "outputId": "ebe1233e-0077-4da5-a246-04d9d1b528fe"
      },
      "execution_count": 8,
      "outputs": [
        {
          "output_type": "stream",
          "name": "stdout",
          "text": [
            "[1, 2, 2, 3, 4, 4, 4, 5, 50, 'Hello', 'world', 'Python']\n"
          ]
        }
      ]
    },
    {
      "cell_type": "code",
      "source": [
        "x = [1, 2, 3]\n",
        "y = [4, 5, 6]\n",
        "\n",
        "z = x + y\n",
        "\n",
        "print(x)\n",
        "print(y)\n",
        "print(z)"
      ],
      "metadata": {
        "colab": {
          "base_uri": "https://localhost:8080/"
        },
        "id": "NpcwQ-hVXb2t",
        "outputId": "b575d2a2-ca2d-4868-9c16-7e9ec065be54"
      },
      "execution_count": 9,
      "outputs": [
        {
          "output_type": "stream",
          "name": "stdout",
          "text": [
            "[1, 2, 3]\n",
            "[4, 5, 6]\n",
            "[1, 2, 3, 4, 5, 6]\n"
          ]
        }
      ]
    },
    {
      "cell_type": "code",
      "source": [
        "x = [1, 2, 3]\n",
        "y = [4, 5, 6]\n",
        "\n",
        "x.extend(y)\n",
        "\n",
        "print(x)\n",
        "print(y)"
      ],
      "metadata": {
        "colab": {
          "base_uri": "https://localhost:8080/"
        },
        "id": "jiMPGHWZXrAd",
        "outputId": "fb70a458-ad1e-4f57-8e55-560e37be2c6f"
      },
      "execution_count": 10,
      "outputs": [
        {
          "output_type": "stream",
          "name": "stdout",
          "text": [
            "[1, 2, 3, 4, 5, 6]\n",
            "[4, 5, 6]\n"
          ]
        }
      ]
    },
    {
      "cell_type": "code",
      "source": [
        "x = [1, 2, 3]\n",
        "x.extend('Python')\n",
        "\n",
        "print(x)"
      ],
      "metadata": {
        "colab": {
          "base_uri": "https://localhost:8080/"
        },
        "id": "0s9AGCOZX0Ke",
        "outputId": "ba337edf-cf89-4fa5-ea97-9c79f0ea5e3d"
      },
      "execution_count": 11,
      "outputs": [
        {
          "output_type": "stream",
          "name": "stdout",
          "text": [
            "[1, 2, 3, 'P', 'y', 't', 'h', 'o', 'n']\n"
          ]
        }
      ]
    },
    {
      "cell_type": "code",
      "source": [
        "x.clear()\n",
        "print(x)"
      ],
      "metadata": {
        "colab": {
          "base_uri": "https://localhost:8080/"
        },
        "id": "j7tOB2R0X_m4",
        "outputId": "126144ed-099c-4590-8f0c-7c50a22a16f8"
      },
      "execution_count": 12,
      "outputs": [
        {
          "output_type": "stream",
          "name": "stdout",
          "text": [
            "[]\n"
          ]
        }
      ]
    },
    {
      "cell_type": "code",
      "source": [
        "x = [1, 2, 3, 4, 5, 6, 2]\n",
        "x.index(2)"
      ],
      "metadata": {
        "colab": {
          "base_uri": "https://localhost:8080/"
        },
        "id": "zD51qVTSYF4j",
        "outputId": "b6d4a15a-edb0-4224-9dd2-5aeea31e663a"
      },
      "execution_count": 15,
      "outputs": [
        {
          "output_type": "execute_result",
          "data": {
            "text/plain": [
              "1"
            ]
          },
          "metadata": {},
          "execution_count": 15
        }
      ]
    },
    {
      "cell_type": "code",
      "source": [
        "if 30 in x:\n",
        "  print(x.index(30))\n",
        "else:\n",
        "  print('30 is not in the list')"
      ],
      "metadata": {
        "colab": {
          "base_uri": "https://localhost:8080/"
        },
        "id": "aw1C_2mpYTE2",
        "outputId": "ae0fad2f-bc50-4848-d7cf-73c6ad60af0a"
      },
      "execution_count": 18,
      "outputs": [
        {
          "output_type": "stream",
          "name": "stdout",
          "text": [
            "30 is not in the list\n"
          ]
        }
      ]
    },
    {
      "cell_type": "code",
      "source": [
        "x = [10, 20, 30, 40]\n",
        "x.insert(1, 'Hello')\n",
        "print(x)"
      ],
      "metadata": {
        "colab": {
          "base_uri": "https://localhost:8080/"
        },
        "id": "4BewxPynYeiv",
        "outputId": "243a02f8-67de-4e60-d462-b31ce9de4f8e"
      },
      "execution_count": 19,
      "outputs": [
        {
          "output_type": "stream",
          "name": "stdout",
          "text": [
            "[10, 'Hello', 20, 30, 40]\n"
          ]
        }
      ]
    },
    {
      "cell_type": "code",
      "source": [
        "x = [1, 2, 3, 4]\n",
        "y = x.pop()\n",
        "\n",
        "print(x)\n",
        "print(y)"
      ],
      "metadata": {
        "colab": {
          "base_uri": "https://localhost:8080/"
        },
        "id": "FxiIycNCY009",
        "outputId": "92f69007-e9a2-4dae-c950-06001eb8dc24"
      },
      "execution_count": 20,
      "outputs": [
        {
          "output_type": "stream",
          "name": "stdout",
          "text": [
            "[1, 2, 3]\n",
            "4\n"
          ]
        }
      ]
    },
    {
      "cell_type": "code",
      "source": [
        "y = x.pop(0)\n",
        "\n",
        "print(x)\n",
        "print(y)"
      ],
      "metadata": {
        "colab": {
          "base_uri": "https://localhost:8080/"
        },
        "id": "P-0fcnSwZCm_",
        "outputId": "c767aaf4-9acd-4ee3-8551-c38ac773fc1f"
      },
      "execution_count": 21,
      "outputs": [
        {
          "output_type": "stream",
          "name": "stdout",
          "text": [
            "[2, 3]\n",
            "1\n"
          ]
        }
      ]
    },
    {
      "cell_type": "code",
      "source": [
        "x.remove(2)\n",
        "print(x)"
      ],
      "metadata": {
        "colab": {
          "base_uri": "https://localhost:8080/"
        },
        "id": "1Q_XOfDlZJ7K",
        "outputId": "11897856-f6d5-4495-8530-97ebd0350694"
      },
      "execution_count": 22,
      "outputs": [
        {
          "output_type": "stream",
          "name": "stdout",
          "text": [
            "[3]\n"
          ]
        }
      ]
    },
    {
      "cell_type": "code",
      "source": [
        "x = [1, 2, 3, 4, 5]\n",
        "x.reverse()\n",
        "print(x)"
      ],
      "metadata": {
        "colab": {
          "base_uri": "https://localhost:8080/"
        },
        "id": "JMOmnlANZP-l",
        "outputId": "fc3f2d85-3e60-449e-9d0f-f3f1e3a6a231"
      },
      "execution_count": 23,
      "outputs": [
        {
          "output_type": "stream",
          "name": "stdout",
          "text": [
            "[5, 4, 3, 2, 1]\n"
          ]
        }
      ]
    },
    {
      "cell_type": "code",
      "source": [
        "x = [1, 2, 3, 4, 5]\n",
        "y = x[::-1]\n",
        "print(y)\n",
        "print(x)"
      ],
      "metadata": {
        "colab": {
          "base_uri": "https://localhost:8080/"
        },
        "id": "44LlxLq5ZXNW",
        "outputId": "484f865d-0691-4b57-b760-e795df5f4567"
      },
      "execution_count": 25,
      "outputs": [
        {
          "output_type": "stream",
          "name": "stdout",
          "text": [
            "[5, 4, 3, 2, 1]\n",
            "[1, 2, 3, 4, 5]\n"
          ]
        }
      ]
    },
    {
      "cell_type": "code",
      "source": [
        "x = [4, 3, 2, 6, 7, 8, 1]\n",
        "x.sort(reverse=True)\n",
        "\n",
        "print(x)"
      ],
      "metadata": {
        "colab": {
          "base_uri": "https://localhost:8080/"
        },
        "id": "5K4LS0YSZqMr",
        "outputId": "3bc1cf6a-70d8-417f-f561-f2b8fafe0548"
      },
      "execution_count": 27,
      "outputs": [
        {
          "output_type": "stream",
          "name": "stdout",
          "text": [
            "[8, 7, 6, 4, 3, 2, 1]\n"
          ]
        }
      ]
    },
    {
      "cell_type": "code",
      "source": [
        "x = [4, 5, 7, 3, 9, 10]\n",
        "\n",
        "y = sorted(x, reverse=True)\n",
        "\n",
        "print(x)\n",
        "print(y)"
      ],
      "metadata": {
        "colab": {
          "base_uri": "https://localhost:8080/"
        },
        "id": "mkkbB03oanwe",
        "outputId": "d08025a7-9ed6-4845-91b5-25e7f13c2923"
      },
      "execution_count": 28,
      "outputs": [
        {
          "output_type": "stream",
          "name": "stdout",
          "text": [
            "[4, 5, 7, 3, 9, 10]\n",
            "[10, 9, 7, 5, 4, 3]\n"
          ]
        }
      ]
    },
    {
      "cell_type": "code",
      "source": [
        "print(1)\n",
        "print(2)\n",
        "print(3)\n",
        "print(4)\n",
        "print(5)"
      ],
      "metadata": {
        "id": "F19XzQ92km6B"
      },
      "execution_count": null,
      "outputs": []
    },
    {
      "cell_type": "code",
      "source": [
        "x = [1, 2, 3, 4, 5, 10, 6, 7, 8, 9, 10]\n",
        "\n",
        "i = 0\n",
        "while i < len(x) and x[i] >= 0:\n",
        "  print(x[i])\n",
        "  i += 1"
      ],
      "metadata": {
        "colab": {
          "base_uri": "https://localhost:8080/"
        },
        "id": "5ChyOkkXl6gc",
        "outputId": "ab2249c5-319d-4f37-af28-05b5f5e7fe8e"
      },
      "execution_count": 31,
      "outputs": [
        {
          "output_type": "stream",
          "name": "stdout",
          "text": [
            "1\n",
            "2\n",
            "3\n",
            "4\n",
            "5\n",
            "10\n",
            "6\n",
            "7\n",
            "8\n",
            "9\n",
            "10\n"
          ]
        }
      ]
    },
    {
      "cell_type": "code",
      "source": [
        "start, stop = int(input('start>>')), int(input('stop>>'))\n",
        "\n",
        "while start <= stop:\n",
        "  print(start)\n",
        "  start += 1"
      ],
      "metadata": {
        "colab": {
          "base_uri": "https://localhost:8080/"
        },
        "id": "vaki_0WgnUCc",
        "outputId": "a6ab41fe-246c-4e10-f58b-4093868e5ca7"
      },
      "execution_count": 32,
      "outputs": [
        {
          "output_type": "stream",
          "name": "stdout",
          "text": [
            "start>>5\n",
            "stop>>10\n",
            "5\n",
            "6\n",
            "7\n",
            "8\n",
            "9\n",
            "10\n"
          ]
        }
      ]
    },
    {
      "cell_type": "code",
      "source": [
        "while True:\n",
        "  ans = int(input('n>>'))\n",
        "  if ans < 0:\n",
        "    break"
      ],
      "metadata": {
        "colab": {
          "base_uri": "https://localhost:8080/"
        },
        "id": "0ZWtShyUpPBw",
        "outputId": "1b7be189-0da1-44e2-c71b-30f816e6d700"
      },
      "execution_count": 33,
      "outputs": [
        {
          "name": "stdout",
          "output_type": "stream",
          "text": [
            "n>>2\n",
            "n>>3\n",
            "n>>45\n",
            "n>>34\n",
            "n>>-12\n"
          ]
        }
      ]
    },
    {
      "cell_type": "code",
      "source": [
        "x = []\n",
        "\n",
        "while True:\n",
        "  ans = input('n / exit >>')\n",
        "  if ans == 'exit':\n",
        "    break\n",
        "\n",
        "  ans = int(ans)\n",
        "  x.append(ans)\n",
        "\n",
        "print(x)"
      ],
      "metadata": {
        "colab": {
          "base_uri": "https://localhost:8080/"
        },
        "id": "jWhaukvwp3qh",
        "outputId": "d45d8d77-2c08-4f17-c62b-1ef657713e95"
      },
      "execution_count": 34,
      "outputs": [
        {
          "output_type": "stream",
          "name": "stdout",
          "text": [
            "n / exit >>2\n",
            "n / exit >>3\n",
            "n / exit >>4\n",
            "n / exit >>5\n",
            "n / exit >>exit\n",
            "[2, 3, 4, 5]\n"
          ]
        }
      ]
    },
    {
      "cell_type": "code",
      "source": [
        "names = [\"Анна\", \"Борис\", \"Виктор\", \"Галина\", \"Дмитрий\", \"Елена\", \"Жанна\"]\n",
        "salaries = [45000, 52000, 48000, 61000, 57000, 49000, 53000]\n",
        "\n",
        "i = 0\n",
        "while i < 3:\n",
        "  max_salary = max(salaries)\n",
        "  max_salary_index = salaries.index(max_salary)\n",
        "  max_salary_name = names[max_salary_index]\n",
        "\n",
        "  print(max_salary_name)\n",
        "  names.remove(max_salary_name)\n",
        "  salaries.remove(max_salary)\n",
        "  i += 1"
      ],
      "metadata": {
        "colab": {
          "base_uri": "https://localhost:8080/"
        },
        "id": "uHte20J_qaT3",
        "outputId": "079d4dc4-9559-42a0-9009-e7f9d2f33af9"
      },
      "execution_count": 36,
      "outputs": [
        {
          "output_type": "stream",
          "name": "stdout",
          "text": [
            "Галина\n",
            "Дмитрий\n",
            "Жанна\n"
          ]
        }
      ]
    },
    {
      "cell_type": "code",
      "source": [
        "x = [12, 23, -34, 56, -67, 87, -65]\n",
        "y = []\n",
        "for item in x:\n",
        "  if item > 0:\n",
        "    y.append(item)\n",
        "\n",
        "print(y)"
      ],
      "metadata": {
        "colab": {
          "base_uri": "https://localhost:8080/"
        },
        "id": "JHqtRlpQq-H4",
        "outputId": "98449e19-8fd4-4e43-8a3d-56ed553c87b6"
      },
      "execution_count": 39,
      "outputs": [
        {
          "output_type": "stream",
          "name": "stdout",
          "text": [
            "[12, 23, 56, 87]\n"
          ]
        }
      ]
    },
    {
      "cell_type": "code",
      "source": [
        "text = 'Hello, world'\n",
        "\n",
        "for char in text:\n",
        "  print(char)"
      ],
      "metadata": {
        "colab": {
          "base_uri": "https://localhost:8080/"
        },
        "id": "LryFWbg4sne_",
        "outputId": "79b2f85a-328b-4e89-9a8f-b9a242e93b9d"
      },
      "execution_count": 40,
      "outputs": [
        {
          "output_type": "stream",
          "name": "stdout",
          "text": [
            "H\n",
            "e\n",
            "l\n",
            "l\n",
            "o\n",
            ",\n",
            " \n",
            "w\n",
            "o\n",
            "r\n",
            "l\n",
            "d\n"
          ]
        }
      ]
    },
    {
      "cell_type": "code",
      "source": [
        "x = []\n",
        "\n",
        "i = 0\n",
        "while i < 5:\n",
        "  ans = int(input('n>>'))\n",
        "  x.append(ans)\n",
        "  i += 1\n",
        "\n",
        "print(x)"
      ],
      "metadata": {
        "colab": {
          "base_uri": "https://localhost:8080/"
        },
        "id": "xlrcWWNQs2qu",
        "outputId": "28ca5c73-c7ca-4c2d-9173-3575a79d4cd8"
      },
      "execution_count": 41,
      "outputs": [
        {
          "output_type": "stream",
          "name": "stdout",
          "text": [
            "n>>3\n",
            "n>>4\n",
            "n>>5\n",
            "n>>6\n",
            "n>>7\n",
            "[3, 4, 5, 6, 7]\n"
          ]
        }
      ]
    },
    {
      "cell_type": "code",
      "source": [
        "x = []\n",
        "for i in range(5):\n",
        "  ans = int(input('n>>'))\n",
        "  x.append(ans)\n",
        "\n",
        "print(x)"
      ],
      "metadata": {
        "colab": {
          "base_uri": "https://localhost:8080/"
        },
        "id": "niPZSpV8trRg",
        "outputId": "5c574540-7c47-4717-940e-64418e521d56"
      },
      "execution_count": 42,
      "outputs": [
        {
          "output_type": "stream",
          "name": "stdout",
          "text": [
            "n>>5\n",
            "n>>5\n",
            "n>>6\n",
            "n>>4\n",
            "n>>3\n",
            "[5, 5, 6, 4, 3]\n"
          ]
        }
      ]
    },
    {
      "cell_type": "code",
      "source": [
        "stidents = ['Petrov', 'Ivanov']\n",
        "\n",
        "\n",
        "for student in stidents:\n",
        "  print(student)"
      ],
      "metadata": {
        "colab": {
          "base_uri": "https://localhost:8080/"
        },
        "id": "EmioO17muRvg",
        "outputId": "290a86c6-44e7-4a11-d8bf-f2b0c4fd5885"
      },
      "execution_count": 43,
      "outputs": [
        {
          "output_type": "stream",
          "name": "stdout",
          "text": [
            "Petrov\n",
            "Ivanov\n"
          ]
        }
      ]
    },
    {
      "cell_type": "code",
      "source": [
        "x = [1, 2, 3, 4, 6, 12, 23, 34]\n",
        "y = [item for item in x if item % 2 == 0]\n",
        "print(y)"
      ],
      "metadata": {
        "colab": {
          "base_uri": "https://localhost:8080/"
        },
        "id": "DSrk-OwTugPH",
        "outputId": "06b343a2-9182-47ec-b04e-e84ed3896264"
      },
      "execution_count": 44,
      "outputs": [
        {
          "output_type": "stream",
          "name": "stdout",
          "text": [
            "[2, 4, 6, 12, 34]\n"
          ]
        }
      ]
    },
    {
      "cell_type": "code",
      "source": [
        "import random\n",
        "\n",
        "x = [random.randint(1, 10) for _ in range(20)]\n",
        "print(x)"
      ],
      "metadata": {
        "colab": {
          "base_uri": "https://localhost:8080/"
        },
        "id": "FKo_NMv1vBoP",
        "outputId": "a10a2a4e-1087-4e27-f9d2-7cce2741e838"
      },
      "execution_count": 45,
      "outputs": [
        {
          "output_type": "stream",
          "name": "stdout",
          "text": [
            "[9, 4, 9, 10, 4, 2, 8, 4, 10, 6, 5, 7, 5, 2, 7, 4, 4, 2, 2, 8]\n"
          ]
        }
      ]
    },
    {
      "cell_type": "code",
      "source": [
        "salary = [2, 3, 4, 5, 6, 7, 4, 3, 2]\n",
        "tax_rate = 0.4\n",
        "netto_salary = [item * (1 - tax_rate) for item in salary]\n",
        "\n",
        "print(netto_salary)"
      ],
      "metadata": {
        "colab": {
          "base_uri": "https://localhost:8080/"
        },
        "id": "SZIY0U3cvPdU",
        "outputId": "db341dac-331c-4c88-fa3d-6c139346ec60"
      },
      "execution_count": 46,
      "outputs": [
        {
          "output_type": "stream",
          "name": "stdout",
          "text": [
            "[1.2, 1.7999999999999998, 2.4, 3.0, 3.5999999999999996, 4.2, 2.4, 1.7999999999999998, 1.2]\n"
          ]
        }
      ]
    }
  ]
}