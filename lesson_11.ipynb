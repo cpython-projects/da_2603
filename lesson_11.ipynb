{
  "nbformat": 4,
  "nbformat_minor": 0,
  "metadata": {
    "colab": {
      "provenance": [],
      "authorship_tag": "ABX9TyP55/OnFvLsMS1KlwrP2bM2",
      "include_colab_link": true
    },
    "kernelspec": {
      "name": "python3",
      "display_name": "Python 3"
    },
    "language_info": {
      "name": "python"
    }
  },
  "cells": [
    {
      "cell_type": "markdown",
      "metadata": {
        "id": "view-in-github",
        "colab_type": "text"
      },
      "source": [
        "<a href=\"https://colab.research.google.com/github/cpython-projects/da_2603/blob/main/lesson_11.ipynb\" target=\"_parent\"><img src=\"https://colab.research.google.com/assets/colab-badge.svg\" alt=\"Open In Colab\"/></a>"
      ]
    },
    {
      "cell_type": "markdown",
      "source": [
        "**Task 1.** Дан список транзакций, например:\n",
        "\n",
        "```python\n",
        "transactions = [1200, -500, 300, -50, 900, -2000]\n",
        "```\n",
        "\n",
        "Используя `lambda`, `filter`, `map`, разделите транзакции на \"доходы\" и \"расходы\", затем создайте список меток (`\"Income\"` или `\"Expense\"`), соответствующих каждой транзакции."
      ],
      "metadata": {
        "id": "UldiZJQ4UvxL"
      }
    },
    {
      "cell_type": "code",
      "source": [],
      "metadata": {
        "id": "xrwQK9YkU_Q5"
      },
      "execution_count": null,
      "outputs": []
    },
    {
      "cell_type": "markdown",
      "source": [
        "**Task 2.** Дан список записей (словарей) клиентов:\n",
        "\n",
        "```python\n",
        "clients = [{'name': 'Alice', 'email': 'alice@mail.com'},\n",
        "           {'name': 'Bob', 'email': ''},\n",
        "           {'name': '', 'email': 'carol@mail.com'}]\n",
        "```\n",
        "\n",
        "Проверьте, все ли клиенты заполнили свои данные (`all`), и есть ли среди них хотя бы один с полностью заполненной анкетой (`any`)."
      ],
      "metadata": {
        "id": "h6S7Kaz0U_nT"
      }
    },
    {
      "cell_type": "code",
      "source": [],
      "metadata": {
        "id": "BmvUjiD-VIjY"
      },
      "execution_count": null,
      "outputs": []
    },
    {
      "cell_type": "markdown",
      "source": [
        "**Task 3.** У вас есть два списка: даты и значения температуры.\n",
        "\n",
        "```python\n",
        "dates = ['2023-01-01', '2023-01-02', '2023-01-03']\n",
        "temps = [5.5, 3.2, 4.0]\n",
        "```\n",
        "\n",
        "С помощью `zip` объедините их в пары и найдите дату с самой низкой температурой."
      ],
      "metadata": {
        "id": "8pw5kqncVJAF"
      }
    },
    {
      "cell_type": "code",
      "source": [],
      "metadata": {
        "id": "6zmB7_OiVRH4"
      },
      "execution_count": null,
      "outputs": []
    },
    {
      "cell_type": "markdown",
      "source": [
        "**Task 4.** Дан список ежедневных новых пользователей:\n",
        "\n",
        "```python\n",
        "new_users = [10, 15, 7, 20]\n",
        "```\n",
        "\n",
        "С помощью `reduce` рассчитайте общее количество пользователей по дням (кумулятивно) и найдите день, когда число пользователей впервые превысило 30."
      ],
      "metadata": {
        "id": "AYjvwO3hVRiB"
      }
    },
    {
      "cell_type": "code",
      "source": [],
      "metadata": {
        "id": "UAiZjKN0VbIA"
      },
      "execution_count": null,
      "outputs": []
    },
    {
      "cell_type": "markdown",
      "source": [
        "**Task 5.** Напишите функцию average_columns(*args), которая принимает произвольное количество списков одинаковой длины — это могут быть числовые значения по разным метрикам (например, продажи, расходы, клики). Функция должна возвращать список средних значений по позициям, то есть по столбцам.\n",
        "\n",
        "Пример вызова функции:\n",
        "```python\n",
        "average_columns([10, 20, 30], [20, 30, 40], [30, 40, 50])\n",
        "# → [20.0, 30.0, 40.0]\n",
        "```"
      ],
      "metadata": {
        "id": "DTPbjlGYVbaD"
      }
    },
    {
      "cell_type": "code",
      "source": [],
      "metadata": {
        "id": "h5XHQGdmV74m"
      },
      "execution_count": null,
      "outputs": []
    },
    {
      "cell_type": "markdown",
      "source": [
        "**Task 6.** Напишите функцию filter_clients(clients, **criteria), которая принимает список клиентов (словарей) и произвольное количество фильтров (например, min_age, country). Функция должна возвращать только тех клиентов, которые удовлетворяют всем заданным критериям.\n",
        "\n",
        "Поддерживаемые фильтры:\n",
        "-  min_age: минимальный возраст\n",
        "-  max_age: максимальный возраст\n",
        "-  country: страна\n",
        "\n",
        "Пример входных данных:\n",
        "```python\n",
        "clients = [\n",
        "    {'name': 'Alice', 'age': 28, 'country': 'USA'},\n",
        "    {'name': 'Bob', 'age': 35, 'country': 'Canada'},\n",
        "    {'name': 'Carol', 'age': 40, 'country': 'USA'},\n",
        "]\n",
        "\n",
        "filter_clients(clients, min_age=30, country='USA')\n",
        "# → [{'name': 'Carol', 'age': 40, 'country': 'USA'}]\n",
        "```"
      ],
      "metadata": {
        "id": "pKnu5_SwVppG"
      }
    },
    {
      "cell_type": "code",
      "source": [],
      "metadata": {
        "id": "hBLND2y1VrSu"
      },
      "execution_count": null,
      "outputs": []
    }
  ]
}