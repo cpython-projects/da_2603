{
  "nbformat": 4,
  "nbformat_minor": 0,
  "metadata": {
    "colab": {
      "provenance": [],
      "authorship_tag": "ABX9TyMYyubLw/QAUicDMG6WIfei",
      "include_colab_link": true
    },
    "kernelspec": {
      "name": "python3",
      "display_name": "Python 3"
    },
    "language_info": {
      "name": "python"
    }
  },
  "cells": [
    {
      "cell_type": "markdown",
      "metadata": {
        "id": "view-in-github",
        "colab_type": "text"
      },
      "source": [
        "<a href=\"https://colab.research.google.com/github/cpython-projects/da_2603/blob/main/lesson_11.ipynb\" target=\"_parent\"><img src=\"https://colab.research.google.com/assets/colab-badge.svg\" alt=\"Open In Colab\"/></a>"
      ]
    },
    {
      "cell_type": "code",
      "execution_count": 1,
      "metadata": {
        "colab": {
          "base_uri": "https://localhost:8080/"
        },
        "id": "-vzSsP5LXES6",
        "outputId": "2ca9a049-7ef1-4b01-8b59-50878ff6b499"
      },
      "outputs": [
        {
          "output_type": "stream",
          "name": "stdout",
          "text": [
            "3\n"
          ]
        }
      ],
      "source": [
        "def add(a, b):\n",
        "  return a + b\n",
        "\n",
        "\n",
        "print(add(1, 2))"
      ]
    },
    {
      "cell_type": "code",
      "source": [
        "print(1)\n",
        "print(1, 2, 3, 4, 5)\n",
        "print(1, 2, 3, 4, 5, 1, 2, 3, 4, 5)"
      ],
      "metadata": {
        "colab": {
          "base_uri": "https://localhost:8080/"
        },
        "id": "6OThkUr6XfeQ",
        "outputId": "dde9ab9f-acac-466a-eb09-df436ec57958"
      },
      "execution_count": 2,
      "outputs": [
        {
          "output_type": "stream",
          "name": "stdout",
          "text": [
            "1\n",
            "1 2 3 4 5\n",
            "1 2 3 4 5 1 2 3 4 5\n"
          ]
        }
      ]
    },
    {
      "cell_type": "code",
      "source": [
        "def add(*args):\n",
        "  print(type(args))\n",
        "  print(args)\n",
        "\n",
        "\n",
        "add(1, 2, 3, 4, 5, 6, 7, 8)\n",
        "add()\n",
        "add(1)"
      ],
      "metadata": {
        "colab": {
          "base_uri": "https://localhost:8080/"
        },
        "id": "HjpC0Qf9XoLL",
        "outputId": "1d5f53d6-620b-4bd7-c7e8-6cd3c91d37bb"
      },
      "execution_count": 3,
      "outputs": [
        {
          "output_type": "stream",
          "name": "stdout",
          "text": [
            "<class 'tuple'>\n",
            "(1, 2, 3, 4, 5, 6, 7, 8)\n",
            "<class 'tuple'>\n",
            "()\n",
            "<class 'tuple'>\n",
            "(1,)\n"
          ]
        }
      ]
    },
    {
      "cell_type": "code",
      "source": [
        "def add(*args):\n",
        "  total = 0\n",
        "  for item in args:\n",
        "    if isinstance(item, int | float):\n",
        "      total += item\n",
        "  return total\n",
        "\n",
        "\n",
        "print(add(1, 2, '3', '4'))\n",
        "\n",
        "data = [1, 2, 3, 4]\n",
        "print(add(*data))"
      ],
      "metadata": {
        "colab": {
          "base_uri": "https://localhost:8080/"
        },
        "id": "6_aVxsNmYHIi",
        "outputId": "b0890d76-9424-4c30-f30f-6b2a44b6faf3"
      },
      "execution_count": 6,
      "outputs": [
        {
          "output_type": "stream",
          "name": "stdout",
          "text": [
            "3\n",
            "10\n"
          ]
        }
      ]
    },
    {
      "cell_type": "code",
      "source": [
        "def calc(*args, **kwargs):\n",
        "  res = None\n",
        "\n",
        "  if kwargs.get('operator') == '+':\n",
        "    res = 0\n",
        "    for item in args:\n",
        "      res += item\n",
        "  elif kwargs.get('operator') == '*':\n",
        "    res = 1\n",
        "    for item in args:\n",
        "      res *= item\n",
        "\n",
        "  add_res = None\n",
        "  if kwargs.get('additional') == 'min':\n",
        "    add_res = min(args)\n",
        "  elif kwargs.get('additional') == 'max':\n",
        "    add_res = max(args)\n",
        "\n",
        "  return res, add_res\n",
        "\n",
        "\n",
        "print(calc(1, 2, operator='*', additional='max'))\n",
        "print(calc(1, 2))"
      ],
      "metadata": {
        "colab": {
          "base_uri": "https://localhost:8080/"
        },
        "id": "2EJD5APRZFZ5",
        "outputId": "4e30364f-0d1f-42c3-d281-e8290f411dda"
      },
      "execution_count": 14,
      "outputs": [
        {
          "output_type": "stream",
          "name": "stdout",
          "text": [
            "(2, 2)\n",
            "(None, None)\n"
          ]
        }
      ]
    },
    {
      "cell_type": "code",
      "source": [
        "clients = [\n",
        "    {'name': 'Alice', 'age': 28, 'country': 'USA'},\n",
        "    {'name': 'Bob', 'age': 35, 'country': 'Canada'},\n",
        "    {'name': 'Carol', 'age': 40, 'country': 'USA'},\n",
        "]\n",
        "\n",
        "def filter_clients(clients, **kwargs):\n",
        "  filtered_clients = []\n",
        "  if kwargs.get('country'):\n",
        "    for item in clients:\n",
        "      if item['country'] == kwargs['country']:\n",
        "        filtered_clients.append(item)\n",
        "  if kwargs.get('age'):\n",
        "    ...\n",
        "\n",
        "  return filtered_clients\n",
        "\n",
        "\n",
        "print(filter_clients(clients, country='USA'))\n",
        "print(filter_clients(clients, min_age=35))\n",
        "print(filter_clients(clients, country='USA', max_age=35))\n",
        "\n",
        "print(filter_clients(clients, country='USA'))\n",
        ""
      ],
      "metadata": {
        "colab": {
          "base_uri": "https://localhost:8080/"
        },
        "id": "XcB7RBejbdqm",
        "outputId": "23c1ad44-1e03-4fec-d94d-1c93f1d967a3"
      },
      "execution_count": 15,
      "outputs": [
        {
          "output_type": "stream",
          "name": "stdout",
          "text": [
            "[{'name': 'Alice', 'age': 28, 'country': 'USA'}, {'name': 'Carol', 'age': 40, 'country': 'USA'}]\n",
            "[]\n",
            "[{'name': 'Alice', 'age': 28, 'country': 'USA'}, {'name': 'Carol', 'age': 40, 'country': 'USA'}]\n",
            "[{'name': 'Alice', 'age': 28, 'country': 'USA'}, {'name': 'Carol', 'age': 40, 'country': 'USA'}]\n"
          ]
        }
      ]
    },
    {
      "cell_type": "code",
      "source": [
        "def add(a, b):\n",
        "  return a + b\n",
        "\n",
        "\n",
        "x = add\n",
        "\n",
        "print(x(1, 2))"
      ],
      "metadata": {
        "colab": {
          "base_uri": "https://localhost:8080/"
        },
        "id": "YLav1xXFc0nV",
        "outputId": "2632d261-b819-4a15-db86-efca7a2fe2f4"
      },
      "execution_count": 16,
      "outputs": [
        {
          "output_type": "stream",
          "name": "stdout",
          "text": [
            "3\n"
          ]
        }
      ]
    },
    {
      "cell_type": "code",
      "source": [
        "def filter(func, data):\n",
        "  res = []\n",
        "  for item in data:\n",
        "    if func(item):\n",
        "      res.append(item)\n",
        "  return res\n",
        "\n",
        "data = [1, 2, 3, 4, 5, 6, 7]\n",
        "filtered_data = filter(lambda x: x % 2 == 0, data)\n",
        "print(filtered_data)"
      ],
      "metadata": {
        "colab": {
          "base_uri": "https://localhost:8080/"
        },
        "id": "wnLillZCdFYT",
        "outputId": "e23d26ac-04cd-463e-fe96-bd2471f9962f"
      },
      "execution_count": 17,
      "outputs": [
        {
          "output_type": "stream",
          "name": "stdout",
          "text": [
            "[2, 4, 6]\n"
          ]
        }
      ]
    },
    {
      "cell_type": "code",
      "source": [
        "# zip, map, filter, reduce, all, any, min, max, sorted, sum\n",
        "\n",
        "\n",
        "prices = [1, 2, 3, 4]\n",
        "quantities = [10, 20, 30, 40]\n",
        "total = 0\n",
        "for a, b in zip(prices, quantities):\n",
        "  total += a * b\n",
        "print(total)\n"
      ],
      "metadata": {
        "colab": {
          "base_uri": "https://localhost:8080/"
        },
        "id": "P4NbZetndWNU",
        "outputId": "06891b10-1969-477e-acd8-2becfa6994a0"
      },
      "execution_count": 20,
      "outputs": [
        {
          "output_type": "stream",
          "name": "stdout",
          "text": [
            "300\n"
          ]
        }
      ]
    },
    {
      "cell_type": "code",
      "source": [
        "x = [1, 2, 3, 4, 5]\n",
        "\n",
        "y = [item ** 2 for item in x]\n",
        "\n",
        "print(x)\n",
        "print(y)\n",
        "\n",
        "\n",
        "y = list(map(lambda item: item ** 2, x))\n",
        "print(y)"
      ],
      "metadata": {
        "colab": {
          "base_uri": "https://localhost:8080/"
        },
        "id": "yGjsjBfyeWY2",
        "outputId": "c204e3ee-0daa-4c85-edeb-2911041d9ed9"
      },
      "execution_count": 22,
      "outputs": [
        {
          "output_type": "stream",
          "name": "stdout",
          "text": [
            "[1, 2, 3, 4, 5]\n",
            "[1, 4, 9, 16, 25]\n",
            "[1, 4, 9, 16, 25]\n"
          ]
        }
      ]
    },
    {
      "cell_type": "code",
      "source": [
        "names = ['alice', 'BOB', 'CarOL']\n",
        "\n",
        "\n",
        "res = list(map(lambda item: item.title(), names))\n",
        "print(res)"
      ],
      "metadata": {
        "colab": {
          "base_uri": "https://localhost:8080/"
        },
        "id": "VIfUY-oOexOS",
        "outputId": "b9c2483a-70fc-4e0e-8fd6-0349481179cd"
      },
      "execution_count": 23,
      "outputs": [
        {
          "output_type": "stream",
          "name": "stdout",
          "text": [
            "['Alice', 'Bob', 'Carol']\n"
          ]
        }
      ]
    },
    {
      "cell_type": "code",
      "source": [
        "x = [1, 2, 3, 4, 5, 6]\n",
        "res = sum(x)\n",
        "print(res)"
      ],
      "metadata": {
        "colab": {
          "base_uri": "https://localhost:8080/"
        },
        "id": "ERxixMddfQy1",
        "outputId": "e437f87e-56ac-405c-9a4a-17f874326cb1"
      },
      "execution_count": 24,
      "outputs": [
        {
          "output_type": "stream",
          "name": "stdout",
          "text": [
            "21\n"
          ]
        }
      ]
    },
    {
      "cell_type": "code",
      "source": [
        "x = [('Alice', 23), ('Bob', 12), ('Jack', 234)]\n",
        "\n",
        "res = 0\n",
        "for name, item in x:\n",
        "  res += item\n",
        "\n",
        "print(res)"
      ],
      "metadata": {
        "colab": {
          "base_uri": "https://localhost:8080/"
        },
        "id": "4xgLKanxfWYz",
        "outputId": "b4875c2f-8654-4c6d-8bd7-993fff3f962c"
      },
      "execution_count": 26,
      "outputs": [
        {
          "output_type": "stream",
          "name": "stdout",
          "text": [
            "269\n"
          ]
        }
      ]
    },
    {
      "cell_type": "code",
      "source": [
        "prices = [1, 2, 3, 4]\n",
        "quantities = [10, 20, 30, 40]\n",
        "\n",
        "res = sum(map(lambda item: item[0] * item[1], zip(prices, quantities)))\n",
        "print(res)"
      ],
      "metadata": {
        "colab": {
          "base_uri": "https://localhost:8080/"
        },
        "id": "gDjHLMZmf32I",
        "outputId": "86ff38e1-8491-4d7a-82a2-7c70820a6b12"
      },
      "execution_count": 28,
      "outputs": [
        {
          "output_type": "stream",
          "name": "stdout",
          "text": [
            "300\n"
          ]
        }
      ]
    },
    {
      "cell_type": "code",
      "source": [
        "x = [-1, -23, 23, 34, 12, 23, 34, 32, 33, 35]\n",
        "\n",
        "res = filter(lambda item: item > 0, x)\n",
        "print(list(res))\n",
        "\n",
        "res = filter(lambda item: item < 0, x)\n",
        "print(list(res))\n",
        "\n",
        "res = filter(lambda item: item > 10, x)\n",
        "print(list(res))"
      ],
      "metadata": {
        "colab": {
          "base_uri": "https://localhost:8080/"
        },
        "id": "Dq7TI7T8gpqo",
        "outputId": "e099ec5f-57d9-48b8-b517-d6c962cd737c"
      },
      "execution_count": 32,
      "outputs": [
        {
          "output_type": "stream",
          "name": "stdout",
          "text": [
            "[23, 34, 12, 23, 34, 32, 33, 35]\n",
            "[-1, -23]\n",
            "[23, 34, 12, 23, 34, 32, 33, 35]\n"
          ]
        }
      ]
    },
    {
      "cell_type": "code",
      "source": [
        "clients = [\n",
        "    {'name': 'Alice', 'age': 28, 'country': 'USA'},\n",
        "    {'name': 'Bob', 'age': 35, 'country': 'Canada'},\n",
        "    {'name': 'Carol', 'age': 40, 'country': 'USA'},\n",
        "]\n",
        "\n",
        "res = filter(lambda item: item['country'] == 'USA', clients)\n",
        "print(*list(res), sep='\\n')\n",
        "\n",
        "res = filter(lambda item: item['age'] > 30, clients)\n",
        "print(*list(res), sep='\\n')"
      ],
      "metadata": {
        "colab": {
          "base_uri": "https://localhost:8080/"
        },
        "id": "AFhUdtv7hQUK",
        "outputId": "0621c1a4-4b8f-41e7-8c65-a41f33206ec3"
      },
      "execution_count": 35,
      "outputs": [
        {
          "output_type": "stream",
          "name": "stdout",
          "text": [
            "{'name': 'Alice', 'age': 28, 'country': 'USA'}\n",
            "{'name': 'Carol', 'age': 40, 'country': 'USA'}\n",
            "{'name': 'Bob', 'age': 35, 'country': 'Canada'}\n",
            "{'name': 'Carol', 'age': 40, 'country': 'USA'}\n"
          ]
        }
      ]
    },
    {
      "cell_type": "code",
      "source": [
        "from functools import reduce\n",
        "\n",
        "\n",
        "help(reduce)"
      ],
      "metadata": {
        "colab": {
          "base_uri": "https://localhost:8080/"
        },
        "id": "YSuenUnOh-r_",
        "outputId": "2ed5084e-5a1f-4024-cae6-21e8126a3d26"
      },
      "execution_count": 36,
      "outputs": [
        {
          "output_type": "stream",
          "name": "stdout",
          "text": [
            "Help on built-in function reduce in module _functools:\n",
            "\n",
            "reduce(...)\n",
            "    reduce(function, iterable[, initial]) -> value\n",
            "    \n",
            "    Apply a function of two arguments cumulatively to the items of a sequence\n",
            "    or iterable, from left to right, so as to reduce the iterable to a single\n",
            "    value.  For example, reduce(lambda x, y: x+y, [1, 2, 3, 4, 5]) calculates\n",
            "    ((((1+2)+3)+4)+5).  If initial is present, it is placed before the items\n",
            "    of the iterable in the calculation, and serves as a default when the\n",
            "    iterable is empty.\n",
            "\n"
          ]
        }
      ]
    },
    {
      "cell_type": "code",
      "source": [
        "x = [1, 2, 3, 4, 5]\n",
        "\n",
        "res = reduce(lambda a, b: a + b, x)\n",
        "print(res)\n",
        "\n",
        "import operator\n",
        "res = reduce(operator.add, x)\n",
        "print(res)"
      ],
      "metadata": {
        "colab": {
          "base_uri": "https://localhost:8080/"
        },
        "id": "ZwUg9DOYkAC7",
        "outputId": "34ed274b-6b5a-481a-d6c3-e67b8ca966c0"
      },
      "execution_count": 38,
      "outputs": [
        {
          "output_type": "stream",
          "name": "stdout",
          "text": [
            "15\n",
            "15\n"
          ]
        }
      ]
    },
    {
      "cell_type": "code",
      "source": [
        "# all, any, min, max, sorted"
      ],
      "metadata": {
        "id": "3iaJQpTTkkqT"
      },
      "execution_count": null,
      "outputs": []
    },
    {
      "cell_type": "code",
      "source": [
        "x = [2, 4, 5, 6, 10, 30, 12, 43, 12]\n",
        "\n",
        "print(not all(x))"
      ],
      "metadata": {
        "colab": {
          "base_uri": "https://localhost:8080/"
        },
        "id": "BO3JHVQ2krvm",
        "outputId": "0d6420e1-b446-4fd3-c2a2-f7d168a4485f"
      },
      "execution_count": 41,
      "outputs": [
        {
          "output_type": "stream",
          "name": "stdout",
          "text": [
            "False\n"
          ]
        }
      ]
    },
    {
      "cell_type": "code",
      "source": [
        "x = [0, 0, 0, 0, 0, 0]\n",
        "\n",
        "any(x)"
      ],
      "metadata": {
        "colab": {
          "base_uri": "https://localhost:8080/"
        },
        "id": "cvSTFXndlLLP",
        "outputId": "86bb6900-be34-46b3-9c63-6246ebe41fc5"
      },
      "execution_count": 43,
      "outputs": [
        {
          "output_type": "execute_result",
          "data": {
            "text/plain": [
              "False"
            ]
          },
          "metadata": {},
          "execution_count": 43
        }
      ]
    },
    {
      "cell_type": "code",
      "source": [
        "clients = [\n",
        "    {'name': 'Alice', 'age': 28, 'country': 'USA'},\n",
        "    {'name': 'Bob', 'age': 35, 'country': 'Canada'},\n",
        "    {'name': 'Carol', 'age': 40, 'country': 'USA'},\n",
        "]\n",
        "\n",
        "res = min(clients, key=lambda item: item['age'])\n",
        "print(res)"
      ],
      "metadata": {
        "colab": {
          "base_uri": "https://localhost:8080/"
        },
        "id": "QC1N4-1LljN_",
        "outputId": "71803ba0-8ed6-4218-f699-1645ad81ea49"
      },
      "execution_count": 45,
      "outputs": [
        {
          "output_type": "stream",
          "name": "stdout",
          "text": [
            "{'name': 'Alice', 'age': 28, 'country': 'USA'}\n"
          ]
        }
      ]
    },
    {
      "cell_type": "code",
      "source": [
        "clients = [\n",
        "    (12, 23, 34),\n",
        "    (12, 27, 34, 3),\n",
        "    (12, 28, 34, 45, 56),\n",
        "]\n",
        "\n",
        "res = max(clients, key=lambda item: item[1])\n",
        "print(res)"
      ],
      "metadata": {
        "colab": {
          "base_uri": "https://localhost:8080/"
        },
        "id": "q2uR43vTmtNs",
        "outputId": "2eae85c3-7d36-48b0-af9b-a8dadb5a7e2f"
      },
      "execution_count": 46,
      "outputs": [
        {
          "output_type": "stream",
          "name": "stdout",
          "text": [
            "(12, 28, 34, 45, 56)\n"
          ]
        }
      ]
    },
    {
      "cell_type": "code",
      "source": [
        "clients = [\n",
        "    (120, 23),\n",
        "    (12, 27, 34, 3),\n",
        "    (12, 28, 34, 45, 56),\n",
        "]\n",
        "\n",
        "def func(item: tuple):\n",
        "  return item[2] if len(item) > 2 else item[0]\n",
        "\n",
        "res = max(clients, key=func)\n",
        "print(res)\n",
        "\n",
        "res = max(clients, key=lambda item: item[2] if len(item) > 2 else item[0])\n",
        "print(res)"
      ],
      "metadata": {
        "colab": {
          "base_uri": "https://localhost:8080/"
        },
        "id": "P4lJHji5nMv5",
        "outputId": "bfe84e36-f15b-4f67-df9f-daf245d446e4"
      },
      "execution_count": 48,
      "outputs": [
        {
          "output_type": "stream",
          "name": "stdout",
          "text": [
            "(120, 23)\n",
            "(120, 23)\n"
          ]
        }
      ]
    },
    {
      "cell_type": "code",
      "source": [
        "weights = [\n",
        "    '12kg',\n",
        "    '2gr',\n",
        "    '234'\n",
        "]\n",
        "\n",
        "\n",
        "def weight_convertor(item):\n",
        "  if 'kg' in item:\n",
        "    return float(item.replace('kg', '')) * 1000\n",
        "  if 'gr' in item:\n",
        "    return float(item.replace('gr', ''))\n",
        "  return float(item)\n",
        "\n",
        "\n",
        "res = max(weights, key=weight_convertor)\n",
        "print(res)"
      ],
      "metadata": {
        "colab": {
          "base_uri": "https://localhost:8080/"
        },
        "id": "GDyr6d3Uosx3",
        "outputId": "4cfbd9dc-883b-450d-c412-3252d4e36fa0"
      },
      "execution_count": 49,
      "outputs": [
        {
          "output_type": "stream",
          "name": "stdout",
          "text": [
            "12kg\n"
          ]
        }
      ]
    },
    {
      "cell_type": "code",
      "source": [
        "clients = [\n",
        "    {'name': 'Alice', 'age': 28, 'country': 'USA'},\n",
        "    {'name': 'Bob', 'age': 35, 'country': 'Canada'},\n",
        "    {'name': 'Jack', 'age': 40, 'country': 'USA'},\n",
        "    {'name': 'Carol', 'age': 70, 'country': 'USA'},\n",
        "    {'name': 'Ivan', 'age': 80, 'country': 'USA'},\n",
        "    {'name': 'Petro', 'age': 90, 'country': 'USA'},\n",
        "    {'name': 'David', 'age': 55, 'country': 'USA'},\n",
        "]\n",
        "\n",
        "res = sorted(clients, key=lambda item: item['age'])\n",
        "print(*res[:-4:-1], sep='\\n')"
      ],
      "metadata": {
        "colab": {
          "base_uri": "https://localhost:8080/"
        },
        "id": "5PW0dQ-UpYkE",
        "outputId": "d4d459ea-c47e-4fb1-cdb3-dfc9dafe9dbc"
      },
      "execution_count": 54,
      "outputs": [
        {
          "output_type": "stream",
          "name": "stdout",
          "text": [
            "{'name': 'Petro', 'age': 90, 'country': 'USA'}\n",
            "{'name': 'Ivan', 'age': 80, 'country': 'USA'}\n",
            "{'name': 'Carol', 'age': 70, 'country': 'USA'}\n"
          ]
        }
      ]
    },
    {
      "cell_type": "code",
      "source": [
        "res = sorted(clients, key=lambda item: item['age'], reverse=True)\n",
        "print(*res[:3], sep='\\n')"
      ],
      "metadata": {
        "colab": {
          "base_uri": "https://localhost:8080/"
        },
        "id": "vhEMmArmqI8n",
        "outputId": "9bcf6fbb-01cf-4f6e-fd17-f0953396b74a"
      },
      "execution_count": 53,
      "outputs": [
        {
          "output_type": "stream",
          "name": "stdout",
          "text": [
            "{'name': 'Petro', 'age': 90, 'country': 'USA'}\n",
            "{'name': 'Ivan', 'age': 80, 'country': 'USA'}\n",
            "{'name': 'Carol', 'age': 70, 'country': 'USA'}\n"
          ]
        }
      ]
    }
  ]
}