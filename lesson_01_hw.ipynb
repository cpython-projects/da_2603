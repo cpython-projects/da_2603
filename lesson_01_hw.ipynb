{
  "nbformat": 4,
  "nbformat_minor": 0,
  "metadata": {
    "colab": {
      "provenance": [],
      "authorship_tag": "ABX9TyOT08Cx6yjNPT/hMr7opmeO",
      "include_colab_link": true
    },
    "kernelspec": {
      "name": "python3",
      "display_name": "Python 3"
    },
    "language_info": {
      "name": "python"
    }
  },
  "cells": [
    {
      "cell_type": "markdown",
      "metadata": {
        "id": "view-in-github",
        "colab_type": "text"
      },
      "source": [
        "<a href=\"https://colab.research.google.com/github/cpython-projects/da_2603/blob/main/lesson_01_hw.ipynb\" target=\"_parent\"><img src=\"https://colab.research.google.com/assets/colab-badge.svg\" alt=\"Open In Colab\"/></a>"
      ]
    },
    {
      "cell_type": "markdown",
      "source": [
        "**Task 1.**\n",
        "Написать скрипт, который для пяти целочисленных значений (вводит пользователь с клавиатуры), находит минимум, максимум и среднее арифметическое."
      ],
      "metadata": {
        "id": "FG6UBAH5QvwH"
      }
    },
    {
      "cell_type": "code",
      "execution_count": 1,
      "metadata": {
        "id": "J7mmQ8XaQsLa",
        "outputId": "52f450c6-855b-4338-9ec3-85316bc4dc13",
        "colab": {
          "base_uri": "https://localhost:8080/"
        }
      },
      "outputs": [
        {
          "output_type": "stream",
          "name": "stdout",
          "text": [
            "x1>>12\n",
            "x2>>23\n",
            "x3>>2\n",
            "x4>>3\n",
            "x5>>1\n",
            "Max value is 23\n",
            "Min value is 1\n",
            "Average value is 8.2\n"
          ]
        }
      ],
      "source": [
        "x1 = int(input('x1>>'))\n",
        "x2 = int(input('x2>>'))\n",
        "x3 = int(input('x3>>'))\n",
        "x4 = int(input('x4>>'))\n",
        "x5 = int(input('x5>>'))\n",
        "\n",
        "print(f'Max value is {max(x1, x2, x3, x4, x5)}')\n",
        "print(f'Min value is {min(x1, x2, x3, x4, x5)}')\n",
        "print(f'Average value is {(x1 + x2 + x3 + x4 + x5) / 5}')"
      ]
    },
    {
      "cell_type": "code",
      "source": [
        "x = 5\n",
        "y = 25\n",
        "print(x, '+', y, '=', x + y)\n",
        "print('{x} + {y} = {x + y}')\n",
        "print(f'{x} + {y} = {x + y}')"
      ],
      "metadata": {
        "id": "Jb23VS449MJJ",
        "outputId": "1a58ccd6-6ce7-4dd0-971d-4f0c29aaee8f",
        "colab": {
          "base_uri": "https://localhost:8080/"
        }
      },
      "execution_count": 3,
      "outputs": [
        {
          "output_type": "stream",
          "name": "stdout",
          "text": [
            "5 + 25 = 30\n",
            "{x} + {y} = {x + y}\n",
            "5 + 25 = 30\n"
          ]
        }
      ]
    },
    {
      "cell_type": "markdown",
      "source": [
        "**Task 2.**\n",
        "Написать скрипт, возвращающий результат арифметических действий +, -, *, /, // для заданных _x_ и _y_."
      ],
      "metadata": {
        "id": "mne2wMDJR1_r"
      }
    },
    {
      "cell_type": "code",
      "source": [
        "x, y = int(input('x>>')), int(input('y>>'))\n",
        "\n",
        "print(f'{x} + {y} = {x + y}')\n",
        "print(f'{x} - {y} = {x - y}')\n",
        "print(f'{x} * {y} = {x * y}')\n",
        "print(f'{x} / {y} = {x / y}')\n",
        "print(f'{x} // {y} = {x / y}')"
      ],
      "metadata": {
        "id": "QOxnpKeIR2gc",
        "outputId": "bb5a2c96-c288-4cf5-e140-76f3bf9c142a",
        "colab": {
          "base_uri": "https://localhost:8080/"
        }
      },
      "execution_count": 4,
      "outputs": [
        {
          "output_type": "stream",
          "name": "stdout",
          "text": [
            "x>>5\n",
            "y>>2\n",
            "5 + 2 = 7\n",
            "5 - 2 = 3\n",
            "5 * 2 = 10\n",
            "5 / 2 = 2.5\n",
            "5 // 2 = 2.5\n"
          ]
        }
      ]
    },
    {
      "cell_type": "markdown",
      "source": [
        "**Task 3.**\n",
        "Написать скрипт, который для круга заданного радиуса (вводит пользователь с клавиатуры) находит диаметр, длину окружности и площадь."
      ],
      "metadata": {
        "id": "UbBniKX0R--M"
      }
    },
    {
      "cell_type": "code",
      "source": [
        "from posixpath import dirname\n",
        "import math\n",
        "\n",
        "r = float(input('R>>'))\n",
        "\n",
        "diametr = 2 * r\n",
        "length = 2 * math.pi * r\n",
        "square = math.pi * r ** 2\n",
        "\n",
        "print(f'D = {diametr}')\n",
        "print(f'L = {length}')\n",
        "print(f'S = {square}')"
      ],
      "metadata": {
        "id": "fezf9n5aSDCe",
        "outputId": "e56ff48f-ec84-48c9-ce3d-4c10aafc469a",
        "colab": {
          "base_uri": "https://localhost:8080/"
        }
      },
      "execution_count": 6,
      "outputs": [
        {
          "output_type": "stream",
          "name": "stdout",
          "text": [
            "R>>4\n",
            "D = 8.0\n",
            "L = 25.132741228718345\n",
            "S = 50.26548245743669\n"
          ]
        }
      ]
    },
    {
      "cell_type": "markdown",
      "source": [
        "**Task 4.**\n",
        "Написать скрипт, который трехзначное целое число (вводит пользователь с клавиатуры) разделяет на отдельные цифры. Каждую цифру нужно вывести в отдельной строке.\n",
        "Например, если пользователь вводит число 987, скрипт должен вывести в терминал  \n",
        "9  \n",
        "8  \n",
        "7  "
      ],
      "metadata": {
        "id": "ItQavp4oSDmm"
      }
    },
    {
      "cell_type": "code",
      "source": [
        "x = int(input('x>>'))\n",
        "\n",
        "print(x // 100)\n",
        "print(x // 10 % 10)\n",
        "print(x % 10)"
      ],
      "metadata": {
        "id": "GvXMkk3BSKfe",
        "outputId": "3ece3a42-b1e8-482b-c102-c1fdb79f7513",
        "colab": {
          "base_uri": "https://localhost:8080/"
        }
      },
      "execution_count": 7,
      "outputs": [
        {
          "output_type": "stream",
          "name": "stdout",
          "text": [
            "x>>123\n",
            "1\n",
            "2\n",
            "3\n"
          ]
        }
      ]
    },
    {
      "cell_type": "markdown",
      "source": [
        "**Task 5.**\n",
        "Некоторые инвестиционные консультанты считают, что разумно ожидать 10% прибыли в долгосрочной перспективе на фондовом рынке.\n",
        "Предполагая, что вы начинаете с 1000 долларов и оставляете ваши деньги инвестированными, рассчитайте и отобразите, сколько денег у вас будет через 10, 20 и 30 лет.  \n",
        "Используйте следующую формулу для определения этих сумм:  \n",
        "a = p(1 + r)^n  \n",
        "где p - начальная инвестированная сумма (то есть основная сумма 1000 долларов США),  \n",
        "r - годовая норма прибыли (10%),  \n",
        "n - количество лет (10, 20 или 30),  \n",
        "a - сумма на депозите к концу n-го года."
      ],
      "metadata": {
        "id": "l2_LILDISKuW"
      }
    },
    {
      "cell_type": "code",
      "source": [
        "R = 0.1\n",
        "p = float(input('amount>>'))\n",
        "n1, n2, n3 = 10, 20, 30\n",
        "\n",
        "a1 = p * (1 + R) ** n1\n",
        "a2 = p * (1 + R) ** n2\n",
        "a3 = p * (1 + R) ** n3\n",
        "\n",
        "print(f'{n1} years: {a1:.2f}')\n",
        "print(f'{n2} years: {a2:.2f}')\n",
        "print(f'{n3} years: {a3:.2f}')"
      ],
      "metadata": {
        "id": "ICqlqPkWSZBP",
        "outputId": "41c62b20-bbbd-408f-f931-aa441eff0265",
        "colab": {
          "base_uri": "https://localhost:8080/"
        }
      },
      "execution_count": 10,
      "outputs": [
        {
          "output_type": "stream",
          "name": "stdout",
          "text": [
            "amount>>1000\n",
            "10 years: 2593.74\n",
            "20 years: 6727.50\n",
            "30 years: 17449.40\n"
          ]
        }
      ]
    }
  ]
}