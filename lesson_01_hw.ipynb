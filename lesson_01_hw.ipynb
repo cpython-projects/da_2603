{
  "nbformat": 4,
  "nbformat_minor": 0,
  "metadata": {
    "colab": {
      "provenance": [],
      "authorship_tag": "ABX9TyMPFW05GuiYd/RKEp1DOpqX",
      "include_colab_link": true
    },
    "kernelspec": {
      "name": "python3",
      "display_name": "Python 3"
    },
    "language_info": {
      "name": "python"
    }
  },
  "cells": [
    {
      "cell_type": "markdown",
      "metadata": {
        "id": "view-in-github",
        "colab_type": "text"
      },
      "source": [
        "<a href=\"https://colab.research.google.com/github/cpython-projects/da_2603/blob/main/lesson_01_hw.ipynb\" target=\"_parent\"><img src=\"https://colab.research.google.com/assets/colab-badge.svg\" alt=\"Open In Colab\"/></a>"
      ]
    },
    {
      "cell_type": "markdown",
      "source": [
        "**Task 1.**\n",
        "Написать скрипт, который для пяти целочисленных значений (вводит пользователь с клавиатуры), находит минимум, максимум и среднее арифметическое."
      ],
      "metadata": {
        "id": "FG6UBAH5QvwH"
      }
    },
    {
      "cell_type": "code",
      "execution_count": null,
      "metadata": {
        "id": "J7mmQ8XaQsLa"
      },
      "outputs": [],
      "source": []
    },
    {
      "cell_type": "markdown",
      "source": [
        "**Task 2.**\n",
        "Написать скрипт, возвращающий результат арифметических действий +, -, *, /, // для заданных _x_ и _y_."
      ],
      "metadata": {
        "id": "mne2wMDJR1_r"
      }
    },
    {
      "cell_type": "code",
      "source": [],
      "metadata": {
        "id": "QOxnpKeIR2gc"
      },
      "execution_count": null,
      "outputs": []
    },
    {
      "cell_type": "markdown",
      "source": [
        "**Task 3.**\n",
        "Написать скрипт, который для круга заданного радиуса (вводит пользователь с клавиатуры) находит диаметр, длину окружности и площадь."
      ],
      "metadata": {
        "id": "UbBniKX0R--M"
      }
    },
    {
      "cell_type": "code",
      "source": [],
      "metadata": {
        "id": "fezf9n5aSDCe"
      },
      "execution_count": null,
      "outputs": []
    },
    {
      "cell_type": "markdown",
      "source": [
        "**Task 4.**\n",
        "Написать скрипт, который трехзначное целое число (вводит пользователь с клавиатуры) разделяет на отдельные цифры. Каждую цифру нужно вывести в отдельной строке.\n",
        "Например, если пользователь вводит число 987, скрипт должен вывести в терминал  \n",
        "9  \n",
        "8  \n",
        "7  "
      ],
      "metadata": {
        "id": "ItQavp4oSDmm"
      }
    },
    {
      "cell_type": "code",
      "source": [],
      "metadata": {
        "id": "GvXMkk3BSKfe"
      },
      "execution_count": null,
      "outputs": []
    },
    {
      "cell_type": "markdown",
      "source": [
        "**Task 5.**\n",
        "Некоторые инвестиционные консультанты считают, что разумно ожидать 10% прибыли в долгосрочной перспективе на фондовом рынке.\n",
        "Предполагая, что вы начинаете с 1000 долларов и оставляете ваши деньги инвестированными, рассчитайте и отобразите, сколько денег у вас будет через 10, 20 и 30 лет.  \n",
        "Используйте следующую формулу для определения этих сумм:  \n",
        "a = p(1 + r)^n  \n",
        "где p - начальная инвестированная сумма (то есть основная сумма 1000 долларов США),  \n",
        "r - годовая норма прибыли (10%),  \n",
        "n - количество лет (10, 20 или 30),  \n",
        "a - сумма на депозите к концу n-го года."
      ],
      "metadata": {
        "id": "l2_LILDISKuW"
      }
    },
    {
      "cell_type": "code",
      "source": [],
      "metadata": {
        "id": "ICqlqPkWSZBP"
      },
      "execution_count": null,
      "outputs": []
    }
  ]
}