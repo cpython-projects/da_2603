{
  "nbformat": 4,
  "nbformat_minor": 0,
  "metadata": {
    "colab": {
      "provenance": [],
      "authorship_tag": "ABX9TyP//gTPO61h7NC2qhCgDk7I",
      "include_colab_link": true
    },
    "kernelspec": {
      "name": "python3",
      "display_name": "Python 3"
    },
    "language_info": {
      "name": "python"
    }
  },
  "cells": [
    {
      "cell_type": "markdown",
      "metadata": {
        "id": "view-in-github",
        "colab_type": "text"
      },
      "source": [
        "<a href=\"https://colab.research.google.com/github/cpython-projects/da_2603/blob/main/lesson_15_hw.ipynb\" target=\"_parent\"><img src=\"https://colab.research.google.com/assets/colab-badge.svg\" alt=\"Open In Colab\"/></a>"
      ]
    },
    {
      "cell_type": "markdown",
      "source": [
        "**Task 1.** Загрузите датасет Titanic (https://raw.githubusercontent.com/datasciencedojo/datasets/master/titanic.csv)"
      ],
      "metadata": {
        "id": "_YKewAB3UdnZ"
      }
    },
    {
      "cell_type": "code",
      "source": [],
      "metadata": {
        "id": "xsrvO5DaUtgQ"
      },
      "execution_count": null,
      "outputs": []
    },
    {
      "cell_type": "markdown",
      "source": [
        "**Task 2.** Оставьте только нужные столбцы ('PassengerId', 'Name', 'Age', 'Sex', 'Survived', 'SibSp', 'Parch', 'Fare', 'Pclass', 'Embarked')"
      ],
      "metadata": {
        "id": "Xk1AYC0BUttN"
      }
    },
    {
      "cell_type": "code",
      "source": [],
      "metadata": {
        "id": "kmZqyEw2U6c7"
      },
      "execution_count": null,
      "outputs": []
    },
    {
      "cell_type": "markdown",
      "source": [
        "**Task 3.**  \n",
        "*   Выведите количество строк и столбцов\n",
        "*   Сколько уникальных значений в столбце Embarked?\n",
        "*   Какой максимальный и минимальный возраст пассажиров?"
      ],
      "metadata": {
        "id": "k0SJoN2rU7fc"
      }
    },
    {
      "cell_type": "code",
      "source": [],
      "metadata": {
        "id": "nK5EwAgKVBQ0"
      },
      "execution_count": null,
      "outputs": []
    },
    {
      "cell_type": "markdown",
      "source": [
        "**Task 4.**\n",
        "*   Добавьте столбец IsAlone, в котором будет True, если пассажир путешествовал один (FamilySize == 1), иначе False\n",
        "*   Переименуйте колонку Sex в Gender"
      ],
      "metadata": {
        "id": "hiYUgbnEVMQ2"
      }
    },
    {
      "cell_type": "code",
      "source": [],
      "metadata": {
        "id": "8bIHAVZuVY-C"
      },
      "execution_count": null,
      "outputs": []
    },
    {
      "cell_type": "markdown",
      "source": [
        "**Task 5.**\n",
        "*   Выведите всех женщин, путешествовавших в 1-м классе (Pclass == 1)\n",
        "*   Найдите мужчин, которые ехали с 2 или более родственниками (FamilySize >= 3) и не выжили\n",
        "*   Выведите пассажиров, которые заплатили за билет больше 100"
      ],
      "metadata": {
        "id": "OyZP8X_PVZeA"
      }
    },
    {
      "cell_type": "code",
      "source": [],
      "metadata": {
        "id": "toXXudVnVk-r"
      },
      "execution_count": null,
      "outputs": []
    },
    {
      "cell_type": "markdown",
      "source": [
        "**Task 6.**\n",
        "*  Отсортируйте пассажиров по стоимости билета в порядке убывания\n",
        "*  Выведите 10 самых молодых выживших пассажиров\n",
        "*  Отсортируйте по Pclass и затем по Age по возрастанию"
      ],
      "metadata": {
        "id": "I2JMfyqvVlTl"
      }
    },
    {
      "cell_type": "code",
      "source": [],
      "metadata": {
        "id": "8i5KyAojV_Wd"
      },
      "execution_count": null,
      "outputs": []
    },
    {
      "cell_type": "markdown",
      "source": [
        "**Task 7.**\n",
        "Влияет ли размер семьи на шанс выживания?"
      ],
      "metadata": {
        "id": "DGVep0LQV_sx"
      }
    },
    {
      "cell_type": "code",
      "source": [],
      "metadata": {
        "id": "lg68gjcTWDuB"
      },
      "execution_count": null,
      "outputs": []
    },
    {
      "cell_type": "markdown",
      "source": [
        "**Task 8.** Были ли различия в выживании среди пассажиров с разными титулами (Mr, Mrs, Dr и т.д.)?"
      ],
      "metadata": {
        "id": "u2Zh0f91WECg"
      }
    },
    {
      "cell_type": "code",
      "source": [],
      "metadata": {
        "id": "_ZmVER8JWKmk"
      },
      "execution_count": null,
      "outputs": []
    }
  ]
}