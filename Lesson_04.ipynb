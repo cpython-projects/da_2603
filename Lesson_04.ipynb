{
  "nbformat": 4,
  "nbformat_minor": 0,
  "metadata": {
    "colab": {
      "provenance": [],
      "toc_visible": true,
      "authorship_tag": "ABX9TyOoO/ElG+FIIlycAMqRoU1g",
      "include_colab_link": true
    },
    "kernelspec": {
      "name": "python3",
      "display_name": "Python 3"
    },
    "language_info": {
      "name": "python"
    }
  },
  "cells": [
    {
      "cell_type": "markdown",
      "metadata": {
        "id": "view-in-github",
        "colab_type": "text"
      },
      "source": [
        "<a href=\"https://colab.research.google.com/github/cpython-projects/da_2603/blob/main/Lesson_04.ipynb\" target=\"_parent\"><img src=\"https://colab.research.google.com/assets/colab-badge.svg\" alt=\"Open In Colab\"/></a>"
      ]
    },
    {
      "cell_type": "code",
      "execution_count": 6,
      "metadata": {
        "colab": {
          "base_uri": "https://localhost:8080/"
        },
        "id": "SGpEGhADJ_Nu",
        "outputId": "9f65cd6a-5be6-47a4-9665-a88824037f10"
      },
      "outputs": [
        {
          "output_type": "stream",
          "name": "stdout",
          "text": [
            "[1, 2, 3, 4, 5]\n",
            "[1, 1.1, 'Hello', [1, 2, 3, 4]]\n",
            "[]\n",
            "['H', 'e', 'l', 'l', 'o']\n"
          ]
        }
      ],
      "source": [
        "x = [1, 2, 3, 4, 5]\n",
        "print(x)\n",
        "x = [1, 1.1, 'Hello', [1, 2, 3, 4]]\n",
        "print(x)\n",
        "x = []\n",
        "print(x)\n",
        "\n",
        "text = 'Hello'\n",
        "x = list(text)\n",
        "print(x)"
      ]
    },
    {
      "cell_type": "code",
      "source": [
        "x = [1, 2, 3]\n",
        "y = [4, 5, 6]\n",
        "\n",
        "\n",
        "res = x + y\n",
        "print(res)\n",
        "\n",
        "res = x * 3\n",
        "print(res)\n",
        "\n",
        "x = [0] * 10\n",
        "print(x)\n",
        "\n",
        "print(0 in x)\n",
        "print(20 not in x)"
      ],
      "metadata": {
        "colab": {
          "base_uri": "https://localhost:8080/"
        },
        "id": "LahRFrPvM05n",
        "outputId": "aed530d1-86ea-4930-ad56-ec756af4f515"
      },
      "execution_count": 11,
      "outputs": [
        {
          "output_type": "stream",
          "name": "stdout",
          "text": [
            "[1, 2, 3, 4, 5, 6]\n",
            "[1, 2, 3, 1, 2, 3, 1, 2, 3]\n",
            "[0, 0, 0, 0, 0, 0, 0, 0, 0, 0]\n",
            "True\n",
            "True\n"
          ]
        }
      ]
    },
    {
      "cell_type": "code",
      "source": [
        "x = [10, 2, 3, 4, 5]\n",
        "\n",
        "y = len(x)\n",
        "print(y)\n",
        "\n",
        "y = sum(x)\n",
        "print(y)\n",
        "\n",
        "y = min(x)\n",
        "print(y)\n",
        "\n",
        "y = max(x)\n",
        "print(y)\n",
        "\n",
        "y = sorted(x)\n",
        "print(y)\n",
        "\n",
        "y = sorted(x, reverse=True)\n",
        "print(y)"
      ],
      "metadata": {
        "colab": {
          "base_uri": "https://localhost:8080/"
        },
        "id": "xmMzU9R8Noxq",
        "outputId": "c67efbbf-b7fb-42a3-8288-7f190370d84c"
      },
      "execution_count": 17,
      "outputs": [
        {
          "output_type": "stream",
          "name": "stdout",
          "text": [
            "5\n",
            "24\n",
            "2\n",
            "10\n",
            "[2, 3, 4, 5, 10]\n",
            "[10, 5, 4, 3, 2]\n"
          ]
        }
      ]
    },
    {
      "cell_type": "code",
      "source": [
        "x = [100, 20, 30, 4, 5, 6, 7, 8, 9, 10]\n",
        "\n",
        "mean = sum(x) / len(x)\n",
        "print(mean)\n",
        "\n",
        "res = sorted(x)\n",
        "print(res)\n",
        "\n",
        "print((res[4] + res[5]) / 2)\n"
      ],
      "metadata": {
        "colab": {
          "base_uri": "https://localhost:8080/"
        },
        "id": "VExqMFHZOPCs",
        "outputId": "178e5188-485b-432a-ed3e-b8fa473cc5d1"
      },
      "execution_count": 21,
      "outputs": [
        {
          "output_type": "stream",
          "name": "stdout",
          "text": [
            "19.9\n",
            "[4, 5, 6, 7, 8, 9, 10, 20, 30, 100]\n",
            "8.5\n"
          ]
        }
      ]
    },
    {
      "cell_type": "code",
      "source": [
        "x = [1, 2, 3]\n",
        "\n",
        "print(x[1])\n",
        "x[0] = 100\n",
        "print(x)"
      ],
      "metadata": {
        "colab": {
          "base_uri": "https://localhost:8080/"
        },
        "id": "YwGzzB8mQbpY",
        "outputId": "40ef0066-6554-4b03-a2ea-f28bdecb2d7e"
      },
      "execution_count": 25,
      "outputs": [
        {
          "output_type": "stream",
          "name": "stdout",
          "text": [
            "2\n",
            "[100, 2, 3]\n"
          ]
        }
      ]
    },
    {
      "cell_type": "code",
      "source": [
        "months = [1, 2, 3, 4, 5, 6, 7, 8, 9, 10, 11, 12]\n",
        "emp_1 = [894, 701, 660, 157, 655, 319, 438, 576, 935, 329, 946, 9898]\n",
        "emp_2 =[3081, 4429, 8362, 4920, 3602, 7271, 4056, 2879, 8845, 4180, 6961, 3818]"
      ],
      "metadata": {
        "id": "RNOmvaOdSrR2"
      },
      "execution_count": 34,
      "outputs": []
    },
    {
      "cell_type": "markdown",
      "source": [
        "### Сотрудник 1"
      ],
      "metadata": {
        "id": "jRoGHcyhZcWf"
      }
    },
    {
      "cell_type": "code",
      "source": [
        "avg = sum(emp_1) / len(emp_1)\n",
        "print(f'Avg is {avg:.2f}')"
      ],
      "metadata": {
        "colab": {
          "base_uri": "https://localhost:8080/"
        },
        "id": "vKxDh1RIZgYS",
        "outputId": "27b3c226-56bb-442d-d248-95f3a70cf3a7"
      },
      "execution_count": 35,
      "outputs": [
        {
          "output_type": "stream",
          "name": "stdout",
          "text": [
            "Avg is 1375.67\n"
          ]
        }
      ]
    },
    {
      "cell_type": "code",
      "source": [
        "median = sorted(emp_1)\n",
        "print(median)\n",
        "if len(median) % 2 == 1:\n",
        "    print(median[len(median) // 2])\n",
        "else:\n",
        "    print((median[len(median) // 2 - 1] + median[len(median) // 2]) / 2)"
      ],
      "metadata": {
        "colab": {
          "base_uri": "https://localhost:8080/"
        },
        "id": "xFRjpl10Z2-K",
        "outputId": "b9c4ea12-284e-4550-9538-61d9a23f2f6a"
      },
      "execution_count": 36,
      "outputs": [
        {
          "output_type": "stream",
          "name": "stdout",
          "text": [
            "[157, 319, 329, 438, 576, 655, 660, 701, 894, 935, 946, 9898]\n",
            "657.5\n"
          ]
        }
      ]
    },
    {
      "cell_type": "code",
      "source": [
        "avg_part_1 = sum(emp_1[:6]) / 6\n",
        "avg_part_2 = sum(emp_1[6:]) / 6\n",
        "print(f'Avg part 1 is {avg_part_1:.2f}')\n",
        "print(f'Avg part 2 is {avg_part_2:.2f}')"
      ],
      "metadata": {
        "colab": {
          "base_uri": "https://localhost:8080/"
        },
        "id": "P1HPvP-bbXHp",
        "outputId": "945f11c4-8ad0-41d9-c548-4ef9ffc6c038"
      },
      "execution_count": 37,
      "outputs": [
        {
          "output_type": "stream",
          "name": "stdout",
          "text": [
            "Avg part 1 is 564.33\n",
            "Avg part 2 is 2187.00\n"
          ]
        }
      ]
    },
    {
      "cell_type": "code",
      "source": [
        "min_salary, max_salary = min(emp_1), max(emp_1)\n",
        "print(f'Min salary is {min_salary}')\n",
        "print(f'Max salary is {max_salary}')\n",
        "print(f'Salary difference is {max_salary - min_salary}')"
      ],
      "metadata": {
        "colab": {
          "base_uri": "https://localhost:8080/"
        },
        "id": "RskLHE-6bkt3",
        "outputId": "9f600e1e-cc6f-455d-eab4-40adbcc3f875"
      },
      "execution_count": 38,
      "outputs": [
        {
          "output_type": "stream",
          "name": "stdout",
          "text": [
            "Min salary is 157\n",
            "Max salary is 9898\n",
            "Salary difference is 9741\n"
          ]
        }
      ]
    },
    {
      "cell_type": "markdown",
      "source": [
        "### Сотрудник 2"
      ],
      "metadata": {
        "id": "iAwwBEwub3x_"
      }
    },
    {
      "cell_type": "code",
      "source": [],
      "metadata": {
        "id": "5VwamogUb6T9"
      },
      "execution_count": 38,
      "outputs": []
    }
  ]
}