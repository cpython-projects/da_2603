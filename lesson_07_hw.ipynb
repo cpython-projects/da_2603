{
  "nbformat": 4,
  "nbformat_minor": 0,
  "metadata": {
    "colab": {
      "provenance": [],
      "authorship_tag": "ABX9TyM0OyIj6ywHxahto9DDdK0/",
      "include_colab_link": true
    },
    "kernelspec": {
      "name": "python3",
      "display_name": "Python 3"
    },
    "language_info": {
      "name": "python"
    }
  },
  "cells": [
    {
      "cell_type": "markdown",
      "metadata": {
        "id": "view-in-github",
        "colab_type": "text"
      },
      "source": [
        "<a href=\"https://colab.research.google.com/github/cpython-projects/da_2603/blob/main/lesson_07_hw.ipynb\" target=\"_parent\"><img src=\"https://colab.research.google.com/assets/colab-badge.svg\" alt=\"Open In Colab\"/></a>"
      ]
    },
    {
      "cell_type": "markdown",
      "source": [
        "**Task 1.** Напишите скрипт, который принимает строку текста и возвращает словарь, где ключами являются слова, а значениями – количество вхождений каждого слова в тексте."
      ],
      "metadata": {
        "id": "GB4BgNyc_70d"
      }
    },
    {
      "cell_type": "code",
      "execution_count": null,
      "metadata": {
        "id": "qez0TvUs-y1T"
      },
      "outputs": [],
      "source": []
    },
    {
      "cell_type": "markdown",
      "source": [
        "**Task 2.** Реализуй простой переводчик, который использует словарь для сохранения пар слов. Пользователь может вводить слово, а приложение возвращает его перевод. В этом случае словарь может использоваться для сохранения соответствий между словами в разных языках.\n",
        "Пример:\n",
        "translations = {\n",
        "     'hello': 'привет',\n",
        "     'goodbye': 'до свидания',\n",
        "     'cat': 'кот',\n",
        "     'dog': 'собака'\n",
        "}"
      ],
      "metadata": {
        "id": "SYe8pwmdBg7y"
      }
    },
    {
      "cell_type": "code",
      "source": [],
      "metadata": {
        "id": "x3XDzoEJBjIH"
      },
      "execution_count": null,
      "outputs": []
    },
    {
      "cell_type": "markdown",
      "source": [
        "**Task 3.** Даны два списка: названия продуктов и их цены.\n",
        "```python\n",
        "products = [\"Яблоко\", \"Банан\", \"Груша\"]\n",
        "prices = [100, 80, 120]\n",
        "```\n",
        "Создайте словарь, где ключами будут названия продуктов, а значениями — их цены."
      ],
      "metadata": {
        "id": "JK-yy1yOBjjT"
      }
    },
    {
      "cell_type": "code",
      "source": [],
      "metadata": {
        "id": "qyo-c4P7BkyW"
      },
      "execution_count": null,
      "outputs": []
    },
    {
      "cell_type": "markdown",
      "source": [
        "**Task 4.** Дан список клиентов, каждый клиент представлен словарем с полями: \"id\", \"имя\", \"возраст\", \"город\".\n",
        "```python\n",
        "[\n",
        "    {\"id\": 1, \"имя\": \"Анна\", \"возраст\": 25, \"город\": \"Берлин\"},\n",
        "    {\"id\": 2, \"имя\": \"Иван\", \"возраст\": 30, \"город\": \"Берлин\"},\n",
        "    {\"id\": 3, \"имя\": \"Ольга\", \"возраст\": 22, \"город\": \"Вена\"}\n",
        "]\n",
        "```\n",
        "Напишите скрипт, который формирует словарь, в котором ключи — города, а значения — клиенты (список) из этих городов."
      ],
      "metadata": {
        "id": "JhNeg7BzBlGt"
      }
    },
    {
      "cell_type": "code",
      "source": [],
      "metadata": {
        "id": "X59XZX-jCLrr"
      },
      "execution_count": null,
      "outputs": []
    },
    {
      "cell_type": "markdown",
      "source": [
        "**Task 5.** Дан список сотрудников, где каждый сотрудник представлен словарем с полями \"имя\", \"отдел\".\n",
        "```python\n",
        "[\n",
        "    {\"имя\": \"Анна\", \"отдел\": \"Маркетинг\"},\n",
        "    {\"имя\": \"Иван\", \"отдел\": \"Продажи\"},\n",
        "    {\"имя\": \"Ольга\", \"отдел\": \"Маркетинг\"}\n",
        "]\n",
        "```\n",
        "Создайте скрипт, который группирует сотрудников по отделам."
      ],
      "metadata": {
        "id": "RnX-gPnMCMcZ"
      }
    },
    {
      "cell_type": "code",
      "source": [],
      "metadata": {
        "id": "40MWE330Dybw"
      },
      "execution_count": null,
      "outputs": []
    },
    {
      "cell_type": "markdown",
      "source": [
        "**Task 6.** Дан словарь с данными по продажам, где ключи — дни месяца, а значения — сумма продаж. Найдите дни с самыми высокими отклонениями от среднего значения.\n",
        "```python\n",
        "{\n",
        "    1: 500, 2: 700, 3: 300, 4: 800, 5: 200\n",
        "}\n",
        "```"
      ],
      "metadata": {
        "id": "tQ572drkCjol"
      }
    },
    {
      "cell_type": "code",
      "source": [],
      "metadata": {
        "id": "wbouFQX-CjNi"
      },
      "execution_count": null,
      "outputs": []
    }
  ]
}