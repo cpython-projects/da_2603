{
  "nbformat": 4,
  "nbformat_minor": 0,
  "metadata": {
    "colab": {
      "provenance": [],
      "authorship_tag": "ABX9TyM6JHCWAHHB6aoNrjlN6moq",
      "include_colab_link": true
    },
    "kernelspec": {
      "name": "python3",
      "display_name": "Python 3"
    },
    "language_info": {
      "name": "python"
    }
  },
  "cells": [
    {
      "cell_type": "markdown",
      "metadata": {
        "id": "view-in-github",
        "colab_type": "text"
      },
      "source": [
        "<a href=\"https://colab.research.google.com/github/cpython-projects/da_2603/blob/main/lesson_07_hw.ipynb\" target=\"_parent\"><img src=\"https://colab.research.google.com/assets/colab-badge.svg\" alt=\"Open In Colab\"/></a>"
      ]
    },
    {
      "cell_type": "markdown",
      "source": [
        "**Task 1.** Напишите скрипт, который принимает строку текста и возвращает словарь, где ключами являются слова, а значениями – количество вхождений каждого слова в тексте."
      ],
      "metadata": {
        "id": "GB4BgNyc_70d"
      }
    },
    {
      "cell_type": "code",
      "execution_count": 2,
      "metadata": {
        "id": "qez0TvUs-y1T",
        "outputId": "608c2a0f-3544-4558-87b4-a80f06751f1c",
        "colab": {
          "base_uri": "https://localhost:8080/"
        }
      },
      "outputs": [
        {
          "output_type": "stream",
          "name": "stdout",
          "text": [
            "{'hello': 2, 'world': 2, 'python': 1}\n"
          ]
        }
      ],
      "source": [
        "from collections import Counter\n",
        "import string\n",
        "\n",
        "text = 'Hello world! Hello world! Python'.lower()\n",
        "\n",
        "for item in string.punctuation:\n",
        "    text = text.replace(item, ' ')\n",
        "\n",
        "res = dict(Counter(text.split()))\n",
        "print(res)"
      ]
    },
    {
      "cell_type": "markdown",
      "source": [
        "**Task 2.** Реализуй простой переводчик, который использует словарь для сохранения пар слов. Пользователь может вводить слово, а приложение возвращает его перевод. В этом случае словарь может использоваться для сохранения соответствий между словами в разных языках.\n",
        "Пример:\n",
        "```python\n",
        "translations = {\n",
        "     'hello': 'привет',\n",
        "     'goodbye': 'до свидания',\n",
        "     'cat': 'кот',\n",
        "     'dog': 'собака'\n",
        "}\n",
        "```"
      ],
      "metadata": {
        "id": "SYe8pwmdBg7y"
      }
    },
    {
      "cell_type": "code",
      "source": [
        "translations = {\n",
        "     'hello': 'привет',\n",
        "     'goodbye': 'до свидания',\n",
        "     'cat': 'кот',\n",
        "     'dog': 'собака'\n",
        "}\n",
        "\n",
        "word = input('Введите слово: ').lower().strip()\n",
        "print(translations.get(word, 'Unknown'))"
      ],
      "metadata": {
        "id": "x3XDzoEJBjIH",
        "outputId": "3fc817a6-05cf-4789-e58d-7472eea6eb6f",
        "colab": {
          "base_uri": "https://localhost:8080/"
        }
      },
      "execution_count": 4,
      "outputs": [
        {
          "output_type": "stream",
          "name": "stdout",
          "text": [
            "Введите слово: HELLO\n",
            "привет\n"
          ]
        }
      ]
    },
    {
      "cell_type": "markdown",
      "source": [
        "**Task 3.** Даны два списка: названия продуктов и их цены.\n",
        "```python\n",
        "products = [\"Яблоко\", \"Банан\", \"Груша\"]\n",
        "prices = [100, 80, 120]\n",
        "```\n",
        "Создайте словарь, где ключами будут названия продуктов, а значениями — их цены."
      ],
      "metadata": {
        "id": "JK-yy1yOBjjT"
      }
    },
    {
      "cell_type": "code",
      "source": [
        "products = [\"Яблоко\", \"Банан\", \"Груша\"]\n",
        "prices = [100, 80, 120]\n",
        "\n",
        "res = dict(zip(products, prices))\n",
        "print(res)"
      ],
      "metadata": {
        "id": "qyo-c4P7BkyW",
        "outputId": "4a9d4529-653e-4c95-94fd-954d6ed1904b",
        "colab": {
          "base_uri": "https://localhost:8080/"
        }
      },
      "execution_count": 8,
      "outputs": [
        {
          "output_type": "stream",
          "name": "stdout",
          "text": [
            "{'Яблоко': 100, 'Банан': 80, 'Груша': 120}\n"
          ]
        }
      ]
    },
    {
      "cell_type": "code",
      "source": [
        "for item in res:\n",
        "    print(item)"
      ],
      "metadata": {
        "id": "u9ftISSkSqBY",
        "outputId": "f2c7b0ef-6dba-4dc2-89ab-8c4cd62d3a33",
        "colab": {
          "base_uri": "https://localhost:8080/"
        }
      },
      "execution_count": 7,
      "outputs": [
        {
          "output_type": "stream",
          "name": "stdout",
          "text": [
            "('Яблоко', 100)\n",
            "('Банан', 80)\n",
            "('Груша', 120)\n"
          ]
        }
      ]
    },
    {
      "cell_type": "markdown",
      "source": [
        "*   map\n",
        "*   zip\n",
        "*   filter\n",
        "*   min\n",
        "*   max\n",
        "*   sum\n",
        "*   len\n",
        "*   all\n",
        "*   any"
      ],
      "metadata": {
        "id": "fO74UVAqTEBn"
      }
    },
    {
      "cell_type": "markdown",
      "source": [
        "**Task 4.** Дан список клиентов, каждый клиент представлен словарем с полями: \"id\", \"имя\", \"возраст\", \"город\".\n",
        "```python\n",
        "[\n",
        "    {\"id\": 1, \"имя\": \"Анна\", \"возраст\": 25, \"город\": \"Берлин\"},\n",
        "    {\"id\": 2, \"имя\": \"Иван\", \"возраст\": 30, \"город\": \"Берлин\"},\n",
        "    {\"id\": 3, \"имя\": \"Ольга\", \"возраст\": 22, \"город\": \"Вена\"}\n",
        "]\n",
        "```\n",
        "Напишите скрипт, который формирует словарь, в котором ключи — города, а значения — клиенты (список) из этих городов."
      ],
      "metadata": {
        "id": "JhNeg7BzBlGt"
      }
    },
    {
      "cell_type": "code",
      "source": [
        "from collections import defaultdict\n",
        "\n",
        "\n",
        "data = [\n",
        "    {\"id\": 1, \"имя\": \"Анна\", \"возраст\": 25, \"город\": \"Берлин\"},\n",
        "    {\"id\": 2, \"имя\": \"Иван\", \"возраст\": 30, \"город\": \"Берлин\"},\n",
        "    {\"id\": 3, \"имя\": \"Ольга\", \"возраст\": 22, \"город\": \"Вена\"}\n",
        "]\n",
        "\n",
        "\n",
        "res_data = defaultdict(list)\n",
        "\n",
        "for item in data:\n",
        "  city = item['город']\n",
        "  id, name, age = item['id'], item['имя'], item['возраст']\n",
        "  res_data[city].append((id, name, age))\n",
        "\n",
        "for key, value in res_data.items():\n",
        "  print(key, value)"
      ],
      "metadata": {
        "id": "X59XZX-jCLrr",
        "outputId": "1925b916-1391-4f01-82f3-191bc3468393",
        "colab": {
          "base_uri": "https://localhost:8080/"
        }
      },
      "execution_count": 10,
      "outputs": [
        {
          "output_type": "stream",
          "name": "stdout",
          "text": [
            "Берлин [(1, 'Анна', 25), (2, 'Иван', 30)]\n",
            "Вена [(3, 'Ольга', 22)]\n"
          ]
        }
      ]
    },
    {
      "cell_type": "markdown",
      "source": [
        "**Task 5.** Дан список сотрудников, где каждый сотрудник представлен словарем с полями \"имя\", \"отдел\".\n",
        "```python\n",
        "[\n",
        "    {\"имя\": \"Анна\", \"отдел\": \"Маркетинг\"},\n",
        "    {\"имя\": \"Иван\", \"отдел\": \"Продажи\"},\n",
        "    {\"имя\": \"Ольга\", \"отдел\": \"Маркетинг\"}\n",
        "]\n",
        "```\n",
        "Создайте скрипт, который группирует сотрудников по отделам."
      ],
      "metadata": {
        "id": "RnX-gPnMCMcZ"
      }
    },
    {
      "cell_type": "code",
      "source": [
        "from collections import defaultdict\n",
        "\n",
        "data = [\n",
        "    {\"имя\": \"Анна\", \"отдел\": \"Маркетинг\"},\n",
        "    {\"имя\": \"Иван\", \"отдел\": \"Продажи\"},\n",
        "    {\"имя\": \"Ольга\", \"отдел\": \"Маркетинг\"}\n",
        "]\n",
        "\n",
        "res = defaultdict(list)\n",
        "\n",
        "for item in data:\n",
        "  department = item['отдел']\n",
        "  name = item['имя']\n",
        "  res[department].append(name)\n",
        "\n",
        "for key, value in res.items():\n",
        "  print(key, value)"
      ],
      "metadata": {
        "id": "40MWE330Dybw",
        "outputId": "f7264a09-d385-4f68-d40d-f46797bc6b2d",
        "colab": {
          "base_uri": "https://localhost:8080/"
        }
      },
      "execution_count": 11,
      "outputs": [
        {
          "output_type": "stream",
          "name": "stdout",
          "text": [
            "Маркетинг ['Анна', 'Ольга']\n",
            "Продажи ['Иван']\n"
          ]
        }
      ]
    },
    {
      "cell_type": "markdown",
      "source": [
        "**Task 6.** Дан словарь с данными по продажам, где ключи — дни месяца, а значения — сумма продаж. Найдите дни с самыми высокими отклонениями от среднего значения.\n",
        "```python\n",
        "{\n",
        "    1: 500, 2: 700, 3: 300, 4: 800, 5: 200\n",
        "}\n",
        "```"
      ],
      "metadata": {
        "id": "tQ572drkCjol"
      }
    },
    {
      "cell_type": "code",
      "source": [
        "from inspect import isclass\n",
        "import math\n",
        "\n",
        "\n",
        "data = {\n",
        "    1: 500,\n",
        "    2: 700,\n",
        "    3: 300,\n",
        "    4: 800,\n",
        "    5: 200\n",
        "}\n",
        "\n",
        "avg = sum(data.values()) / len(data)\n",
        "\n",
        "res = {key: abs(value - avg) for key, value in data.items()}\n",
        "print(res)\n",
        "\n",
        "max_value = max(res.values())\n",
        "print(max_value)\n",
        "\n",
        "for key, value in res.items():\n",
        "  if math.isclose(value, max_value):\n",
        "    print(key)"
      ],
      "metadata": {
        "id": "wbouFQX-CjNi",
        "outputId": "acfb594d-837b-4006-8884-d0635796aa54",
        "colab": {
          "base_uri": "https://localhost:8080/"
        }
      },
      "execution_count": 14,
      "outputs": [
        {
          "output_type": "stream",
          "name": "stdout",
          "text": [
            "{1: 0.0, 2: 200.0, 3: 200.0, 4: 300.0, 5: 300.0}\n",
            "300.0\n",
            "4\n",
            "5\n"
          ]
        }
      ]
    }
  ]
}