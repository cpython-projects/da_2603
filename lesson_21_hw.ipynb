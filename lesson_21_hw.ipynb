{
  "nbformat": 4,
  "nbformat_minor": 0,
  "metadata": {
    "colab": {
      "provenance": [],
      "authorship_tag": "ABX9TyP7rdSUQGKXeWW4cYQ2cVMF",
      "include_colab_link": true
    },
    "kernelspec": {
      "name": "python3",
      "display_name": "Python 3"
    },
    "language_info": {
      "name": "python"
    }
  },
  "cells": [
    {
      "cell_type": "markdown",
      "metadata": {
        "id": "view-in-github",
        "colab_type": "text"
      },
      "source": [
        "<a href=\"https://colab.research.google.com/github/cpython-projects/da_2603/blob/main/lesson_21_hw.ipynb\" target=\"_parent\"><img src=\"https://colab.research.google.com/assets/colab-badge.svg\" alt=\"Open In Colab\"/></a>"
      ]
    },
    {
      "cell_type": "markdown",
      "source": [
        "## **Task. Спроектировать БД для интернет-магазина**\n",
        "\n",
        "**Сущности:**\n",
        "\n",
        "* Товары\n",
        "* Покупатели\n",
        "* Заказы\n",
        "* Категории товаров\n",
        "\n",
        "**Поля:**\n",
        "\n",
        "* Название товара\n",
        "* Категория\n",
        "* Цена\n",
        "* ФИО покупателя\n",
        "* Email покупателя\n",
        "* Дата заказа\n",
        "* Количество\n",
        "\n",
        "**Связи:**\n",
        "\n",
        "* Один товар может относиться к нескольким заказам (M\\:N через таблицу заказов)\n",
        "* Один заказ может содержать несколько товаров (M\\:N)\n",
        "* Один покупатель может оформить несколько заказов (1\\:N)\n",
        "\n",
        "**Требования:**\n",
        "\n",
        "* Привести к **3NF**\n",
        "* Написать **SQL-код для создания таблиц**\n",
        "\n",
        "---\n",
        "\n",
        "## 💡 Подсказки к нормализации (3NF)\n",
        "\n",
        "* **Категории** выносятся в отдельную таблицу.\n",
        "* Разбиваем M\\:N между **товарами** и **заказами** через таблицу `OrderItems`.\n",
        "* Покупатели отдельно, заказы отдельно.\n",
        "* Заказ — это акт покупки (дата, покупатель), состав — в `OrderItems`.\n",
        "\n",
        "---\n",
        "\n",
        "## 💾 SQL для создания таблиц\n",
        "\n",
        "```sql\n",
        "CREATE TABLE Categories (\n",
        "  ...\n",
        ");\n",
        "\n",
        "CREATE TABLE Products (\n",
        "    ...\n",
        ");\n",
        "\n",
        "CREATE TABLE Customers (\n",
        "    ...\n",
        ");\n",
        "\n",
        "CREATE TABLE Orders (\n",
        "    ...\n",
        ");\n",
        "\n",
        "CREATE TABLE OrderItems (\n",
        "    ...\n",
        ");\n",
        "```\n"
      ],
      "metadata": {
        "id": "hQ1W-veTK-VJ"
      }
    },
    {
      "cell_type": "code",
      "execution_count": null,
      "metadata": {
        "id": "4pmFXXmcK64P"
      },
      "outputs": [],
      "source": []
    }
  ]
}