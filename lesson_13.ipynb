{
  "nbformat": 4,
  "nbformat_minor": 0,
  "metadata": {
    "colab": {
      "provenance": [],
      "authorship_tag": "ABX9TyM/6kJM6sn7TDsNEUcFRr0+",
      "include_colab_link": true
    },
    "kernelspec": {
      "name": "python3",
      "display_name": "Python 3"
    },
    "language_info": {
      "name": "python"
    }
  },
  "cells": [
    {
      "cell_type": "markdown",
      "metadata": {
        "id": "view-in-github",
        "colab_type": "text"
      },
      "source": [
        "<a href=\"https://colab.research.google.com/github/cpython-projects/da_2603/blob/main/lesson_13.ipynb\" target=\"_parent\"><img src=\"https://colab.research.google.com/assets/colab-badge.svg\" alt=\"Open In Colab\"/></a>"
      ]
    },
    {
      "cell_type": "code",
      "execution_count": 13,
      "metadata": {
        "id": "GZy4hLe0mYFB"
      },
      "outputs": [],
      "source": [
        "class Student:\n",
        "  def __init__(self, first_name, last_name):\n",
        "    self.first_name = first_name\n",
        "    self.last_name = last_name\n",
        "\n",
        "  def email(self):\n",
        "    return f'{self.last_name}.{self.first_name}@example.com'\n",
        "\n",
        "  def __str__(self):\n",
        "    return f'{self.last_name} {self.first_name[0]}.'"
      ]
    },
    {
      "cell_type": "code",
      "source": [
        "st_1 = Student(\"John\", \"Doe\")\n",
        "st_2 = Student(\"Jack\", \"Luz\")\n",
        "\n",
        "\n",
        "print(st_1.first_name)\n",
        "print(st_2.first_name)\n",
        "\n",
        "\n",
        "print(st_1.email())"
      ],
      "metadata": {
        "colab": {
          "base_uri": "https://localhost:8080/"
        },
        "id": "MN0g1DnaoyLM",
        "outputId": "4374efb9-86fc-4627-95be-b5c9c38de899"
      },
      "execution_count": 15,
      "outputs": [
        {
          "output_type": "stream",
          "name": "stdout",
          "text": [
            "John\n",
            "Jack\n",
            "Doe.John@example.com\n"
          ]
        }
      ]
    },
    {
      "cell_type": "code",
      "source": [
        "st_1.__dict__"
      ],
      "metadata": {
        "colab": {
          "base_uri": "https://localhost:8080/"
        },
        "id": "hzo0uZAqrN_U",
        "outputId": "0fa94965-d5ae-4672-a519-b4a091fe4a50"
      },
      "execution_count": 10,
      "outputs": [
        {
          "output_type": "execute_result",
          "data": {
            "text/plain": [
              "{'first_name': 'John', 'last_name': 'Doe'}"
            ]
          },
          "metadata": {},
          "execution_count": 10
        }
      ]
    },
    {
      "cell_type": "code",
      "source": [
        "type(Student)"
      ],
      "metadata": {
        "colab": {
          "base_uri": "https://localhost:8080/"
        },
        "id": "80QYipozpKHa",
        "outputId": "6d239d54-5a7d-4836-aefe-cd8782c1fa90"
      },
      "execution_count": 3,
      "outputs": [
        {
          "output_type": "execute_result",
          "data": {
            "text/plain": [
              "type"
            ]
          },
          "metadata": {},
          "execution_count": 3
        }
      ]
    },
    {
      "cell_type": "code",
      "source": [
        "type(int)"
      ],
      "metadata": {
        "colab": {
          "base_uri": "https://localhost:8080/"
        },
        "id": "vNabmrzBpPh4",
        "outputId": "9bec64de-e6a0-4566-9e39-da1b1d9832c2"
      },
      "execution_count": 4,
      "outputs": [
        {
          "output_type": "execute_result",
          "data": {
            "text/plain": [
              "type"
            ]
          },
          "metadata": {},
          "execution_count": 4
        }
      ]
    },
    {
      "cell_type": "code",
      "source": [
        "x = int(5)\n",
        "print(x)"
      ],
      "metadata": {
        "colab": {
          "base_uri": "https://localhost:8080/"
        },
        "id": "2LXgeSkkpmCC",
        "outputId": "11944417-4682-4d8e-cab9-94f34f296589"
      },
      "execution_count": 5,
      "outputs": [
        {
          "output_type": "stream",
          "name": "stdout",
          "text": [
            "5\n"
          ]
        }
      ]
    },
    {
      "cell_type": "code",
      "source": [
        "type(st_1)"
      ],
      "metadata": {
        "colab": {
          "base_uri": "https://localhost:8080/",
          "height": 103
        },
        "id": "tZEgqMdFpygR",
        "outputId": "2b0d17ba-b9b2-4538-946a-0cba0fe00191"
      },
      "execution_count": 6,
      "outputs": [
        {
          "output_type": "execute_result",
          "data": {
            "text/plain": [
              "__main__.Student"
            ],
            "text/html": [
              "<div style=\"max-width:800px; border: 1px solid var(--colab-border-color);\"><style>\n",
              "      pre.function-repr-contents {\n",
              "        overflow-x: auto;\n",
              "        padding: 8px 12px;\n",
              "        max-height: 500px;\n",
              "      }\n",
              "\n",
              "      pre.function-repr-contents.function-repr-contents-collapsed {\n",
              "        cursor: pointer;\n",
              "        max-height: 100px;\n",
              "      }\n",
              "    </style>\n",
              "    <pre style=\"white-space: initial; background:\n",
              "         var(--colab-secondary-surface-color); padding: 8px 12px;\n",
              "         border-bottom: 1px solid var(--colab-border-color);\"><b>Student</b><br/>def __init__(first_name, last_name)</pre><pre class=\"function-repr-contents function-repr-contents-collapsed\" style=\"\"><a class=\"filepath\" style=\"display:none\" href=\"#\"></a>&lt;no docstring&gt;</pre></div>"
            ]
          },
          "metadata": {},
          "execution_count": 6
        }
      ]
    },
    {
      "cell_type": "code",
      "source": [
        "type(x)"
      ],
      "metadata": {
        "colab": {
          "base_uri": "https://localhost:8080/"
        },
        "id": "Bzq8u5CLp1Tq",
        "outputId": "9df292fc-ec0e-4c70-e5cd-e89835a52c0d"
      },
      "execution_count": 7,
      "outputs": [
        {
          "output_type": "execute_result",
          "data": {
            "text/plain": [
              "int"
            ]
          },
          "metadata": {},
          "execution_count": 7
        }
      ]
    },
    {
      "cell_type": "code",
      "source": [
        "x = 5\n",
        "print(x)"
      ],
      "metadata": {
        "colab": {
          "base_uri": "https://localhost:8080/"
        },
        "id": "6je-LrLLr68n",
        "outputId": "6c0be403-e23a-4995-a9d8-cef47237e06c"
      },
      "execution_count": 11,
      "outputs": [
        {
          "output_type": "stream",
          "name": "stdout",
          "text": [
            "5\n"
          ]
        }
      ]
    },
    {
      "cell_type": "code",
      "source": [
        "print(st_1, st_2)"
      ],
      "metadata": {
        "colab": {
          "base_uri": "https://localhost:8080/"
        },
        "id": "nvMWklAmr_Rq",
        "outputId": "d771e406-564d-4953-fc0e-ad95f3236595"
      },
      "execution_count": 17,
      "outputs": [
        {
          "output_type": "stream",
          "name": "stdout",
          "text": [
            "Doe J. Luz J.\n"
          ]
        }
      ]
    },
    {
      "cell_type": "code",
      "source": [
        "st_1.__str__()"
      ],
      "metadata": {
        "colab": {
          "base_uri": "https://localhost:8080/",
          "height": 35
        },
        "id": "s4xLhhp1siig",
        "outputId": "d3b48db9-a076-4472-9393-0971445c3af2"
      },
      "execution_count": 18,
      "outputs": [
        {
          "output_type": "execute_result",
          "data": {
            "text/plain": [
              "'Doe J.'"
            ],
            "application/vnd.google.colaboratory.intrinsic+json": {
              "type": "string"
            }
          },
          "metadata": {},
          "execution_count": 18
        }
      ]
    },
    {
      "cell_type": "code",
      "source": [
        "x = 5\n",
        "x.__str__()"
      ],
      "metadata": {
        "colab": {
          "base_uri": "https://localhost:8080/",
          "height": 35
        },
        "id": "kuhhOYXdsokE",
        "outputId": "6aabd152-e351-42b6-ab84-91864fbf0648"
      },
      "execution_count": 19,
      "outputs": [
        {
          "output_type": "execute_result",
          "data": {
            "text/plain": [
              "'5'"
            ],
            "application/vnd.google.colaboratory.intrinsic+json": {
              "type": "string"
            }
          },
          "metadata": {},
          "execution_count": 19
        }
      ]
    },
    {
      "cell_type": "code",
      "source": [
        "!pip install pandas"
      ],
      "metadata": {
        "colab": {
          "base_uri": "https://localhost:8080/"
        },
        "id": "VMvHIti1s64S",
        "outputId": "b8686ff2-8c5c-4950-c8fd-d0a4def71568"
      },
      "execution_count": 20,
      "outputs": [
        {
          "output_type": "stream",
          "name": "stdout",
          "text": [
            "Requirement already satisfied: pandas in /usr/local/lib/python3.11/dist-packages (2.2.2)\n",
            "Requirement already satisfied: numpy>=1.23.2 in /usr/local/lib/python3.11/dist-packages (from pandas) (2.0.2)\n",
            "Requirement already satisfied: python-dateutil>=2.8.2 in /usr/local/lib/python3.11/dist-packages (from pandas) (2.9.0.post0)\n",
            "Requirement already satisfied: pytz>=2020.1 in /usr/local/lib/python3.11/dist-packages (from pandas) (2025.2)\n",
            "Requirement already satisfied: tzdata>=2022.7 in /usr/local/lib/python3.11/dist-packages (from pandas) (2025.2)\n",
            "Requirement already satisfied: six>=1.5 in /usr/local/lib/python3.11/dist-packages (from python-dateutil>=2.8.2->pandas) (1.17.0)\n"
          ]
        }
      ]
    },
    {
      "cell_type": "code",
      "source": [
        "import pandas as pd\n",
        "df = pd.read_csv('data/students.csv') # DataFrame\n",
        "\n",
        "df['first_name'] # Serias"
      ],
      "metadata": {
        "id": "IvjERGYjs_95"
      },
      "execution_count": null,
      "outputs": []
    },
    {
      "cell_type": "code",
      "source": [
        "class Student:\n",
        "  def __init__(self, first_name: str, last_name: str):\n",
        "    self.first_name = first_name.strip().title()\n",
        "    self.last_name = last_name.strip().title()\n",
        "\n",
        "  def email(self):\n",
        "    return f'{self.last_name}.{self.first_name}@example.com'.lower()\n",
        "\n",
        "  def __str__(self):\n",
        "    return f'{self.last_name} {self.first_name[0]}.'\n",
        "\n",
        "\n",
        "class Group:\n",
        "  def __init__(self, name: str):\n",
        "    self.name = name\n",
        "    self.students = []\n",
        "\n",
        "  def add_student(self, student: Student):\n",
        "    if student not in self.students:\n",
        "      self.students.append(student)\n",
        "\n",
        "  def __str__(self):\n",
        "    students_str = '\\n'.join(map(str, self.students))\n",
        "    return f'{self.name}\\n{students_str}'\n",
        "\n",
        "  def __len__(self):\n",
        "    return len(self.students)"
      ],
      "metadata": {
        "id": "N3F-z0h3t1x8"
      },
      "execution_count": 31,
      "outputs": []
    },
    {
      "cell_type": "code",
      "source": [
        "st_1 = Student(\"John\", \"Doe\")\n",
        "st_2 = Student(\"Jack\", \"Luz\")\n",
        "st_3 = Student(\"Jane\", \"Rkfdm\")\n",
        "st_4 = Student(\"Alice\", \"Luz\")\n",
        "\n",
        "group = Group(\"Python\")\n",
        "group.add_student(st_1)\n",
        "group.add_student(st_2)\n",
        "group.add_student(st_3)\n",
        "group.add_student(st_4)\n",
        "\n",
        "print(group)"
      ],
      "metadata": {
        "colab": {
          "base_uri": "https://localhost:8080/"
        },
        "id": "ojChPvv_uDIO",
        "outputId": "fef4a2a3-109c-4050-911b-6a11e43faad1"
      },
      "execution_count": 32,
      "outputs": [
        {
          "output_type": "stream",
          "name": "stdout",
          "text": [
            "Python\n",
            "Doe J.\n",
            "Luz J.\n",
            "Rkfdm J.\n",
            "Luz A.\n"
          ]
        }
      ]
    },
    {
      "cell_type": "code",
      "source": [
        "len(group) # group.__len__()"
      ],
      "metadata": {
        "colab": {
          "base_uri": "https://localhost:8080/"
        },
        "id": "K9TJNqKxw8Lh",
        "outputId": "91686d72-da68-4b96-b4b2-651f2e966a84"
      },
      "execution_count": 33,
      "outputs": [
        {
          "output_type": "execute_result",
          "data": {
            "text/plain": [
              "4"
            ]
          },
          "metadata": {},
          "execution_count": 33
        }
      ]
    },
    {
      "cell_type": "code",
      "source": [
        "5 / 0"
      ],
      "metadata": {
        "colab": {
          "base_uri": "https://localhost:8080/",
          "height": 141
        },
        "id": "cPZLOq2w32rv",
        "outputId": "49b7b22c-dede-421d-d23e-6193676ed0dd"
      },
      "execution_count": 34,
      "outputs": [
        {
          "output_type": "error",
          "ename": "ZeroDivisionError",
          "evalue": "division by zero",
          "traceback": [
            "\u001b[0;31m---------------------------------------------------------------------------\u001b[0m",
            "\u001b[0;31mZeroDivisionError\u001b[0m                         Traceback (most recent call last)",
            "\u001b[0;32m<ipython-input-34-adafc2937013>\u001b[0m in \u001b[0;36m<cell line: 0>\u001b[0;34m()\u001b[0m\n\u001b[0;32m----> 1\u001b[0;31m \u001b[0;36m5\u001b[0m \u001b[0;34m/\u001b[0m \u001b[0;36m0\u001b[0m\u001b[0;34m\u001b[0m\u001b[0;34m\u001b[0m\u001b[0m\n\u001b[0m",
            "\u001b[0;31mZeroDivisionError\u001b[0m: division by zero"
          ]
        }
      ]
    },
    {
      "cell_type": "code",
      "source": [
        "!pip install pandas"
      ],
      "metadata": {
        "colab": {
          "base_uri": "https://localhost:8080/"
        },
        "id": "KmUp1Ac04fIl",
        "outputId": "4ff017d1-0b0f-4935-fd4c-e3f1d6d82e12"
      },
      "execution_count": 35,
      "outputs": [
        {
          "output_type": "stream",
          "name": "stdout",
          "text": [
            "Requirement already satisfied: pandas in /usr/local/lib/python3.11/dist-packages (2.2.2)\n",
            "Requirement already satisfied: numpy>=1.23.2 in /usr/local/lib/python3.11/dist-packages (from pandas) (2.0.2)\n",
            "Requirement already satisfied: python-dateutil>=2.8.2 in /usr/local/lib/python3.11/dist-packages (from pandas) (2.9.0.post0)\n",
            "Requirement already satisfied: pytz>=2020.1 in /usr/local/lib/python3.11/dist-packages (from pandas) (2025.2)\n",
            "Requirement already satisfied: tzdata>=2022.7 in /usr/local/lib/python3.11/dist-packages (from pandas) (2025.2)\n",
            "Requirement already satisfied: six>=1.5 in /usr/local/lib/python3.11/dist-packages (from python-dateutil>=2.8.2->pandas) (1.17.0)\n"
          ]
        }
      ]
    },
    {
      "cell_type": "code",
      "source": [
        "from google.colab import files\n",
        "uploaded = files.upload()"
      ],
      "metadata": {
        "colab": {
          "base_uri": "https://localhost:8080/",
          "height": 73
        },
        "id": "NoyGu_7k7c5F",
        "outputId": "c8e71287-ea1d-404c-fba4-358ab97f4951"
      },
      "execution_count": 42,
      "outputs": [
        {
          "output_type": "display_data",
          "data": {
            "text/plain": [
              "<IPython.core.display.HTML object>"
            ],
            "text/html": [
              "\n",
              "     <input type=\"file\" id=\"files-a1c66129-45f1-491f-b1dd-1c62eb85c70d\" name=\"files[]\" multiple disabled\n",
              "        style=\"border:none\" />\n",
              "     <output id=\"result-a1c66129-45f1-491f-b1dd-1c62eb85c70d\">\n",
              "      Upload widget is only available when the cell has been executed in the\n",
              "      current browser session. Please rerun this cell to enable.\n",
              "      </output>\n",
              "      <script>// Copyright 2017 Google LLC\n",
              "//\n",
              "// Licensed under the Apache License, Version 2.0 (the \"License\");\n",
              "// you may not use this file except in compliance with the License.\n",
              "// You may obtain a copy of the License at\n",
              "//\n",
              "//      http://www.apache.org/licenses/LICENSE-2.0\n",
              "//\n",
              "// Unless required by applicable law or agreed to in writing, software\n",
              "// distributed under the License is distributed on an \"AS IS\" BASIS,\n",
              "// WITHOUT WARRANTIES OR CONDITIONS OF ANY KIND, either express or implied.\n",
              "// See the License for the specific language governing permissions and\n",
              "// limitations under the License.\n",
              "\n",
              "/**\n",
              " * @fileoverview Helpers for google.colab Python module.\n",
              " */\n",
              "(function(scope) {\n",
              "function span(text, styleAttributes = {}) {\n",
              "  const element = document.createElement('span');\n",
              "  element.textContent = text;\n",
              "  for (const key of Object.keys(styleAttributes)) {\n",
              "    element.style[key] = styleAttributes[key];\n",
              "  }\n",
              "  return element;\n",
              "}\n",
              "\n",
              "// Max number of bytes which will be uploaded at a time.\n",
              "const MAX_PAYLOAD_SIZE = 100 * 1024;\n",
              "\n",
              "function _uploadFiles(inputId, outputId) {\n",
              "  const steps = uploadFilesStep(inputId, outputId);\n",
              "  const outputElement = document.getElementById(outputId);\n",
              "  // Cache steps on the outputElement to make it available for the next call\n",
              "  // to uploadFilesContinue from Python.\n",
              "  outputElement.steps = steps;\n",
              "\n",
              "  return _uploadFilesContinue(outputId);\n",
              "}\n",
              "\n",
              "// This is roughly an async generator (not supported in the browser yet),\n",
              "// where there are multiple asynchronous steps and the Python side is going\n",
              "// to poll for completion of each step.\n",
              "// This uses a Promise to block the python side on completion of each step,\n",
              "// then passes the result of the previous step as the input to the next step.\n",
              "function _uploadFilesContinue(outputId) {\n",
              "  const outputElement = document.getElementById(outputId);\n",
              "  const steps = outputElement.steps;\n",
              "\n",
              "  const next = steps.next(outputElement.lastPromiseValue);\n",
              "  return Promise.resolve(next.value.promise).then((value) => {\n",
              "    // Cache the last promise value to make it available to the next\n",
              "    // step of the generator.\n",
              "    outputElement.lastPromiseValue = value;\n",
              "    return next.value.response;\n",
              "  });\n",
              "}\n",
              "\n",
              "/**\n",
              " * Generator function which is called between each async step of the upload\n",
              " * process.\n",
              " * @param {string} inputId Element ID of the input file picker element.\n",
              " * @param {string} outputId Element ID of the output display.\n",
              " * @return {!Iterable<!Object>} Iterable of next steps.\n",
              " */\n",
              "function* uploadFilesStep(inputId, outputId) {\n",
              "  const inputElement = document.getElementById(inputId);\n",
              "  inputElement.disabled = false;\n",
              "\n",
              "  const outputElement = document.getElementById(outputId);\n",
              "  outputElement.innerHTML = '';\n",
              "\n",
              "  const pickedPromise = new Promise((resolve) => {\n",
              "    inputElement.addEventListener('change', (e) => {\n",
              "      resolve(e.target.files);\n",
              "    });\n",
              "  });\n",
              "\n",
              "  const cancel = document.createElement('button');\n",
              "  inputElement.parentElement.appendChild(cancel);\n",
              "  cancel.textContent = 'Cancel upload';\n",
              "  const cancelPromise = new Promise((resolve) => {\n",
              "    cancel.onclick = () => {\n",
              "      resolve(null);\n",
              "    };\n",
              "  });\n",
              "\n",
              "  // Wait for the user to pick the files.\n",
              "  const files = yield {\n",
              "    promise: Promise.race([pickedPromise, cancelPromise]),\n",
              "    response: {\n",
              "      action: 'starting',\n",
              "    }\n",
              "  };\n",
              "\n",
              "  cancel.remove();\n",
              "\n",
              "  // Disable the input element since further picks are not allowed.\n",
              "  inputElement.disabled = true;\n",
              "\n",
              "  if (!files) {\n",
              "    return {\n",
              "      response: {\n",
              "        action: 'complete',\n",
              "      }\n",
              "    };\n",
              "  }\n",
              "\n",
              "  for (const file of files) {\n",
              "    const li = document.createElement('li');\n",
              "    li.append(span(file.name, {fontWeight: 'bold'}));\n",
              "    li.append(span(\n",
              "        `(${file.type || 'n/a'}) - ${file.size} bytes, ` +\n",
              "        `last modified: ${\n",
              "            file.lastModifiedDate ? file.lastModifiedDate.toLocaleDateString() :\n",
              "                                    'n/a'} - `));\n",
              "    const percent = span('0% done');\n",
              "    li.appendChild(percent);\n",
              "\n",
              "    outputElement.appendChild(li);\n",
              "\n",
              "    const fileDataPromise = new Promise((resolve) => {\n",
              "      const reader = new FileReader();\n",
              "      reader.onload = (e) => {\n",
              "        resolve(e.target.result);\n",
              "      };\n",
              "      reader.readAsArrayBuffer(file);\n",
              "    });\n",
              "    // Wait for the data to be ready.\n",
              "    let fileData = yield {\n",
              "      promise: fileDataPromise,\n",
              "      response: {\n",
              "        action: 'continue',\n",
              "      }\n",
              "    };\n",
              "\n",
              "    // Use a chunked sending to avoid message size limits. See b/62115660.\n",
              "    let position = 0;\n",
              "    do {\n",
              "      const length = Math.min(fileData.byteLength - position, MAX_PAYLOAD_SIZE);\n",
              "      const chunk = new Uint8Array(fileData, position, length);\n",
              "      position += length;\n",
              "\n",
              "      const base64 = btoa(String.fromCharCode.apply(null, chunk));\n",
              "      yield {\n",
              "        response: {\n",
              "          action: 'append',\n",
              "          file: file.name,\n",
              "          data: base64,\n",
              "        },\n",
              "      };\n",
              "\n",
              "      let percentDone = fileData.byteLength === 0 ?\n",
              "          100 :\n",
              "          Math.round((position / fileData.byteLength) * 100);\n",
              "      percent.textContent = `${percentDone}% done`;\n",
              "\n",
              "    } while (position < fileData.byteLength);\n",
              "  }\n",
              "\n",
              "  // All done.\n",
              "  yield {\n",
              "    response: {\n",
              "      action: 'complete',\n",
              "    }\n",
              "  };\n",
              "}\n",
              "\n",
              "scope.google = scope.google || {};\n",
              "scope.google.colab = scope.google.colab || {};\n",
              "scope.google.colab._files = {\n",
              "  _uploadFiles,\n",
              "  _uploadFilesContinue,\n",
              "};\n",
              "})(self);\n",
              "</script> "
            ]
          },
          "metadata": {}
        },
        {
          "output_type": "stream",
          "name": "stdout",
          "text": [
            "Saving ecommerce_orders_2024_modified.csv to ecommerce_orders_2024_modified (1).csv\n"
          ]
        }
      ]
    },
    {
      "cell_type": "code",
      "source": [
        "import pandas as pd\n",
        "\n",
        "df = pd.read_csv('ecommerce_orders_2024_modified.csv', delimiter=',', encoding='utf-8') # DataFrame"
      ],
      "metadata": {
        "id": "iS1yg26G6YOG"
      },
      "execution_count": 48,
      "outputs": []
    },
    {
      "cell_type": "code",
      "source": [
        "df.head(10)"
      ],
      "metadata": {
        "colab": {
          "base_uri": "https://localhost:8080/",
          "height": 536
        },
        "id": "GE0qL9kg8tj7",
        "outputId": "b0d97c10-a3fb-4fc0-a48c-19bba8752af8"
      },
      "execution_count": 50,
      "outputs": [
        {
          "output_type": "execute_result",
          "data": {
            "text/plain": [
              "   order_date                              order_id                product  \\\n",
              "0  2024-09-24  10682d3c-2370-4cb6-8671-0264e33002db           Acer Swift 5   \n",
              "1  2024-11-13  cf48ccf7-d627-45c6-bda0-0a271bfe4fb3              Bose QC45   \n",
              "2  2024-05-08  ac46015e-906e-435a-894e-b0682265785a  Sennheiser Momentum 4   \n",
              "3  2024-03-28  36facbfd-a75e-4506-ae15-3c5559153000  Garmin Forerunner 265   \n",
              "4  2024-01-31  cf5b98ef-4969-4157-9214-67df55f2a360         MacBook Pro 16   \n",
              "5  2024-09-22  d1ed4e29-35fc-4d9d-86cc-c1125d38583b       Dyson V15 Detect   \n",
              "6  2024-08-10  b47edc15-7111-4f80-80b7-c77367872557       Sony Alpha a6400   \n",
              "7  2024-12-01  d172b045-8421-4067-89ec-4a6083588e02       Dyson V15 Detect   \n",
              "8  2024-07-14  cf78f176-876e-4ced-8331-f46db21a62e5      Asus ROG Zephyrus   \n",
              "9  2024-10-02  19f9b34e-3cf7-4682-af2f-97d79235b67e  Sennheiser Momentum 4   \n",
              "\n",
              "  category brand quantity    price  discount    total  \\\n",
              "0      NaN   NaN        3  1052.85       NaN   718.10   \n",
              "1      NaN   NaN        2   187.89       NaN   448.34   \n",
              "2      NaN   NaN        3   434.37       NaN   414.69   \n",
              "3      NaN   NaN        4   952.62       NaN   414.69   \n",
              "4      NaN   NaN        4  1917.90       NaN  1394.91   \n",
              "5      NaN   NaN        1   743.94       NaN   860.01   \n",
              "6      NaN   NaN        1  1865.48       NaN   339.32   \n",
              "7      NaN   NaN        2  2244.20       NaN   740.94   \n",
              "8      NaN   NaN        2  1422.38       NaN   599.69   \n",
              "9      NaN   NaN        2  2056.33       NaN    64.77   \n",
              "\n",
              "                            customer_id           country  \n",
              "0  e4c7a35c-ec48-4aeb-8952-0f2c4a7e6180  Saint Barthelemy  \n",
              "1  917e33e2-ce20-4beb-8d02-c7de45dbfd5a            Belize  \n",
              "2  fc89338c-1df9-48f7-9037-3e7bec498864            Israel  \n",
              "3  ab5c9f13-e1cd-4c57-884c-bc6f4b379aac         Lithuania  \n",
              "4  05285afa-0f5e-4b90-8f7c-31e549a03788        Uzbekistan  \n",
              "5  7a49adfd-aa11-4898-a140-88964e858b62             Congo  \n",
              "6  1ed6066e-7507-4fbc-a037-f93393675b44        Kazakhstan  \n",
              "7  854eed1d-4822-4441-b145-c3f42f9a1fbb           Bolivia  \n",
              "8  396fe412-896c-477b-96ca-1552e0d92f69  French Polynesia  \n",
              "9  e83c32d1-e172-49f0-aa06-8b27f8779633  Marshall Islands  "
            ],
            "text/html": [
              "\n",
              "  <div id=\"df-8061d555-ed4a-4d5c-894f-42f0f6848e1c\" class=\"colab-df-container\">\n",
              "    <div>\n",
              "<style scoped>\n",
              "    .dataframe tbody tr th:only-of-type {\n",
              "        vertical-align: middle;\n",
              "    }\n",
              "\n",
              "    .dataframe tbody tr th {\n",
              "        vertical-align: top;\n",
              "    }\n",
              "\n",
              "    .dataframe thead th {\n",
              "        text-align: right;\n",
              "    }\n",
              "</style>\n",
              "<table border=\"1\" class=\"dataframe\">\n",
              "  <thead>\n",
              "    <tr style=\"text-align: right;\">\n",
              "      <th></th>\n",
              "      <th>order_date</th>\n",
              "      <th>order_id</th>\n",
              "      <th>product</th>\n",
              "      <th>category</th>\n",
              "      <th>brand</th>\n",
              "      <th>quantity</th>\n",
              "      <th>price</th>\n",
              "      <th>discount</th>\n",
              "      <th>total</th>\n",
              "      <th>customer_id</th>\n",
              "      <th>country</th>\n",
              "    </tr>\n",
              "  </thead>\n",
              "  <tbody>\n",
              "    <tr>\n",
              "      <th>0</th>\n",
              "      <td>2024-09-24</td>\n",
              "      <td>10682d3c-2370-4cb6-8671-0264e33002db</td>\n",
              "      <td>Acer Swift 5</td>\n",
              "      <td>NaN</td>\n",
              "      <td>NaN</td>\n",
              "      <td>3</td>\n",
              "      <td>1052.85</td>\n",
              "      <td>NaN</td>\n",
              "      <td>718.10</td>\n",
              "      <td>e4c7a35c-ec48-4aeb-8952-0f2c4a7e6180</td>\n",
              "      <td>Saint Barthelemy</td>\n",
              "    </tr>\n",
              "    <tr>\n",
              "      <th>1</th>\n",
              "      <td>2024-11-13</td>\n",
              "      <td>cf48ccf7-d627-45c6-bda0-0a271bfe4fb3</td>\n",
              "      <td>Bose QC45</td>\n",
              "      <td>NaN</td>\n",
              "      <td>NaN</td>\n",
              "      <td>2</td>\n",
              "      <td>187.89</td>\n",
              "      <td>NaN</td>\n",
              "      <td>448.34</td>\n",
              "      <td>917e33e2-ce20-4beb-8d02-c7de45dbfd5a</td>\n",
              "      <td>Belize</td>\n",
              "    </tr>\n",
              "    <tr>\n",
              "      <th>2</th>\n",
              "      <td>2024-05-08</td>\n",
              "      <td>ac46015e-906e-435a-894e-b0682265785a</td>\n",
              "      <td>Sennheiser Momentum 4</td>\n",
              "      <td>NaN</td>\n",
              "      <td>NaN</td>\n",
              "      <td>3</td>\n",
              "      <td>434.37</td>\n",
              "      <td>NaN</td>\n",
              "      <td>414.69</td>\n",
              "      <td>fc89338c-1df9-48f7-9037-3e7bec498864</td>\n",
              "      <td>Israel</td>\n",
              "    </tr>\n",
              "    <tr>\n",
              "      <th>3</th>\n",
              "      <td>2024-03-28</td>\n",
              "      <td>36facbfd-a75e-4506-ae15-3c5559153000</td>\n",
              "      <td>Garmin Forerunner 265</td>\n",
              "      <td>NaN</td>\n",
              "      <td>NaN</td>\n",
              "      <td>4</td>\n",
              "      <td>952.62</td>\n",
              "      <td>NaN</td>\n",
              "      <td>414.69</td>\n",
              "      <td>ab5c9f13-e1cd-4c57-884c-bc6f4b379aac</td>\n",
              "      <td>Lithuania</td>\n",
              "    </tr>\n",
              "    <tr>\n",
              "      <th>4</th>\n",
              "      <td>2024-01-31</td>\n",
              "      <td>cf5b98ef-4969-4157-9214-67df55f2a360</td>\n",
              "      <td>MacBook Pro 16</td>\n",
              "      <td>NaN</td>\n",
              "      <td>NaN</td>\n",
              "      <td>4</td>\n",
              "      <td>1917.90</td>\n",
              "      <td>NaN</td>\n",
              "      <td>1394.91</td>\n",
              "      <td>05285afa-0f5e-4b90-8f7c-31e549a03788</td>\n",
              "      <td>Uzbekistan</td>\n",
              "    </tr>\n",
              "    <tr>\n",
              "      <th>5</th>\n",
              "      <td>2024-09-22</td>\n",
              "      <td>d1ed4e29-35fc-4d9d-86cc-c1125d38583b</td>\n",
              "      <td>Dyson V15 Detect</td>\n",
              "      <td>NaN</td>\n",
              "      <td>NaN</td>\n",
              "      <td>1</td>\n",
              "      <td>743.94</td>\n",
              "      <td>NaN</td>\n",
              "      <td>860.01</td>\n",
              "      <td>7a49adfd-aa11-4898-a140-88964e858b62</td>\n",
              "      <td>Congo</td>\n",
              "    </tr>\n",
              "    <tr>\n",
              "      <th>6</th>\n",
              "      <td>2024-08-10</td>\n",
              "      <td>b47edc15-7111-4f80-80b7-c77367872557</td>\n",
              "      <td>Sony Alpha a6400</td>\n",
              "      <td>NaN</td>\n",
              "      <td>NaN</td>\n",
              "      <td>1</td>\n",
              "      <td>1865.48</td>\n",
              "      <td>NaN</td>\n",
              "      <td>339.32</td>\n",
              "      <td>1ed6066e-7507-4fbc-a037-f93393675b44</td>\n",
              "      <td>Kazakhstan</td>\n",
              "    </tr>\n",
              "    <tr>\n",
              "      <th>7</th>\n",
              "      <td>2024-12-01</td>\n",
              "      <td>d172b045-8421-4067-89ec-4a6083588e02</td>\n",
              "      <td>Dyson V15 Detect</td>\n",
              "      <td>NaN</td>\n",
              "      <td>NaN</td>\n",
              "      <td>2</td>\n",
              "      <td>2244.20</td>\n",
              "      <td>NaN</td>\n",
              "      <td>740.94</td>\n",
              "      <td>854eed1d-4822-4441-b145-c3f42f9a1fbb</td>\n",
              "      <td>Bolivia</td>\n",
              "    </tr>\n",
              "    <tr>\n",
              "      <th>8</th>\n",
              "      <td>2024-07-14</td>\n",
              "      <td>cf78f176-876e-4ced-8331-f46db21a62e5</td>\n",
              "      <td>Asus ROG Zephyrus</td>\n",
              "      <td>NaN</td>\n",
              "      <td>NaN</td>\n",
              "      <td>2</td>\n",
              "      <td>1422.38</td>\n",
              "      <td>NaN</td>\n",
              "      <td>599.69</td>\n",
              "      <td>396fe412-896c-477b-96ca-1552e0d92f69</td>\n",
              "      <td>French Polynesia</td>\n",
              "    </tr>\n",
              "    <tr>\n",
              "      <th>9</th>\n",
              "      <td>2024-10-02</td>\n",
              "      <td>19f9b34e-3cf7-4682-af2f-97d79235b67e</td>\n",
              "      <td>Sennheiser Momentum 4</td>\n",
              "      <td>NaN</td>\n",
              "      <td>NaN</td>\n",
              "      <td>2</td>\n",
              "      <td>2056.33</td>\n",
              "      <td>NaN</td>\n",
              "      <td>64.77</td>\n",
              "      <td>e83c32d1-e172-49f0-aa06-8b27f8779633</td>\n",
              "      <td>Marshall Islands</td>\n",
              "    </tr>\n",
              "  </tbody>\n",
              "</table>\n",
              "</div>\n",
              "    <div class=\"colab-df-buttons\">\n",
              "\n",
              "  <div class=\"colab-df-container\">\n",
              "    <button class=\"colab-df-convert\" onclick=\"convertToInteractive('df-8061d555-ed4a-4d5c-894f-42f0f6848e1c')\"\n",
              "            title=\"Convert this dataframe to an interactive table.\"\n",
              "            style=\"display:none;\">\n",
              "\n",
              "  <svg xmlns=\"http://www.w3.org/2000/svg\" height=\"24px\" viewBox=\"0 -960 960 960\">\n",
              "    <path d=\"M120-120v-720h720v720H120Zm60-500h600v-160H180v160Zm220 220h160v-160H400v160Zm0 220h160v-160H400v160ZM180-400h160v-160H180v160Zm440 0h160v-160H620v160ZM180-180h160v-160H180v160Zm440 0h160v-160H620v160Z\"/>\n",
              "  </svg>\n",
              "    </button>\n",
              "\n",
              "  <style>\n",
              "    .colab-df-container {\n",
              "      display:flex;\n",
              "      gap: 12px;\n",
              "    }\n",
              "\n",
              "    .colab-df-convert {\n",
              "      background-color: #E8F0FE;\n",
              "      border: none;\n",
              "      border-radius: 50%;\n",
              "      cursor: pointer;\n",
              "      display: none;\n",
              "      fill: #1967D2;\n",
              "      height: 32px;\n",
              "      padding: 0 0 0 0;\n",
              "      width: 32px;\n",
              "    }\n",
              "\n",
              "    .colab-df-convert:hover {\n",
              "      background-color: #E2EBFA;\n",
              "      box-shadow: 0px 1px 2px rgba(60, 64, 67, 0.3), 0px 1px 3px 1px rgba(60, 64, 67, 0.15);\n",
              "      fill: #174EA6;\n",
              "    }\n",
              "\n",
              "    .colab-df-buttons div {\n",
              "      margin-bottom: 4px;\n",
              "    }\n",
              "\n",
              "    [theme=dark] .colab-df-convert {\n",
              "      background-color: #3B4455;\n",
              "      fill: #D2E3FC;\n",
              "    }\n",
              "\n",
              "    [theme=dark] .colab-df-convert:hover {\n",
              "      background-color: #434B5C;\n",
              "      box-shadow: 0px 1px 3px 1px rgba(0, 0, 0, 0.15);\n",
              "      filter: drop-shadow(0px 1px 2px rgba(0, 0, 0, 0.3));\n",
              "      fill: #FFFFFF;\n",
              "    }\n",
              "  </style>\n",
              "\n",
              "    <script>\n",
              "      const buttonEl =\n",
              "        document.querySelector('#df-8061d555-ed4a-4d5c-894f-42f0f6848e1c button.colab-df-convert');\n",
              "      buttonEl.style.display =\n",
              "        google.colab.kernel.accessAllowed ? 'block' : 'none';\n",
              "\n",
              "      async function convertToInteractive(key) {\n",
              "        const element = document.querySelector('#df-8061d555-ed4a-4d5c-894f-42f0f6848e1c');\n",
              "        const dataTable =\n",
              "          await google.colab.kernel.invokeFunction('convertToInteractive',\n",
              "                                                    [key], {});\n",
              "        if (!dataTable) return;\n",
              "\n",
              "        const docLinkHtml = 'Like what you see? Visit the ' +\n",
              "          '<a target=\"_blank\" href=https://colab.research.google.com/notebooks/data_table.ipynb>data table notebook</a>'\n",
              "          + ' to learn more about interactive tables.';\n",
              "        element.innerHTML = '';\n",
              "        dataTable['output_type'] = 'display_data';\n",
              "        await google.colab.output.renderOutput(dataTable, element);\n",
              "        const docLink = document.createElement('div');\n",
              "        docLink.innerHTML = docLinkHtml;\n",
              "        element.appendChild(docLink);\n",
              "      }\n",
              "    </script>\n",
              "  </div>\n",
              "\n",
              "\n",
              "    <div id=\"df-0f777905-0c84-4026-9dc0-2eed2d4d7a5c\">\n",
              "      <button class=\"colab-df-quickchart\" onclick=\"quickchart('df-0f777905-0c84-4026-9dc0-2eed2d4d7a5c')\"\n",
              "                title=\"Suggest charts\"\n",
              "                style=\"display:none;\">\n",
              "\n",
              "<svg xmlns=\"http://www.w3.org/2000/svg\" height=\"24px\"viewBox=\"0 0 24 24\"\n",
              "     width=\"24px\">\n",
              "    <g>\n",
              "        <path d=\"M19 3H5c-1.1 0-2 .9-2 2v14c0 1.1.9 2 2 2h14c1.1 0 2-.9 2-2V5c0-1.1-.9-2-2-2zM9 17H7v-7h2v7zm4 0h-2V7h2v10zm4 0h-2v-4h2v4z\"/>\n",
              "    </g>\n",
              "</svg>\n",
              "      </button>\n",
              "\n",
              "<style>\n",
              "  .colab-df-quickchart {\n",
              "      --bg-color: #E8F0FE;\n",
              "      --fill-color: #1967D2;\n",
              "      --hover-bg-color: #E2EBFA;\n",
              "      --hover-fill-color: #174EA6;\n",
              "      --disabled-fill-color: #AAA;\n",
              "      --disabled-bg-color: #DDD;\n",
              "  }\n",
              "\n",
              "  [theme=dark] .colab-df-quickchart {\n",
              "      --bg-color: #3B4455;\n",
              "      --fill-color: #D2E3FC;\n",
              "      --hover-bg-color: #434B5C;\n",
              "      --hover-fill-color: #FFFFFF;\n",
              "      --disabled-bg-color: #3B4455;\n",
              "      --disabled-fill-color: #666;\n",
              "  }\n",
              "\n",
              "  .colab-df-quickchart {\n",
              "    background-color: var(--bg-color);\n",
              "    border: none;\n",
              "    border-radius: 50%;\n",
              "    cursor: pointer;\n",
              "    display: none;\n",
              "    fill: var(--fill-color);\n",
              "    height: 32px;\n",
              "    padding: 0;\n",
              "    width: 32px;\n",
              "  }\n",
              "\n",
              "  .colab-df-quickchart:hover {\n",
              "    background-color: var(--hover-bg-color);\n",
              "    box-shadow: 0 1px 2px rgba(60, 64, 67, 0.3), 0 1px 3px 1px rgba(60, 64, 67, 0.15);\n",
              "    fill: var(--button-hover-fill-color);\n",
              "  }\n",
              "\n",
              "  .colab-df-quickchart-complete:disabled,\n",
              "  .colab-df-quickchart-complete:disabled:hover {\n",
              "    background-color: var(--disabled-bg-color);\n",
              "    fill: var(--disabled-fill-color);\n",
              "    box-shadow: none;\n",
              "  }\n",
              "\n",
              "  .colab-df-spinner {\n",
              "    border: 2px solid var(--fill-color);\n",
              "    border-color: transparent;\n",
              "    border-bottom-color: var(--fill-color);\n",
              "    animation:\n",
              "      spin 1s steps(1) infinite;\n",
              "  }\n",
              "\n",
              "  @keyframes spin {\n",
              "    0% {\n",
              "      border-color: transparent;\n",
              "      border-bottom-color: var(--fill-color);\n",
              "      border-left-color: var(--fill-color);\n",
              "    }\n",
              "    20% {\n",
              "      border-color: transparent;\n",
              "      border-left-color: var(--fill-color);\n",
              "      border-top-color: var(--fill-color);\n",
              "    }\n",
              "    30% {\n",
              "      border-color: transparent;\n",
              "      border-left-color: var(--fill-color);\n",
              "      border-top-color: var(--fill-color);\n",
              "      border-right-color: var(--fill-color);\n",
              "    }\n",
              "    40% {\n",
              "      border-color: transparent;\n",
              "      border-right-color: var(--fill-color);\n",
              "      border-top-color: var(--fill-color);\n",
              "    }\n",
              "    60% {\n",
              "      border-color: transparent;\n",
              "      border-right-color: var(--fill-color);\n",
              "    }\n",
              "    80% {\n",
              "      border-color: transparent;\n",
              "      border-right-color: var(--fill-color);\n",
              "      border-bottom-color: var(--fill-color);\n",
              "    }\n",
              "    90% {\n",
              "      border-color: transparent;\n",
              "      border-bottom-color: var(--fill-color);\n",
              "    }\n",
              "  }\n",
              "</style>\n",
              "\n",
              "      <script>\n",
              "        async function quickchart(key) {\n",
              "          const quickchartButtonEl =\n",
              "            document.querySelector('#' + key + ' button');\n",
              "          quickchartButtonEl.disabled = true;  // To prevent multiple clicks.\n",
              "          quickchartButtonEl.classList.add('colab-df-spinner');\n",
              "          try {\n",
              "            const charts = await google.colab.kernel.invokeFunction(\n",
              "                'suggestCharts', [key], {});\n",
              "          } catch (error) {\n",
              "            console.error('Error during call to suggestCharts:', error);\n",
              "          }\n",
              "          quickchartButtonEl.classList.remove('colab-df-spinner');\n",
              "          quickchartButtonEl.classList.add('colab-df-quickchart-complete');\n",
              "        }\n",
              "        (() => {\n",
              "          let quickchartButtonEl =\n",
              "            document.querySelector('#df-0f777905-0c84-4026-9dc0-2eed2d4d7a5c button');\n",
              "          quickchartButtonEl.style.display =\n",
              "            google.colab.kernel.accessAllowed ? 'block' : 'none';\n",
              "        })();\n",
              "      </script>\n",
              "    </div>\n",
              "\n",
              "    </div>\n",
              "  </div>\n"
            ],
            "application/vnd.google.colaboratory.intrinsic+json": {
              "type": "dataframe",
              "variable_name": "df",
              "summary": "{\n  \"name\": \"df\",\n  \"rows\": 50500,\n  \"fields\": [\n    {\n      \"column\": \"order_date\",\n      \"properties\": {\n        \"dtype\": \"object\",\n        \"num_unique_values\": 365,\n        \"samples\": [\n          \"2024-11-22\",\n          \"2024-10-09\",\n          \"2024-11-11\"\n        ],\n        \"semantic_type\": \"\",\n        \"description\": \"\"\n      }\n    },\n    {\n      \"column\": \"order_id\",\n      \"properties\": {\n        \"dtype\": \"string\",\n        \"num_unique_values\": 50000,\n        \"samples\": [\n          \"9be04290-e8e6-4262-91ae-274a0377fc83\",\n          \"d7eb6ba2-069f-4581-ad53-afb7664ba95c\",\n          \"9e01f0bf-fe34-4927-862f-6771f0345a55\"\n        ],\n        \"semantic_type\": \"\",\n        \"description\": \"\"\n      }\n    },\n    {\n      \"column\": \"product\",\n      \"properties\": {\n        \"dtype\": \"category\",\n        \"num_unique_values\": 43,\n        \"samples\": [\n          \"OnePlus 11\",\n          \"Beats Studio Pro\",\n          \"Steam Deck\"\n        ],\n        \"semantic_type\": \"\",\n        \"description\": \"\"\n      }\n    },\n    {\n      \"column\": \"category\",\n      \"properties\": {\n        \"dtype\": \"category\",\n        \"num_unique_values\": 9,\n        \"samples\": [\n          \"Cameras\",\n          \"Smartphones\",\n          \"Laptops\"\n        ],\n        \"semantic_type\": \"\",\n        \"description\": \"\"\n      }\n    },\n    {\n      \"column\": \"brand\",\n      \"properties\": {\n        \"dtype\": \"category\",\n        \"num_unique_values\": 28,\n        \"samples\": [\n          \"iRobot\",\n          \"Dell\",\n          \"Samsung\"\n        ],\n        \"semantic_type\": \"\",\n        \"description\": \"\"\n      }\n    },\n    {\n      \"column\": \"quantity\",\n      \"properties\": {\n        \"dtype\": \"category\",\n        \"num_unique_values\": 11,\n        \"samples\": [\n          \"7\",\n          \"3\",\n          \"9\"\n        ],\n        \"semantic_type\": \"\",\n        \"description\": \"\"\n      }\n    },\n    {\n      \"column\": \"price\",\n      \"properties\": {\n        \"dtype\": \"number\",\n        \"std\": 706.1868329685954,\n        \"min\": 50.0,\n        \"max\": 2499.92,\n        \"num_unique_values\": 45028,\n        \"samples\": [\n          477.74,\n          373.52,\n          767.32\n        ],\n        \"semantic_type\": \"\",\n        \"description\": \"\"\n      }\n    },\n    {\n      \"column\": \"discount\",\n      \"properties\": {\n        \"dtype\": \"number\",\n        \"std\": 0.07444532172619307,\n        \"min\": 0.0,\n        \"max\": 0.2,\n        \"num_unique_values\": 5,\n        \"samples\": [\n          0.15,\n          0.1,\n          0.05\n        ],\n        \"semantic_type\": \"\",\n        \"description\": \"\"\n      }\n    },\n    {\n      \"column\": \"total\",\n      \"properties\": {\n        \"dtype\": \"number\",\n        \"std\": 424.77839349334084,\n        \"min\": 1.66,\n        \"max\": 4108.4,\n        \"num_unique_values\": 41382,\n        \"samples\": [\n          249.16,\n          853.4,\n          401.25\n        ],\n        \"semantic_type\": \"\",\n        \"description\": \"\"\n      }\n    },\n    {\n      \"column\": \"customer_id\",\n      \"properties\": {\n        \"dtype\": \"string\",\n        \"num_unique_values\": 50000,\n        \"samples\": [\n          \"e03c6877-3bd8-41fe-9fe2-ea69b4985971\",\n          \"0d4bad1d-6217-4f6f-9458-ed4ada9df9e4\",\n          \"0ef88dd6-9fb3-413f-9a3f-f1b8c28bb48d\"\n        ],\n        \"semantic_type\": \"\",\n        \"description\": \"\"\n      }\n    },\n    {\n      \"column\": \"country\",\n      \"properties\": {\n        \"dtype\": \"category\",\n        \"num_unique_values\": 243,\n        \"samples\": [\n          \"Lebanon\",\n          \"Kazakhstan\",\n          \"Germany\"\n        ],\n        \"semantic_type\": \"\",\n        \"description\": \"\"\n      }\n    }\n  ]\n}"
            }
          },
          "metadata": {},
          "execution_count": 50
        }
      ]
    },
    {
      "cell_type": "code",
      "source": [
        "df.tail(10)"
      ],
      "metadata": {
        "colab": {
          "base_uri": "https://localhost:8080/",
          "height": 536
        },
        "id": "ycfcv925-Pe9",
        "outputId": "11c49c9d-fe83-4853-c79e-2240171671b6"
      },
      "execution_count": 52,
      "outputs": [
        {
          "output_type": "execute_result",
          "data": {
            "text/plain": [
              "       order_date                              order_id  \\\n",
              "50490  2024-05-30  83e33128-ea6b-414b-b57c-cf0e12ab3d5f   \n",
              "50491  2024-10-06  39f37bc4-ddec-40e2-9f68-e9dd00257ca8   \n",
              "50492  2024-02-22  18271615-40d2-4668-927c-4161b78dae46   \n",
              "50493  2024-05-30  e0703ed6-fe00-4a45-8a64-539faa2ef045   \n",
              "50494  2024-02-15  a20cdfaa-a6e2-480a-9818-67a61e84729d   \n",
              "50495  2024-04-03  a39c3b5e-40fb-4367-995a-af361aa71a9e   \n",
              "50496  2024-11-29  496054fa-02a9-4715-bcbb-20343f6f8dc2   \n",
              "50497  2024-10-15  635c662f-a65b-4f11-bc4d-78c8923c26bc   \n",
              "50498  2024-06-25  121eede3-377f-4bd0-bd36-bf6e452e81db   \n",
              "50499  2024-10-11  85a2af6a-aea4-43d5-b685-f1edc0a0c632   \n",
              "\n",
              "                      product     category       brand quantity    price  \\\n",
              "50490              OnePlus 11  Smartphones     OnePlus        2   742.22   \n",
              "50491          Lenovo Tab P12      Tablets      Lenovo        2   592.20   \n",
              "50492                 Pixel 8  Smartphones      Google        2  2144.74   \n",
              "50493        Motorola Edge 40  Smartphones    Motorola        2   929.13   \n",
              "50494           Xiaomi 13 Pro  Smartphones      Xiaomi        3   818.00   \n",
              "50495           Xiaomi 13 Pro  Smartphones      Xiaomi        4  1911.49   \n",
              "50496        Xiaomi Mi Band 8    Wearables      Xiaomi        4  1304.49   \n",
              "50497              Galaxy S23  Smartphones     Samsung        4   552.37   \n",
              "50498                 Pixel 8  Smartphones      Google        2  1339.84   \n",
              "50499  KitchenAid Stand Mixer      Kitchen  KitchenAid        4  1202.89   \n",
              "\n",
              "       discount    total                           customer_id  \\\n",
              "50490      0.00   909.55  96106e8b-2bdb-444e-938e-b981e1ba39eb   \n",
              "50491      0.10   191.14  3165e3fe-f39f-4c4e-861f-8e58388eb3e1   \n",
              "50492      0.00   974.52  061a1a31-6c0d-4425-96dc-e45087dcfc62   \n",
              "50493      0.20   831.59  83de4b90-587f-4f87-b771-953bc5b27462   \n",
              "50494      0.20   438.90  8309d6fb-2cf0-4e0e-9eb8-7ab20efb098e   \n",
              "50495      0.15   112.82  cbf36771-d27d-4fac-89aa-231a25491084   \n",
              "50496      0.20  1010.95  6b1bab61-c8c8-4f38-804c-a8d97406fe8c   \n",
              "50497      0.05   647.30  bca7fa51-9960-4336-ac16-c736d4db23d8   \n",
              "50498      0.20   510.25  3bea913e-f893-4983-a066-77a5b5cad721   \n",
              "50499      0.20   612.09  2dbc05f9-268d-4c12-88d1-28a42e53e528   \n",
              "\n",
              "                                    country  \n",
              "50490                             Sri Lanka  \n",
              "50491                               Estonia  \n",
              "50492                British Virgin Islands  \n",
              "50493                               Bahrain  \n",
              "50494                              Bulgaria  \n",
              "50495                               Croatia  \n",
              "50496                         Cote d'Ivoire  \n",
              "50497  United States Minor Outlying Islands  \n",
              "50498                                  Niue  \n",
              "50499                         Cote d'Ivoire  "
            ],
            "text/html": [
              "\n",
              "  <div id=\"df-3e883164-fa59-4a93-9329-4d6a73c6fa8a\" class=\"colab-df-container\">\n",
              "    <div>\n",
              "<style scoped>\n",
              "    .dataframe tbody tr th:only-of-type {\n",
              "        vertical-align: middle;\n",
              "    }\n",
              "\n",
              "    .dataframe tbody tr th {\n",
              "        vertical-align: top;\n",
              "    }\n",
              "\n",
              "    .dataframe thead th {\n",
              "        text-align: right;\n",
              "    }\n",
              "</style>\n",
              "<table border=\"1\" class=\"dataframe\">\n",
              "  <thead>\n",
              "    <tr style=\"text-align: right;\">\n",
              "      <th></th>\n",
              "      <th>order_date</th>\n",
              "      <th>order_id</th>\n",
              "      <th>product</th>\n",
              "      <th>category</th>\n",
              "      <th>brand</th>\n",
              "      <th>quantity</th>\n",
              "      <th>price</th>\n",
              "      <th>discount</th>\n",
              "      <th>total</th>\n",
              "      <th>customer_id</th>\n",
              "      <th>country</th>\n",
              "    </tr>\n",
              "  </thead>\n",
              "  <tbody>\n",
              "    <tr>\n",
              "      <th>50490</th>\n",
              "      <td>2024-05-30</td>\n",
              "      <td>83e33128-ea6b-414b-b57c-cf0e12ab3d5f</td>\n",
              "      <td>OnePlus 11</td>\n",
              "      <td>Smartphones</td>\n",
              "      <td>OnePlus</td>\n",
              "      <td>2</td>\n",
              "      <td>742.22</td>\n",
              "      <td>0.00</td>\n",
              "      <td>909.55</td>\n",
              "      <td>96106e8b-2bdb-444e-938e-b981e1ba39eb</td>\n",
              "      <td>Sri Lanka</td>\n",
              "    </tr>\n",
              "    <tr>\n",
              "      <th>50491</th>\n",
              "      <td>2024-10-06</td>\n",
              "      <td>39f37bc4-ddec-40e2-9f68-e9dd00257ca8</td>\n",
              "      <td>Lenovo Tab P12</td>\n",
              "      <td>Tablets</td>\n",
              "      <td>Lenovo</td>\n",
              "      <td>2</td>\n",
              "      <td>592.20</td>\n",
              "      <td>0.10</td>\n",
              "      <td>191.14</td>\n",
              "      <td>3165e3fe-f39f-4c4e-861f-8e58388eb3e1</td>\n",
              "      <td>Estonia</td>\n",
              "    </tr>\n",
              "    <tr>\n",
              "      <th>50492</th>\n",
              "      <td>2024-02-22</td>\n",
              "      <td>18271615-40d2-4668-927c-4161b78dae46</td>\n",
              "      <td>Pixel 8</td>\n",
              "      <td>Smartphones</td>\n",
              "      <td>Google</td>\n",
              "      <td>2</td>\n",
              "      <td>2144.74</td>\n",
              "      <td>0.00</td>\n",
              "      <td>974.52</td>\n",
              "      <td>061a1a31-6c0d-4425-96dc-e45087dcfc62</td>\n",
              "      <td>British Virgin Islands</td>\n",
              "    </tr>\n",
              "    <tr>\n",
              "      <th>50493</th>\n",
              "      <td>2024-05-30</td>\n",
              "      <td>e0703ed6-fe00-4a45-8a64-539faa2ef045</td>\n",
              "      <td>Motorola Edge 40</td>\n",
              "      <td>Smartphones</td>\n",
              "      <td>Motorola</td>\n",
              "      <td>2</td>\n",
              "      <td>929.13</td>\n",
              "      <td>0.20</td>\n",
              "      <td>831.59</td>\n",
              "      <td>83de4b90-587f-4f87-b771-953bc5b27462</td>\n",
              "      <td>Bahrain</td>\n",
              "    </tr>\n",
              "    <tr>\n",
              "      <th>50494</th>\n",
              "      <td>2024-02-15</td>\n",
              "      <td>a20cdfaa-a6e2-480a-9818-67a61e84729d</td>\n",
              "      <td>Xiaomi 13 Pro</td>\n",
              "      <td>Smartphones</td>\n",
              "      <td>Xiaomi</td>\n",
              "      <td>3</td>\n",
              "      <td>818.00</td>\n",
              "      <td>0.20</td>\n",
              "      <td>438.90</td>\n",
              "      <td>8309d6fb-2cf0-4e0e-9eb8-7ab20efb098e</td>\n",
              "      <td>Bulgaria</td>\n",
              "    </tr>\n",
              "    <tr>\n",
              "      <th>50495</th>\n",
              "      <td>2024-04-03</td>\n",
              "      <td>a39c3b5e-40fb-4367-995a-af361aa71a9e</td>\n",
              "      <td>Xiaomi 13 Pro</td>\n",
              "      <td>Smartphones</td>\n",
              "      <td>Xiaomi</td>\n",
              "      <td>4</td>\n",
              "      <td>1911.49</td>\n",
              "      <td>0.15</td>\n",
              "      <td>112.82</td>\n",
              "      <td>cbf36771-d27d-4fac-89aa-231a25491084</td>\n",
              "      <td>Croatia</td>\n",
              "    </tr>\n",
              "    <tr>\n",
              "      <th>50496</th>\n",
              "      <td>2024-11-29</td>\n",
              "      <td>496054fa-02a9-4715-bcbb-20343f6f8dc2</td>\n",
              "      <td>Xiaomi Mi Band 8</td>\n",
              "      <td>Wearables</td>\n",
              "      <td>Xiaomi</td>\n",
              "      <td>4</td>\n",
              "      <td>1304.49</td>\n",
              "      <td>0.20</td>\n",
              "      <td>1010.95</td>\n",
              "      <td>6b1bab61-c8c8-4f38-804c-a8d97406fe8c</td>\n",
              "      <td>Cote d'Ivoire</td>\n",
              "    </tr>\n",
              "    <tr>\n",
              "      <th>50497</th>\n",
              "      <td>2024-10-15</td>\n",
              "      <td>635c662f-a65b-4f11-bc4d-78c8923c26bc</td>\n",
              "      <td>Galaxy S23</td>\n",
              "      <td>Smartphones</td>\n",
              "      <td>Samsung</td>\n",
              "      <td>4</td>\n",
              "      <td>552.37</td>\n",
              "      <td>0.05</td>\n",
              "      <td>647.30</td>\n",
              "      <td>bca7fa51-9960-4336-ac16-c736d4db23d8</td>\n",
              "      <td>United States Minor Outlying Islands</td>\n",
              "    </tr>\n",
              "    <tr>\n",
              "      <th>50498</th>\n",
              "      <td>2024-06-25</td>\n",
              "      <td>121eede3-377f-4bd0-bd36-bf6e452e81db</td>\n",
              "      <td>Pixel 8</td>\n",
              "      <td>Smartphones</td>\n",
              "      <td>Google</td>\n",
              "      <td>2</td>\n",
              "      <td>1339.84</td>\n",
              "      <td>0.20</td>\n",
              "      <td>510.25</td>\n",
              "      <td>3bea913e-f893-4983-a066-77a5b5cad721</td>\n",
              "      <td>Niue</td>\n",
              "    </tr>\n",
              "    <tr>\n",
              "      <th>50499</th>\n",
              "      <td>2024-10-11</td>\n",
              "      <td>85a2af6a-aea4-43d5-b685-f1edc0a0c632</td>\n",
              "      <td>KitchenAid Stand Mixer</td>\n",
              "      <td>Kitchen</td>\n",
              "      <td>KitchenAid</td>\n",
              "      <td>4</td>\n",
              "      <td>1202.89</td>\n",
              "      <td>0.20</td>\n",
              "      <td>612.09</td>\n",
              "      <td>2dbc05f9-268d-4c12-88d1-28a42e53e528</td>\n",
              "      <td>Cote d'Ivoire</td>\n",
              "    </tr>\n",
              "  </tbody>\n",
              "</table>\n",
              "</div>\n",
              "    <div class=\"colab-df-buttons\">\n",
              "\n",
              "  <div class=\"colab-df-container\">\n",
              "    <button class=\"colab-df-convert\" onclick=\"convertToInteractive('df-3e883164-fa59-4a93-9329-4d6a73c6fa8a')\"\n",
              "            title=\"Convert this dataframe to an interactive table.\"\n",
              "            style=\"display:none;\">\n",
              "\n",
              "  <svg xmlns=\"http://www.w3.org/2000/svg\" height=\"24px\" viewBox=\"0 -960 960 960\">\n",
              "    <path d=\"M120-120v-720h720v720H120Zm60-500h600v-160H180v160Zm220 220h160v-160H400v160Zm0 220h160v-160H400v160ZM180-400h160v-160H180v160Zm440 0h160v-160H620v160ZM180-180h160v-160H180v160Zm440 0h160v-160H620v160Z\"/>\n",
              "  </svg>\n",
              "    </button>\n",
              "\n",
              "  <style>\n",
              "    .colab-df-container {\n",
              "      display:flex;\n",
              "      gap: 12px;\n",
              "    }\n",
              "\n",
              "    .colab-df-convert {\n",
              "      background-color: #E8F0FE;\n",
              "      border: none;\n",
              "      border-radius: 50%;\n",
              "      cursor: pointer;\n",
              "      display: none;\n",
              "      fill: #1967D2;\n",
              "      height: 32px;\n",
              "      padding: 0 0 0 0;\n",
              "      width: 32px;\n",
              "    }\n",
              "\n",
              "    .colab-df-convert:hover {\n",
              "      background-color: #E2EBFA;\n",
              "      box-shadow: 0px 1px 2px rgba(60, 64, 67, 0.3), 0px 1px 3px 1px rgba(60, 64, 67, 0.15);\n",
              "      fill: #174EA6;\n",
              "    }\n",
              "\n",
              "    .colab-df-buttons div {\n",
              "      margin-bottom: 4px;\n",
              "    }\n",
              "\n",
              "    [theme=dark] .colab-df-convert {\n",
              "      background-color: #3B4455;\n",
              "      fill: #D2E3FC;\n",
              "    }\n",
              "\n",
              "    [theme=dark] .colab-df-convert:hover {\n",
              "      background-color: #434B5C;\n",
              "      box-shadow: 0px 1px 3px 1px rgba(0, 0, 0, 0.15);\n",
              "      filter: drop-shadow(0px 1px 2px rgba(0, 0, 0, 0.3));\n",
              "      fill: #FFFFFF;\n",
              "    }\n",
              "  </style>\n",
              "\n",
              "    <script>\n",
              "      const buttonEl =\n",
              "        document.querySelector('#df-3e883164-fa59-4a93-9329-4d6a73c6fa8a button.colab-df-convert');\n",
              "      buttonEl.style.display =\n",
              "        google.colab.kernel.accessAllowed ? 'block' : 'none';\n",
              "\n",
              "      async function convertToInteractive(key) {\n",
              "        const element = document.querySelector('#df-3e883164-fa59-4a93-9329-4d6a73c6fa8a');\n",
              "        const dataTable =\n",
              "          await google.colab.kernel.invokeFunction('convertToInteractive',\n",
              "                                                    [key], {});\n",
              "        if (!dataTable) return;\n",
              "\n",
              "        const docLinkHtml = 'Like what you see? Visit the ' +\n",
              "          '<a target=\"_blank\" href=https://colab.research.google.com/notebooks/data_table.ipynb>data table notebook</a>'\n",
              "          + ' to learn more about interactive tables.';\n",
              "        element.innerHTML = '';\n",
              "        dataTable['output_type'] = 'display_data';\n",
              "        await google.colab.output.renderOutput(dataTable, element);\n",
              "        const docLink = document.createElement('div');\n",
              "        docLink.innerHTML = docLinkHtml;\n",
              "        element.appendChild(docLink);\n",
              "      }\n",
              "    </script>\n",
              "  </div>\n",
              "\n",
              "\n",
              "    <div id=\"df-7f9ca4e0-f95f-4ce1-9ea6-334b20b075ed\">\n",
              "      <button class=\"colab-df-quickchart\" onclick=\"quickchart('df-7f9ca4e0-f95f-4ce1-9ea6-334b20b075ed')\"\n",
              "                title=\"Suggest charts\"\n",
              "                style=\"display:none;\">\n",
              "\n",
              "<svg xmlns=\"http://www.w3.org/2000/svg\" height=\"24px\"viewBox=\"0 0 24 24\"\n",
              "     width=\"24px\">\n",
              "    <g>\n",
              "        <path d=\"M19 3H5c-1.1 0-2 .9-2 2v14c0 1.1.9 2 2 2h14c1.1 0 2-.9 2-2V5c0-1.1-.9-2-2-2zM9 17H7v-7h2v7zm4 0h-2V7h2v10zm4 0h-2v-4h2v4z\"/>\n",
              "    </g>\n",
              "</svg>\n",
              "      </button>\n",
              "\n",
              "<style>\n",
              "  .colab-df-quickchart {\n",
              "      --bg-color: #E8F0FE;\n",
              "      --fill-color: #1967D2;\n",
              "      --hover-bg-color: #E2EBFA;\n",
              "      --hover-fill-color: #174EA6;\n",
              "      --disabled-fill-color: #AAA;\n",
              "      --disabled-bg-color: #DDD;\n",
              "  }\n",
              "\n",
              "  [theme=dark] .colab-df-quickchart {\n",
              "      --bg-color: #3B4455;\n",
              "      --fill-color: #D2E3FC;\n",
              "      --hover-bg-color: #434B5C;\n",
              "      --hover-fill-color: #FFFFFF;\n",
              "      --disabled-bg-color: #3B4455;\n",
              "      --disabled-fill-color: #666;\n",
              "  }\n",
              "\n",
              "  .colab-df-quickchart {\n",
              "    background-color: var(--bg-color);\n",
              "    border: none;\n",
              "    border-radius: 50%;\n",
              "    cursor: pointer;\n",
              "    display: none;\n",
              "    fill: var(--fill-color);\n",
              "    height: 32px;\n",
              "    padding: 0;\n",
              "    width: 32px;\n",
              "  }\n",
              "\n",
              "  .colab-df-quickchart:hover {\n",
              "    background-color: var(--hover-bg-color);\n",
              "    box-shadow: 0 1px 2px rgba(60, 64, 67, 0.3), 0 1px 3px 1px rgba(60, 64, 67, 0.15);\n",
              "    fill: var(--button-hover-fill-color);\n",
              "  }\n",
              "\n",
              "  .colab-df-quickchart-complete:disabled,\n",
              "  .colab-df-quickchart-complete:disabled:hover {\n",
              "    background-color: var(--disabled-bg-color);\n",
              "    fill: var(--disabled-fill-color);\n",
              "    box-shadow: none;\n",
              "  }\n",
              "\n",
              "  .colab-df-spinner {\n",
              "    border: 2px solid var(--fill-color);\n",
              "    border-color: transparent;\n",
              "    border-bottom-color: var(--fill-color);\n",
              "    animation:\n",
              "      spin 1s steps(1) infinite;\n",
              "  }\n",
              "\n",
              "  @keyframes spin {\n",
              "    0% {\n",
              "      border-color: transparent;\n",
              "      border-bottom-color: var(--fill-color);\n",
              "      border-left-color: var(--fill-color);\n",
              "    }\n",
              "    20% {\n",
              "      border-color: transparent;\n",
              "      border-left-color: var(--fill-color);\n",
              "      border-top-color: var(--fill-color);\n",
              "    }\n",
              "    30% {\n",
              "      border-color: transparent;\n",
              "      border-left-color: var(--fill-color);\n",
              "      border-top-color: var(--fill-color);\n",
              "      border-right-color: var(--fill-color);\n",
              "    }\n",
              "    40% {\n",
              "      border-color: transparent;\n",
              "      border-right-color: var(--fill-color);\n",
              "      border-top-color: var(--fill-color);\n",
              "    }\n",
              "    60% {\n",
              "      border-color: transparent;\n",
              "      border-right-color: var(--fill-color);\n",
              "    }\n",
              "    80% {\n",
              "      border-color: transparent;\n",
              "      border-right-color: var(--fill-color);\n",
              "      border-bottom-color: var(--fill-color);\n",
              "    }\n",
              "    90% {\n",
              "      border-color: transparent;\n",
              "      border-bottom-color: var(--fill-color);\n",
              "    }\n",
              "  }\n",
              "</style>\n",
              "\n",
              "      <script>\n",
              "        async function quickchart(key) {\n",
              "          const quickchartButtonEl =\n",
              "            document.querySelector('#' + key + ' button');\n",
              "          quickchartButtonEl.disabled = true;  // To prevent multiple clicks.\n",
              "          quickchartButtonEl.classList.add('colab-df-spinner');\n",
              "          try {\n",
              "            const charts = await google.colab.kernel.invokeFunction(\n",
              "                'suggestCharts', [key], {});\n",
              "          } catch (error) {\n",
              "            console.error('Error during call to suggestCharts:', error);\n",
              "          }\n",
              "          quickchartButtonEl.classList.remove('colab-df-spinner');\n",
              "          quickchartButtonEl.classList.add('colab-df-quickchart-complete');\n",
              "        }\n",
              "        (() => {\n",
              "          let quickchartButtonEl =\n",
              "            document.querySelector('#df-7f9ca4e0-f95f-4ce1-9ea6-334b20b075ed button');\n",
              "          quickchartButtonEl.style.display =\n",
              "            google.colab.kernel.accessAllowed ? 'block' : 'none';\n",
              "        })();\n",
              "      </script>\n",
              "    </div>\n",
              "\n",
              "    </div>\n",
              "  </div>\n"
            ],
            "application/vnd.google.colaboratory.intrinsic+json": {
              "type": "dataframe",
              "repr_error": "0"
            }
          },
          "metadata": {},
          "execution_count": 52
        }
      ]
    },
    {
      "cell_type": "code",
      "source": [
        "df.info()"
      ],
      "metadata": {
        "colab": {
          "base_uri": "https://localhost:8080/"
        },
        "id": "D2plzu0d-djj",
        "outputId": "df13c3d3-58ae-4214-82f0-23c843095fb3"
      },
      "execution_count": 53,
      "outputs": [
        {
          "output_type": "stream",
          "name": "stdout",
          "text": [
            "<class 'pandas.core.frame.DataFrame'>\n",
            "RangeIndex: 50500 entries, 0 to 50499\n",
            "Data columns (total 11 columns):\n",
            " #   Column       Non-Null Count  Dtype  \n",
            "---  ------       --------------  -----  \n",
            " 0   order_date   50500 non-null  object \n",
            " 1   order_id     50500 non-null  object \n",
            " 2   product      50500 non-null  object \n",
            " 3   category     49979 non-null  object \n",
            " 4   brand        49979 non-null  object \n",
            " 5   quantity     50500 non-null  object \n",
            " 6   price        50195 non-null  float64\n",
            " 7   discount     49979 non-null  float64\n",
            " 8   total        50500 non-null  float64\n",
            " 9   customer_id  50500 non-null  object \n",
            " 10  country      50500 non-null  object \n",
            "dtypes: float64(3), object(8)\n",
            "memory usage: 4.2+ MB\n"
          ]
        }
      ]
    }
  ]
}