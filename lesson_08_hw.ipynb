{
  "nbformat": 4,
  "nbformat_minor": 0,
  "metadata": {
    "colab": {
      "provenance": [],
      "authorship_tag": "ABX9TyNnDmkuDrftviPjUvnNVxPF",
      "include_colab_link": true
    },
    "kernelspec": {
      "name": "python3",
      "display_name": "Python 3"
    },
    "language_info": {
      "name": "python"
    }
  },
  "cells": [
    {
      "cell_type": "markdown",
      "metadata": {
        "id": "view-in-github",
        "colab_type": "text"
      },
      "source": [
        "<a href=\"https://colab.research.google.com/github/cpython-projects/da_2603/blob/main/lesson_08_hw.ipynb\" target=\"_parent\"><img src=\"https://colab.research.google.com/assets/colab-badge.svg\" alt=\"Open In Colab\"/></a>"
      ]
    },
    {
      "cell_type": "markdown",
      "source": [
        "**Датасет содержит записи о покупках клиентов интернет-магазина.**  \n",
        "Каждая запись представляет собой покупку конкретного товара, совершённую определённым клиентом в определённую дату.\n",
        "\n",
        "\n",
        "---\n",
        "\n",
        "\n",
        "```python\n",
        "customer_purchases = [\n",
        "    {\"Customer_ID\": 1001, \"Product\": \"Laptop\", \"Category\": \"Electronics\", \"Purchase_Date\": \"2024-02-01\"},\n",
        "    {\"Customer_ID\": 1002, \"Product\": \"Smartphone\", \"Category\": \"Electronics\", \"Purchase_Date\": \"2024-02-02\"},\n",
        "    {\"Customer_ID\": 1003, \"Product\": \"Sofa\", \"Category\": \"Furniture\", \"Purchase_Date\": \"2024-02-03\"},\n",
        "    {\"Customer_ID\": 1001, \"Product\": \"Tablet\", \"Category\": \"Electronics\", \"Purchase_Date\": \"2024-02-10\"},\n",
        "    {\"Customer_ID\": 1002, \"Product\": \"Chair\", \"Category\": \"Furniture\", \"Purchase_Date\": \"2024-02-15\"},\n",
        "    {\"Customer_ID\": 1003, \"Product\": \"Laptop\", \"Category\": \"Electronics\", \"Purchase_Date\": \"2024-02-18\"},\n",
        "    {\"Customer_ID\": 1004, \"Product\": \"Desk\", \"Category\": \"Furniture\", \"Purchase_Date\": \"2024-02-20\"},\n",
        "]\n",
        "```"
      ],
      "metadata": {
        "id": "TLNiGS-NAwfJ"
      }
    },
    {
      "cell_type": "markdown",
      "source": [
        "**Task 1.** Определите множество всех уникальных товаров, которые были куплены."
      ],
      "metadata": {
        "id": "lBF2NvbnBJER"
      }
    },
    {
      "cell_type": "code",
      "execution_count": null,
      "metadata": {
        "id": "7P5VvkphAW4O"
      },
      "outputs": [],
      "source": []
    },
    {
      "cell_type": "markdown",
      "source": [
        "**Task 2.** Выведите список уникальных Customer_ID, которые купили хотя бы один товар из категории `Electronics`."
      ],
      "metadata": {
        "id": "8j1CD8UQBO9b"
      }
    },
    {
      "cell_type": "code",
      "source": [],
      "metadata": {
        "id": "nw-3m3Y0BkLZ"
      },
      "execution_count": null,
      "outputs": []
    },
    {
      "cell_type": "markdown",
      "source": [
        "**Task 3.** Определите клиентов, которые совершали покупки как в категории `Electronics`, так и в категории `Furniture`."
      ],
      "metadata": {
        "id": "HOYjuRJXBkdV"
      }
    },
    {
      "cell_type": "code",
      "source": [],
      "metadata": {
        "id": "f9kFwN8iBrMT"
      },
      "execution_count": null,
      "outputs": []
    },
    {
      "cell_type": "markdown",
      "source": [
        "**Task 4.** Найдите клиентов, которые покупали товары только из одной категории."
      ],
      "metadata": {
        "id": "yDKQpkajBrXH"
      }
    },
    {
      "cell_type": "code",
      "source": [],
      "metadata": {
        "id": "59llIJsgBvLd"
      },
      "execution_count": null,
      "outputs": []
    },
    {
      "cell_type": "markdown",
      "source": [
        "**Task 5.** Определите, какая категория товаров встречается чаще всего."
      ],
      "metadata": {
        "id": "1ybFqQQNBvaE"
      }
    },
    {
      "cell_type": "code",
      "source": [],
      "metadata": {
        "id": "c9E2u0NUByny"
      },
      "execution_count": null,
      "outputs": []
    },
    {
      "cell_type": "markdown",
      "source": [
        "**Task 6.** Выберите двух клиентов и найдите пересечение их покупок (какие товары они купили одинаковые)."
      ],
      "metadata": {
        "id": "9yj0HHDPByyX"
      }
    },
    {
      "cell_type": "code",
      "source": [],
      "metadata": {
        "id": "3Lpl9R0fB2zF"
      },
      "execution_count": null,
      "outputs": []
    },
    {
      "cell_type": "markdown",
      "source": [
        "**Task 7.** Для каждого клиента определите товары, которые он купил, но никто другой из покупателей не покупал."
      ],
      "metadata": {
        "id": "kGXSbn0MB2--"
      }
    },
    {
      "cell_type": "code",
      "source": [],
      "metadata": {
        "id": "pvT_6leWB7W1"
      },
      "execution_count": null,
      "outputs": []
    }
  ]
}