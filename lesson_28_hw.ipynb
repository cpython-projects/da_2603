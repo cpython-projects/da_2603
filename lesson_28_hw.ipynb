{
  "nbformat": 4,
  "nbformat_minor": 0,
  "metadata": {
    "colab": {
      "provenance": [],
      "authorship_tag": "ABX9TyPtPZy0D5ugYiul88Ym06XZ",
      "include_colab_link": true
    },
    "kernelspec": {
      "name": "python3",
      "display_name": "Python 3"
    },
    "language_info": {
      "name": "python"
    }
  },
  "cells": [
    {
      "cell_type": "markdown",
      "metadata": {
        "id": "view-in-github",
        "colab_type": "text"
      },
      "source": [
        "<a href=\"https://colab.research.google.com/github/cpython-projects/da_2603/blob/main/lesson_28_hw.ipynb\" target=\"_parent\"><img src=\"https://colab.research.google.com/assets/colab-badge.svg\" alt=\"Open In Colab\"/></a>"
      ]
    },
    {
      "cell_type": "markdown",
      "source": [
        "# **Корреляция между BTC и топ-альткоинами**\n",
        "\n",
        "Изучить взаимосвязь между динамикой Bitcoin и альткоинов, используя данные из открытых источников: HTML-страниц (CoinMarketCap) и API (CoinGecko). Полученные данные будут использоваться для анализа доходности, корреляций и оценки риска."
      ],
      "metadata": {
        "id": "JM1Suo40RqDt"
      }
    },
    {
      "cell_type": "markdown",
      "source": [
        "## Парсинг CoinMarketCap (топ-11 криптовалют)\n",
        "\n",
        "**📍 URL:** [https://coinmarketcap.com/](https://coinmarketcap.com/)\n",
        "\n",
        "Собрать топ-11 криптовалют (BTC + топ-10 альткоинов), извлекая:\n",
        "\n",
        "* Название\n",
        "* Символ\n",
        "* Текущую цену (USD)\n",
        "* Изменение за 24ч (%)\n",
        "* Рыночную капитализацию\n",
        "\n",
        "Сохранить в CSV btc_history.csv"
      ],
      "metadata": {
        "id": "vDjHWV4SR0Er"
      }
    },
    {
      "cell_type": "code",
      "source": [],
      "metadata": {
        "id": "wS6HDz9QSiSq"
      },
      "execution_count": null,
      "outputs": []
    },
    {
      "cell_type": "markdown",
      "source": [
        "## Работа с API (CoinGecko)\n",
        "\n",
        "**Задача:** Получить исторические данные Bitcoin за 30 дней  \n",
        "**API:** https://www.coingecko.com/api/documentations/v3  \n",
        "**Эндпоинт:**  \n",
        "https://api.coingecko.com/api/v3/coins/bitcoin/market_chart?vs_currency=usd&days=30\n",
        "\n",
        "**Требуется:**\n",
        "1. Извлечь дату и цену закрытия\n",
        "2. Рассчитать дневную доходность\n",
        "3. Сохранить в CSV btc_history.csv"
      ],
      "metadata": {
        "id": "hf2XKWF9S5mN"
      }
    },
    {
      "cell_type": "code",
      "source": [],
      "metadata": {
        "id": "XRW4TQwQTveO"
      },
      "execution_count": null,
      "outputs": []
    },
    {
      "cell_type": "markdown",
      "source": [
        "## Анализ данных\n",
        "\n",
        "**Задача:** Исследовать взаимосвязь Bitcoin и альткоинов\n",
        "\n",
        "* Загрузить данные из top_cryptos.csv и btc_history.csv\n",
        "* Рассчитать корреляцию между дневной доходностью Bitcoin и доходностью топ-10 альткоинов\n",
        "* Визуализировать матрицу корреляций (heatmap)\n",
        "* Выявить криптовалюты с наименьшей корреляцией с BTC\n",
        "* Построить график ценовой динамики BTC vs ETH\n",
        "* Построить график распределения дневной доходности\n",
        "* Построить график сравнения рыночных капитализаций (круговая диаграмма)"
      ],
      "metadata": {
        "id": "tP0IhCCvR8Q1"
      }
    },
    {
      "cell_type": "code",
      "source": [],
      "metadata": {
        "id": "_Yma4PiNTwcu"
      },
      "execution_count": null,
      "outputs": []
    }
  ]
}