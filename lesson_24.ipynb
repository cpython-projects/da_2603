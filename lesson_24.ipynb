{
  "nbformat": 4,
  "nbformat_minor": 0,
  "metadata": {
    "colab": {
      "provenance": [],
      "collapsed_sections": [
        "nm3fcIlQQZlN",
        "LcRoAOUeSBYJ",
        "FLQBOWd2R4Aa",
        "_fNM1CSyT8ch",
        "wwMsKbj_UaDp",
        "t1eVEw7uUqLc",
        "bGGrjYT9XpMv",
        "hojdE4AVX0sz",
        "-dypJEUDX5J6",
        "1QRJ_IIqX9At"
      ],
      "authorship_tag": "ABX9TyOIgamgQSWStgcRjD3S2sQv",
      "include_colab_link": true
    },
    "kernelspec": {
      "name": "python3",
      "display_name": "Python 3"
    },
    "language_info": {
      "name": "python"
    }
  },
  "cells": [
    {
      "cell_type": "markdown",
      "metadata": {
        "id": "view-in-github",
        "colab_type": "text"
      },
      "source": [
        "<a href=\"https://colab.research.google.com/github/cpython-projects/da_2603/blob/main/lesson_24.ipynb\" target=\"_parent\"><img src=\"https://colab.research.google.com/assets/colab-badge.svg\" alt=\"Open In Colab\"/></a>"
      ]
    },
    {
      "cell_type": "code",
      "source": [
        "import pandas as pd\n",
        "from sqlalchemy import create_engine, text\n",
        "import plotly.express as px"
      ],
      "metadata": {
        "id": "umJ2vPDQK7jZ"
      },
      "execution_count": 4,
      "outputs": []
    },
    {
      "cell_type": "code",
      "source": [
        "DB_USER = \"\"\n",
        "DB_PASS = \"\"\n",
        "DB_HOST = \"\"\n",
        "DB_PORT = \"\"\n",
        "DB_NAME = \"\""
      ],
      "metadata": {
        "id": "NBkratTYLJf9"
      },
      "execution_count": 2,
      "outputs": []
    },
    {
      "cell_type": "code",
      "source": [
        "engine = create_engine(f\"postgresql+psycopg2://{DB_USER}:{DB_PASS}@{DB_HOST}:{DB_PORT}/{DB_NAME}\")"
      ],
      "metadata": {
        "id": "7O4BVpNBLq68"
      },
      "execution_count": 3,
      "outputs": []
    },
    {
      "cell_type": "markdown",
      "source": [
        "У нас есть пользователи, которые:\n",
        "\n",
        "* устанавливают приложение (`app_sessions`),\n",
        "* смотрят товары (`product_views_log`),\n",
        "* авторизуются (`devices_users_map`),\n",
        "* совершают покупки (`orders_log`)."
      ],
      "metadata": {
        "id": "g7nSWxcPQewg"
      }
    },
    {
      "cell_type": "markdown",
      "source": [
        "# Работа с датами в SQL\n",
        "**Основные функции для работы с датой для анализа данных**"
      ],
      "metadata": {
        "id": "nm3fcIlQQZlN"
      }
    },
    {
      "cell_type": "code",
      "source": [
        "query = \"SELECT * FROM app_sessions LIMIT 5;\"\n",
        "df = pd.read_sql(text(query), engine)\n",
        "df"
      ],
      "metadata": {
        "colab": {
          "base_uri": "https://localhost:8080/",
          "height": 206
        },
        "id": "pKZU1xBWLs3A",
        "outputId": "241249a3-becd-4fb7-c7d0-38e41a3139aa"
      },
      "execution_count": null,
      "outputs": [
        {
          "output_type": "execute_result",
          "data": {
            "text/plain": [
              "  session_id device_code  first_seen  os_type acquisition_channel  cpi_uah\n",
              "0     S00000     DVC0000  2024-04-25  Android            Facebook    30.53\n",
              "1     S00001     DVC0001  2024-01-15  Android            Referral    13.91\n",
              "2     S00002     DVC0002  2024-01-18  Android            Facebook    31.80\n",
              "3     S00003     DVC0003  2024-02-23      iOS            Referral    14.98\n",
              "4     S00004     DVC0004  2024-04-24  Android          Google Ads    29.64"
            ],
            "text/html": [
              "\n",
              "  <div id=\"df-49e82c02-33e7-4c7d-8702-e6bb428752df\" class=\"colab-df-container\">\n",
              "    <div>\n",
              "<style scoped>\n",
              "    .dataframe tbody tr th:only-of-type {\n",
              "        vertical-align: middle;\n",
              "    }\n",
              "\n",
              "    .dataframe tbody tr th {\n",
              "        vertical-align: top;\n",
              "    }\n",
              "\n",
              "    .dataframe thead th {\n",
              "        text-align: right;\n",
              "    }\n",
              "</style>\n",
              "<table border=\"1\" class=\"dataframe\">\n",
              "  <thead>\n",
              "    <tr style=\"text-align: right;\">\n",
              "      <th></th>\n",
              "      <th>session_id</th>\n",
              "      <th>device_code</th>\n",
              "      <th>first_seen</th>\n",
              "      <th>os_type</th>\n",
              "      <th>acquisition_channel</th>\n",
              "      <th>cpi_uah</th>\n",
              "    </tr>\n",
              "  </thead>\n",
              "  <tbody>\n",
              "    <tr>\n",
              "      <th>0</th>\n",
              "      <td>S00000</td>\n",
              "      <td>DVC0000</td>\n",
              "      <td>2024-04-25</td>\n",
              "      <td>Android</td>\n",
              "      <td>Facebook</td>\n",
              "      <td>30.53</td>\n",
              "    </tr>\n",
              "    <tr>\n",
              "      <th>1</th>\n",
              "      <td>S00001</td>\n",
              "      <td>DVC0001</td>\n",
              "      <td>2024-01-15</td>\n",
              "      <td>Android</td>\n",
              "      <td>Referral</td>\n",
              "      <td>13.91</td>\n",
              "    </tr>\n",
              "    <tr>\n",
              "      <th>2</th>\n",
              "      <td>S00002</td>\n",
              "      <td>DVC0002</td>\n",
              "      <td>2024-01-18</td>\n",
              "      <td>Android</td>\n",
              "      <td>Facebook</td>\n",
              "      <td>31.80</td>\n",
              "    </tr>\n",
              "    <tr>\n",
              "      <th>3</th>\n",
              "      <td>S00003</td>\n",
              "      <td>DVC0003</td>\n",
              "      <td>2024-02-23</td>\n",
              "      <td>iOS</td>\n",
              "      <td>Referral</td>\n",
              "      <td>14.98</td>\n",
              "    </tr>\n",
              "    <tr>\n",
              "      <th>4</th>\n",
              "      <td>S00004</td>\n",
              "      <td>DVC0004</td>\n",
              "      <td>2024-04-24</td>\n",
              "      <td>Android</td>\n",
              "      <td>Google Ads</td>\n",
              "      <td>29.64</td>\n",
              "    </tr>\n",
              "  </tbody>\n",
              "</table>\n",
              "</div>\n",
              "    <div class=\"colab-df-buttons\">\n",
              "\n",
              "  <div class=\"colab-df-container\">\n",
              "    <button class=\"colab-df-convert\" onclick=\"convertToInteractive('df-49e82c02-33e7-4c7d-8702-e6bb428752df')\"\n",
              "            title=\"Convert this dataframe to an interactive table.\"\n",
              "            style=\"display:none;\">\n",
              "\n",
              "  <svg xmlns=\"http://www.w3.org/2000/svg\" height=\"24px\" viewBox=\"0 -960 960 960\">\n",
              "    <path d=\"M120-120v-720h720v720H120Zm60-500h600v-160H180v160Zm220 220h160v-160H400v160Zm0 220h160v-160H400v160ZM180-400h160v-160H180v160Zm440 0h160v-160H620v160ZM180-180h160v-160H180v160Zm440 0h160v-160H620v160Z\"/>\n",
              "  </svg>\n",
              "    </button>\n",
              "\n",
              "  <style>\n",
              "    .colab-df-container {\n",
              "      display:flex;\n",
              "      gap: 12px;\n",
              "    }\n",
              "\n",
              "    .colab-df-convert {\n",
              "      background-color: #E8F0FE;\n",
              "      border: none;\n",
              "      border-radius: 50%;\n",
              "      cursor: pointer;\n",
              "      display: none;\n",
              "      fill: #1967D2;\n",
              "      height: 32px;\n",
              "      padding: 0 0 0 0;\n",
              "      width: 32px;\n",
              "    }\n",
              "\n",
              "    .colab-df-convert:hover {\n",
              "      background-color: #E2EBFA;\n",
              "      box-shadow: 0px 1px 2px rgba(60, 64, 67, 0.3), 0px 1px 3px 1px rgba(60, 64, 67, 0.15);\n",
              "      fill: #174EA6;\n",
              "    }\n",
              "\n",
              "    .colab-df-buttons div {\n",
              "      margin-bottom: 4px;\n",
              "    }\n",
              "\n",
              "    [theme=dark] .colab-df-convert {\n",
              "      background-color: #3B4455;\n",
              "      fill: #D2E3FC;\n",
              "    }\n",
              "\n",
              "    [theme=dark] .colab-df-convert:hover {\n",
              "      background-color: #434B5C;\n",
              "      box-shadow: 0px 1px 3px 1px rgba(0, 0, 0, 0.15);\n",
              "      filter: drop-shadow(0px 1px 2px rgba(0, 0, 0, 0.3));\n",
              "      fill: #FFFFFF;\n",
              "    }\n",
              "  </style>\n",
              "\n",
              "    <script>\n",
              "      const buttonEl =\n",
              "        document.querySelector('#df-49e82c02-33e7-4c7d-8702-e6bb428752df button.colab-df-convert');\n",
              "      buttonEl.style.display =\n",
              "        google.colab.kernel.accessAllowed ? 'block' : 'none';\n",
              "\n",
              "      async function convertToInteractive(key) {\n",
              "        const element = document.querySelector('#df-49e82c02-33e7-4c7d-8702-e6bb428752df');\n",
              "        const dataTable =\n",
              "          await google.colab.kernel.invokeFunction('convertToInteractive',\n",
              "                                                    [key], {});\n",
              "        if (!dataTable) return;\n",
              "\n",
              "        const docLinkHtml = 'Like what you see? Visit the ' +\n",
              "          '<a target=\"_blank\" href=https://colab.research.google.com/notebooks/data_table.ipynb>data table notebook</a>'\n",
              "          + ' to learn more about interactive tables.';\n",
              "        element.innerHTML = '';\n",
              "        dataTable['output_type'] = 'display_data';\n",
              "        await google.colab.output.renderOutput(dataTable, element);\n",
              "        const docLink = document.createElement('div');\n",
              "        docLink.innerHTML = docLinkHtml;\n",
              "        element.appendChild(docLink);\n",
              "      }\n",
              "    </script>\n",
              "  </div>\n",
              "\n",
              "\n",
              "    <div id=\"df-0f5ff181-0075-434e-9e9d-7df4c14d1a3b\">\n",
              "      <button class=\"colab-df-quickchart\" onclick=\"quickchart('df-0f5ff181-0075-434e-9e9d-7df4c14d1a3b')\"\n",
              "                title=\"Suggest charts\"\n",
              "                style=\"display:none;\">\n",
              "\n",
              "<svg xmlns=\"http://www.w3.org/2000/svg\" height=\"24px\"viewBox=\"0 0 24 24\"\n",
              "     width=\"24px\">\n",
              "    <g>\n",
              "        <path d=\"M19 3H5c-1.1 0-2 .9-2 2v14c0 1.1.9 2 2 2h14c1.1 0 2-.9 2-2V5c0-1.1-.9-2-2-2zM9 17H7v-7h2v7zm4 0h-2V7h2v10zm4 0h-2v-4h2v4z\"/>\n",
              "    </g>\n",
              "</svg>\n",
              "      </button>\n",
              "\n",
              "<style>\n",
              "  .colab-df-quickchart {\n",
              "      --bg-color: #E8F0FE;\n",
              "      --fill-color: #1967D2;\n",
              "      --hover-bg-color: #E2EBFA;\n",
              "      --hover-fill-color: #174EA6;\n",
              "      --disabled-fill-color: #AAA;\n",
              "      --disabled-bg-color: #DDD;\n",
              "  }\n",
              "\n",
              "  [theme=dark] .colab-df-quickchart {\n",
              "      --bg-color: #3B4455;\n",
              "      --fill-color: #D2E3FC;\n",
              "      --hover-bg-color: #434B5C;\n",
              "      --hover-fill-color: #FFFFFF;\n",
              "      --disabled-bg-color: #3B4455;\n",
              "      --disabled-fill-color: #666;\n",
              "  }\n",
              "\n",
              "  .colab-df-quickchart {\n",
              "    background-color: var(--bg-color);\n",
              "    border: none;\n",
              "    border-radius: 50%;\n",
              "    cursor: pointer;\n",
              "    display: none;\n",
              "    fill: var(--fill-color);\n",
              "    height: 32px;\n",
              "    padding: 0;\n",
              "    width: 32px;\n",
              "  }\n",
              "\n",
              "  .colab-df-quickchart:hover {\n",
              "    background-color: var(--hover-bg-color);\n",
              "    box-shadow: 0 1px 2px rgba(60, 64, 67, 0.3), 0 1px 3px 1px rgba(60, 64, 67, 0.15);\n",
              "    fill: var(--button-hover-fill-color);\n",
              "  }\n",
              "\n",
              "  .colab-df-quickchart-complete:disabled,\n",
              "  .colab-df-quickchart-complete:disabled:hover {\n",
              "    background-color: var(--disabled-bg-color);\n",
              "    fill: var(--disabled-fill-color);\n",
              "    box-shadow: none;\n",
              "  }\n",
              "\n",
              "  .colab-df-spinner {\n",
              "    border: 2px solid var(--fill-color);\n",
              "    border-color: transparent;\n",
              "    border-bottom-color: var(--fill-color);\n",
              "    animation:\n",
              "      spin 1s steps(1) infinite;\n",
              "  }\n",
              "\n",
              "  @keyframes spin {\n",
              "    0% {\n",
              "      border-color: transparent;\n",
              "      border-bottom-color: var(--fill-color);\n",
              "      border-left-color: var(--fill-color);\n",
              "    }\n",
              "    20% {\n",
              "      border-color: transparent;\n",
              "      border-left-color: var(--fill-color);\n",
              "      border-top-color: var(--fill-color);\n",
              "    }\n",
              "    30% {\n",
              "      border-color: transparent;\n",
              "      border-left-color: var(--fill-color);\n",
              "      border-top-color: var(--fill-color);\n",
              "      border-right-color: var(--fill-color);\n",
              "    }\n",
              "    40% {\n",
              "      border-color: transparent;\n",
              "      border-right-color: var(--fill-color);\n",
              "      border-top-color: var(--fill-color);\n",
              "    }\n",
              "    60% {\n",
              "      border-color: transparent;\n",
              "      border-right-color: var(--fill-color);\n",
              "    }\n",
              "    80% {\n",
              "      border-color: transparent;\n",
              "      border-right-color: var(--fill-color);\n",
              "      border-bottom-color: var(--fill-color);\n",
              "    }\n",
              "    90% {\n",
              "      border-color: transparent;\n",
              "      border-bottom-color: var(--fill-color);\n",
              "    }\n",
              "  }\n",
              "</style>\n",
              "\n",
              "      <script>\n",
              "        async function quickchart(key) {\n",
              "          const quickchartButtonEl =\n",
              "            document.querySelector('#' + key + ' button');\n",
              "          quickchartButtonEl.disabled = true;  // To prevent multiple clicks.\n",
              "          quickchartButtonEl.classList.add('colab-df-spinner');\n",
              "          try {\n",
              "            const charts = await google.colab.kernel.invokeFunction(\n",
              "                'suggestCharts', [key], {});\n",
              "          } catch (error) {\n",
              "            console.error('Error during call to suggestCharts:', error);\n",
              "          }\n",
              "          quickchartButtonEl.classList.remove('colab-df-spinner');\n",
              "          quickchartButtonEl.classList.add('colab-df-quickchart-complete');\n",
              "        }\n",
              "        (() => {\n",
              "          let quickchartButtonEl =\n",
              "            document.querySelector('#df-0f5ff181-0075-434e-9e9d-7df4c14d1a3b button');\n",
              "          quickchartButtonEl.style.display =\n",
              "            google.colab.kernel.accessAllowed ? 'block' : 'none';\n",
              "        })();\n",
              "      </script>\n",
              "    </div>\n",
              "\n",
              "  <div id=\"id_5539248f-4d7b-4979-bac1-8f3b538213de\">\n",
              "    <style>\n",
              "      .colab-df-generate {\n",
              "        background-color: #E8F0FE;\n",
              "        border: none;\n",
              "        border-radius: 50%;\n",
              "        cursor: pointer;\n",
              "        display: none;\n",
              "        fill: #1967D2;\n",
              "        height: 32px;\n",
              "        padding: 0 0 0 0;\n",
              "        width: 32px;\n",
              "      }\n",
              "\n",
              "      .colab-df-generate:hover {\n",
              "        background-color: #E2EBFA;\n",
              "        box-shadow: 0px 1px 2px rgba(60, 64, 67, 0.3), 0px 1px 3px 1px rgba(60, 64, 67, 0.15);\n",
              "        fill: #174EA6;\n",
              "      }\n",
              "\n",
              "      [theme=dark] .colab-df-generate {\n",
              "        background-color: #3B4455;\n",
              "        fill: #D2E3FC;\n",
              "      }\n",
              "\n",
              "      [theme=dark] .colab-df-generate:hover {\n",
              "        background-color: #434B5C;\n",
              "        box-shadow: 0px 1px 3px 1px rgba(0, 0, 0, 0.15);\n",
              "        filter: drop-shadow(0px 1px 2px rgba(0, 0, 0, 0.3));\n",
              "        fill: #FFFFFF;\n",
              "      }\n",
              "    </style>\n",
              "    <button class=\"colab-df-generate\" onclick=\"generateWithVariable('df')\"\n",
              "            title=\"Generate code using this dataframe.\"\n",
              "            style=\"display:none;\">\n",
              "\n",
              "  <svg xmlns=\"http://www.w3.org/2000/svg\" height=\"24px\"viewBox=\"0 0 24 24\"\n",
              "       width=\"24px\">\n",
              "    <path d=\"M7,19H8.4L18.45,9,17,7.55,7,17.6ZM5,21V16.75L18.45,3.32a2,2,0,0,1,2.83,0l1.4,1.43a1.91,1.91,0,0,1,.58,1.4,1.91,1.91,0,0,1-.58,1.4L9.25,21ZM18.45,9,17,7.55Zm-12,3A5.31,5.31,0,0,0,4.9,8.1,5.31,5.31,0,0,0,1,6.5,5.31,5.31,0,0,0,4.9,4.9,5.31,5.31,0,0,0,6.5,1,5.31,5.31,0,0,0,8.1,4.9,5.31,5.31,0,0,0,12,6.5,5.46,5.46,0,0,0,6.5,12Z\"/>\n",
              "  </svg>\n",
              "    </button>\n",
              "    <script>\n",
              "      (() => {\n",
              "      const buttonEl =\n",
              "        document.querySelector('#id_5539248f-4d7b-4979-bac1-8f3b538213de button.colab-df-generate');\n",
              "      buttonEl.style.display =\n",
              "        google.colab.kernel.accessAllowed ? 'block' : 'none';\n",
              "\n",
              "      buttonEl.onclick = () => {\n",
              "        google.colab.notebook.generateWithVariable('df');\n",
              "      }\n",
              "      })();\n",
              "    </script>\n",
              "  </div>\n",
              "\n",
              "    </div>\n",
              "  </div>\n"
            ],
            "application/vnd.google.colaboratory.intrinsic+json": {
              "type": "dataframe",
              "variable_name": "df",
              "summary": "{\n  \"name\": \"df\",\n  \"rows\": 5,\n  \"fields\": [\n    {\n      \"column\": \"session_id\",\n      \"properties\": {\n        \"dtype\": \"string\",\n        \"num_unique_values\": 5,\n        \"samples\": [\n          \"S00001\",\n          \"S00004\",\n          \"S00002\"\n        ],\n        \"semantic_type\": \"\",\n        \"description\": \"\"\n      }\n    },\n    {\n      \"column\": \"device_code\",\n      \"properties\": {\n        \"dtype\": \"string\",\n        \"num_unique_values\": 5,\n        \"samples\": [\n          \"DVC0001\",\n          \"DVC0004\",\n          \"DVC0002\"\n        ],\n        \"semantic_type\": \"\",\n        \"description\": \"\"\n      }\n    },\n    {\n      \"column\": \"first_seen\",\n      \"properties\": {\n        \"dtype\": \"date\",\n        \"min\": \"2024-01-15\",\n        \"max\": \"2024-04-25\",\n        \"num_unique_values\": 5,\n        \"samples\": [\n          \"2024-01-15\",\n          \"2024-04-24\",\n          \"2024-01-18\"\n        ],\n        \"semantic_type\": \"\",\n        \"description\": \"\"\n      }\n    },\n    {\n      \"column\": \"os_type\",\n      \"properties\": {\n        \"dtype\": \"category\",\n        \"num_unique_values\": 2,\n        \"samples\": [\n          \"iOS\",\n          \"Android\"\n        ],\n        \"semantic_type\": \"\",\n        \"description\": \"\"\n      }\n    },\n    {\n      \"column\": \"acquisition_channel\",\n      \"properties\": {\n        \"dtype\": \"string\",\n        \"num_unique_values\": 3,\n        \"samples\": [\n          \"Facebook\",\n          \"Referral\"\n        ],\n        \"semantic_type\": \"\",\n        \"description\": \"\"\n      }\n    },\n    {\n      \"column\": \"cpi_uah\",\n      \"properties\": {\n        \"dtype\": \"number\",\n        \"std\": 8.920637309071589,\n        \"min\": 13.91,\n        \"max\": 31.8,\n        \"num_unique_values\": 5,\n        \"samples\": [\n          13.91,\n          29.64\n        ],\n        \"semantic_type\": \"\",\n        \"description\": \"\"\n      }\n    }\n  ]\n}"
            }
          },
          "metadata": {},
          "execution_count": 22
        }
      ]
    },
    {
      "cell_type": "markdown",
      "source": [
        "## `DATE_TRUNC`  \n",
        "**обрезает дату или время до заданной единицы измерения**, обнуляя менее значимые компоненты."
      ],
      "metadata": {
        "id": "LcRoAOUeSBYJ"
      }
    },
    {
      "cell_type": "markdown",
      "source": [
        "### Общий синтаксис:\n",
        "\n",
        "```sql\n",
        "DATE_TRUNC('единица_времени', timestamp)\n",
        "```\n",
        "\n",
        "---\n",
        "\n",
        "### Для чего применяем:\n",
        "\n",
        "1. **Группировка по времени**:\n",
        "   Чтобы сгруппировать данные по неделям, месяцам, дням и т.п.\n",
        "2. **Округление до начала часа, дня и т.п.**\n",
        "3. **Сравнение дат на уровне нужной точности** (например, все события за конкретный месяц).\n",
        "\n",
        "---\n",
        "\n",
        "### Поддерживаемые единицы:\n",
        "\n",
        "* `millennium`, `century`, `decade`, `year`, `quarter`, `month`\n",
        "* `week`, `day`, `hour`, `minute`, `second`"
      ],
      "metadata": {
        "id": "_FG9B4i6Q8Q6"
      }
    },
    {
      "cell_type": "code",
      "source": [],
      "metadata": {
        "id": "eCodTQObL71z"
      },
      "execution_count": 11,
      "outputs": []
    },
    {
      "cell_type": "code",
      "source": [],
      "metadata": {
        "id": "_30GDucuMNta"
      },
      "execution_count": 11,
      "outputs": []
    },
    {
      "cell_type": "markdown",
      "source": [
        "## `EXTRACT`\n",
        "**выделение отдельной компоненты даты или времени**, например: год, месяц, день, час и т.д."
      ],
      "metadata": {
        "id": "FLQBOWd2R4Aa"
      }
    },
    {
      "cell_type": "markdown",
      "source": [
        "### Синтаксис:\n",
        "\n",
        "```sql\n",
        "EXTRACT(единица_времени FROM дата_или_время)\n",
        "```\n",
        "\n",
        "---\n",
        "\n",
        "### Используемые единицы:\n",
        "\n",
        "* `YEAR`\n",
        "* `MONTH`\n",
        "* `DAY`\n",
        "* `HOUR`\n",
        "* `MINUTE`\n",
        "* `SECOND`\n",
        "* `DOW` (day of week: 0 = Sunday, 6 = Saturday)\n",
        "* `DOY` (day of year)\n",
        "* `WEEK`\n",
        "* `QUARTER`\n",
        "\n",
        "---\n",
        "\n",
        "### Для чего применяем:\n",
        "\n",
        "1. **Фильтрация по части даты**:\n",
        "2. **Создание временных группировок**:\n",
        "\n",
        "---\n",
        "\n",
        "### Разница с `DATE_TRUNC`:\n",
        "\n",
        "|                | `EXTRACT`                     | `DATE_TRUNC`                                 |\n",
        "| -------------- | ----------------------------- | -------------------------------------------- |\n",
        "| Что делает     | Возвращает одно число         | Обнуляет менее значимые части даты           |\n",
        "| Тип результата | `numeric`                     | `timestamp`                                  |\n",
        "| Пример         | `EXTRACT(MONTH FROM d)` → `7` | `DATE_TRUNC('month', d)` → `'2025-07-01...'` |"
      ],
      "metadata": {
        "id": "ZGb67fy9TYIT"
      }
    },
    {
      "cell_type": "code",
      "source": [],
      "metadata": {
        "id": "CM1llOlnMZTA"
      },
      "execution_count": 11,
      "outputs": []
    },
    {
      "cell_type": "code",
      "source": [],
      "metadata": {
        "id": "8mpORpG-Mety"
      },
      "execution_count": 11,
      "outputs": []
    },
    {
      "cell_type": "code",
      "source": [],
      "metadata": {
        "id": "LD4riNweMjgw"
      },
      "execution_count": 11,
      "outputs": []
    },
    {
      "cell_type": "markdown",
      "source": [
        "## `CURRENT_DATE`, `CURRENT_TIMESTAMP` и `NOW()`\n",
        "**текущее время и/или дата**"
      ],
      "metadata": {
        "id": "_fNM1CSyT8ch"
      }
    },
    {
      "cell_type": "markdown",
      "source": [
        "### Особенности\n",
        "\n",
        "| Функция             | Что возвращает                 | Тип данных  | Пример результата            |\n",
        "| ------------------- | ------------------------------ | ----------- | ---------------------------- |\n",
        "| `CURRENT_DATE`      | Только текущую дату            | `DATE`      | `2025-07-14`                 |\n",
        "| `CURRENT_TIMESTAMP` | Текущие дата **и** время       | `TIMESTAMP` | `2025-07-14 11:25:32.123456` |\n",
        "| `NOW()`             | То же, что `CURRENT_TIMESTAMP` | `TIMESTAMP` | `2025-07-14 11:25:32.123456` |"
      ],
      "metadata": {
        "id": "wwMsKbj_UaDp"
      }
    },
    {
      "cell_type": "code",
      "source": [],
      "metadata": {
        "id": "D_PBsmDOOTI8"
      },
      "execution_count": 11,
      "outputs": []
    },
    {
      "cell_type": "code",
      "source": [],
      "metadata": {
        "id": "JaWyc2gIO7r5"
      },
      "execution_count": 11,
      "outputs": []
    },
    {
      "cell_type": "code",
      "source": [],
      "metadata": {
        "id": "l6WQ5hOlPBEB"
      },
      "execution_count": 11,
      "outputs": []
    },
    {
      "cell_type": "markdown",
      "source": [
        "## `INTERVAL`  \n",
        " **Прибавление/вычитание временного промежутка**: дни, часы, месяцы, секунды и т.д."
      ],
      "metadata": {
        "id": "t1eVEw7uUqLc"
      }
    },
    {
      "cell_type": "markdown",
      "source": [
        "### 📌 Синтаксис:\n",
        "\n",
        "```sql\n",
        "SELECT CURRENT_DATE + INTERVAL '7 days';\n",
        "```\n",
        "---\n",
        "\n",
        "## Единицы измерения:\n",
        "\n",
        "* `second`, `minute`, `hour`\n",
        "* `day`, `week`, `month`, `year`\n",
        "* И даже комбинации:\n",
        "\n",
        "```sql\n",
        "INTERVAL '2 days 3 hours 15 minutes'\n",
        "```\n",
        "---\n",
        "\n",
        "## Особенности:\n",
        "\n",
        "* `INTERVAL` сам по себе не дата — это просто **временной отрезок**.\n",
        "* Может использоваться и с `DATE`, и с `TIMESTAMP`.\n",
        "* В некоторых СУБД, например MySQL, `INTERVAL` пишется иначе:\n",
        "\n",
        "```sql\n",
        "-- MySQL стиль\n",
        "SELECT NOW() + INTERVAL 1 DAY;\n",
        "```\n",
        "---\n",
        "\n",
        "### В Pandas аналог:\n",
        "\n",
        "```python\n",
        "import pandas as pd\n",
        "\n",
        "pd.Timestamp.now() + pd.Timedelta(days=3, hours=2)\n",
        "```"
      ],
      "metadata": {
        "id": "UZ_2QftBVCUf"
      }
    },
    {
      "cell_type": "code",
      "source": [],
      "metadata": {
        "id": "didHTXGAPJOY"
      },
      "execution_count": 11,
      "outputs": []
    },
    {
      "cell_type": "code",
      "source": [],
      "metadata": {
        "id": "aw2kghsuPh0h"
      },
      "execution_count": 11,
      "outputs": []
    },
    {
      "cell_type": "code",
      "source": [],
      "metadata": {
        "id": "gm0Y9PkhPmr0"
      },
      "execution_count": 11,
      "outputs": []
    },
    {
      "cell_type": "markdown",
      "source": [
        "## Когда применяем работу с датами и временем"
      ],
      "metadata": {
        "id": "1WLSXuOIQoDG"
      }
    },
    {
      "cell_type": "markdown",
      "source": [
        "Анализ по дате и времени нужен в ситуациях, когда мы хотим:\n",
        "\n",
        "| Цель анализа                               | Когда применять                                               | Что нужно                         |\n",
        "| ------------------------------------------ | ------------------------------------------------------------- | --------------------------------- |\n",
        "| **1. Графики по дням / неделям / месяцам** | Отслеживать динамику показателей                              | Группировка по дате               |\n",
        "| **2. Сезонность**                          | Найти циклы в поведении (например, пятничные пики покупок)    | Группировка по дню недели, месяцу |\n",
        "| **3. Повторяемость покупок**               | Сколько дней проходит между покупками                         | Расчёт интервалов между датами    |\n",
        "| **4. RFM-анализ**                          | Сегментировать пользователей по их активности и ценности      | DATEDIFF, COUNT, SUM              |\n",
        "| **5. Retention**                           | Понимать, возвращаются ли пользователи после первого действия | Когорты по дате первого события   |"
      ],
      "metadata": {
        "id": "hg1ou-zBeyop"
      }
    },
    {
      "cell_type": "markdown",
      "source": [
        "### 1. Графики **по дням, неделям, месяцам**\n",
        "\n",
        "**Зачем**: смотреть динамику продаж, посещений, заказов во времени.\n",
        "\n",
        "**Как**: используем `DATE_TRUNC`, `GROUP BY`, агрегаты."
      ],
      "metadata": {
        "id": "bGGrjYT9XpMv"
      }
    },
    {
      "cell_type": "code",
      "source": [
        "import plotly.express as px"
      ],
      "metadata": {
        "id": "EaCEEfuAfspR"
      },
      "execution_count": null,
      "outputs": []
    },
    {
      "cell_type": "code",
      "source": [
        "# Сколько установок в день\n",
        "\n"
      ],
      "metadata": {
        "id": "THnyxMnLfI_F"
      },
      "execution_count": 12,
      "outputs": []
    },
    {
      "cell_type": "code",
      "source": [],
      "metadata": {
        "id": "3OLaXhK4fy_I"
      },
      "execution_count": 12,
      "outputs": []
    },
    {
      "cell_type": "code",
      "source": [
        "# Сколько заказов по неделям\n"
      ],
      "metadata": {
        "id": "1z1E8bJ5fRjf"
      },
      "execution_count": 13,
      "outputs": []
    },
    {
      "cell_type": "code",
      "source": [],
      "metadata": {
        "id": "sxauCJ6DgL5u"
      },
      "execution_count": 13,
      "outputs": []
    },
    {
      "cell_type": "code",
      "source": [
        "# Сколько просмотров в месяц\n"
      ],
      "metadata": {
        "id": "reNa_gWpgCFQ"
      },
      "execution_count": 14,
      "outputs": []
    },
    {
      "cell_type": "code",
      "source": [],
      "metadata": {
        "id": "tHLjqWDmgVq4"
      },
      "execution_count": 14,
      "outputs": []
    },
    {
      "cell_type": "markdown",
      "source": [
        "### 2. **Cезонность и циклы** (ежемесячная/еженедельная активность)\n",
        "\n",
        "**Зачем**: находить пики и спады по времени года, неделе, дню недели.\n",
        "\n",
        "**Как**: `EXTRACT(MONTH FROM date)`, `EXTRACT(DOW FROM date)`."
      ],
      "metadata": {
        "id": "hojdE4AVX0sz"
      }
    },
    {
      "cell_type": "code",
      "source": [
        "# Сколько заказов по дням недели\n",
        "\n"
      ],
      "metadata": {
        "id": "jsE99jqagoKr"
      },
      "execution_count": 15,
      "outputs": []
    },
    {
      "cell_type": "markdown",
      "source": [
        "### 3. Повторяемость покупок\n",
        "\n",
        "**Зачем**: определить, как часто пользователи возвращаются и сколько времени проходит между покупками.\n",
        "\n",
        "**Как**: сравниваем `DATEDIFF` между заказами."
      ],
      "metadata": {
        "id": "-dypJEUDX5J6"
      }
    },
    {
      "cell_type": "code",
      "source": [
        "# Сколько дней между первой и последней покупкой\n"
      ],
      "metadata": {
        "id": "MCvT9FvyhmrH"
      },
      "execution_count": 16,
      "outputs": []
    },
    {
      "cell_type": "code",
      "source": [
        "# Связь между количеством заказов и \"жизненным циклом\" пользователя\n"
      ],
      "metadata": {
        "id": "mAoOK05OiQ9x"
      },
      "execution_count": 17,
      "outputs": []
    },
    {
      "cell_type": "code",
      "source": [
        "# сколько пользователей возвращаются через X дней?\n"
      ],
      "metadata": {
        "id": "cebUjPd1itnA"
      },
      "execution_count": 18,
      "outputs": []
    },
    {
      "cell_type": "markdown",
      "source": [
        "### 4. Анализ RFM (Recency, Frequency, Monetary)\n",
        "\n",
        "**Зачем**: **метод сегментации клиентов** по их поведению в отношении заказов, который помогает понять ценность клиента и его лояльность.\n"
      ],
      "metadata": {
        "id": "1QRJ_IIqX9At"
      }
    },
    {
      "cell_type": "markdown",
      "source": [
        "#### Что означает каждая буква?\n",
        "\n",
        "| Параметр      | Что измеряет                    | Пример расчета                                            |\n",
        "| ------------- | ------------------------------- | --------------------------------------------------------- |\n",
        "| **Recency**   | Как давно был последний заказ   | Разница между сегодняшней датой и датой последнего заказа |\n",
        "| **Frequency** | Как часто клиент делает покупки | Количество заказов за период                              |\n",
        "| **Monetary**  | Сколько денег клиент принес     | Сумма всех заказов                                        |\n",
        "\n",
        "---\n",
        "\n",
        "#### Для чего используется RFM?\n",
        "\n",
        "* **Сегментация**: найти VIP-клиентов, \"спящих\" клиентов, новых и т.д.\n",
        "* **Персонализация**: настроить email-маркетинг или push-уведомления\n",
        "* **Предсказание оттока**: кто может уйти"
      ],
      "metadata": {
        "id": "hM6R4YmAW6G3"
      }
    },
    {
      "cell_type": "markdown",
      "source": [
        "**Задача — оценить активность клиентов**:\n",
        "* Как давно был последний заказ (**Recency**),\n",
        "* Сколько всего заказов сделал клиент (**Frequency**),\n",
        "* На какую сумму клиент потратился (**Monetary**).\n"
      ],
      "metadata": {
        "id": "-2ZWk91tlxV8"
      }
    },
    {
      "cell_type": "code",
      "source": [
        "# Запрос для расчета RFM-показателей\n"
      ],
      "metadata": {
        "id": "s4b_kFhwrAGC"
      },
      "execution_count": 19,
      "outputs": []
    },
    {
      "cell_type": "code",
      "source": [
        "# Разделение по квантилям (R/F/M-баллы)\n"
      ],
      "metadata": {
        "id": "eTmLKfuWrcN7"
      },
      "execution_count": 20,
      "outputs": []
    },
    {
      "cell_type": "markdown",
      "source": [
        "**Recency (давность последней покупки)**\n",
        "\n",
        "```python\n",
        "rfm[\"R\"] = pd.qcut(rfm[\"recency\"], 5, labels=[5, 4, 3, 2, 1]).astype(int)\n",
        "```\n",
        "\n",
        "* `pd.qcut()` делит `recency` на **5 квантилей** (примерно равные по размеру группы).\n",
        "* `labels=[5, 4, 3, 2, 1]` — меньшее значение `recency` (то есть недавняя покупка) получает **лучший балл 5**.\n",
        "* То есть: покупал вчера → `recency = 1` → `R = 5`\n",
        "\n",
        "*Почему обратный порядок (5, 4, ..., 1)?*\n",
        "\n",
        "Потому что чем **меньше дней прошло с последней покупки**, тем **ценнее клиент**.\n",
        "\n",
        "---\n",
        "\n",
        "**Frequency (частота покупок)**\n",
        "\n",
        "```python\n",
        "rfm[\"F\"] = pd.qcut(rfm[\"frequency\"].rank(method=\"first\"), 5, labels=[1, 2, 3, 4, 5]).astype(int)\n",
        "```\n",
        "\n",
        "* `rank(method=\"first\")` присваивает уникальные ранги (если значения одинаковые).\n",
        "* Затем `pd.qcut(..., 5)` разбивает их на 5 равных групп.\n",
        "* `labels=[1, 2, 3, 4, 5]` — чаще покупает → выше `frequency` → выше балл `F`\n",
        "\n",
        "---\n",
        "\n",
        "**Monetary (сколько потратил)**\n",
        "\n",
        "```python\n",
        "rfm[\"M\"] = pd.qcut(rfm[\"monetary\"], 5, labels=[1, 2, 3, 4, 5]).astype(int)\n",
        "```\n",
        "\n",
        "* Всё просто: чем больше тратит, тем выше балл.\n",
        "* `qcut` делит пользователей по объёму трат на 5 групп от 1 (мало) до 5 (много).\n",
        "\n",
        "---\n",
        "\n",
        "**Сборка итогового RFM-скора**\n",
        "\n",
        "```python\n",
        "rfm[\"RFM_score\"] = rfm[\"R\"].astype(str) + rfm[\"F\"].astype(str) + rfm[\"M\"].astype(str)\n",
        "```\n",
        "\n",
        "* Склеивает значения `R`, `F` и `M` в строку, например:\n",
        "  `R=5`, `F=3`, `M=4` → `RFM_score = \"534\"`\n",
        "\n",
        "---\n",
        "\n",
        "**В результате:**  \n",
        "\n",
        "| user\\_id | R | F | M | RFM\\_score |\n",
        "| -------- | - | - | - | ---------- |\n",
        "| 101      | 5 | 3 | 4 | \"534\"      |\n",
        "| 102      | 2 | 5 | 5 | \"255\"      |\n",
        "\n",
        "---"
      ],
      "metadata": {
        "id": "KU_tW8INsf1g"
      }
    },
    {
      "cell_type": "code",
      "source": [
        "# Интерпретация сегментов\n"
      ],
      "metadata": {
        "id": "_Uofv94Ssqpn"
      },
      "execution_count": 21,
      "outputs": []
    },
    {
      "cell_type": "code",
      "source": [
        "# Визуализация: Plotly scatter\n"
      ],
      "metadata": {
        "id": "y8rcL8BPknBW"
      },
      "execution_count": 22,
      "outputs": []
    },
    {
      "cell_type": "markdown",
      "source": [
        "### 5. **Retention (удержание пользователей)**"
      ],
      "metadata": {
        "id": "OdMB_Xv6Iqg7"
      }
    },
    {
      "cell_type": "markdown",
      "source": [
        "\n",
        "#### Зачем?\n",
        "\n",
        "**Retention** показывает, возвращаются ли пользователи после первого взаимодействия с продуктом (например, после установки приложения).\n",
        "\n",
        "> Мы хотим понять: **пользователи пришли → вернулись ли через 1 день, 3 дня, 7 дней?**\n",
        "\n",
        "---\n",
        "\n",
        "#### Когда применять?\n",
        "\n",
        "* При оценке **качества продукта** и **пользовательского опыта**\n",
        "* Для сравнения **эффективности каналов привлечения**\n",
        "* Чтобы понять **когда** пользователи отваливаются и **на каком шаге** стоит улучшать воронку\n",
        "\n",
        "---\n",
        "\n",
        "#### Основные элементы Retention:\n",
        "\n",
        "| Понятие                | Описание                                                                 |\n",
        "| ---------------------- | ------------------------------------------------------------------------ |\n",
        "| **Когорта**            | Группа пользователей, пришедших в один и тот же день (или неделю, месяц) |\n",
        "| **День жизни**         | Кол-во дней с момента первого действия пользователя                      |\n",
        "| **Повторное действие** | Возвращение пользователя в продукт (например, покупка или просмотр)      |"
      ],
      "metadata": {
        "id": "RqCdh-jWI8SK"
      }
    },
    {
      "cell_type": "code",
      "source": [
        "# В SQL формируем таблицу с датами событий\n"
      ],
      "metadata": {
        "id": "N-dMOMh5JR25"
      },
      "execution_count": 23,
      "outputs": []
    },
    {
      "cell_type": "code",
      "source": [
        "# Retention в Pandas\n"
      ],
      "metadata": {
        "id": "aaTV5BYMKeTJ"
      },
      "execution_count": 24,
      "outputs": []
    },
    {
      "cell_type": "code",
      "source": [],
      "metadata": {
        "id": "AjwH-TjJKgIU"
      },
      "execution_count": 24,
      "outputs": []
    },
    {
      "cell_type": "code",
      "source": [
        "# Визуализация Retention\n"
      ],
      "metadata": {
        "id": "bclSz6cNKpaF"
      },
      "execution_count": 26,
      "outputs": []
    },
    {
      "cell_type": "markdown",
      "source": [
        "**Что видим на графике:**\n",
        "\n",
        "* В строках — пользователи, пришедшие в один день\n",
        "* В столбцах — доля из них, вернувшихся на `N`‑й день\n",
        "\n",
        "**Интерпретация:**\n",
        "\n",
        "| Паттерн                   | Что значит                                  |\n",
        "| ------------------------- | ------------------------------------------- |\n",
        "| Падает на 2-й день        | Продукт не цепляет, не возвращаются         |\n",
        "| Высокое удержание >7 дней | Продукт вызывает привычку                   |"
      ],
      "metadata": {
        "id": "Kt3PMZ02JLy0"
      }
    }
  ]
}