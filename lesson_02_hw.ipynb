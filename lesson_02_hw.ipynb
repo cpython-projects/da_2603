{
  "nbformat": 4,
  "nbformat_minor": 0,
  "metadata": {
    "colab": {
      "provenance": [],
      "authorship_tag": "ABX9TyM8Yzw0OgYXjLHdNW79ESXT",
      "include_colab_link": true
    },
    "kernelspec": {
      "name": "python3",
      "display_name": "Python 3"
    },
    "language_info": {
      "name": "python"
    }
  },
  "cells": [
    {
      "cell_type": "markdown",
      "metadata": {
        "id": "view-in-github",
        "colab_type": "text"
      },
      "source": [
        "<a href=\"https://colab.research.google.com/github/cpython-projects/da_2603/blob/main/lesson_02_hw.ipynb\" target=\"_parent\"><img src=\"https://colab.research.google.com/assets/colab-badge.svg\" alt=\"Open In Colab\"/></a>"
      ]
    },
    {
      "cell_type": "markdown",
      "source": [
        "**Task 1.** Цена товара — 799.99. Скидка — 15%. Вычислите сумму скидки и итоговую цену."
      ],
      "metadata": {
        "id": "GbrNhozjvmLP"
      }
    },
    {
      "cell_type": "code",
      "execution_count": null,
      "metadata": {
        "id": "xC10NTu3vKDb"
      },
      "outputs": [],
      "source": []
    },
    {
      "cell_type": "markdown",
      "source": [
        "**Task 2.** Один товар стоит 349.75. Клиент купил 4 штуки. Найдите общую стоимость заказа."
      ],
      "metadata": {
        "id": "Raw8jmMtvnaQ"
      }
    },
    {
      "cell_type": "code",
      "source": [],
      "metadata": {
        "id": "53ShW0lzvns1"
      },
      "execution_count": null,
      "outputs": []
    },
    {
      "cell_type": "markdown",
      "source": [
        "**Task 3.** Цена товара в евро: 129.99.  \n",
        "Курс: 1 евро = 1.08 долл. США.  \n",
        "Найдите цену товара в долл США."
      ],
      "metadata": {
        "id": "EGHCp0BOvn6r"
      }
    },
    {
      "cell_type": "code",
      "source": [],
      "metadata": {
        "id": "ZRTeaODyvoFl"
      },
      "execution_count": null,
      "outputs": []
    },
    {
      "cell_type": "markdown",
      "source": [
        "**Task 4.** Цена товара 543.6789.  \n",
        "Округлите:\n",
        "-  до двух знаков после запятой\n",
        "-  до целого числа"
      ],
      "metadata": {
        "id": "a-Zh4HENvoQ4"
      }
    },
    {
      "cell_type": "code",
      "source": [],
      "metadata": {
        "id": "HX_2d1jZvoac"
      },
      "execution_count": null,
      "outputs": []
    },
    {
      "cell_type": "markdown",
      "source": [
        "**Task 5.** Цена без налога: 999.50 грн. НДС: 20%  \n",
        "Найдите сумму налога и итоговую цену, округлив результат до двух знаков после запятой"
      ],
      "metadata": {
        "id": "y7EvR4VPvolD"
      }
    },
    {
      "cell_type": "code",
      "source": [],
      "metadata": {
        "id": "EpSsWvfSvouc"
      },
      "execution_count": null,
      "outputs": []
    },
    {
      "cell_type": "markdown",
      "source": [
        "**Task 6.**\n",
        "Доход компании — 1578934.55 грн, расходы — 894732.67 грн.  \n",
        "Найдите чистую прибыль с точностью до двух знаков после запятой, используя decimal.Decimal."
      ],
      "metadata": {
        "id": "epR35N0vvo4s"
      }
    },
    {
      "cell_type": "code",
      "source": [],
      "metadata": {
        "id": "1TOb-GplvpCR"
      },
      "execution_count": null,
      "outputs": []
    },
    {
      "cell_type": "markdown",
      "source": [
        "**Task 7.**\n",
        "Если цена товара больше 500 грн, применяется скидка 10%, иначе 5%. Напишите логическое выражение, которое выбирает нужную скидку."
      ],
      "metadata": {
        "id": "wsHEpW5IvpMe"
      }
    },
    {
      "cell_type": "code",
      "source": [],
      "metadata": {
        "id": "AIih7j3yvpWK"
      },
      "execution_count": null,
      "outputs": []
    },
    {
      "cell_type": "markdown",
      "source": [
        "**Task 8.**\n",
        "Цена товара 349.75 грн. Нужно проверить, входит ли она в диапазон от 300 до 500 грн включительно"
      ],
      "metadata": {
        "id": "oJ8Qh33kvpgp"
      }
    },
    {
      "cell_type": "code",
      "source": [],
      "metadata": {
        "id": "cXf7eGeRvpqU"
      },
      "execution_count": null,
      "outputs": []
    },
    {
      "cell_type": "markdown",
      "source": [
        "**Task 9.**\n",
        "У клиента есть скидка по промокоду, но она применяется только если цена товара больше 100 грн и скидка не превышает 20%.\n",
        "Определите, будет ли применен промокод при Price = 150.45 и Discount = 15%."
      ],
      "metadata": {
        "id": "ccDpxvJc1c6I"
      }
    },
    {
      "cell_type": "code",
      "source": [],
      "metadata": {
        "id": "8yV8iT151fxf"
      },
      "execution_count": null,
      "outputs": []
    },
    {
      "cell_type": "markdown",
      "source": [
        "**Task 10.**\n",
        "Компания тестирует две схемы скидок:\n",
        "-  схема A: фиксированная скидка 50 у.е.\n",
        "-  схема B: скидка 8% от цены.\n",
        "При какой минимальной цене товара схема B становится выгоднее для покупателя?"
      ],
      "metadata": {
        "id": "5s4TXql31gGF"
      }
    },
    {
      "cell_type": "code",
      "source": [],
      "metadata": {
        "id": "btfVoRAu1jYa"
      },
      "execution_count": null,
      "outputs": []
    },
    {
      "cell_type": "markdown",
      "source": [
        "**Task 11.**\n",
        "В разных странах используют разные методы округления налогов:\n",
        "-  в США округляют вниз\n",
        "-  в ЕС округляют к ближайшему\n",
        "-  в Японии округляют вверх  \n",
        "Для суммы налога 23.5678 покажите, какие значения получатся при разных методах округления"
      ],
      "metadata": {
        "id": "SQeggcAn1jn4"
      }
    },
    {
      "cell_type": "code",
      "source": [],
      "metadata": {
        "id": "-EUMJM_U1mhz"
      },
      "execution_count": null,
      "outputs": []
    },
    {
      "cell_type": "markdown",
      "source": [
        "**Task 12.**\n",
        "Вычислите разницу в расчете валютных операций при float и decimal.Decimal:\n",
        "конвертируйте 1000 евро в доллары при курсе 1.0873.\n",
        "Сравните результат округления до двух знаков после запятой при использовании float и Decimal."
      ],
      "metadata": {
        "id": "-1grcgNx1mui"
      }
    },
    {
      "cell_type": "code",
      "source": [],
      "metadata": {
        "id": "rUpLR6vs1pCQ"
      },
      "execution_count": null,
      "outputs": []
    },
    {
      "cell_type": "markdown",
      "source": [
        "**Task 13.**\n",
        "Банк начисляет проценты на вклад и использует банковское округление (до ближайшего четного числа после запятой). Какую сумму получит клиент через год, если у него на счету 1000.005 у.е., а ставка — 3.5%? Как изменится результат, если использовать стандартное округление ROUND_HALF_UP?"
      ],
      "metadata": {
        "id": "WsPoxW0F1pPq"
      }
    },
    {
      "cell_type": "code",
      "source": [],
      "metadata": {
        "id": "my2MHC5i1sYA"
      },
      "execution_count": null,
      "outputs": []
    },
    {
      "cell_type": "markdown",
      "source": [
        "**Task 14.**\n",
        "В стране X убрали монеты номиналом 1 и 2 цента, поэтому цены округляют до ближайших 5 центов.\n",
        "Какую сумму заплатит покупатель, если изначально она составляла 12.83, 14.88 и 19.92 у.е.?"
      ],
      "metadata": {
        "id": "UFo2GeKi1smB"
      }
    },
    {
      "cell_type": "code",
      "source": [],
      "metadata": {
        "id": "45FPkQrt1uwE"
      },
      "execution_count": null,
      "outputs": []
    },
    {
      "cell_type": "markdown",
      "source": [
        "**Task 15.**\n",
        "В университете оценки округляют по следующему правилу:\n",
        "Если дробная часть ≥ 0.75, округляют вверх.\n",
        "Если ≤ 0.25, округляют вниз.\n",
        "Если 0.26 – 0.74, округляют к ближайшему 0.5.\n",
        "Какую итоговую оценку получит студент, если его средний балл: 3.24, 4.77, 3.68, 2.50?"
      ],
      "metadata": {
        "id": "UGeECBGe1xOS"
      }
    },
    {
      "cell_type": "code",
      "source": [],
      "metadata": {
        "id": "bvGXhWVR1zK1"
      },
      "execution_count": null,
      "outputs": []
    },
    {
      "cell_type": "markdown",
      "source": [
        "**Task 16.**\n",
        "Компания платит зарплату с точностью до целого числа, округляя вниз (floor).\n",
        "Если сотруднику начислили 2350.89 у.е., сколько он получит?\n",
        "А если округление происходит до ближайшей десятки?"
      ],
      "metadata": {
        "id": "kJQ_8Ixz1zbF"
      }
    },
    {
      "cell_type": "code",
      "source": [],
      "metadata": {
        "id": "dyGbbw5O11Xh"
      },
      "execution_count": null,
      "outputs": []
    },
    {
      "cell_type": "markdown",
      "source": [
        "**Task 17.**\n",
        "У вас есть 1000 транзакций по 1.005 у.е. Каждая округляется до двух знаков (ROUND_HALF_UP).\n",
        "Какова разница между суммой после округления каждой транзакции отдельно и округлением итоговой суммы?"
      ],
      "metadata": {
        "id": "lGpEkB2J1134"
      }
    },
    {
      "cell_type": "code",
      "source": [],
      "metadata": {
        "id": "ivFSya6f123d"
      },
      "execution_count": null,
      "outputs": []
    }
  ]
}