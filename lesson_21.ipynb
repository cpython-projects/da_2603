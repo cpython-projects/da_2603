{
  "cells": [
    {
      "cell_type": "markdown",
      "metadata": {
        "id": "view-in-github",
        "colab_type": "text"
      },
      "source": [
        "<a href=\"https://colab.research.google.com/github/cpython-projects/da_2603/blob/main/lesson_21.ipynb\" target=\"_parent\"><img src=\"https://colab.research.google.com/assets/colab-badge.svg\" alt=\"Open In Colab\"/></a>"
      ]
    },
    {
      "cell_type": "code",
      "execution_count": null,
      "id": "9d58777a-a80b-4585-acd3-3c3777251b52",
      "metadata": {
        "id": "9d58777a-a80b-4585-acd3-3c3777251b52"
      },
      "outputs": [],
      "source": [
        "import sqlite3"
      ]
    },
    {
      "cell_type": "code",
      "execution_count": null,
      "id": "22f32ef4-19b2-48a3-86ef-3db1334ded88",
      "metadata": {
        "id": "22f32ef4-19b2-48a3-86ef-3db1334ded88"
      },
      "outputs": [],
      "source": [
        "DB_NAME = 'school'"
      ]
    },
    {
      "cell_type": "code",
      "execution_count": null,
      "id": "b7e73145-dd4c-4016-9c2a-8089c637b05f",
      "metadata": {
        "id": "b7e73145-dd4c-4016-9c2a-8089c637b05f"
      },
      "outputs": [],
      "source": [
        "conn = sqlite3.connect(DB_NAME)"
      ]
    },
    {
      "cell_type": "code",
      "execution_count": null,
      "id": "412932eb-95bf-4ba1-b948-af93afce0daf",
      "metadata": {
        "id": "412932eb-95bf-4ba1-b948-af93afce0daf"
      },
      "outputs": [],
      "source": [
        "cursor = conn.cursor()"
      ]
    },
    {
      "cell_type": "code",
      "execution_count": null,
      "id": "734517b5-dcb1-4782-a26f-42bb74ba20d4",
      "metadata": {
        "id": "734517b5-dcb1-4782-a26f-42bb74ba20d4"
      },
      "outputs": [],
      "source": [
        "create_student = \"\"\"\n",
        "CREATE TABLE IF NOT EXISTS students (\n",
        "    id INTEGER PRIMARY KEY AUTOINCREMENT,\n",
        "    first_name TEXT NOT NULL,\n",
        "    last_name TEXT NOT NULL,\n",
        "    date_of_birth DATE NOT NULL\n",
        ");\n",
        "\"\"\""
      ]
    },
    {
      "cell_type": "code",
      "execution_count": null,
      "id": "978354d3-257d-4e52-a900-77e777dbc1f9",
      "metadata": {
        "id": "978354d3-257d-4e52-a900-77e777dbc1f9",
        "outputId": "df0df3bc-c359-4b03-c711-bc1fb181e6be"
      },
      "outputs": [
        {
          "data": {
            "text/plain": [
              "<sqlite3.Cursor at 0x177084ea6c0>"
            ]
          },
          "execution_count": 9,
          "metadata": {},
          "output_type": "execute_result"
        }
      ],
      "source": [
        "cursor.execute(create_student)"
      ]
    },
    {
      "cell_type": "code",
      "execution_count": null,
      "id": "f55eda98-88cd-4266-96f9-d7f6125da7e3",
      "metadata": {
        "id": "f55eda98-88cd-4266-96f9-d7f6125da7e3"
      },
      "outputs": [],
      "source": [
        "create_teacher = \"\"\"\n",
        "CREATE TABLE IF NOT EXISTS teachers (\n",
        "    id INTEGER PRIMARY KEY AUTOINCREMENT,\n",
        "    first_name TEXT NOT NULL,\n",
        "    last_name TEXT NOT NULL\n",
        ");\n",
        "\"\"\""
      ]
    },
    {
      "cell_type": "code",
      "execution_count": null,
      "id": "583f2ae2-a54f-436f-95e4-86c362ddbd56",
      "metadata": {
        "id": "583f2ae2-a54f-436f-95e4-86c362ddbd56",
        "outputId": "488f4a1f-1051-4714-d4c7-6e524fe6e17a"
      },
      "outputs": [
        {
          "data": {
            "text/plain": [
              "<sqlite3.Cursor at 0x177084ea6c0>"
            ]
          },
          "execution_count": 11,
          "metadata": {},
          "output_type": "execute_result"
        }
      ],
      "source": [
        "cursor.execute(create_teacher)"
      ]
    },
    {
      "cell_type": "code",
      "execution_count": null,
      "id": "6ec806b2-cf4e-4919-a697-833999656d69",
      "metadata": {
        "id": "6ec806b2-cf4e-4919-a697-833999656d69"
      },
      "outputs": [],
      "source": [
        "create_group = \"\"\"\n",
        "CREATE TABLE IF NOT EXISTS course (\n",
        "    id INTEGER PRIMARY KEY AUTOINCREMENT,\n",
        "    title TEXT NOT NULL,\n",
        "    desc TEXT NOT NULL\n",
        ");\n",
        "\"\"\""
      ]
    },
    {
      "cell_type": "code",
      "execution_count": null,
      "id": "3b523165-0284-40fa-a081-fb8411498aec",
      "metadata": {
        "id": "3b523165-0284-40fa-a081-fb8411498aec",
        "outputId": "57dd4ff6-5356-4c7a-b85a-aa8e28b72409"
      },
      "outputs": [
        {
          "data": {
            "text/plain": [
              "<sqlite3.Cursor at 0x177084ea6c0>"
            ]
          },
          "execution_count": 13,
          "metadata": {},
          "output_type": "execute_result"
        }
      ],
      "source": [
        "cursor.execute(create_group)"
      ]
    },
    {
      "cell_type": "code",
      "execution_count": null,
      "id": "4f7acae3-024c-4a15-b4ae-e1d2b947527e",
      "metadata": {
        "id": "4f7acae3-024c-4a15-b4ae-e1d2b947527e"
      },
      "outputs": [],
      "source": [
        "create_group = \"\"\"\n",
        "CREATE TABLE IF NOT EXISTS groups (\n",
        "    id INTEGER PRIMARY KEY AUTOINCREMENT,\n",
        "    title TEXT NOT NULL,\n",
        "    course_id INTEGER NOT NULL,\n",
        "    FOREIGN KEY (course_id)\n",
        "        REFERENCES course(id)\n",
        "        ON DELETE RESTRICT\n",
        ");\n",
        "\"\"\""
      ]
    },
    {
      "cell_type": "code",
      "execution_count": null,
      "id": "e4a006ba-6cb1-4ade-be91-93ce80e9e45e",
      "metadata": {
        "id": "e4a006ba-6cb1-4ade-be91-93ce80e9e45e",
        "outputId": "017b5350-c66b-4f48-99fe-15bff2da1f4d"
      },
      "outputs": [
        {
          "data": {
            "text/plain": [
              "<sqlite3.Cursor at 0x177084ea6c0>"
            ]
          },
          "execution_count": 15,
          "metadata": {},
          "output_type": "execute_result"
        }
      ],
      "source": [
        "cursor.execute(create_group)"
      ]
    },
    {
      "cell_type": "code",
      "execution_count": null,
      "id": "73ab7941-3327-44b8-ab3c-24fd3ab22b8e",
      "metadata": {
        "id": "73ab7941-3327-44b8-ab3c-24fd3ab22b8e"
      },
      "outputs": [],
      "source": [
        "conn.commit()"
      ]
    },
    {
      "cell_type": "code",
      "execution_count": null,
      "id": "7b54b437-cbab-411c-9250-710848b1ce80",
      "metadata": {
        "id": "7b54b437-cbab-411c-9250-710848b1ce80"
      },
      "outputs": [],
      "source": [
        "conn.close()"
      ]
    },
    {
      "cell_type": "code",
      "execution_count": null,
      "id": "5d9bf65b-215e-4562-94f3-f5a184001558",
      "metadata": {
        "id": "5d9bf65b-215e-4562-94f3-f5a184001558"
      },
      "outputs": [],
      "source": []
    }
  ],
  "metadata": {
    "kernelspec": {
      "display_name": "Python 3 (ipykernel)",
      "language": "python",
      "name": "python3"
    },
    "language_info": {
      "codemirror_mode": {
        "name": "ipython",
        "version": 3
      },
      "file_extension": ".py",
      "mimetype": "text/x-python",
      "name": "python",
      "nbconvert_exporter": "python",
      "pygments_lexer": "ipython3",
      "version": "3.13.3"
    },
    "colab": {
      "provenance": [],
      "include_colab_link": true
    }
  },
  "nbformat": 4,
  "nbformat_minor": 5
}