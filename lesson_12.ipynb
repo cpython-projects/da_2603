{
  "nbformat": 4,
  "nbformat_minor": 0,
  "metadata": {
    "colab": {
      "provenance": [],
      "authorship_tag": "ABX9TyNs7sYSlxsKq8xJTbKRx1fV",
      "include_colab_link": true
    },
    "kernelspec": {
      "name": "python3",
      "display_name": "Python 3"
    },
    "language_info": {
      "name": "python"
    }
  },
  "cells": [
    {
      "cell_type": "markdown",
      "metadata": {
        "id": "view-in-github",
        "colab_type": "text"
      },
      "source": [
        "<a href=\"https://colab.research.google.com/github/cpython-projects/da_2603/blob/main/lesson_12.ipynb\" target=\"_parent\"><img src=\"https://colab.research.google.com/assets/colab-badge.svg\" alt=\"Open In Colab\"/></a>"
      ]
    },
    {
      "cell_type": "code",
      "execution_count": 6,
      "metadata": {
        "id": "32Gl51fndwRa"
      },
      "outputs": [],
      "source": [
        "x = [7, 8, 9, 10] # iterable"
      ]
    },
    {
      "cell_type": "code",
      "source": [
        "it = x.__iter__() # iterator"
      ],
      "metadata": {
        "id": "4-DcWic8eIiJ"
      },
      "execution_count": 7,
      "outputs": []
    },
    {
      "cell_type": "code",
      "source": [
        "it"
      ],
      "metadata": {
        "colab": {
          "base_uri": "https://localhost:8080/"
        },
        "id": "4o6WR0zieXsq",
        "outputId": "d62e0200-f4c9-4591-ac23-1b7491984486"
      },
      "execution_count": 8,
      "outputs": [
        {
          "output_type": "execute_result",
          "data": {
            "text/plain": [
              "<list_iterator at 0x7c8720139c30>"
            ]
          },
          "metadata": {},
          "execution_count": 8
        }
      ]
    },
    {
      "cell_type": "code",
      "source": [
        "it.__next__()"
      ],
      "metadata": {
        "colab": {
          "base_uri": "https://localhost:8080/"
        },
        "id": "ozPF-18SebQh",
        "outputId": "796bb4f1-6303-41ec-9597-eaa3db620c90"
      },
      "execution_count": 9,
      "outputs": [
        {
          "output_type": "execute_result",
          "data": {
            "text/plain": [
              "7"
            ]
          },
          "metadata": {},
          "execution_count": 9
        }
      ]
    },
    {
      "cell_type": "code",
      "source": [
        "it.__next__()"
      ],
      "metadata": {
        "colab": {
          "base_uri": "https://localhost:8080/"
        },
        "id": "hwYvtK9Mei3m",
        "outputId": "43df72c0-f8eb-44c2-ca5c-ecefdb0171df"
      },
      "execution_count": 10,
      "outputs": [
        {
          "output_type": "execute_result",
          "data": {
            "text/plain": [
              "8"
            ]
          },
          "metadata": {},
          "execution_count": 10
        }
      ]
    },
    {
      "cell_type": "code",
      "source": [
        "it.__next__()"
      ],
      "metadata": {
        "id": "L5Xetc9wetzc"
      },
      "execution_count": null,
      "outputs": []
    },
    {
      "cell_type": "code",
      "source": [
        "it.__next__()"
      ],
      "metadata": {
        "colab": {
          "base_uri": "https://localhost:8080/"
        },
        "id": "WRYGdKdkeuS7",
        "outputId": "352d6623-44c5-4798-8bc7-6f1fa78ac1c8"
      },
      "execution_count": 11,
      "outputs": [
        {
          "output_type": "execute_result",
          "data": {
            "text/plain": [
              "9"
            ]
          },
          "metadata": {},
          "execution_count": 11
        }
      ]
    },
    {
      "cell_type": "code",
      "source": [
        "it.__next__()"
      ],
      "metadata": {
        "colab": {
          "base_uri": "https://localhost:8080/"
        },
        "id": "jqF7RiOweviM",
        "outputId": "5914b8b5-af38-49a9-a42d-d973cf2bf6a6"
      },
      "execution_count": 12,
      "outputs": [
        {
          "output_type": "execute_result",
          "data": {
            "text/plain": [
              "10"
            ]
          },
          "metadata": {},
          "execution_count": 12
        }
      ]
    },
    {
      "cell_type": "code",
      "source": [
        "it.__next__()"
      ],
      "metadata": {
        "colab": {
          "base_uri": "https://localhost:8080/",
          "height": 146
        },
        "id": "v9RiIR14eyFK",
        "outputId": "b8f94f2a-2ba8-4b59-de6b-37ed9a476060"
      },
      "execution_count": 13,
      "outputs": [
        {
          "output_type": "error",
          "ename": "StopIteration",
          "evalue": "",
          "traceback": [
            "\u001b[0;31m---------------------------------------------------------------------------\u001b[0m",
            "\u001b[0;31mStopIteration\u001b[0m                             Traceback (most recent call last)",
            "\u001b[0;32m<ipython-input-13-74e64ed6c80d>\u001b[0m in \u001b[0;36m<cell line: 0>\u001b[0;34m()\u001b[0m\n\u001b[0;32m----> 1\u001b[0;31m \u001b[0mit\u001b[0m\u001b[0;34m.\u001b[0m\u001b[0m__next__\u001b[0m\u001b[0;34m(\u001b[0m\u001b[0;34m)\u001b[0m\u001b[0;34m\u001b[0m\u001b[0;34m\u001b[0m\u001b[0m\n\u001b[0m",
            "\u001b[0;31mStopIteration\u001b[0m: "
          ]
        }
      ]
    },
    {
      "cell_type": "code",
      "source": [
        "x = [10, 20, 30]\n",
        "\n",
        "for item in x:\n",
        "  print(item)"
      ],
      "metadata": {
        "colab": {
          "base_uri": "https://localhost:8080/"
        },
        "id": "V0ay0R_4e4IX",
        "outputId": "ba912d13-2eae-417e-e8a4-283ad1faf80c"
      },
      "execution_count": 14,
      "outputs": [
        {
          "output_type": "stream",
          "name": "stdout",
          "text": [
            "10\n",
            "20\n",
            "30\n"
          ]
        }
      ]
    },
    {
      "cell_type": "code",
      "source": [
        "x = [10, 20, 30]\n",
        "\n",
        "it = iter(x) # x.__iter__()\n",
        "while True:\n",
        "  try:\n",
        "    res = next(it) # it.__next__()\n",
        "    print(res)\n",
        "  except StopIteration:\n",
        "    break"
      ],
      "metadata": {
        "colab": {
          "base_uri": "https://localhost:8080/"
        },
        "id": "DIiTXf_1e9On",
        "outputId": "9f461287-8bb3-40db-f0fc-94ad36534a6f"
      },
      "execution_count": 17,
      "outputs": [
        {
          "output_type": "stream",
          "name": "stdout",
          "text": [
            "10\n",
            "20\n",
            "30\n"
          ]
        }
      ]
    },
    {
      "cell_type": "code",
      "source": [
        "import sys\n",
        "\n",
        "x = [10, 20, 30, 40]\n",
        "print(sys.getsizeof(x))"
      ],
      "metadata": {
        "colab": {
          "base_uri": "https://localhost:8080/"
        },
        "id": "BPT4E0M3foiI",
        "outputId": "fc5b68fb-20dc-4c82-88df-530419bf6bea"
      },
      "execution_count": 18,
      "outputs": [
        {
          "output_type": "stream",
          "name": "stdout",
          "text": [
            "88\n"
          ]
        }
      ]
    },
    {
      "cell_type": "code",
      "source": [
        "y = map(lambda x: x**2, x)\n",
        "print(sys.getsizeof(y))"
      ],
      "metadata": {
        "colab": {
          "base_uri": "https://localhost:8080/"
        },
        "id": "-OwwoUjkftWk",
        "outputId": "26239ad0-132a-4df0-febd-16f938ee59b1"
      },
      "execution_count": 19,
      "outputs": [
        {
          "output_type": "stream",
          "name": "stdout",
          "text": [
            "48\n"
          ]
        }
      ]
    },
    {
      "cell_type": "code",
      "source": [
        "x = [10, 20, 30, 40]\n",
        "y = map(lambda x: x**2, x)\n",
        "x.append(50)\n",
        "print(*y)"
      ],
      "metadata": {
        "colab": {
          "base_uri": "https://localhost:8080/"
        },
        "id": "vvHP3rdCf9O6",
        "outputId": "d6fc5013-8170-447d-ae92-7b8917343dcc"
      },
      "execution_count": 20,
      "outputs": [
        {
          "output_type": "stream",
          "name": "stdout",
          "text": [
            "100 400 900 1600 2500\n"
          ]
        }
      ]
    },
    {
      "cell_type": "code",
      "source": [
        "x = [10, 20, 30, 40]\n",
        "y = list(map(lambda x: x**2, x))\n",
        "x.append(50)\n",
        "print(*y)"
      ],
      "metadata": {
        "colab": {
          "base_uri": "https://localhost:8080/"
        },
        "id": "unsPpOdYgnQm",
        "outputId": "a9ed7320-b51c-4032-eba2-567ebb932812"
      },
      "execution_count": 21,
      "outputs": [
        {
          "output_type": "stream",
          "name": "stdout",
          "text": [
            "100 400 900 1600\n"
          ]
        }
      ]
    },
    {
      "cell_type": "code",
      "source": [
        "def items_3(items):\n",
        "  res = []\n",
        "  for item in items:\n",
        "    res.append(item ** 3)\n",
        "  return res\n",
        "\n",
        "\n",
        "x = [1, 2, 3, 4, 5]\n",
        "y = items_3(x)\n",
        "\n",
        "print(x, y, sep='\\n')"
      ],
      "metadata": {
        "colab": {
          "base_uri": "https://localhost:8080/"
        },
        "id": "HOv0YhF8g8Kk",
        "outputId": "dd24690b-c22c-4be3-ade4-91093aecca90"
      },
      "execution_count": 22,
      "outputs": [
        {
          "output_type": "stream",
          "name": "stdout",
          "text": [
            "[1, 2, 3, 4, 5]\n",
            "[1, 8, 27, 64, 125]\n"
          ]
        }
      ]
    },
    {
      "cell_type": "code",
      "source": [
        "def items_3(items):\n",
        "  for item in items:\n",
        "    yield item ** 3\n",
        "\n",
        "\n",
        "x = [1, 2, 3, 4, 5]\n",
        "for item in items_3(x):\n",
        "  print(item)\n",
        "\n",
        "\n",
        "print(x, y, sep='\\n')"
      ],
      "metadata": {
        "colab": {
          "base_uri": "https://localhost:8080/"
        },
        "id": "oIy5kTXWhdsm",
        "outputId": "21a26671-f337-473f-f660-9b935b49d745"
      },
      "execution_count": 26,
      "outputs": [
        {
          "output_type": "stream",
          "name": "stdout",
          "text": [
            "1\n",
            "8\n",
            "27\n",
            "64\n",
            "125\n",
            "[1, 2, 3, 4, 5]\n",
            "<generator object items_3 at 0x7c86e39c3ac0>\n"
          ]
        }
      ]
    },
    {
      "cell_type": "code",
      "source": [
        "def items_3(items):\n",
        "  for item in items:\n",
        "    yield item ** 3\n",
        "\n",
        "\n",
        "x = [1, 2, 3, 4, 5]\n",
        "y = sum(items_3(x))\n",
        "\n",
        "print(x, y, sep='\\n')"
      ],
      "metadata": {
        "colab": {
          "base_uri": "https://localhost:8080/"
        },
        "id": "w8gb5rwXi4gB",
        "outputId": "8c534a64-ca68-4d25-bd34-2cc25e79fd28"
      },
      "execution_count": 28,
      "outputs": [
        {
          "output_type": "stream",
          "name": "stdout",
          "text": [
            "[1, 2, 3, 4, 5]\n",
            "225\n"
          ]
        }
      ]
    },
    {
      "cell_type": "code",
      "source": [
        "def clients_analyse(clients):\n",
        "  for client in clients:\n",
        "    yield client.get('name') and client.get('email')\n",
        "\n",
        "\n",
        "clients = [{'name': 'Alice', 'email': 'alice@mail.com'},\n",
        "           {'name': 'Bob', 'email': ''},\n",
        "           {'name': '', 'email': 'carol@mail.com'}]\n",
        "\n",
        "\n",
        "all_fill = all(clients_analyse(clients))\n",
        "any_fill = any(clients_analyse(clients))\n",
        "\n",
        "print(all_fill)\n",
        "print(any_fill)"
      ],
      "metadata": {
        "colab": {
          "base_uri": "https://localhost:8080/"
        },
        "id": "jbKfR81vjmWd",
        "outputId": "16b27550-8124-49c8-a1bb-dd2ac79c7b19"
      },
      "execution_count": 36,
      "outputs": [
        {
          "output_type": "stream",
          "name": "stdout",
          "text": [
            "False\n",
            "True\n"
          ]
        }
      ]
    },
    {
      "cell_type": "code",
      "source": [
        "import sys\n",
        "x = [12, 56, 78, 90, 67, 45, 12, 56, 78, 90, 67, 45, 12, 56, 78, 90, 67, 45, 12, 56, 78, 90, 67, 45, 12, 56, 78, 90, 67, 45, 12, 56, 78, 90, 67, 45]\n",
        "print(sys.getsizeof(x))\n",
        "y = [item ** 3 for item in x]\n",
        "print(sys.getsizeof(y))"
      ],
      "metadata": {
        "colab": {
          "base_uri": "https://localhost:8080/"
        },
        "id": "fj6eakU8kfGE",
        "outputId": "be07a2cd-3ec4-4be2-fd87-57cf54dbb37c"
      },
      "execution_count": 45,
      "outputs": [
        {
          "output_type": "stream",
          "name": "stdout",
          "text": [
            "344\n",
            "376\n"
          ]
        }
      ]
    },
    {
      "cell_type": "code",
      "source": [
        "temperatures = [22, 24, 21, 45, 23, 22, 20, 50, 22]\n",
        "\n",
        "res = (item for item in temperatures if not (20 < item < 30))\n",
        "\n",
        "for item in res:\n",
        "  print(item)"
      ],
      "metadata": {
        "colab": {
          "base_uri": "https://localhost:8080/"
        },
        "id": "iHaZY1ZcsF-F",
        "outputId": "f105b60c-ba31-4b6b-a681-229d3c105bb3"
      },
      "execution_count": 46,
      "outputs": [
        {
          "output_type": "stream",
          "name": "stdout",
          "text": [
            "45\n",
            "20\n",
            "50\n"
          ]
        }
      ]
    },
    {
      "cell_type": "code",
      "source": [
        "from google.colab import files\n",
        "uploaded = files.upload()"
      ],
      "metadata": {
        "id": "eYX24IIKtXHB"
      },
      "execution_count": null,
      "outputs": []
    },
    {
      "cell_type": "code",
      "source": [
        "import json\n",
        "\n",
        "def file_gen(filename):\n",
        "  with open(filename) as file:\n",
        "    for line in file:\n",
        "      data = json.loads(line)\n",
        "      yield data.get('sales', 0)\n",
        "\n",
        "print(sum(file_gen('sales.txt')))"
      ],
      "metadata": {
        "id": "XqkQXkT5smzC"
      },
      "execution_count": null,
      "outputs": []
    }
  ]
}